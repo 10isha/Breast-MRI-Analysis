{
  "nbformat": 4,
  "nbformat_minor": 0,
  "metadata": {
    "colab": {
      "provenance": []
    },
    "kernelspec": {
      "name": "python3",
      "display_name": "Python 3"
    },
    "language_info": {
      "name": "python"
    },
    "accelerator": "GPU",
    "gpuClass": "standard"
  },
  "cells": [
    {
      "cell_type": "markdown",
      "source": [
        "# Start Code"
      ],
      "metadata": {
        "id": "N0QL98Ybnmqe"
      }
    },
    {
      "cell_type": "code",
      "execution_count": null,
      "metadata": {
        "colab": {
          "base_uri": "https://localhost:8080/"
        },
        "id": "_pOymmtaeNSk",
        "outputId": "154675fe-290f-4ea0-e557-7b0bda81366d"
      },
      "outputs": [
        {
          "output_type": "stream",
          "name": "stdout",
          "text": [
            "Drive already mounted at /content/gdrive; to attempt to forcibly remount, call drive.mount(\"/content/gdrive\", force_remount=True).\n"
          ]
        }
      ],
      "source": [
        "from google.colab import drive\n",
        "drive.mount('/content/gdrive')"
      ]
    },
    {
      "cell_type": "code",
      "source": [
        "import tensorflow as tf\n",
        "import h5py\n",
        "import numpy as np\n",
        "import os\n",
        "import cv2\n",
        "from sklearn.metrics import precision_score,recall_score,f1_score,roc_auc_score\n",
        "from imblearn.metrics import sensitivity_specificity_support\n",
        "from sklearn.preprocessing import StandardScaler\n",
        "import numpy as np\n",
        "import numpy as np\n",
        "import pandas as pd\n",
        "import matplotlib.pyplot as plt\n",
        "import tensorflow as tf\n",
        "from keras import Sequential\n",
        "from tensorflow.keras.layers import *\n",
        "from tensorflow.keras.models import *\n",
        "from tensorflow.keras.preprocessing import image\n",
        "from sklearn.preprocessing import label_binarize\n",
        "from sklearn.metrics import auc,roc_curve\n",
        "from matplotlib import pyplot as plt"
      ],
      "metadata": {
        "id": "a1EU4Z0LVYTf"
      },
      "execution_count": null,
      "outputs": []
    },
    {
      "cell_type": "code",
      "source": [
        "x_dataset=[]\n",
        "y_dataset=[]\n",
        "src=os.listdir('/content/gdrive/MyDrive/Breast MRI Data Analysis/Healthy')\n",
        "i=0\n",
        "for filename in src:\n",
        "    full_file_name='/content/gdrive/MyDrive/Breast MRI Data Analysis/Healthy/'+filename\n",
        "    x=cv2.imread(full_file_name)\n",
        "    x=np.array(x,dtype='float32')\n",
        "    y=1\n",
        "    y=np.array(y,dtype='float32')\n",
        "    x=x/255.0\n",
        "    x=cv2.resize(x,(224,224))\n",
        "    x_dataset.append(x)\n",
        "    y_dataset.append(y)\n",
        "    i=i+1\n",
        ""
      ],
      "metadata": {
        "id": "wVI1AUuhVZ1x"
      },
      "execution_count": null,
      "outputs": []
    },
    {
      "cell_type": "code",
      "source": [
        "\n",
        "src=os.listdir('/content/gdrive/MyDrive/Breast MRI Data Analysis/Sick')\n",
        "for filename in src:\n",
        "    full_file_name='/content/gdrive/MyDrive/Breast MRI Data Analysis/Sick/'+filename\n",
        "    x=cv2.imread(full_file_name)\n",
        "    x=np.array(x,dtype='float32')\n",
        "    y=0\n",
        "    y=np.array(y,dtype='float32')\n",
        "    x=x/255.0\n",
        "    x=cv2.resize(x,(224,224))\n",
        "    x_dataset.append(x)\n",
        "    y_dataset.append(y)\n",
        "    i=i+1"
      ],
      "metadata": {
        "id": "7k_4Gw6nWq0f"
      },
      "execution_count": null,
      "outputs": []
    },
    {
      "cell_type": "code",
      "source": [
        "X_dataset=np.array(x_dataset)\n",
        "Y_dataset=np.array(y_dataset)\n",
        "Y_dataset=Y_dataset.reshape((1480,1))"
      ],
      "metadata": {
        "id": "pzAG6Rr3Wx-u"
      },
      "execution_count": null,
      "outputs": []
    },
    {
      "cell_type": "code",
      "source": [
        "from sklearn.utils import shuffle\n",
        "X_dataset,Y_dataset=shuffle(X_dataset,Y_dataset,random_state=0)"
      ],
      "metadata": {
        "id": "s5jc7c9aW0Bi"
      },
      "execution_count": null,
      "outputs": []
    },
    {
      "cell_type": "code",
      "source": [
        "import matplotlib.pyplot as plt\n",
        "plt.imshow(X_dataset[60])\n",
        "plt.show()"
      ],
      "metadata": {
        "colab": {
          "base_uri": "https://localhost:8080/",
          "height": 269
        },
        "id": "s6Wo5_stXLLY",
        "outputId": "40609b54-4b43-4a68-b425-63f4aeda2cb6"
      },
      "execution_count": null,
      "outputs": [
        {
          "output_type": "display_data",
          "data": {
            "text/plain": [
              "<Figure size 432x288 with 1 Axes>"
            ],
            "image/png": "[encoded data removed]"
          },
          "metadata": {
            "needs_background": "light"
          }
        }
      ]
    },
    {
      "cell_type": "code",
      "source": [
        "Healthy_len=0\n",
        "Sick_len=0\n",
        "for i in range(1480):\n",
        "    if Y_dataset[i]==0:\n",
        "        Sick_len+=1\n",
        "    else:\n",
        "        Healthy_len+=1\n",
        "print(Healthy_len)\n",
        "print(Sick_len)"
      ],
      "metadata": {
        "colab": {
          "base_uri": "https://localhost:8080/"
        },
        "id": "jg_QDBrKXQFP",
        "outputId": "a93754c4-6fd7-4fa3-909d-9a7c93f257e4"
      },
      "execution_count": null,
      "outputs": [
        {
          "output_type": "stream",
          "name": "stdout",
          "text": [
            "740\n",
            "740\n"
          ]
        }
      ]
    },
    {
      "cell_type": "code",
      "source": [
        "\n",
        "import seaborn as sns\n",
        "sns.barplot(x=['Healthy','Sick'],y=[Healthy_len,Sick_len])"
      ],
      "metadata": {
        "colab": {
          "base_uri": "https://localhost:8080/",
          "height": 283
        },
        "id": "MLvnpSsAXR2P",
        "outputId": "58e812a6-a998-477a-c676-c945d82c2772"
      },
      "execution_count": null,
      "outputs": [
        {
          "output_type": "execute_result",
          "data": {
            "text/plain": [
              "<Axes: >"
            ]
          },
          "metadata": {},
          "execution_count": 23
        },
        {
          "output_type": "display_data",
          "data": {
            "text/plain": [
              "<Figure size 432x288 with 1 Axes>"
            ],
            "image/png": "[encoded data removed]"
          },
          "metadata": {
            "needs_background": "light"
          }
        }
      ]
    },
    {
      "cell_type": "code",
      "source": [
        "from sklearn.model_selection import train_test_split\n",
        "x_train,x_test,y_train,y_test=train_test_split(X_dataset,Y_dataset,test_size=0.10,shuffle=False)"
      ],
      "metadata": {
        "id": "V4pbtI_QXUYH"
      },
      "execution_count": null,
      "outputs": []
    },
    {
      "cell_type": "code",
      "source": [
        "from sklearn.model_selection import StratifiedShuffleSplit\n",
        "folds=list(StratifiedShuffleSplit(n_splits=2,random_state=0,test_size=0.15).split(x_train,y_train))"
      ],
      "metadata": {
        "id": "oXtxtM83XXtB"
      },
      "execution_count": null,
      "outputs": []
    },
    {
      "cell_type": "code",
      "source": [
        "from keras.preprocessing.image import ImageDataGenerator\n",
        "\n",
        "train_datagen = ImageDataGenerator(  rotation_range=8,\n",
        "                                     width_shift_range=0.03,\n",
        "                                     height_shift_range=0.03,\n",
        "                                     shear_range=0.25,\n",
        "                                     zoom_range=0.45,\n",
        "                                     horizontal_flip=True)\n",
        "val_datagen = ImageDataGenerator(zoom_range=0.45)"
      ],
      "metadata": {
        "id": "XJSK97DvFY3P"
      },
      "execution_count": null,
      "outputs": []
    },
    {
      "cell_type": "markdown",
      "source": [
        "# InceptionV3"
      ],
      "metadata": {
        "id": "F6zzF9_-ndrV"
      }
    },
    {
      "cell_type": "code",
      "source": [
        "base_model1 = tf.keras.applications.inception_v3.InceptionV3(\n",
        "    weights='imagenet',\n",
        "    input_shape=(224, 224, 3),\n",
        "    include_top=False)\n",
        "base_model1.trainable = False\n",
        "inputs = tf.keras.Input(shape=(224, 224, 3))\n",
        "x1 = base_model1(inputs, training=False)\n",
        "x1 = tf.keras.layers.GlobalAveragePooling2D()(x1)\n",
        "x1 = tf.keras.layers.Dropout(0.2)(x1)\n",
        "x1 = tf.keras.layers.Dense(1)(x1)\n",
        "outputs=tf.keras.layers.Activation(activation='sigmoid')(x1)\n",
        "model1 = tf.keras.Model(inputs, outputs)\n",
        "model1.summary()"
      ],
      "metadata": {
        "colab": {
          "base_uri": "https://localhost:8080/"
        },
        "id": "_IbBFMz0lI--",
        "outputId": "ebd96ff1-773b-4f06-94e6-f225a58e775b"
      },
      "execution_count": null,
      "outputs": [
        {
          "output_type": "stream",
          "name": "stdout",
          "text": [
            "Downloading data from https://storage.googleapis.com/tensorflow/keras-applications/inception_v3/inception_v3_weights_tf_dim_ordering_tf_kernels_notop.h5\n",
            "87910968/87910968 [==============================] - 5s 0us/step\n",
            "Model: \"model\"\n",
            "_________________________________________________________________\n",
            " Layer (type)                Output Shape              Param #   \n",
            "=================================================================\n",
            " input_2 (InputLayer)        [(None, 224, 224, 3)]     0         \n",
            "                                                                 \n",
            " inception_v3 (Functional)   (None, 5, 5, 2048)        21802784  \n",
            "                                                                 \n",
            " global_average_pooling2d (G  (None, 2048)             0         \n",
            " lobalAveragePooling2D)                                          \n",
            "                                                                 \n",
            " dropout (Dropout)           (None, 2048)              0         \n",
            "                                                                 \n",
            " dense (Dense)               (None, 1)                 2049      \n",
            "                                                                 \n",
            " activation_94 (Activation)  (None, 1)                 0         \n",
            "                                                                 \n",
            "=================================================================\n",
            "Total params: 21,804,833\n",
            "Trainable params: 2,049\n",
            "Non-trainable params: 21,802,784\n",
            "_________________________________________________________________\n"
          ]
        }
      ]
    },
    {
      "cell_type": "code",
      "source": [
        "model1.compile(loss='binary_crossentropy',\n",
        "              optimizer='adam',\n",
        "              metrics=['accuracy','AUC','Precision','Recall'])"
      ],
      "metadata": {
        "id": "kT808bEEEtEv"
      },
      "execution_count": null,
      "outputs": []
    },
    {
      "cell_type": "code",
      "source": [
        "from tensorflow.keras.callbacks import ModelCheckpoint, EarlyStopping\n",
        "es=EarlyStopping(patience=3,monitor='val_loss')\n",
        "filepath='best_model.h51'\n",
        "checkpoint = ModelCheckpoint(filepath, monitor='val_accuracy', verbose=1, save_best_only=True, mode='max')"
      ],
      "metadata": {
        "id": "U0VVWSZlE52A"
      },
      "execution_count": null,
      "outputs": []
    },
    {
      "cell_type": "code",
      "source": [
        "for j,(train_idx,val_idx) in enumerate(folds):\n",
        "    print(\"Fold \"+str(j+1))\n",
        "\n",
        "    x_train=X_dataset[train_idx]\n",
        "    y_train=Y_dataset[train_idx]\n",
        "    x_val=X_dataset[val_idx]\n",
        "    y_val=Y_dataset[val_idx]\n",
        "    history=model1.fit(train_datagen.flow(x_train,y_train),epochs=10,validation_data=(x_val,y_val),callbacks=checkpoint)\n",
        "    y_predict1_1=model1.predict(x_val)\n",
        "    Y_predict1_1=np.float32(y_predict1_1>0.50)\n",
        "    l=len(y_val)\n",
        "    Y_predict1_1=np.reshape(Y_predict1_1,(l,1))"
      ],
      "metadata": {
        "colab": {
          "base_uri": "https://localhost:8080/"
        },
        "id": "hZbU2CX9E-MY",
        "outputId": "1d0a116e-ecf8-4d42-c136-4fcead47d92a"
      },
      "execution_count": null,
      "outputs": [
        {
          "output_type": "stream",
          "name": "stdout",
          "text": [
            "Fold 1\n",
            "Epoch 1/10\n",
            "36/36 [==============================] - ETA: 0s - loss: 0.7386 - accuracy: 0.5415 - auc: 0.5495 - precision: 0.5463 - recall: 0.5833\n",
            "Epoch 1: val_accuracy improved from -inf to 0.64000, saving model to best_model.h51\n"
          ]
        },
        {
          "output_type": "stream",
          "name": "stderr",
          "text": [
            "WARNING:absl:Found untraced functions such as _jit_compiled_convolution_op, _jit_compiled_convolution_op, _jit_compiled_convolution_op, _jit_compiled_convolution_op, _jit_compiled_convolution_op while saving (showing 5 of 94). These functions will not be directly callable after loading.\n"
          ]
        },
        {
          "output_type": "stream",
          "name": "stdout",
          "text": [
            "\b\b\b\b\b\b\b\b\b\b\b\b\b\b\b\b\b\b\b\b\b\b\b\b\b\b\b\b\b\b\b\b\b\b\b\b\b\b\b\b\b\b\b\b\b\b\b\b\b\b\b\b\b\b\b\b\b\b\b\b\b\b\b\b\b\b\b\b\b\b\b\b\b\b\b\b\b\b\b\b\b\b\b\b\b\b\b\b\b\b\b\b\b\b\b\b\b\b\b\b\b\b\b\b\b\b\b\b\b\b\b\b\b\b\b\b\b\b\b\b\b\b\b\b\b\b\b\b\b\b\b\b\b\r36/36 [==============================] - 66s 1s/step - loss: 0.7386 - accuracy: 0.5415 - auc: 0.5495 - precision: 0.5463 - recall: 0.5833 - val_loss: 0.6235 - val_accuracy: 0.6400 - val_auc: 0.7097 - val_precision: 0.5941 - val_recall: 0.6593\n",
            "Epoch 2/10\n",
            "36/36 [==============================] - ETA: 0s - loss: 0.6643 - accuracy: 0.6042 - auc: 0.6596 - precision: 0.6135 - recall: 0.6007\n",
            "Epoch 2: val_accuracy did not improve from 0.64000\n",
            "36/36 [==============================] - 13s 365ms/step - loss: 0.6643 - accuracy: 0.6042 - auc: 0.6596 - precision: 0.6135 - recall: 0.6007 - val_loss: 0.6743 - val_accuracy: 0.5900 - val_auc: 0.7581 - val_precision: 0.5273 - val_recall: 0.9560\n",
            "Epoch 3/10\n",
            "36/36 [==============================] - ETA: 0s - loss: 0.6312 - accuracy: 0.6528 - auc: 0.7023 - precision: 0.6459 - recall: 0.7031\n",
            "Epoch 3: val_accuracy improved from 0.64000 to 0.73000, saving model to best_model.h51\n"
          ]
        },
        {
          "output_type": "stream",
          "name": "stderr",
          "text": [
            "WARNING:absl:Found untraced functions such as _jit_compiled_convolution_op, _jit_compiled_convolution_op, _jit_compiled_convolution_op, _jit_compiled_convolution_op, _jit_compiled_convolution_op while saving (showing 5 of 94). These functions will not be directly callable after loading.\n"
          ]
        },
        {
          "output_type": "stream",
          "name": "stdout",
          "text": [
            "\b\b\b\b\b\b\b\b\b\b\b\b\b\b\b\b\b\b\b\b\b\b\b\b\b\b\b\b\b\b\b\b\b\b\b\b\b\b\b\b\b\b\b\b\b\b\b\b\b\b\b\b\b\b\b\b\b\b\b\b\b\b\b\b\b\b\b\b\b\b\b\b\b\b\b\b\b\b\b\b\b\b\b\b\b\b\b\b\b\b\b\b\b\b\b\b\b\b\b\b\b\b\b\b\b\b\b\b\b\b\b\b\b\b\b\b\b\b\b\b\b\b\b\b\b\b\b\b\b\b\b\b\b\r36/36 [==============================] - 47s 1s/step - loss: 0.6312 - accuracy: 0.6528 - auc: 0.7023 - precision: 0.6459 - recall: 0.7031 - val_loss: 0.5667 - val_accuracy: 0.7300 - val_auc: 0.7813 - val_precision: 0.6697 - val_recall: 0.8022\n",
            "Epoch 4/10\n",
            "36/36 [==============================] - ETA: 0s - loss: 0.6256 - accuracy: 0.6484 - auc: 0.7075 - precision: 0.6529 - recall: 0.6597\n",
            "Epoch 4: val_accuracy did not improve from 0.73000\n",
            "36/36 [==============================] - 13s 367ms/step - loss: 0.6256 - accuracy: 0.6484 - auc: 0.7075 - precision: 0.6529 - recall: 0.6597 - val_loss: 0.5574 - val_accuracy: 0.6900 - val_auc: 0.7955 - val_precision: 0.7164 - val_recall: 0.5275\n",
            "Epoch 5/10\n",
            "36/36 [==============================] - ETA: 0s - loss: 0.6384 - accuracy: 0.6405 - auc: 0.6969 - precision: 0.6459 - recall: 0.6493\n",
            "Epoch 5: val_accuracy did not improve from 0.73000\n",
            "36/36 [==============================] - 13s 374ms/step - loss: 0.6384 - accuracy: 0.6405 - auc: 0.6969 - precision: 0.6459 - recall: 0.6493 - val_loss: 0.5625 - val_accuracy: 0.7200 - val_auc: 0.8013 - val_precision: 0.6400 - val_recall: 0.8791\n",
            "Epoch 6/10\n",
            "36/36 [==============================] - ETA: 0s - loss: 0.6000 - accuracy: 0.6723 - auc: 0.7414 - precision: 0.6694 - recall: 0.7031\n",
            "Epoch 6: val_accuracy did not improve from 0.73000\n",
            "36/36 [==============================] - 13s 372ms/step - loss: 0.6000 - accuracy: 0.6723 - auc: 0.7414 - precision: 0.6694 - recall: 0.7031 - val_loss: 0.5386 - val_accuracy: 0.7150 - val_auc: 0.8022 - val_precision: 0.6809 - val_recall: 0.7033\n",
            "Epoch 7/10\n",
            "36/36 [==============================] - ETA: 0s - loss: 0.5846 - accuracy: 0.6926 - auc: 0.7605 - precision: 0.6979 - recall: 0.6979\n",
            "Epoch 7: val_accuracy did not improve from 0.73000\n",
            "36/36 [==============================] - 13s 369ms/step - loss: 0.5846 - accuracy: 0.6926 - auc: 0.7605 - precision: 0.6979 - recall: 0.6979 - val_loss: 0.5567 - val_accuracy: 0.7200 - val_auc: 0.8107 - val_precision: 0.6446 - val_recall: 0.8571\n",
            "Epoch 8/10\n",
            "36/36 [==============================] - ETA: 0s - loss: 0.5729 - accuracy: 0.7014 - auc: 0.7703 - precision: 0.7038 - recall: 0.7135\n",
            "Epoch 8: val_accuracy did not improve from 0.73000\n",
            "36/36 [==============================] - 13s 373ms/step - loss: 0.5729 - accuracy: 0.7014 - auc: 0.7703 - precision: 0.7038 - recall: 0.7135 - val_loss: 0.5303 - val_accuracy: 0.7300 - val_auc: 0.8203 - val_precision: 0.6697 - val_recall: 0.8022\n",
            "Epoch 9/10\n",
            "36/36 [==============================] - ETA: 0s - loss: 0.5402 - accuracy: 0.7288 - auc: 0.8006 - precision: 0.7245 - recall: 0.7535\n",
            "Epoch 9: val_accuracy improved from 0.73000 to 0.73500, saving model to best_model.h51\n"
          ]
        },
        {
          "output_type": "stream",
          "name": "stderr",
          "text": [
            "WARNING:absl:Found untraced functions such as _jit_compiled_convolution_op, _jit_compiled_convolution_op, _jit_compiled_convolution_op, _jit_compiled_convolution_op, _jit_compiled_convolution_op while saving (showing 5 of 94). These functions will not be directly callable after loading.\n"
          ]
        },
        {
          "output_type": "stream",
          "name": "stdout",
          "text": [
            "\b\b\b\b\b\b\b\b\b\b\b\b\b\b\b\b\b\b\b\b\b\b\b\b\b\b\b\b\b\b\b\b\b\b\b\b\b\b\b\b\b\b\b\b\b\b\b\b\b\b\b\b\b\b\b\b\b\b\b\b\b\b\b\b\b\b\b\b\b\b\b\b\b\b\b\b\b\b\b\b\b\b\b\b\b\b\b\b\b\b\b\b\b\b\b\b\b\b\b\b\b\b\b\b\b\b\b\b\b\b\b\b\b\b\b\b\b\b\b\b\b\b\b\b\b\b\b\b\b\b\b\b\b\r36/36 [==============================] - 48s 1s/step - loss: 0.5402 - accuracy: 0.7288 - auc: 0.8006 - precision: 0.7245 - recall: 0.7535 - val_loss: 0.5185 - val_accuracy: 0.7350 - val_auc: 0.8239 - val_precision: 0.6759 - val_recall: 0.8022\n",
            "Epoch 10/10\n",
            "36/36 [==============================] - ETA: 0s - loss: 0.5411 - accuracy: 0.7253 - auc: 0.8002 - precision: 0.7320 - recall: 0.7257\n",
            "Epoch 10: val_accuracy did not improve from 0.73500\n",
            "36/36 [==============================] - 14s 375ms/step - loss: 0.5411 - accuracy: 0.7253 - auc: 0.8002 - precision: 0.7320 - recall: 0.7257 - val_loss: 0.5054 - val_accuracy: 0.7250 - val_auc: 0.8284 - val_precision: 0.7308 - val_recall: 0.6264\n",
            "7/7 [==============================] - 2s 76ms/step\n",
            "Fold 2\n",
            "Epoch 1/10\n",
            "36/36 [==============================] - ETA: 0s - loss: 0.5674 - accuracy: 0.6988 - auc: 0.7748 - precision: 0.6984 - recall: 0.6922\n",
            "Epoch 1: val_accuracy improved from 0.73500 to 0.77500, saving model to best_model.h51\n"
          ]
        },
        {
          "output_type": "stream",
          "name": "stderr",
          "text": [
            "WARNING:absl:Found untraced functions such as _jit_compiled_convolution_op, _jit_compiled_convolution_op, _jit_compiled_convolution_op, _jit_compiled_convolution_op, _jit_compiled_convolution_op while saving (showing 5 of 94). These functions will not be directly callable after loading.\n"
          ]
        },
        {
          "output_type": "stream",
          "name": "stdout",
          "text": [
            "\b\b\b\b\b\b\b\b\b\b\b\b\b\b\b\b\b\b\b\b\b\b\b\b\b\b\b\b\b\b\b\b\b\b\b\b\b\b\b\b\b\b\b\b\b\b\b\b\b\b\b\b\b\b\b\b\b\b\b\b\b\b\b\b\b\b\b\b\b\b\b\b\b\b\b\b\b\b\b\b\b\b\b\b\b\b\b\b\b\b\b\b\b\b\b\b\b\b\b\b\b\b\b\b\b\b\b\b\b\b\b\b\b\b\b\b\b\b\b\b\b\b\b\b\b\b\b\b\b\b\b\b\b\r36/36 [==============================] - 48s 1s/step - loss: 0.5674 - accuracy: 0.6988 - auc: 0.7748 - precision: 0.6984 - recall: 0.6922 - val_loss: 0.4473 - val_accuracy: 0.7750 - val_auc: 0.9000 - val_precision: 0.8488 - val_recall: 0.6952\n",
            "Epoch 2/10\n",
            "36/36 [==============================] - ETA: 0s - loss: 0.5318 - accuracy: 0.7367 - auc: 0.8119 - precision: 0.7292 - recall: 0.7473\n",
            "Epoch 2: val_accuracy did not improve from 0.77500\n",
            "36/36 [==============================] - 13s 380ms/step - loss: 0.5318 - accuracy: 0.7367 - auc: 0.8119 - precision: 0.7292 - recall: 0.7473 - val_loss: 0.4497 - val_accuracy: 0.7750 - val_auc: 0.9014 - val_precision: 0.8571 - val_recall: 0.6857\n",
            "Epoch 3/10\n",
            "36/36 [==============================] - ETA: 0s - loss: 0.5409 - accuracy: 0.7226 - auc: 0.8014 - precision: 0.7183 - recall: 0.7260\n",
            "Epoch 3: val_accuracy improved from 0.77500 to 0.82000, saving model to best_model.h51\n"
          ]
        },
        {
          "output_type": "stream",
          "name": "stderr",
          "text": [
            "WARNING:absl:Found untraced functions such as _jit_compiled_convolution_op, _jit_compiled_convolution_op, _jit_compiled_convolution_op, _jit_compiled_convolution_op, _jit_compiled_convolution_op while saving (showing 5 of 94). These functions will not be directly callable after loading.\n"
          ]
        },
        {
          "output_type": "stream",
          "name": "stdout",
          "text": [
            "\b\b\b\b\b\b\b\b\b\b\b\b\b\b\b\b\b\b\b\b\b\b\b\b\b\b\b\b\b\b\b\b\b\b\b\b\b\b\b\b\b\b\b\b\b\b\b\b\b\b\b\b\b\b\b\b\b\b\b\b\b\b\b\b\b\b\b\b\b\b\b\b\b\b\b\b\b\b\b\b\b\b\b\b\b\b\b\b\b\b\b\b\b\b\b\b\b\b\b\b\b\b\b\b\b\b\b\b\b\b\b\b\b\b\b\b\b\b\b\b\b\b\b\b\b\b\b\b\b\b\b\b\b\r36/36 [==============================] - 48s 1s/step - loss: 0.5409 - accuracy: 0.7226 - auc: 0.8014 - precision: 0.7183 - recall: 0.7260 - val_loss: 0.4250 - val_accuracy: 0.8200 - val_auc: 0.9054 - val_precision: 0.7949 - val_recall: 0.8857\n",
            "Epoch 4/10\n",
            "36/36 [==============================] - ETA: 0s - loss: 0.5538 - accuracy: 0.7111 - auc: 0.7909 - precision: 0.6936 - recall: 0.7491\n",
            "Epoch 4: val_accuracy did not improve from 0.82000\n",
            "36/36 [==============================] - 13s 364ms/step - loss: 0.5538 - accuracy: 0.7111 - auc: 0.7909 - precision: 0.6936 - recall: 0.7491 - val_loss: 0.4386 - val_accuracy: 0.8000 - val_auc: 0.9015 - val_precision: 0.8652 - val_recall: 0.7333\n",
            "Epoch 5/10\n",
            "36/36 [==============================] - ETA: 0s - loss: 0.5523 - accuracy: 0.7173 - auc: 0.7965 - precision: 0.7274 - recall: 0.6886\n",
            "Epoch 5: val_accuracy did not improve from 0.82000\n",
            "36/36 [==============================] - 13s 372ms/step - loss: 0.5523 - accuracy: 0.7173 - auc: 0.7965 - precision: 0.7274 - recall: 0.6886 - val_loss: 0.4476 - val_accuracy: 0.7650 - val_auc: 0.9059 - val_precision: 0.8919 - val_recall: 0.6286\n",
            "Epoch 6/10\n",
            "36/36 [==============================] - ETA: 0s - loss: 0.5250 - accuracy: 0.7500 - auc: 0.8184 - precision: 0.7487 - recall: 0.7473\n",
            "Epoch 6: val_accuracy did not improve from 0.82000\n",
            "36/36 [==============================] - 13s 366ms/step - loss: 0.5250 - accuracy: 0.7500 - auc: 0.8184 - precision: 0.7487 - recall: 0.7473 - val_loss: 0.4192 - val_accuracy: 0.8100 - val_auc: 0.9009 - val_precision: 0.7913 - val_recall: 0.8667\n",
            "Epoch 7/10\n",
            "36/36 [==============================] - ETA: 0s - loss: 0.5028 - accuracy: 0.7447 - auc: 0.8343 - precision: 0.7399 - recall: 0.7491\n",
            "Epoch 7: val_accuracy did not improve from 0.82000\n",
            "36/36 [==============================] - 13s 368ms/step - loss: 0.5028 - accuracy: 0.7447 - auc: 0.8343 - precision: 0.7399 - recall: 0.7491 - val_loss: 0.4534 - val_accuracy: 0.7650 - val_auc: 0.9061 - val_precision: 0.9028 - val_recall: 0.6190\n",
            "Epoch 8/10\n",
            "36/36 [==============================] - ETA: 0s - loss: 0.5044 - accuracy: 0.7597 - auc: 0.8346 - precision: 0.7656 - recall: 0.7438\n",
            "Epoch 8: val_accuracy did not improve from 0.82000\n",
            "36/36 [==============================] - 13s 368ms/step - loss: 0.5044 - accuracy: 0.7597 - auc: 0.8346 - precision: 0.7656 - recall: 0.7438 - val_loss: 0.5016 - val_accuracy: 0.7100 - val_auc: 0.9031 - val_precision: 0.9123 - val_recall: 0.4952\n",
            "Epoch 9/10\n",
            "36/36 [==============================] - ETA: 0s - loss: 0.5033 - accuracy: 0.7412 - auc: 0.8313 - precision: 0.7389 - recall: 0.7402\n",
            "Epoch 9: val_accuracy did not improve from 0.82000\n",
            "36/36 [==============================] - 14s 381ms/step - loss: 0.5033 - accuracy: 0.7412 - auc: 0.8313 - precision: 0.7389 - recall: 0.7402 - val_loss: 0.4418 - val_accuracy: 0.7700 - val_auc: 0.9047 - val_precision: 0.8933 - val_recall: 0.6381\n",
            "Epoch 10/10\n",
            "36/36 [==============================] - ETA: 0s - loss: 0.5040 - accuracy: 0.7447 - auc: 0.8306 - precision: 0.7590 - recall: 0.7117\n",
            "Epoch 10: val_accuracy did not improve from 0.82000\n",
            "36/36 [==============================] - 13s 359ms/step - loss: 0.5040 - accuracy: 0.7447 - auc: 0.8306 - precision: 0.7590 - recall: 0.7117 - val_loss: 0.4152 - val_accuracy: 0.8200 - val_auc: 0.9077 - val_precision: 0.8557 - val_recall: 0.7905\n",
            "7/7 [==============================] - 1s 76ms/step\n"
          ]
        }
      ]
    },
    {
      "cell_type": "code",
      "source": [
        "model1.evaluate(train_datagen.flow(x_train,y_train))\n",
        "model1.evaluate(val_datagen.flow(x_val,y_val))"
      ],
      "metadata": {
        "colab": {
          "base_uri": "https://localhost:8080/"
        },
        "id": "ChB-heY9GruM",
        "outputId": "4eed58eb-a0b9-4114-af57-5e5c551ce75f"
      },
      "execution_count": null,
      "outputs": [
        {
          "output_type": "stream",
          "name": "stdout",
          "text": [
            "36/36 [==============================] - 14s 350ms/step - loss: 0.4636 - accuracy: 0.7933 - auc: 0.8767 - precision: 0.7960 - recall: 0.7847\n",
            "7/7 [==============================] - 2s 274ms/step - loss: 0.4473 - accuracy: 0.7900 - auc: 0.8853 - precision: 0.8182 - recall: 0.7714\n"
          ]
        },
        {
          "output_type": "execute_result",
          "data": {
            "text/plain": [
              "[0.4473213851451874,\n",
              " 0.7900000214576721,\n",
              " 0.8853132724761963,\n",
              " 0.8181818127632141,\n",
              " 0.7714285850524902]"
            ]
          },
          "metadata": {},
          "execution_count": 17
        }
      ]
    },
    {
      "cell_type": "code",
      "source": [
        "y_predict1_2=model1.predict(x_test)\n",
        "Y_predict1_2=np.float32(y_predict1_2>0.50)\n",
        "l=len(y_test)\n",
        "Y_predict1_2=np.reshape(Y_predict1_2,(l,1))\n",
        "print(Y_predict1_2)"
      ],
      "metadata": {
        "colab": {
          "base_uri": "https://localhost:8080/"
        },
        "id": "AVMTfFrgG5QY",
        "outputId": "7d1e9f18-c098-479a-a606-b940d64bba62"
      },
      "execution_count": null,
      "outputs": [
        {
          "output_type": "stream",
          "name": "stdout",
          "text": [
            "5/5 [==============================] - 1s 319ms/step\n",
            "[[0.]\n",
            " [1.]\n",
            " [1.]\n",
            " [0.]\n",
            " [1.]\n",
            " [0.]\n",
            " [0.]\n",
            " [1.]\n",
            " [0.]\n",
            " [1.]\n",
            " [1.]\n",
            " [0.]\n",
            " [1.]\n",
            " [1.]\n",
            " [1.]\n",
            " [1.]\n",
            " [0.]\n",
            " [1.]\n",
            " [0.]\n",
            " [1.]\n",
            " [1.]\n",
            " [0.]\n",
            " [1.]\n",
            " [1.]\n",
            " [1.]\n",
            " [0.]\n",
            " [1.]\n",
            " [0.]\n",
            " [1.]\n",
            " [1.]\n",
            " [1.]\n",
            " [0.]\n",
            " [0.]\n",
            " [1.]\n",
            " [0.]\n",
            " [1.]\n",
            " [1.]\n",
            " [1.]\n",
            " [1.]\n",
            " [1.]\n",
            " [0.]\n",
            " [1.]\n",
            " [0.]\n",
            " [1.]\n",
            " [0.]\n",
            " [1.]\n",
            " [0.]\n",
            " [1.]\n",
            " [1.]\n",
            " [1.]\n",
            " [0.]\n",
            " [0.]\n",
            " [0.]\n",
            " [0.]\n",
            " [1.]\n",
            " [1.]\n",
            " [0.]\n",
            " [1.]\n",
            " [1.]\n",
            " [0.]\n",
            " [1.]\n",
            " [0.]\n",
            " [0.]\n",
            " [1.]\n",
            " [1.]\n",
            " [0.]\n",
            " [1.]\n",
            " [0.]\n",
            " [0.]\n",
            " [1.]\n",
            " [1.]\n",
            " [1.]\n",
            " [1.]\n",
            " [0.]\n",
            " [1.]\n",
            " [0.]\n",
            " [1.]\n",
            " [0.]\n",
            " [1.]\n",
            " [1.]\n",
            " [1.]\n",
            " [1.]\n",
            " [1.]\n",
            " [0.]\n",
            " [1.]\n",
            " [1.]\n",
            " [0.]\n",
            " [0.]\n",
            " [1.]\n",
            " [1.]\n",
            " [0.]\n",
            " [0.]\n",
            " [1.]\n",
            " [0.]\n",
            " [1.]\n",
            " [1.]\n",
            " [0.]\n",
            " [0.]\n",
            " [1.]\n",
            " [0.]\n",
            " [0.]\n",
            " [1.]\n",
            " [1.]\n",
            " [1.]\n",
            " [1.]\n",
            " [0.]\n",
            " [0.]\n",
            " [0.]\n",
            " [0.]\n",
            " [1.]\n",
            " [1.]\n",
            " [1.]\n",
            " [1.]\n",
            " [0.]\n",
            " [1.]\n",
            " [1.]\n",
            " [0.]\n",
            " [0.]\n",
            " [1.]\n",
            " [1.]\n",
            " [0.]\n",
            " [1.]\n",
            " [1.]\n",
            " [0.]\n",
            " [1.]\n",
            " [0.]\n",
            " [1.]\n",
            " [1.]\n",
            " [0.]\n",
            " [0.]\n",
            " [0.]\n",
            " [0.]\n",
            " [0.]\n",
            " [1.]\n",
            " [1.]\n",
            " [0.]\n",
            " [0.]\n",
            " [0.]\n",
            " [0.]\n",
            " [1.]\n",
            " [0.]\n",
            " [0.]\n",
            " [0.]\n",
            " [0.]\n",
            " [1.]\n",
            " [1.]\n",
            " [1.]\n",
            " [0.]]\n"
          ]
        }
      ]
    },
    {
      "cell_type": "code",
      "source": [
        "from sklearn.metrics import auc,roc_curve\n",
        "from sklearn.metrics import f1_score\n",
        "from sklearn.metrics import cohen_kappa_score\n",
        "from sklearn.metrics import accuracy_score\n",
        "f11 = f1_score(y_test, Y_predict1_2)\n",
        "test_accuracy1 = accuracy_score(y_test, Y_predict1_2)\n",
        "kappa1 = cohen_kappa_score(y_test, Y_predict1_2)\n",
        "auc1 = roc_auc_score(y_test, Y_predict1_2)"
      ],
      "metadata": {
        "id": "RrhEWy8MHOOC"
      },
      "execution_count": null,
      "outputs": []
    },
    {
      "cell_type": "code",
      "source": [
        "print(auc1)\n",
        "print(f11)\n",
        "print(kappa1)\n",
        "print(test_accuracy1)"
      ],
      "metadata": {
        "colab": {
          "base_uri": "https://localhost:8080/"
        },
        "id": "7Si0qA73Ha00",
        "outputId": "15969630-e729-4332-fb34-f5415e2bf407"
      },
      "execution_count": null,
      "outputs": [
        {
          "output_type": "stream",
          "name": "stdout",
          "text": [
            "0.7824456114028507\n",
            "0.8095238095238095\n",
            "0.5598513011152417\n",
            "0.7837837837837838\n"
          ]
        }
      ]
    },
    {
      "cell_type": "markdown",
      "source": [
        "# VGG16"
      ],
      "metadata": {
        "id": "WeI8VtcLntGO"
      }
    },
    {
      "cell_type": "code",
      "source": [
        "from keras.applications.vgg16 import VGG16\n",
        "base_model2 = VGG16(\n",
        "    weights='imagenet',\n",
        "    input_shape=(224, 224, 3),\n",
        "    include_top=False)\n",
        "base_model2.trainable = False\n",
        "inputs = tf.keras.Input(shape=(224, 224, 3))\n",
        "x2 = base_model2(inputs, training=False)\n",
        "x2 = tf.keras.layers.GlobalAveragePooling2D()(x2)\n",
        "x2 = tf.keras.layers.Dropout(0.2)(x2)\n",
        "x2 = tf.keras.layers.Dense(1)(x2)\n",
        "outputs=tf.keras.layers.Activation(activation='sigmoid')(x2)\n",
        "model2 = tf.keras.Model(inputs, outputs)\n",
        "model2.summary()"
      ],
      "metadata": {
        "id": "yd4Hj3Oso0RO",
        "colab": {
          "base_uri": "https://localhost:8080/"
        },
        "outputId": "d7dedff1-f4a3-4dd2-8443-436939326d7b"
      },
      "execution_count": null,
      "outputs": [
        {
          "output_type": "stream",
          "name": "stdout",
          "text": [
            "Downloading data from https://storage.googleapis.com/tensorflow/keras-applications/vgg16/vgg16_weights_tf_dim_ordering_tf_kernels_notop.h5\n",
            "58889256/58889256 [==============================] - 3s 0us/step\n",
            "Model: \"model_1\"\n",
            "_________________________________________________________________\n",
            " Layer (type)                Output Shape              Param #   \n",
            "=================================================================\n",
            " input_4 (InputLayer)        [(None, 224, 224, 3)]     0         \n",
            "                                                                 \n",
            " vgg16 (Functional)          (None, 7, 7, 512)         14714688  \n",
            "                                                                 \n",
            " global_average_pooling2d_1   (None, 512)              0         \n",
            " (GlobalAveragePooling2D)                                        \n",
            "                                                                 \n",
            " dropout_1 (Dropout)         (None, 512)               0         \n",
            "                                                                 \n",
            " dense_1 (Dense)             (None, 1)                 513       \n",
            "                                                                 \n",
            " activation_95 (Activation)  (None, 1)                 0         \n",
            "                                                                 \n",
            "=================================================================\n",
            "Total params: 14,715,201\n",
            "Trainable params: 513\n",
            "Non-trainable params: 14,714,688\n",
            "_________________________________________________________________\n"
          ]
        }
      ]
    },
    {
      "cell_type": "code",
      "source": [
        "model2.compile(loss='binary_crossentropy',\n",
        "              optimizer='adam',\n",
        "              metrics=['accuracy','AUC','Precision','Recall'])"
      ],
      "metadata": {
        "id": "biqxXI5aFsTp"
      },
      "execution_count": null,
      "outputs": []
    },
    {
      "cell_type": "code",
      "source": [
        "from tensorflow.keras.callbacks import ModelCheckpoint, EarlyStopping\n",
        "es=EarlyStopping(patience=3,monitor='val_loss')\n",
        "filepath='best_model.h52'\n",
        "checkpoint = ModelCheckpoint(filepath, monitor='val_accuracy', verbose=1, save_best_only=True, mode='max')"
      ],
      "metadata": {
        "id": "2MGJWKgmGHop"
      },
      "execution_count": null,
      "outputs": []
    },
    {
      "cell_type": "code",
      "source": [
        "for j,(train_idx,val_idx) in enumerate(folds):\n",
        "    print(\"Fold \"+str(j+1))\n",
        "\n",
        "    x_train=X_dataset[train_idx]\n",
        "    y_train=Y_dataset[train_idx]\n",
        "    x_val=X_dataset[val_idx]\n",
        "    y_val=Y_dataset[val_idx]\n",
        "    history2=model2.fit(train_datagen.flow(x_train,y_train),epochs=10,validation_data=(x_val,y_val),callbacks=checkpoint)\n",
        "    y_predict2_1=model2.predict(x_val)\n",
        "    Y_predict2_1=np.float32(y_predict2_1>0.50)\n",
        "    l=len(y_val)\n",
        "    Y_predict2_1=np.reshape(Y_predict2_1,(l,1))"
      ],
      "metadata": {
        "colab": {
          "base_uri": "https://localhost:8080/"
        },
        "id": "13CGzfktGUjr",
        "outputId": "459125ef-0a0c-4089-a86a-6ac9fe0dd659"
      },
      "execution_count": null,
      "outputs": [
        {
          "output_type": "stream",
          "name": "stdout",
          "text": [
            "Fold 1\n",
            "Epoch 1/10\n",
            "36/36 [==============================] - ETA: 0s - loss: 0.7001 - accuracy: 0.5239 - auc: 0.5203 - precision: 0.5311 - recall: 0.5486\n",
            "Epoch 1: val_accuracy improved from -inf to 0.57500, saving model to best_model.h52\n"
          ]
        },
        {
          "output_type": "stream",
          "name": "stderr",
          "text": [
            "WARNING:absl:Found untraced functions such as _jit_compiled_convolution_op, _jit_compiled_convolution_op, _jit_compiled_convolution_op, _jit_compiled_convolution_op, _jit_compiled_convolution_op while saving (showing 5 of 13). These functions will not be directly callable after loading.\n"
          ]
        },
        {
          "output_type": "stream",
          "name": "stdout",
          "text": [
            "\b\b\b\b\b\b\b\b\b\b\b\b\b\b\b\b\b\b\b\b\b\b\b\b\b\b\b\b\b\b\b\b\b\b\b\b\b\b\b\b\b\b\b\b\b\b\b\b\b\b\b\b\b\b\b\b\b\b\b\b\b\b\b\b\b\b\b\b\b\b\b\b\b\b\b\b\b\b\b\b\b\b\b\b\b\b\b\b\b\b\b\b\b\b\b\b\b\b\b\b\b\b\b\b\b\b\b\b\b\b\b\b\b\b\b\b\b\b\b\b\b\b\b\b\b\b\b\b\b\b\b\b\b\r36/36 [==============================] - 23s 543ms/step - loss: 0.7001 - accuracy: 0.5239 - auc: 0.5203 - precision: 0.5311 - recall: 0.5486 - val_loss: 0.6892 - val_accuracy: 0.5750 - val_auc: 0.6456 - val_precision: 0.5174 - val_recall: 0.9780\n",
            "Epoch 2/10\n",
            "36/36 [==============================] - ETA: 0s - loss: 0.6935 - accuracy: 0.5194 - auc: 0.5399 - precision: 0.5253 - recall: 0.5764\n",
            "Epoch 2: val_accuracy improved from 0.57500 to 0.62000, saving model to best_model.h52\n"
          ]
        },
        {
          "output_type": "stream",
          "name": "stderr",
          "text": [
            "WARNING:absl:Found untraced functions such as _jit_compiled_convolution_op, _jit_compiled_convolution_op, _jit_compiled_convolution_op, _jit_compiled_convolution_op, _jit_compiled_convolution_op while saving (showing 5 of 13). These functions will not be directly callable after loading.\n"
          ]
        },
        {
          "output_type": "stream",
          "name": "stdout",
          "text": [
            "\b\b\b\b\b\b\b\b\b\b\b\b\b\b\b\b\b\b\b\b\b\b\b\b\b\b\b\b\b\b\b\b\b\b\b\b\b\b\b\b\b\b\b\b\b\b\b\b\b\b\b\b\b\b\b\b\b\b\b\b\b\b\b\b\b\b\b\b\b\b\b\b\b\b\b\b\b\b\b\b\b\b\b\b\b\b\b\b\b\b\b\b\b\b\b\b\b\b\b\b\b\b\b\b\b\b\b\b\b\b\b\b\b\b\b\b\b\b\b\b\b\b\b\b\b\b\b\b\b\b\b\b\b\r36/36 [==============================] - 19s 527ms/step - loss: 0.6935 - accuracy: 0.5194 - auc: 0.5399 - precision: 0.5253 - recall: 0.5764 - val_loss: 0.6819 - val_accuracy: 0.6200 - val_auc: 0.6630 - val_precision: 0.5484 - val_recall: 0.9341\n",
            "Epoch 3/10\n",
            "36/36 [==============================] - ETA: 0s - loss: 0.6932 - accuracy: 0.5283 - auc: 0.5426 - precision: 0.5317 - recall: 0.6111\n",
            "Epoch 3: val_accuracy improved from 0.62000 to 0.65000, saving model to best_model.h52\n"
          ]
        },
        {
          "output_type": "stream",
          "name": "stderr",
          "text": [
            "WARNING:absl:Found untraced functions such as _jit_compiled_convolution_op, _jit_compiled_convolution_op, _jit_compiled_convolution_op, _jit_compiled_convolution_op, _jit_compiled_convolution_op while saving (showing 5 of 13). These functions will not be directly callable after loading.\n"
          ]
        },
        {
          "output_type": "stream",
          "name": "stdout",
          "text": [
            "\b\b\b\b\b\b\b\b\b\b\b\b\b\b\b\b\b\b\b\b\b\b\b\b\b\b\b\b\b\b\b\b\b\b\b\b\b\b\b\b\b\b\b\b\b\b\b\b\b\b\b\b\b\b\b\b\b\b\b\b\b\b\b\b\b\b\b\b\b\b\b\b\b\b\b\b\b\b\b\b\b\b\b\b\b\b\b\b\b\b\b\b\b\b\b\b\b\b\b\b\b\b\b\b\b\b\b\b\b\b\b\b\b\b\b\b\b\b\b\b\b\b\b\b\b\b\b\b\b\b\b\b\b\r36/36 [==============================] - 16s 452ms/step - loss: 0.6932 - accuracy: 0.5283 - auc: 0.5426 - precision: 0.5317 - recall: 0.6111 - val_loss: 0.6705 - val_accuracy: 0.6500 - val_auc: 0.6804 - val_precision: 0.5868 - val_recall: 0.7802\n",
            "Epoch 4/10\n",
            "36/36 [==============================] - ETA: 0s - loss: 0.6892 - accuracy: 0.5398 - auc: 0.5577 - precision: 0.5444 - recall: 0.5851\n",
            "Epoch 4: val_accuracy improved from 0.65000 to 0.66500, saving model to best_model.h52\n"
          ]
        },
        {
          "output_type": "stream",
          "name": "stderr",
          "text": [
            "WARNING:absl:Found untraced functions such as _jit_compiled_convolution_op, _jit_compiled_convolution_op, _jit_compiled_convolution_op, _jit_compiled_convolution_op, _jit_compiled_convolution_op while saving (showing 5 of 13). These functions will not be directly callable after loading.\n"
          ]
        },
        {
          "output_type": "stream",
          "name": "stdout",
          "text": [
            "\b\b\b\b\b\b\b\b\b\b\b\b\b\b\b\b\b\b\b\b\b\b\b\b\b\b\b\b\b\b\b\b\b\b\b\b\b\b\b\b\b\b\b\b\b\b\b\b\b\b\b\b\b\b\b\b\b\b\b\b\b\b\b\b\b\b\b\b\b\b\b\b\b\b\b\b\b\b\b\b\b\b\b\b\b\b\b\b\b\b\b\b\b\b\b\b\b\b\b\b\b\b\b\b\b\b\b\b\b\b\b\b\b\b\b\b\b\b\b\b\b\b\b\b\b\b\b\b\b\b\b\b\b\r36/36 [==============================] - 17s 471ms/step - loss: 0.6892 - accuracy: 0.5398 - auc: 0.5577 - precision: 0.5444 - recall: 0.5851 - val_loss: 0.6683 - val_accuracy: 0.6650 - val_auc: 0.6941 - val_precision: 0.5952 - val_recall: 0.8242\n",
            "Epoch 5/10\n",
            "36/36 [==============================] - ETA: 0s - loss: 0.6783 - accuracy: 0.5601 - auc: 0.5944 - precision: 0.5753 - recall: 0.5174\n",
            "Epoch 5: val_accuracy did not improve from 0.66500\n",
            "36/36 [==============================] - 14s 385ms/step - loss: 0.6783 - accuracy: 0.5601 - auc: 0.5944 - precision: 0.5753 - recall: 0.5174 - val_loss: 0.6728 - val_accuracy: 0.6450 - val_auc: 0.7049 - val_precision: 0.5667 - val_recall: 0.9341\n",
            "Epoch 6/10\n",
            "36/36 [==============================] - ETA: 0s - loss: 0.6753 - accuracy: 0.5760 - auc: 0.6205 - precision: 0.5594 - recall: 0.7847\n",
            "Epoch 6: val_accuracy did not improve from 0.66500\n",
            "36/36 [==============================] - 14s 386ms/step - loss: 0.6753 - accuracy: 0.5760 - auc: 0.6205 - precision: 0.5594 - recall: 0.7847 - val_loss: 0.6558 - val_accuracy: 0.6500 - val_auc: 0.7133 - val_precision: 0.6040 - val_recall: 0.6703\n",
            "Epoch 7/10\n",
            "36/36 [==============================] - ETA: 0s - loss: 0.6824 - accuracy: 0.5654 - auc: 0.5868 - precision: 0.5875 - recall: 0.4896\n",
            "Epoch 7: val_accuracy did not improve from 0.66500\n",
            "36/36 [==============================] - 14s 390ms/step - loss: 0.6824 - accuracy: 0.5654 - auc: 0.5868 - precision: 0.5875 - recall: 0.4896 - val_loss: 0.6617 - val_accuracy: 0.6650 - val_auc: 0.7147 - val_precision: 0.5909 - val_recall: 0.8571\n",
            "Epoch 8/10\n",
            "36/36 [==============================] - ETA: 0s - loss: 0.6801 - accuracy: 0.5565 - auc: 0.5871 - precision: 0.5529 - recall: 0.6719\n",
            "Epoch 8: val_accuracy improved from 0.66500 to 0.67000, saving model to best_model.h52\n"
          ]
        },
        {
          "output_type": "stream",
          "name": "stderr",
          "text": [
            "WARNING:absl:Found untraced functions such as _jit_compiled_convolution_op, _jit_compiled_convolution_op, _jit_compiled_convolution_op, _jit_compiled_convolution_op, _jit_compiled_convolution_op while saving (showing 5 of 13). These functions will not be directly callable after loading.\n"
          ]
        },
        {
          "output_type": "stream",
          "name": "stdout",
          "text": [
            "\b\b\b\b\b\b\b\b\b\b\b\b\b\b\b\b\b\b\b\b\b\b\b\b\b\b\b\b\b\b\b\b\b\b\b\b\b\b\b\b\b\b\b\b\b\b\b\b\b\b\b\b\b\b\b\b\b\b\b\b\b\b\b\b\b\b\b\b\b\b\b\b\b\b\b\b\b\b\b\b\b\b\b\b\b\b\b\b\b\b\b\b\b\b\b\b\b\b\b\b\b\b\b\b\b\b\b\b\b\b\b\b\b\b\b\b\b\b\b\b\b\b\b\b\b\b\b\b\b\b\b\b\b\r36/36 [==============================] - 17s 483ms/step - loss: 0.6801 - accuracy: 0.5565 - auc: 0.5871 - precision: 0.5529 - recall: 0.6719 - val_loss: 0.6572 - val_accuracy: 0.6700 - val_auc: 0.7229 - val_precision: 0.5984 - val_recall: 0.8352\n",
            "Epoch 9/10\n",
            "36/36 [==============================] - ETA: 0s - loss: 0.6740 - accuracy: 0.5857 - auc: 0.6160 - precision: 0.5911 - recall: 0.6024\n",
            "Epoch 9: val_accuracy did not improve from 0.67000\n",
            "36/36 [==============================] - 14s 375ms/step - loss: 0.6740 - accuracy: 0.5857 - auc: 0.6160 - precision: 0.5911 - recall: 0.6024 - val_loss: 0.6523 - val_accuracy: 0.6700 - val_auc: 0.7293 - val_precision: 0.6000 - val_recall: 0.8242\n",
            "Epoch 10/10\n",
            "36/36 [==============================] - ETA: 0s - loss: 0.6684 - accuracy: 0.6042 - auc: 0.6362 - precision: 0.6016 - recall: 0.6580\n",
            "Epoch 10: val_accuracy did not improve from 0.67000\n",
            "36/36 [==============================] - 14s 376ms/step - loss: 0.6684 - accuracy: 0.6042 - auc: 0.6362 - precision: 0.6016 - recall: 0.6580 - val_loss: 0.6485 - val_accuracy: 0.6700 - val_auc: 0.7336 - val_precision: 0.6033 - val_recall: 0.8022\n",
            "7/7 [==============================] - 1s 128ms/step\n",
            "Fold 2\n",
            "Epoch 1/10\n",
            "36/36 [==============================] - ETA: 0s - loss: 0.6593 - accuracy: 0.6175 - auc: 0.6701 - precision: 0.6114 - recall: 0.6299\n",
            "Epoch 1: val_accuracy did not improve from 0.67000\n",
            "36/36 [==============================] - 14s 387ms/step - loss: 0.6593 - accuracy: 0.6175 - auc: 0.6701 - precision: 0.6114 - recall: 0.6299 - val_loss: 0.6446 - val_accuracy: 0.6650 - val_auc: 0.7289 - val_precision: 0.6827 - val_recall: 0.6762\n",
            "Epoch 2/10\n",
            "36/36 [==============================] - ETA: 0s - loss: 0.6660 - accuracy: 0.6042 - auc: 0.6413 - precision: 0.6071 - recall: 0.5747\n",
            "Epoch 2: val_accuracy did not improve from 0.67000\n",
            "36/36 [==============================] - 14s 394ms/step - loss: 0.6660 - accuracy: 0.6042 - auc: 0.6413 - precision: 0.6071 - recall: 0.5747 - val_loss: 0.6430 - val_accuracy: 0.6600 - val_auc: 0.7329 - val_precision: 0.6907 - val_recall: 0.6381\n",
            "Epoch 3/10\n",
            "36/36 [==============================] - ETA: 0s - loss: 0.6610 - accuracy: 0.6272 - auc: 0.6602 - precision: 0.6237 - recall: 0.6281\n",
            "Epoch 3: val_accuracy did not improve from 0.67000\n",
            "36/36 [==============================] - 14s 384ms/step - loss: 0.6610 - accuracy: 0.6272 - auc: 0.6602 - precision: 0.6237 - recall: 0.6281 - val_loss: 0.6401 - val_accuracy: 0.6600 - val_auc: 0.7351 - val_precision: 0.6832 - val_recall: 0.6571\n",
            "Epoch 4/10\n",
            "36/36 [==============================] - ETA: 0s - loss: 0.6583 - accuracy: 0.6219 - auc: 0.6636 - precision: 0.6269 - recall: 0.5890\n",
            "Epoch 4: val_accuracy did not improve from 0.67000\n",
            "36/36 [==============================] - 14s 381ms/step - loss: 0.6583 - accuracy: 0.6219 - auc: 0.6636 - precision: 0.6269 - recall: 0.5890 - val_loss: 0.6385 - val_accuracy: 0.6600 - val_auc: 0.7359 - val_precision: 0.6907 - val_recall: 0.6381\n",
            "Epoch 5/10\n",
            "36/36 [==============================] - ETA: 0s - loss: 0.6576 - accuracy: 0.6201 - auc: 0.6707 - precision: 0.6410 - recall: 0.5338\n",
            "Epoch 5: val_accuracy improved from 0.67000 to 0.68000, saving model to best_model.h52\n"
          ]
        },
        {
          "output_type": "stream",
          "name": "stderr",
          "text": [
            "WARNING:absl:Found untraced functions such as _jit_compiled_convolution_op, _jit_compiled_convolution_op, _jit_compiled_convolution_op, _jit_compiled_convolution_op, _jit_compiled_convolution_op while saving (showing 5 of 13). These functions will not be directly callable after loading.\n"
          ]
        },
        {
          "output_type": "stream",
          "name": "stdout",
          "text": [
            "\b\b\b\b\b\b\b\b\b\b\b\b\b\b\b\b\b\b\b\b\b\b\b\b\b\b\b\b\b\b\b\b\b\b\b\b\b\b\b\b\b\b\b\b\b\b\b\b\b\b\b\b\b\b\b\b\b\b\b\b\b\b\b\b\b\b\b\b\b\b\b\b\b\b\b\b\b\b\b\b\b\b\b\b\b\b\b\b\b\b\b\b\b\b\b\b\b\b\b\b\b\b\b\b\b\b\b\b\b\b\b\b\b\b\b\b\b\b\b\b\b\b\b\b\b\b\b\b\b\b\b\b\b\r36/36 [==============================] - 17s 458ms/step - loss: 0.6576 - accuracy: 0.6201 - auc: 0.6707 - precision: 0.6410 - recall: 0.5338 - val_loss: 0.6352 - val_accuracy: 0.6800 - val_auc: 0.7370 - val_precision: 0.6881 - val_recall: 0.7143\n",
            "Epoch 6/10\n",
            "36/36 [==============================] - ETA: 0s - loss: 0.6563 - accuracy: 0.6078 - auc: 0.6614 - precision: 0.6077 - recall: 0.5925\n",
            "Epoch 6: val_accuracy improved from 0.68000 to 0.70000, saving model to best_model.h52\n"
          ]
        },
        {
          "output_type": "stream",
          "name": "stderr",
          "text": [
            "WARNING:absl:Found untraced functions such as _jit_compiled_convolution_op, _jit_compiled_convolution_op, _jit_compiled_convolution_op, _jit_compiled_convolution_op, _jit_compiled_convolution_op while saving (showing 5 of 13). These functions will not be directly callable after loading.\n"
          ]
        },
        {
          "output_type": "stream",
          "name": "stdout",
          "text": [
            "\b\b\b\b\b\b\b\b\b\b\b\b\b\b\b\b\b\b\b\b\b\b\b\b\b\b\b\b\b\b\b\b\b\b\b\b\b\b\b\b\b\b\b\b\b\b\b\b\b\b\b\b\b\b\b\b\b\b\b\b\b\b\b\b\b\b\b\b\b\b\b\b\b\b\b\b\b\b\b\b\b\b\b\b\b\b\b\b\b\b\b\b\b\b\b\b\b\b\b\b\b\b\b\b\b\b\b\b\b\b\b\b\b\b\b\b\b\b\b\b\b\b\b\b\b\b\b\b\b\b\b\b\b\r36/36 [==============================] - 18s 490ms/step - loss: 0.6563 - accuracy: 0.6078 - auc: 0.6614 - precision: 0.6077 - recall: 0.5925 - val_loss: 0.6329 - val_accuracy: 0.7000 - val_auc: 0.7417 - val_precision: 0.6860 - val_recall: 0.7905\n",
            "Epoch 7/10\n",
            "36/36 [==============================] - ETA: 0s - loss: 0.6533 - accuracy: 0.6201 - auc: 0.6668 - precision: 0.6170 - recall: 0.6192\n",
            "Epoch 7: val_accuracy did not improve from 0.70000\n",
            "36/36 [==============================] - 14s 382ms/step - loss: 0.6533 - accuracy: 0.6201 - auc: 0.6668 - precision: 0.6170 - recall: 0.6192 - val_loss: 0.6311 - val_accuracy: 0.6850 - val_auc: 0.7408 - val_precision: 0.6909 - val_recall: 0.7238\n",
            "Epoch 8/10\n",
            "36/36 [==============================] - ETA: 0s - loss: 0.6496 - accuracy: 0.6334 - auc: 0.6800 - precision: 0.6227 - recall: 0.6637\n",
            "Epoch 8: val_accuracy did not improve from 0.70000\n",
            "36/36 [==============================] - 14s 378ms/step - loss: 0.6496 - accuracy: 0.6334 - auc: 0.6800 - precision: 0.6227 - recall: 0.6637 - val_loss: 0.6352 - val_accuracy: 0.6800 - val_auc: 0.7461 - val_precision: 0.7531 - val_recall: 0.5810\n",
            "Epoch 9/10\n",
            "36/36 [==============================] - ETA: 0s - loss: 0.6642 - accuracy: 0.6078 - auc: 0.6396 - precision: 0.6050 - recall: 0.6050\n",
            "Epoch 9: val_accuracy did not improve from 0.70000\n",
            "36/36 [==============================] - 14s 395ms/step - loss: 0.6642 - accuracy: 0.6078 - auc: 0.6396 - precision: 0.6050 - recall: 0.6050 - val_loss: 0.6279 - val_accuracy: 0.6900 - val_auc: 0.7478 - val_precision: 0.7087 - val_recall: 0.6952\n",
            "Epoch 10/10\n",
            "36/36 [==============================] - ETA: 0s - loss: 0.6515 - accuracy: 0.6184 - auc: 0.6708 - precision: 0.6087 - recall: 0.6477\n",
            "Epoch 10: val_accuracy did not improve from 0.70000\n",
            "36/36 [==============================] - 14s 390ms/step - loss: 0.6515 - accuracy: 0.6184 - auc: 0.6708 - precision: 0.6087 - recall: 0.6477 - val_loss: 0.6262 - val_accuracy: 0.6900 - val_auc: 0.7514 - val_precision: 0.7087 - val_recall: 0.6952\n",
            "7/7 [==============================] - 1s 130ms/step\n"
          ]
        }
      ]
    },
    {
      "cell_type": "code",
      "source": [
        "model2.evaluate(train_datagen.flow(x_train,y_train))\n",
        "model2.evaluate(val_datagen.flow(x_val,y_val))"
      ],
      "metadata": {
        "colab": {
          "base_uri": "https://localhost:8080/"
        },
        "id": "6pND2lKQGs5j",
        "outputId": "231db310-f1f7-4ca7-b8c5-a85c5e213172"
      },
      "execution_count": null,
      "outputs": [
        {
          "output_type": "stream",
          "name": "stdout",
          "text": [
            "36/36 [==============================] - 13s 357ms/step - loss: 0.6485 - accuracy: 0.6466 - auc: 0.7000 - precision: 0.6511 - recall: 0.6210\n",
            "7/7 [==============================] - 3s 315ms/step - loss: 0.6389 - accuracy: 0.6650 - auc: 0.7294 - precision: 0.7159 - recall: 0.6000\n"
          ]
        },
        {
          "output_type": "execute_result",
          "data": {
            "text/plain": [
              "[0.6389079093933105,\n",
              " 0.6650000214576721,\n",
              " 0.7294235229492188,\n",
              " 0.7159090638160706,\n",
              " 0.6000000238418579]"
            ]
          },
          "metadata": {},
          "execution_count": 25
        }
      ]
    },
    {
      "cell_type": "code",
      "source": [
        "y_predict2_2=model2.predict(x_test)\n",
        "Y_predict2_2=np.float32(y_predict2_2>0.50)\n",
        "l=len(y_test)\n",
        "Y_predict2_2=np.reshape(Y_predict2_2,(l,1))\n",
        "print(Y_predict2_2)"
      ],
      "metadata": {
        "colab": {
          "base_uri": "https://localhost:8080/"
        },
        "id": "9IvOYiU9G6S0",
        "outputId": "23d3ba29-d22d-437f-d1b0-1f7c12d44c37"
      },
      "execution_count": null,
      "outputs": [
        {
          "output_type": "stream",
          "name": "stdout",
          "text": [
            "5/5 [==============================] - 3s 661ms/step\n",
            "[[0.]\n",
            " [1.]\n",
            " [1.]\n",
            " [0.]\n",
            " [0.]\n",
            " [1.]\n",
            " [0.]\n",
            " [1.]\n",
            " [0.]\n",
            " [0.]\n",
            " [0.]\n",
            " [1.]\n",
            " [1.]\n",
            " [0.]\n",
            " [1.]\n",
            " [1.]\n",
            " [0.]\n",
            " [1.]\n",
            " [0.]\n",
            " [0.]\n",
            " [1.]\n",
            " [0.]\n",
            " [0.]\n",
            " [1.]\n",
            " [0.]\n",
            " [0.]\n",
            " [1.]\n",
            " [1.]\n",
            " [1.]\n",
            " [1.]\n",
            " [1.]\n",
            " [0.]\n",
            " [0.]\n",
            " [0.]\n",
            " [1.]\n",
            " [1.]\n",
            " [1.]\n",
            " [1.]\n",
            " [1.]\n",
            " [1.]\n",
            " [1.]\n",
            " [0.]\n",
            " [1.]\n",
            " [1.]\n",
            " [0.]\n",
            " [1.]\n",
            " [0.]\n",
            " [1.]\n",
            " [1.]\n",
            " [1.]\n",
            " [0.]\n",
            " [0.]\n",
            " [1.]\n",
            " [0.]\n",
            " [1.]\n",
            " [1.]\n",
            " [1.]\n",
            " [1.]\n",
            " [1.]\n",
            " [1.]\n",
            " [1.]\n",
            " [0.]\n",
            " [0.]\n",
            " [1.]\n",
            " [0.]\n",
            " [0.]\n",
            " [0.]\n",
            " [1.]\n",
            " [0.]\n",
            " [0.]\n",
            " [0.]\n",
            " [1.]\n",
            " [1.]\n",
            " [1.]\n",
            " [1.]\n",
            " [0.]\n",
            " [1.]\n",
            " [1.]\n",
            " [1.]\n",
            " [1.]\n",
            " [1.]\n",
            " [1.]\n",
            " [1.]\n",
            " [0.]\n",
            " [0.]\n",
            " [0.]\n",
            " [1.]\n",
            " [1.]\n",
            " [0.]\n",
            " [0.]\n",
            " [1.]\n",
            " [0.]\n",
            " [1.]\n",
            " [0.]\n",
            " [1.]\n",
            " [0.]\n",
            " [0.]\n",
            " [0.]\n",
            " [1.]\n",
            " [1.]\n",
            " [0.]\n",
            " [1.]\n",
            " [1.]\n",
            " [1.]\n",
            " [1.]\n",
            " [1.]\n",
            " [0.]\n",
            " [1.]\n",
            " [1.]\n",
            " [1.]\n",
            " [0.]\n",
            " [1.]\n",
            " [1.]\n",
            " [0.]\n",
            " [0.]\n",
            " [1.]\n",
            " [0.]\n",
            " [1.]\n",
            " [1.]\n",
            " [1.]\n",
            " [0.]\n",
            " [1.]\n",
            " [1.]\n",
            " [1.]\n",
            " [0.]\n",
            " [1.]\n",
            " [1.]\n",
            " [1.]\n",
            " [1.]\n",
            " [1.]\n",
            " [0.]\n",
            " [0.]\n",
            " [1.]\n",
            " [1.]\n",
            " [1.]\n",
            " [1.]\n",
            " [0.]\n",
            " [0.]\n",
            " [0.]\n",
            " [1.]\n",
            " [1.]\n",
            " [1.]\n",
            " [0.]\n",
            " [0.]\n",
            " [1.]\n",
            " [1.]\n",
            " [0.]\n",
            " [0.]]\n"
          ]
        }
      ]
    },
    {
      "cell_type": "code",
      "source": [
        "from sklearn.metrics import auc,roc_curve\n",
        "from sklearn.metrics import f1_score\n",
        "from sklearn.metrics import cohen_kappa_score\n",
        "from sklearn.metrics import accuracy_score\n",
        "f12 = f1_score(y_test, Y_predict2_2)\n",
        "test_accuracy2 = accuracy_score(y_test, Y_predict2_2)\n",
        "kappa2 = cohen_kappa_score(y_test, Y_predict2_2)\n",
        "auc2 = roc_auc_score(y_test, Y_predict2_2)"
      ],
      "metadata": {
        "id": "_RsDi45SHPhG"
      },
      "execution_count": null,
      "outputs": []
    },
    {
      "cell_type": "code",
      "source": [
        "print(auc2)\n",
        "print(f12)\n",
        "print(kappa2)\n",
        "print(test_accuracy2)"
      ],
      "metadata": {
        "colab": {
          "base_uri": "https://localhost:8080/"
        },
        "id": "udzvfXNHHcAB",
        "outputId": "be1ddc04-78d0-42dc-982d-ecf5fd7f2132"
      },
      "execution_count": null,
      "outputs": [
        {
          "output_type": "stream",
          "name": "stdout",
          "text": [
            "0.650787696924231\n",
            "0.7126436781609196\n",
            "0.3029389600602863\n",
            "0.6621621621621622\n"
          ]
        }
      ]
    },
    {
      "cell_type": "markdown",
      "source": [
        "# VGG19"
      ],
      "metadata": {
        "id": "KybUg4QOsE5t"
      }
    },
    {
      "cell_type": "code",
      "source": [
        "from keras.applications.vgg19 import VGG19\n",
        "base_model3 = VGG19(\n",
        "    weights='imagenet',\n",
        "    input_shape=(224, 224, 3),\n",
        "    include_top=False)\n",
        "base_model3.trainable = False\n",
        "inputs = tf.keras.Input(shape=(224, 224, 3))\n",
        "x3 = base_model3(inputs, training=False)\n",
        "x3 = tf.keras.layers.GlobalAveragePooling2D()(x3)\n",
        "x3 = tf.keras.layers.Dropout(0.2)(x3)\n",
        "x3 = tf.keras.layers.Dense(1)(x3)\n",
        "outputs=tf.keras.layers.Activation(activation='sigmoid')(x3)\n",
        "model3 = tf.keras.Model(inputs, outputs)\n",
        "model3.summary()"
      ],
      "metadata": {
        "colab": {
          "base_uri": "https://localhost:8080/"
        },
        "id": "Uh4uBSKcsHDd",
        "outputId": "458dbd1e-150a-4309-8734-24e5076e5470"
      },
      "execution_count": null,
      "outputs": [
        {
          "output_type": "stream",
          "name": "stdout",
          "text": [
            "Model: \"model_2\"\n",
            "_________________________________________________________________\n",
            " Layer (type)                Output Shape              Param #   \n",
            "=================================================================\n",
            " input_8 (InputLayer)        [(None, 224, 224, 3)]     0         \n",
            "                                                                 \n",
            " vgg19 (Functional)          (None, 7, 7, 512)         20024384  \n",
            "                                                                 \n",
            " global_average_pooling2d_2   (None, 512)              0         \n",
            " (GlobalAveragePooling2D)                                        \n",
            "                                                                 \n",
            " dropout_2 (Dropout)         (None, 512)               0         \n",
            "                                                                 \n",
            " dense_2 (Dense)             (None, 1)                 513       \n",
            "                                                                 \n",
            " activation_96 (Activation)  (None, 1)                 0         \n",
            "                                                                 \n",
            "=================================================================\n",
            "Total params: 20,024,897\n",
            "Trainable params: 513\n",
            "Non-trainable params: 20,024,384\n",
            "_________________________________________________________________\n"
          ]
        }
      ]
    },
    {
      "cell_type": "code",
      "source": [
        "model3.compile(loss='binary_crossentropy',\n",
        "              optimizer='adam',\n",
        "              metrics=['accuracy','AUC','Precision','Recall'])"
      ],
      "metadata": {
        "id": "A4cVKl1lFuMQ"
      },
      "execution_count": null,
      "outputs": []
    },
    {
      "cell_type": "code",
      "source": [
        "from tensorflow.keras.callbacks import ModelCheckpoint, EarlyStopping\n",
        "es=EarlyStopping(patience=3,monitor='val_loss')\n",
        "filepath='best_model.h53'\n",
        "checkpoint = ModelCheckpoint(filepath, monitor='val_accuracy', verbose=1, save_best_only=True, mode='max')"
      ],
      "metadata": {
        "id": "lSNT8wVYGIex"
      },
      "execution_count": null,
      "outputs": []
    },
    {
      "cell_type": "code",
      "source": [
        "for j,(train_idx,val_idx) in enumerate(folds):\n",
        "    print(\"Fold \"+str(j+1))\n",
        "\n",
        "    x_train=X_dataset[train_idx]\n",
        "    y_train=Y_dataset[train_idx]\n",
        "    x_val=X_dataset[val_idx]\n",
        "    y_val=Y_dataset[val_idx]\n",
        "    history3=model3.fit(train_datagen.flow(x_train,y_train),epochs=10,validation_data=(x_val,y_val),callbacks=checkpoint)\n",
        "    y_predict3_1=model3.predict(x_val)\n",
        "    Y_predict3_1=np.float32(y_predict3_1>0.50)\n",
        "    l=len(y_val)\n",
        "    Y_predict3_1=np.reshape(Y_predict3_1,(l,1))"
      ],
      "metadata": {
        "colab": {
          "base_uri": "https://localhost:8080/"
        },
        "id": "pgaXF-8vGVZA",
        "outputId": "8112a3ae-b119-4624-ed7c-4c456c46e41a"
      },
      "execution_count": null,
      "outputs": [
        {
          "output_type": "stream",
          "name": "stdout",
          "text": [
            "Fold 1\n",
            "Epoch 1/10\n",
            "36/36 [==============================] - ETA: 0s - loss: 0.7144 - accuracy: 0.4682 - auc: 0.4577 - precision: 0.4803 - recall: 0.5503\n",
            "Epoch 1: val_accuracy improved from -inf to 0.45000, saving model to best_model.h53\n"
          ]
        },
        {
          "output_type": "stream",
          "name": "stderr",
          "text": [
            "WARNING:absl:Found untraced functions such as _jit_compiled_convolution_op, _jit_compiled_convolution_op, _jit_compiled_convolution_op, _jit_compiled_convolution_op, _jit_compiled_convolution_op while saving (showing 5 of 16). These functions will not be directly callable after loading.\n"
          ]
        },
        {
          "output_type": "stream",
          "name": "stdout",
          "text": [
            "\b\b\b\b\b\b\b\b\b\b\b\b\b\b\b\b\b\b\b\b\b\b\b\b\b\b\b\b\b\b\b\b\b\b\b\b\b\b\b\b\b\b\b\b\b\b\b\b\b\b\b\b\b\b\b\b\b\b\b\b\b\b\b\b\b\b\b\b\b\b\b\b\b\b\b\b\b\b\b\b\b\b\b\b\b\b\b\b\b\b\b\b\b\b\b\b\b\b\b\b\b\b\b\b\b\b\b\b\b\b\b\b\b\b\b\b\b\b\b\b\b\b\b\b\b\b\b\b\b\b\b\b\b\r36/36 [==============================] - 19s 495ms/step - loss: 0.7144 - accuracy: 0.4682 - auc: 0.4577 - precision: 0.4803 - recall: 0.5503 - val_loss: 0.6973 - val_accuracy: 0.4500 - val_auc: 0.5625 - val_precision: 0.4508 - val_recall: 0.9560\n",
            "Epoch 2/10\n",
            "36/36 [==============================] - ETA: 0s - loss: 0.7014 - accuracy: 0.5027 - auc: 0.5093 - precision: 0.5104 - recall: 0.5538\n",
            "Epoch 2: val_accuracy improved from 0.45000 to 0.59000, saving model to best_model.h53\n"
          ]
        },
        {
          "output_type": "stream",
          "name": "stderr",
          "text": [
            "WARNING:absl:Found untraced functions such as _jit_compiled_convolution_op, _jit_compiled_convolution_op, _jit_compiled_convolution_op, _jit_compiled_convolution_op, _jit_compiled_convolution_op while saving (showing 5 of 16). These functions will not be directly callable after loading.\n"
          ]
        },
        {
          "output_type": "stream",
          "name": "stdout",
          "text": [
            "\b\b\b\b\b\b\b\b\b\b\b\b\b\b\b\b\b\b\b\b\b\b\b\b\b\b\b\b\b\b\b\b\b\b\b\b\b\b\b\b\b\b\b\b\b\b\b\b\b\b\b\b\b\b\b\b\b\b\b\b\b\b\b\b\b\b\b\b\b\b\b\b\b\b\b\b\b\b\b\b\b\b\b\b\b\b\b\b\b\b\b\b\b\b\b\b\b\b\b\b\b\b\b\b\b\b\b\b\b\b\b\b\b\b\b\b\b\b\b\b\b\b\b\b\b\b\b\b\b\b\b\b\b\r36/36 [==============================] - 19s 524ms/step - loss: 0.7014 - accuracy: 0.5027 - auc: 0.5093 - precision: 0.5104 - recall: 0.5538 - val_loss: 0.6860 - val_accuracy: 0.5900 - val_auc: 0.6384 - val_precision: 0.5372 - val_recall: 0.7143\n",
            "Epoch 3/10\n",
            "36/36 [==============================] - ETA: 0s - loss: 0.6921 - accuracy: 0.5371 - auc: 0.5447 - precision: 0.5455 - recall: 0.5417\n",
            "Epoch 3: val_accuracy improved from 0.59000 to 0.60000, saving model to best_model.h53\n"
          ]
        },
        {
          "output_type": "stream",
          "name": "stderr",
          "text": [
            "WARNING:absl:Found untraced functions such as _jit_compiled_convolution_op, _jit_compiled_convolution_op, _jit_compiled_convolution_op, _jit_compiled_convolution_op, _jit_compiled_convolution_op while saving (showing 5 of 16). These functions will not be directly callable after loading.\n"
          ]
        },
        {
          "output_type": "stream",
          "name": "stdout",
          "text": [
            "\b\b\b\b\b\b\b\b\b\b\b\b\b\b\b\b\b\b\b\b\b\b\b\b\b\b\b\b\b\b\b\b\b\b\b\b\b\b\b\b\b\b\b\b\b\b\b\b\b\b\b\b\b\b\b\b\b\b\b\b\b\b\b\b\b\b\b\b\b\b\b\b\b\b\b\b\b\b\b\b\b\b\b\b\b\b\b\b\b\b\b\b\b\b\b\b\b\b\b\b\b\b\b\b\b\b\b\b\b\b\b\b\b\b\b\b\b\b\b\b\b\b\b\b\b\b\b\b\b\b\b\b\b\r36/36 [==============================] - 17s 482ms/step - loss: 0.6921 - accuracy: 0.5371 - auc: 0.5447 - precision: 0.5455 - recall: 0.5417 - val_loss: 0.6840 - val_accuracy: 0.6000 - val_auc: 0.6643 - val_precision: 0.5401 - val_recall: 0.8132\n",
            "Epoch 4/10\n",
            "36/36 [==============================] - ETA: 0s - loss: 0.6953 - accuracy: 0.5327 - auc: 0.5330 - precision: 0.5380 - recall: 0.5781\n",
            "Epoch 4: val_accuracy did not improve from 0.60000\n",
            "36/36 [==============================] - 15s 404ms/step - loss: 0.6953 - accuracy: 0.5327 - auc: 0.5330 - precision: 0.5380 - recall: 0.5781 - val_loss: 0.6923 - val_accuracy: 0.4500 - val_auc: 0.6717 - val_precision: 0.4518 - val_recall: 0.9780\n",
            "Epoch 5/10\n",
            "36/36 [==============================] - ETA: 0s - loss: 0.6855 - accuracy: 0.5504 - auc: 0.5715 - precision: 0.5519 - recall: 0.6181\n",
            "Epoch 5: val_accuracy improved from 0.60000 to 0.62500, saving model to best_model.h53\n"
          ]
        },
        {
          "output_type": "stream",
          "name": "stderr",
          "text": [
            "WARNING:absl:Found untraced functions such as _jit_compiled_convolution_op, _jit_compiled_convolution_op, _jit_compiled_convolution_op, _jit_compiled_convolution_op, _jit_compiled_convolution_op while saving (showing 5 of 16). These functions will not be directly callable after loading.\n"
          ]
        },
        {
          "output_type": "stream",
          "name": "stdout",
          "text": [
            "\b\b\b\b\b\b\b\b\b\b\b\b\b\b\b\b\b\b\b\b\b\b\b\b\b\b\b\b\b\b\b\b\b\b\b\b\b\b\b\b\b\b\b\b\b\b\b\b\b\b\b\b\b\b\b\b\b\b\b\b\b\b\b\b\b\b\b\b\b\b\b\b\b\b\b\b\b\b\b\b\b\b\b\b\b\b\b\b\b\b\b\b\b\b\b\b\b\b\b\b\b\b\b\b\b\b\b\b\b\b\b\b\b\b\b\b\b\b\b\b\b\b\b\b\b\b\b\b\b\b\b\b\b\r36/36 [==============================] - 18s 495ms/step - loss: 0.6855 - accuracy: 0.5504 - auc: 0.5715 - precision: 0.5519 - recall: 0.6181 - val_loss: 0.6690 - val_accuracy: 0.6250 - val_auc: 0.6874 - val_precision: 0.6333 - val_recall: 0.4176\n",
            "Epoch 6/10\n",
            "36/36 [==============================] - ETA: 0s - loss: 0.6805 - accuracy: 0.5618 - auc: 0.5895 - precision: 0.5816 - recall: 0.4948\n",
            "Epoch 6: val_accuracy did not improve from 0.62500\n",
            "36/36 [==============================] - 15s 401ms/step - loss: 0.6805 - accuracy: 0.5618 - auc: 0.5895 - precision: 0.5816 - recall: 0.4948 - val_loss: 0.6767 - val_accuracy: 0.6250 - val_auc: 0.6885 - val_precision: 0.5571 - val_recall: 0.8571\n",
            "Epoch 7/10\n",
            "36/36 [==============================] - ETA: 0s - loss: 0.6811 - accuracy: 0.5724 - auc: 0.5939 - precision: 0.5685 - recall: 0.6632\n",
            "Epoch 7: val_accuracy improved from 0.62500 to 0.63000, saving model to best_model.h53\n"
          ]
        },
        {
          "output_type": "stream",
          "name": "stderr",
          "text": [
            "WARNING:absl:Found untraced functions such as _jit_compiled_convolution_op, _jit_compiled_convolution_op, _jit_compiled_convolution_op, _jit_compiled_convolution_op, _jit_compiled_convolution_op while saving (showing 5 of 16). These functions will not be directly callable after loading.\n"
          ]
        },
        {
          "output_type": "stream",
          "name": "stdout",
          "text": [
            "\b\b\b\b\b\b\b\b\b\b\b\b\b\b\b\b\b\b\b\b\b\b\b\b\b\b\b\b\b\b\b\b\b\b\b\b\b\b\b\b\b\b\b\b\b\b\b\b\b\b\b\b\b\b\b\b\b\b\b\b\b\b\b\b\b\b\b\b\b\b\b\b\b\b\b\b\b\b\b\b\b\b\b\b\b\b\b\b\b\b\b\b\b\b\b\b\b\b\b\b\b\b\b\b\b\b\b\b\b\b\b\b\b\b\b\b\b\b\b\b\b\b\b\b\b\b\b\b\b\b\b\b\b\r36/36 [==============================] - 17s 484ms/step - loss: 0.6811 - accuracy: 0.5724 - auc: 0.5939 - precision: 0.5685 - recall: 0.6632 - val_loss: 0.6725 - val_accuracy: 0.6300 - val_auc: 0.6946 - val_precision: 0.5639 - val_recall: 0.8242\n",
            "Epoch 8/10\n",
            "36/36 [==============================] - ETA: 0s - loss: 0.6788 - accuracy: 0.5786 - auc: 0.5981 - precision: 0.5716 - recall: 0.6858\n",
            "Epoch 8: val_accuracy improved from 0.63000 to 0.65500, saving model to best_model.h53\n"
          ]
        },
        {
          "output_type": "stream",
          "name": "stderr",
          "text": [
            "WARNING:absl:Found untraced functions such as _jit_compiled_convolution_op, _jit_compiled_convolution_op, _jit_compiled_convolution_op, _jit_compiled_convolution_op, _jit_compiled_convolution_op while saving (showing 5 of 16). These functions will not be directly callable after loading.\n"
          ]
        },
        {
          "output_type": "stream",
          "name": "stdout",
          "text": [
            "\b\b\b\b\b\b\b\b\b\b\b\b\b\b\b\b\b\b\b\b\b\b\b\b\b\b\b\b\b\b\b\b\b\b\b\b\b\b\b\b\b\b\b\b\b\b\b\b\b\b\b\b\b\b\b\b\b\b\b\b\b\b\b\b\b\b\b\b\b\b\b\b\b\b\b\b\b\b\b\b\b\b\b\b\b\b\b\b\b\b\b\b\b\b\b\b\b\b\b\b\b\b\b\b\b\b\b\b\b\b\b\b\b\b\b\b\b\b\b\b\b\b\b\b\b\b\b\b\b\b\b\b\b\r36/36 [==============================] - 18s 507ms/step - loss: 0.6788 - accuracy: 0.5786 - auc: 0.5981 - precision: 0.5716 - recall: 0.6858 - val_loss: 0.6654 - val_accuracy: 0.6550 - val_auc: 0.6990 - val_precision: 0.5917 - val_recall: 0.7802\n",
            "Epoch 9/10\n",
            "36/36 [==============================] - ETA: 0s - loss: 0.6763 - accuracy: 0.5707 - auc: 0.6021 - precision: 0.5748 - recall: 0.6007\n",
            "Epoch 9: val_accuracy did not improve from 0.65500\n",
            "36/36 [==============================] - 14s 391ms/step - loss: 0.6763 - accuracy: 0.5707 - auc: 0.6021 - precision: 0.5748 - recall: 0.6007 - val_loss: 0.6690 - val_accuracy: 0.6400 - val_auc: 0.7013 - val_precision: 0.5704 - val_recall: 0.8462\n",
            "Epoch 10/10\n",
            "36/36 [==============================] - ETA: 0s - loss: 0.6768 - accuracy: 0.5733 - auc: 0.6008 - precision: 0.5703 - recall: 0.6545\n",
            "Epoch 10: val_accuracy improved from 0.65500 to 0.66000, saving model to best_model.h53\n"
          ]
        },
        {
          "output_type": "stream",
          "name": "stderr",
          "text": [
            "WARNING:absl:Found untraced functions such as _jit_compiled_convolution_op, _jit_compiled_convolution_op, _jit_compiled_convolution_op, _jit_compiled_convolution_op, _jit_compiled_convolution_op while saving (showing 5 of 16). These functions will not be directly callable after loading.\n"
          ]
        },
        {
          "output_type": "stream",
          "name": "stdout",
          "text": [
            "36/36 [==============================] - 18s 514ms/step - loss: 0.6768 - accuracy: 0.5733 - auc: 0.6008 - precision: 0.5703 - recall: 0.6545 - val_loss: 0.6594 - val_accuracy: 0.6600 - val_auc: 0.7059 - val_precision: 0.5983 - val_recall: 0.7692\n",
            "7/7 [==============================] - 1s 157ms/step\n",
            "Fold 2\n",
            "Epoch 1/10\n",
            "36/36 [==============================] - ETA: 0s - loss: 0.6668 - accuracy: 0.5954 - auc: 0.6378 - precision: 0.5959 - recall: 0.5747\n",
            "Epoch 1: val_accuracy improved from 0.66000 to 0.67500, saving model to best_model.h53\n"
          ]
        },
        {
          "output_type": "stream",
          "name": "stderr",
          "text": [
            "WARNING:absl:Found untraced functions such as _jit_compiled_convolution_op, _jit_compiled_convolution_op, _jit_compiled_convolution_op, _jit_compiled_convolution_op, _jit_compiled_convolution_op while saving (showing 5 of 16). These functions will not be directly callable after loading.\n"
          ]
        },
        {
          "output_type": "stream",
          "name": "stdout",
          "text": [
            "\b\b\b\b\b\b\b\b\b\b\b\b\b\b\b\b\b\b\b\b\b\b\b\b\b\b\b\b\b\b\b\b\b\b\b\b\b\b\b\b\b\b\b\b\b\b\b\b\b\b\b\b\b\b\b\b\b\b\b\b\b\b\b\b\b\b\b\b\b\b\b\b\b\b\b\b\b\b\b\b\b\b\b\b\b\b\b\b\b\b\b\b\b\b\b\b\b\b\b\b\b\b\b\b\b\b\b\b\b\b\b\b\b\b\b\b\b\b\b\b\b\b\b\b\b\b\b\b\b\b\b\b\b\r36/36 [==============================] - 18s 491ms/step - loss: 0.6668 - accuracy: 0.5954 - auc: 0.6378 - precision: 0.5959 - recall: 0.5747 - val_loss: 0.6531 - val_accuracy: 0.6750 - val_auc: 0.7018 - val_precision: 0.6754 - val_recall: 0.7333\n",
            "Epoch 2/10\n",
            "36/36 [==============================] - ETA: 0s - loss: 0.6689 - accuracy: 0.6007 - auc: 0.6391 - precision: 0.6127 - recall: 0.5320\n",
            "Epoch 2: val_accuracy improved from 0.67500 to 0.68000, saving model to best_model.h53\n"
          ]
        },
        {
          "output_type": "stream",
          "name": "stderr",
          "text": [
            "WARNING:absl:Found untraced functions such as _jit_compiled_convolution_op, _jit_compiled_convolution_op, _jit_compiled_convolution_op, _jit_compiled_convolution_op, _jit_compiled_convolution_op while saving (showing 5 of 16). These functions will not be directly callable after loading.\n"
          ]
        },
        {
          "output_type": "stream",
          "name": "stdout",
          "text": [
            "\b\b\b\b\b\b\b\b\b\b\b\b\b\b\b\b\b\b\b\b\b\b\b\b\b\b\b\b\b\b\b\b\b\b\b\b\b\b\b\b\b\b\b\b\b\b\b\b\b\b\b\b\b\b\b\b\b\b\b\b\b\b\b\b\b\b\b\b\b\b\b\b\b\b\b\b\b\b\b\b\b\b\b\b\b\b\b\b\b\b\b\b\b\b\b\b\b\b\b\b\b\b\b\b\b\b\b\b\b\b\b\b\b\b\b\b\b\b\b\b\b\b\b\b\b\b\b\b\b\b\b\b\b\r36/36 [==============================] - 18s 509ms/step - loss: 0.6689 - accuracy: 0.6007 - auc: 0.6391 - precision: 0.6127 - recall: 0.5320 - val_loss: 0.6538 - val_accuracy: 0.6800 - val_auc: 0.7041 - val_precision: 0.7303 - val_recall: 0.6190\n",
            "Epoch 3/10\n",
            "36/36 [==============================] - ETA: 0s - loss: 0.6770 - accuracy: 0.5786 - auc: 0.6025 - precision: 0.5758 - recall: 0.5747\n",
            "Epoch 3: val_accuracy did not improve from 0.68000\n",
            "36/36 [==============================] - 14s 398ms/step - loss: 0.6770 - accuracy: 0.5786 - auc: 0.6025 - precision: 0.5758 - recall: 0.5747 - val_loss: 0.6526 - val_accuracy: 0.6500 - val_auc: 0.7091 - val_precision: 0.7011 - val_recall: 0.5810\n",
            "Epoch 4/10\n",
            "36/36 [==============================] - ETA: 0s - loss: 0.6651 - accuracy: 0.6157 - auc: 0.6508 - precision: 0.6112 - recall: 0.6210\n",
            "Epoch 4: val_accuracy improved from 0.68000 to 0.70500, saving model to best_model.h53\n"
          ]
        },
        {
          "output_type": "stream",
          "name": "stderr",
          "text": [
            "WARNING:absl:Found untraced functions such as _jit_compiled_convolution_op, _jit_compiled_convolution_op, _jit_compiled_convolution_op, _jit_compiled_convolution_op, _jit_compiled_convolution_op while saving (showing 5 of 16). These functions will not be directly callable after loading.\n"
          ]
        },
        {
          "output_type": "stream",
          "name": "stdout",
          "text": [
            "\b\b\b\b\b\b\b\b\b\b\b\b\b\b\b\b\b\b\b\b\b\b\b\b\b\b\b\b\b\b\b\b\b\b\b\b\b\b\b\b\b\b\b\b\b\b\b\b\b\b\b\b\b\b\b\b\b\b\b\b\b\b\b\b\b\b\b\b\b\b\b\b\b\b\b\b\b\b\b\b\b\b\b\b\b\b\b\b\b\b\b\b\b\b\b\b\b\b\b\b\b\b\b\b\b\b\b\b\b\b\b\b\b\b\b\b\b\b\b\b\b\b\b\b\b\b\b\b\b\b\b\b\b\r36/36 [==============================] - 18s 508ms/step - loss: 0.6651 - accuracy: 0.6157 - auc: 0.6508 - precision: 0.6112 - recall: 0.6210 - val_loss: 0.6491 - val_accuracy: 0.7050 - val_auc: 0.7096 - val_precision: 0.7300 - val_recall: 0.6952\n",
            "Epoch 5/10\n",
            "36/36 [==============================] - ETA: 0s - loss: 0.6648 - accuracy: 0.6184 - auc: 0.6479 - precision: 0.6208 - recall: 0.5943\n",
            "Epoch 5: val_accuracy did not improve from 0.70500\n",
            "36/36 [==============================] - 14s 389ms/step - loss: 0.6648 - accuracy: 0.6184 - auc: 0.6479 - precision: 0.6208 - recall: 0.5943 - val_loss: 0.6495 - val_accuracy: 0.6300 - val_auc: 0.7113 - val_precision: 0.6867 - val_recall: 0.5429\n",
            "Epoch 6/10\n",
            "36/36 [==============================] - ETA: 0s - loss: 0.6685 - accuracy: 0.6184 - auc: 0.6346 - precision: 0.6337 - recall: 0.5480\n",
            "Epoch 6: val_accuracy did not improve from 0.70500\n",
            "36/36 [==============================] - 15s 403ms/step - loss: 0.6685 - accuracy: 0.6184 - auc: 0.6346 - precision: 0.6337 - recall: 0.5480 - val_loss: 0.6444 - val_accuracy: 0.7000 - val_auc: 0.7158 - val_precision: 0.7228 - val_recall: 0.6952\n",
            "Epoch 7/10\n",
            "36/36 [==============================] - ETA: 0s - loss: 0.6584 - accuracy: 0.6316 - auc: 0.6684 - precision: 0.6244 - recall: 0.6477\n",
            "Epoch 7: val_accuracy did not improve from 0.70500\n",
            "36/36 [==============================] - 15s 412ms/step - loss: 0.6584 - accuracy: 0.6316 - auc: 0.6684 - precision: 0.6244 - recall: 0.6477 - val_loss: 0.6426 - val_accuracy: 0.7000 - val_auc: 0.7168 - val_precision: 0.7228 - val_recall: 0.6952\n",
            "Epoch 8/10\n",
            "36/36 [==============================] - ETA: 0s - loss: 0.6561 - accuracy: 0.6237 - auc: 0.6697 - precision: 0.6164 - recall: 0.6406\n",
            "Epoch 8: val_accuracy did not improve from 0.70500\n",
            "36/36 [==============================] - 15s 406ms/step - loss: 0.6561 - accuracy: 0.6237 - auc: 0.6697 - precision: 0.6164 - recall: 0.6406 - val_loss: 0.6437 - val_accuracy: 0.6600 - val_auc: 0.7186 - val_precision: 0.7079 - val_recall: 0.6000\n",
            "Epoch 9/10\n",
            "36/36 [==============================] - ETA: 0s - loss: 0.6588 - accuracy: 0.6140 - auc: 0.6672 - precision: 0.6582 - recall: 0.4626\n",
            "Epoch 9: val_accuracy did not improve from 0.70500\n",
            "36/36 [==============================] - 15s 407ms/step - loss: 0.6588 - accuracy: 0.6140 - auc: 0.6672 - precision: 0.6582 - recall: 0.4626 - val_loss: 0.6398 - val_accuracy: 0.6700 - val_auc: 0.7145 - val_precision: 0.6423 - val_recall: 0.8381\n",
            "Epoch 10/10\n",
            "36/36 [==============================] - ETA: 0s - loss: 0.6577 - accuracy: 0.6104 - auc: 0.6643 - precision: 0.5932 - recall: 0.6851\n",
            "Epoch 10: val_accuracy did not improve from 0.70500\n",
            "36/36 [==============================] - 15s 397ms/step - loss: 0.6577 - accuracy: 0.6104 - auc: 0.6643 - precision: 0.5932 - recall: 0.6851 - val_loss: 0.6379 - val_accuracy: 0.7000 - val_auc: 0.7178 - val_precision: 0.7228 - val_recall: 0.6952\n",
            "7/7 [==============================] - 1s 155ms/step\n"
          ]
        }
      ]
    },
    {
      "cell_type": "code",
      "source": [
        "model3.evaluate(train_datagen.flow(x_train,y_train))\n",
        "model3.evaluate(val_datagen.flow(x_val,y_val))"
      ],
      "metadata": {
        "colab": {
          "base_uri": "https://localhost:8080/"
        },
        "id": "MdONbUhdGt73",
        "outputId": "108f4f58-b46d-4fd6-aeb6-38b49c239cbc"
      },
      "execution_count": null,
      "outputs": [
        {
          "output_type": "stream",
          "name": "stdout",
          "text": [
            "36/36 [==============================] - 14s 367ms/step - loss: 0.6527 - accuracy: 0.6537 - auc: 0.6963 - precision: 0.6412 - recall: 0.6868\n",
            "7/7 [==============================] - 2s 295ms/step - loss: 0.6477 - accuracy: 0.6900 - auc: 0.7220 - precision: 0.7172 - recall: 0.6762\n"
          ]
        },
        {
          "output_type": "execute_result",
          "data": {
            "text/plain": [
              "[0.6476667523384094,\n",
              " 0.6899999976158142,\n",
              " 0.7220050096511841,\n",
              " 0.7171717286109924,\n",
              " 0.6761904954910278]"
            ]
          },
          "metadata": {},
          "execution_count": 34
        }
      ]
    },
    {
      "cell_type": "code",
      "source": [
        "y_predict3_2=model3.predict(x_test)\n",
        "Y_predict3_2=np.float32(y_predict3_2>0.50)\n",
        "l=len(y_test)\n",
        "Y_predict3_2=np.reshape(Y_predict3_2,(l,1))\n",
        "print(Y_predict3_2)"
      ],
      "metadata": {
        "colab": {
          "base_uri": "https://localhost:8080/"
        },
        "id": "NSoLZc4ZG7Q_",
        "outputId": "c41ec70a-953a-4736-9d7c-c6a455e242bd"
      },
      "execution_count": null,
      "outputs": [
        {
          "output_type": "stream",
          "name": "stdout",
          "text": [
            "5/5 [==============================] - 1s 148ms/step\n",
            "[[0.]\n",
            " [1.]\n",
            " [1.]\n",
            " [0.]\n",
            " [1.]\n",
            " [1.]\n",
            " [0.]\n",
            " [1.]\n",
            " [0.]\n",
            " [1.]\n",
            " [0.]\n",
            " [1.]\n",
            " [1.]\n",
            " [0.]\n",
            " [1.]\n",
            " [1.]\n",
            " [0.]\n",
            " [1.]\n",
            " [0.]\n",
            " [0.]\n",
            " [1.]\n",
            " [0.]\n",
            " [0.]\n",
            " [1.]\n",
            " [1.]\n",
            " [0.]\n",
            " [1.]\n",
            " [1.]\n",
            " [1.]\n",
            " [1.]\n",
            " [1.]\n",
            " [0.]\n",
            " [0.]\n",
            " [0.]\n",
            " [1.]\n",
            " [1.]\n",
            " [1.]\n",
            " [1.]\n",
            " [1.]\n",
            " [1.]\n",
            " [1.]\n",
            " [0.]\n",
            " [1.]\n",
            " [1.]\n",
            " [1.]\n",
            " [1.]\n",
            " [0.]\n",
            " [1.]\n",
            " [1.]\n",
            " [1.]\n",
            " [0.]\n",
            " [0.]\n",
            " [1.]\n",
            " [0.]\n",
            " [1.]\n",
            " [1.]\n",
            " [1.]\n",
            " [1.]\n",
            " [1.]\n",
            " [0.]\n",
            " [1.]\n",
            " [1.]\n",
            " [0.]\n",
            " [1.]\n",
            " [0.]\n",
            " [0.]\n",
            " [1.]\n",
            " [1.]\n",
            " [0.]\n",
            " [0.]\n",
            " [0.]\n",
            " [1.]\n",
            " [1.]\n",
            " [1.]\n",
            " [1.]\n",
            " [0.]\n",
            " [1.]\n",
            " [1.]\n",
            " [1.]\n",
            " [1.]\n",
            " [1.]\n",
            " [1.]\n",
            " [1.]\n",
            " [0.]\n",
            " [0.]\n",
            " [0.]\n",
            " [1.]\n",
            " [0.]\n",
            " [1.]\n",
            " [1.]\n",
            " [1.]\n",
            " [0.]\n",
            " [1.]\n",
            " [0.]\n",
            " [0.]\n",
            " [0.]\n",
            " [0.]\n",
            " [0.]\n",
            " [1.]\n",
            " [1.]\n",
            " [0.]\n",
            " [1.]\n",
            " [1.]\n",
            " [1.]\n",
            " [0.]\n",
            " [1.]\n",
            " [0.]\n",
            " [1.]\n",
            " [1.]\n",
            " [1.]\n",
            " [1.]\n",
            " [1.]\n",
            " [1.]\n",
            " [0.]\n",
            " [1.]\n",
            " [1.]\n",
            " [0.]\n",
            " [1.]\n",
            " [1.]\n",
            " [1.]\n",
            " [0.]\n",
            " [1.]\n",
            " [1.]\n",
            " [1.]\n",
            " [0.]\n",
            " [1.]\n",
            " [1.]\n",
            " [1.]\n",
            " [1.]\n",
            " [1.]\n",
            " [0.]\n",
            " [0.]\n",
            " [1.]\n",
            " [1.]\n",
            " [1.]\n",
            " [1.]\n",
            " [0.]\n",
            " [0.]\n",
            " [0.]\n",
            " [1.]\n",
            " [1.]\n",
            " [1.]\n",
            " [0.]\n",
            " [1.]\n",
            " [1.]\n",
            " [0.]\n",
            " [0.]\n",
            " [0.]]\n"
          ]
        }
      ]
    },
    {
      "cell_type": "code",
      "source": [
        "from sklearn.metrics import auc,roc_curve\n",
        "from sklearn.metrics import f1_score\n",
        "from sklearn.metrics import cohen_kappa_score\n",
        "from sklearn.metrics import accuracy_score\n",
        "f13 = f1_score(y_test, Y_predict3_2)\n",
        "test_accuracy3 = accuracy_score(y_test, Y_predict3_2)\n",
        "kappa3 = cohen_kappa_score(y_test, Y_predict3_2)\n",
        "auc3 = roc_auc_score(y_test, Y_predict3_2)"
      ],
      "metadata": {
        "id": "w5S9UorZHQcx"
      },
      "execution_count": null,
      "outputs": []
    },
    {
      "cell_type": "code",
      "source": [
        "print(auc3)\n",
        "print(f13)\n",
        "print(kappa3)\n",
        "print(test_accuracy3)"
      ],
      "metadata": {
        "colab": {
          "base_uri": "https://localhost:8080/"
        },
        "id": "b6LRHnIjHdEW",
        "outputId": "80b6878c-48b3-42b0-ade5-8bacb2e1886b"
      },
      "execution_count": null,
      "outputs": [
        {
          "output_type": "stream",
          "name": "stdout",
          "text": [
            "0.6856714178544636\n",
            "0.7555555555555555\n",
            "0.37815126050420167\n",
            "0.7027027027027027\n"
          ]
        }
      ]
    },
    {
      "cell_type": "markdown",
      "source": [
        "# InceptionResNetV2"
      ],
      "metadata": {
        "id": "mSyJtPj75etm"
      }
    },
    {
      "cell_type": "code",
      "source": [
        "base_model4 = tf.keras.applications.InceptionResNetV2(\n",
        "    weights='imagenet',\n",
        "    input_shape=(224, 224, 3),\n",
        "    include_top=False)\n",
        "base_model4.trainable = False\n",
        "inputs = tf.keras.Input(shape=(224, 224, 3))\n",
        "x4 = base_model4(inputs, training=False)\n",
        "x4 = tf.keras.layers.GlobalAveragePooling2D()(x4)\n",
        "x4 = tf.keras.layers.Dropout(0.2)(x4)\n",
        "x4 = tf.keras.layers.Dense(1)(x4)\n",
        "outputs=tf.keras.layers.Activation(activation='sigmoid')(x4)\n",
        "model4 = tf.keras.Model(inputs, outputs)\n",
        "model4.summary()"
      ],
      "metadata": {
        "id": "G-ID0CiT5i9N",
        "colab": {
          "base_uri": "https://localhost:8080/"
        },
        "outputId": "870a7fa7-58c8-491f-c3a4-d098efbaf256"
      },
      "execution_count": null,
      "outputs": [
        {
          "output_type": "stream",
          "name": "stdout",
          "text": [
            "Model: \"model\"\n",
            "_________________________________________________________________\n",
            " Layer (type)                Output Shape              Param #   \n",
            "=================================================================\n",
            " input_2 (InputLayer)        [(None, 224, 224, 3)]     0         \n",
            "                                                                 \n",
            " inception_resnet_v2 (Functi  (None, 5, 5, 1536)       54336736  \n",
            " onal)                                                           \n",
            "                                                                 \n",
            " global_average_pooling2d (G  (None, 1536)             0         \n",
            " lobalAveragePooling2D)                                          \n",
            "                                                                 \n",
            " dropout (Dropout)           (None, 1536)              0         \n",
            "                                                                 \n",
            " dense (Dense)               (None, 1)                 1537      \n",
            "                                                                 \n",
            " activation_203 (Activation)  (None, 1)                0         \n",
            "                                                                 \n",
            "=================================================================\n",
            "Total params: 54,338,273\n",
            "Trainable params: 1,537\n",
            "Non-trainable params: 54,336,736\n",
            "_________________________________________________________________\n"
          ]
        }
      ]
    },
    {
      "cell_type": "code",
      "source": [
        "model4.compile(loss='binary_crossentropy',\n",
        "              optimizer='adam',\n",
        "              metrics=['accuracy','AUC','Precision','Recall'])"
      ],
      "metadata": {
        "id": "tEpddZ-1FvdS"
      },
      "execution_count": null,
      "outputs": []
    },
    {
      "cell_type": "code",
      "source": [
        "from tensorflow.keras.callbacks import ModelCheckpoint, EarlyStopping\n",
        "es=EarlyStopping(patience=3,monitor='val_loss')\n",
        "filepath='best_model.h54'\n",
        "checkpoint = ModelCheckpoint(filepath, monitor='val_accuracy', verbose=1, save_best_only=True, mode='max')"
      ],
      "metadata": {
        "id": "rv4qY0GGGJaX"
      },
      "execution_count": null,
      "outputs": []
    },
    {
      "cell_type": "code",
      "source": [
        "for j,(train_idx,val_idx) in enumerate(folds):\n",
        "    print(\"Fold \"+str(j+1))\n",
        "\n",
        "    x_train=X_dataset[train_idx]\n",
        "    y_train=Y_dataset[train_idx]\n",
        "    x_val=X_dataset[val_idx]\n",
        "    y_val=Y_dataset[val_idx]\n",
        "    history=model4.fit(train_datagen.flow(x_train,y_train),epochs=10,validation_data=(x_val,y_val),callbacks=checkpoint)\n",
        "    y_predict4_1=model4.predict(x_val)\n",
        "    Y_predict4_1=np.float32(y_predict4_1>0.50)\n",
        "    l=len(y_val)\n",
        "    Y_predict4_1=np.reshape(Y_predict4_1,(l,1))"
      ],
      "metadata": {
        "colab": {
          "base_uri": "https://localhost:8080/"
        },
        "id": "zeNPHibNGWO0",
        "outputId": "e9e4c7d8-db59-4062-8ccc-5c2d2e92f80f"
      },
      "execution_count": null,
      "outputs": [
        {
          "output_type": "stream",
          "name": "stdout",
          "text": [
            "Fold 1\n",
            "Epoch 1/10\n",
            "36/36 [==============================] - ETA: 0s - loss: 0.7662 - accuracy: 0.5327 - auc: 0.5353 - precision: 0.5325 - recall: 0.5485\n",
            "Epoch 1: val_accuracy improved from -inf to 0.63000, saving model to best_model.h54\n"
          ]
        },
        {
          "output_type": "stream",
          "name": "stderr",
          "text": [
            "WARNING:absl:Found untraced functions such as _jit_compiled_convolution_op, _jit_compiled_convolution_op, _jit_compiled_convolution_op, _jit_compiled_convolution_op, _jit_compiled_convolution_op while saving (showing 5 of 244). These functions will not be directly callable after loading.\n"
          ]
        },
        {
          "output_type": "stream",
          "name": "stdout",
          "text": [
            "\b\b\b\b\b\b\b\b\b\b\b\b\b\b\b\b\b\b\b\b\b\b\b\b\b\b\b\b\b\b\b\b\b\b\b\b\b\b\b\b\b\b\b\b\b\b\b\b\b\b\b\b\b\b\b\b\b\b\b\b\b\b\b\b\b\b\b\b\b\b\b\b\b\b\b\b\b\b\b\b\b\b\b\b\b\b\b\b\b\b\b\b\b\b\b\b\b\b\b\b\b\b\b\b\b\b\b\b\b\b\b\b\b\b\b\b\b\b\b\b\b\b\b\b\b\b\b\b\b\b\b\b\b\r36/36 [==============================] - 121s 3s/step - loss: 0.7662 - accuracy: 0.5327 - auc: 0.5353 - precision: 0.5325 - recall: 0.5485 - val_loss: 0.6245 - val_accuracy: 0.6300 - val_auc: 0.7118 - val_precision: 0.6083 - val_recall: 0.7300\n",
            "Epoch 2/10\n",
            "36/36 [==============================] - ETA: 0s - loss: 0.7021 - accuracy: 0.5892 - auc: 0.6315 - precision: 0.5927 - recall: 0.5750\n",
            "Epoch 2: val_accuracy did not improve from 0.63000\n",
            "36/36 [==============================] - 15s 403ms/step - loss: 0.7021 - accuracy: 0.5892 - auc: 0.6315 - precision: 0.5927 - recall: 0.5750 - val_loss: 0.6552 - val_accuracy: 0.6150 - val_auc: 0.7699 - val_precision: 0.5732 - val_recall: 0.9000\n",
            "Epoch 3/10\n",
            "36/36 [==============================] - ETA: 0s - loss: 0.6837 - accuracy: 0.6051 - auc: 0.6496 - precision: 0.6007 - recall: 0.6314\n",
            "Epoch 3: val_accuracy improved from 0.63000 to 0.70500, saving model to best_model.h54\n"
          ]
        },
        {
          "output_type": "stream",
          "name": "stderr",
          "text": [
            "WARNING:absl:Found untraced functions such as _jit_compiled_convolution_op, _jit_compiled_convolution_op, _jit_compiled_convolution_op, _jit_compiled_convolution_op, _jit_compiled_convolution_op while saving (showing 5 of 244). These functions will not be directly callable after loading.\n"
          ]
        },
        {
          "output_type": "stream",
          "name": "stdout",
          "text": [
            "\b\b\b\b\b\b\b\b\b\b\b\b\b\b\b\b\b\b\b\b\b\b\b\b\b\b\b\b\b\b\b\b\b\b\b\b\b\b\b\b\b\b\b\b\b\b\b\b\b\b\b\b\b\b\b\b\b\b\b\b\b\b\b\b\b\b\b\b\b\b\b\b\b\b\b\b\b\b\b\b\b\b\b\b\b\b\b\b\b\b\b\b\b\b\b\b\b\b\b\b\b\b\b\b\b\b\b\b\b\b\b\b\b\b\b\b\b\b\b\b\b\b\b\b\b\b\b\b\b\b\b\b\b\r36/36 [==============================] - 96s 3s/step - loss: 0.6837 - accuracy: 0.6051 - auc: 0.6496 - precision: 0.6007 - recall: 0.6314 - val_loss: 0.5711 - val_accuracy: 0.7050 - val_auc: 0.7772 - val_precision: 0.7303 - val_recall: 0.6500\n",
            "Epoch 4/10\n",
            "36/36 [==============================] - ETA: 0s - loss: 0.6826 - accuracy: 0.6007 - auc: 0.6553 - precision: 0.6095 - recall: 0.5644\n",
            "Epoch 4: val_accuracy improved from 0.70500 to 0.72500, saving model to best_model.h54\n"
          ]
        },
        {
          "output_type": "stream",
          "name": "stderr",
          "text": [
            "WARNING:absl:Found untraced functions such as _jit_compiled_convolution_op, _jit_compiled_convolution_op, _jit_compiled_convolution_op, _jit_compiled_convolution_op, _jit_compiled_convolution_op while saving (showing 5 of 244). These functions will not be directly callable after loading.\n"
          ]
        },
        {
          "output_type": "stream",
          "name": "stdout",
          "text": [
            "\b\b\b\b\b\b\b\b\b\b\b\b\b\b\b\b\b\b\b\b\b\b\b\b\b\b\b\b\b\b\b\b\b\b\b\b\b\b\b\b\b\b\b\b\b\b\b\b\b\b\b\b\b\b\b\b\b\b\b\b\b\b\b\b\b\b\b\b\b\b\b\b\b\b\b\b\b\b\b\b\b\b\b\b\b\b\b\b\b\b\b\b\b\b\b\b\b\b\b\b\b\b\b\b\b\b\b\b\b\b\b\b\b\b\b\b\b\b\b\b\b\b\b\b\b\b\b\b\b\b\b\b\b\r36/36 [==============================] - 97s 3s/step - loss: 0.6826 - accuracy: 0.6007 - auc: 0.6553 - precision: 0.6095 - recall: 0.5644 - val_loss: 0.5613 - val_accuracy: 0.7250 - val_auc: 0.8029 - val_precision: 0.6800 - val_recall: 0.8500\n",
            "Epoch 5/10\n",
            "36/36 [==============================] - ETA: 0s - loss: 0.6497 - accuracy: 0.6343 - auc: 0.6810 - precision: 0.6340 - recall: 0.6384\n",
            "Epoch 5: val_accuracy did not improve from 0.72500\n",
            "36/36 [==============================] - 15s 409ms/step - loss: 0.6497 - accuracy: 0.6343 - auc: 0.6810 - precision: 0.6340 - recall: 0.6384 - val_loss: 0.5745 - val_accuracy: 0.7100 - val_auc: 0.8142 - val_precision: 0.6544 - val_recall: 0.8900\n",
            "Epoch 6/10\n",
            "36/36 [==============================] - ETA: 0s - loss: 0.6267 - accuracy: 0.6608 - auc: 0.7153 - precision: 0.6591 - recall: 0.6684\n",
            "Epoch 6: val_accuracy improved from 0.72500 to 0.73500, saving model to best_model.h54\n"
          ]
        },
        {
          "output_type": "stream",
          "name": "stderr",
          "text": [
            "WARNING:absl:Found untraced functions such as _jit_compiled_convolution_op, _jit_compiled_convolution_op, _jit_compiled_convolution_op, _jit_compiled_convolution_op, _jit_compiled_convolution_op while saving (showing 5 of 244). These functions will not be directly callable after loading.\n"
          ]
        },
        {
          "output_type": "stream",
          "name": "stdout",
          "text": [
            "\b\b\b\b\b\b\b\b\b\b\b\b\b\b\b\b\b\b\b\b\b\b\b\b\b\b\b\b\b\b\b\b\b\b\b\b\b\b\b\b\b\b\b\b\b\b\b\b\b\b\b\b\b\b\b\b\b\b\b\b\b\b\b\b\b\b\b\b\b\b\b\b\b\b\b\b\b\b\b\b\b\b\b\b\b\b\b\b\b\b\b\b\b\b\b\b\b\b\b\b\b\b\b\b\b\b\b\b\b\b\b\b\b\b\b\b\b\b\b\b\b\b\b\b\b\b\b\b\b\b\b\b\b\r36/36 [==============================] - 98s 3s/step - loss: 0.6267 - accuracy: 0.6608 - auc: 0.7153 - precision: 0.6591 - recall: 0.6684 - val_loss: 0.5348 - val_accuracy: 0.7350 - val_auc: 0.8177 - val_precision: 0.7043 - val_recall: 0.8100\n",
            "Epoch 7/10\n",
            "36/36 [==============================] - ETA: 0s - loss: 0.6171 - accuracy: 0.6634 - auc: 0.7213 - precision: 0.6667 - recall: 0.6561\n",
            "Epoch 7: val_accuracy did not improve from 0.73500\n",
            "36/36 [==============================] - 15s 408ms/step - loss: 0.6171 - accuracy: 0.6634 - auc: 0.7213 - precision: 0.6667 - recall: 0.6561 - val_loss: 0.5731 - val_accuracy: 0.7050 - val_auc: 0.8256 - val_precision: 0.6454 - val_recall: 0.9100\n",
            "Epoch 8/10\n",
            "36/36 [==============================] - ETA: 0s - loss: 0.5991 - accuracy: 0.6714 - auc: 0.7393 - precision: 0.6644 - recall: 0.6949\n",
            "Epoch 8: val_accuracy improved from 0.73500 to 0.75500, saving model to best_model.h54\n"
          ]
        },
        {
          "output_type": "stream",
          "name": "stderr",
          "text": [
            "WARNING:absl:Found untraced functions such as _jit_compiled_convolution_op, _jit_compiled_convolution_op, _jit_compiled_convolution_op, _jit_compiled_convolution_op, _jit_compiled_convolution_op while saving (showing 5 of 244). These functions will not be directly callable after loading.\n"
          ]
        },
        {
          "output_type": "stream",
          "name": "stdout",
          "text": [
            "\b\b\b\b\b\b\b\b\b\b\b\b\b\b\b\b\b\b\b\b\b\b\b\b\b\b\b\b\b\b\b\b\b\b\b\b\b\b\b\b\b\b\b\b\b\b\b\b\b\b\b\b\b\b\b\b\b\b\b\b\b\b\b\b\b\b\b\b\b\b\b\b\b\b\b\b\b\b\b\b\b\b\b\b\b\b\b\b\b\b\b\b\b\b\b\b\b\b\b\b\b\b\b\b\b\b\b\b\b\b\b\b\b\b\b\b\b\b\b\b\b\b\b\b\b\b\b\b\b\b\b\b\b\r36/36 [==============================] - 97s 3s/step - loss: 0.5991 - accuracy: 0.6714 - auc: 0.7393 - precision: 0.6644 - recall: 0.6949 - val_loss: 0.5133 - val_accuracy: 0.7550 - val_auc: 0.8335 - val_precision: 0.7339 - val_recall: 0.8000\n",
            "Epoch 9/10\n",
            "36/36 [==============================] - ETA: 0s - loss: 0.6092 - accuracy: 0.6511 - auc: 0.7312 - precision: 0.6519 - recall: 0.6508\n",
            "Epoch 9: val_accuracy improved from 0.75500 to 0.76500, saving model to best_model.h54\n"
          ]
        },
        {
          "output_type": "stream",
          "name": "stderr",
          "text": [
            "WARNING:absl:Found untraced functions such as _jit_compiled_convolution_op, _jit_compiled_convolution_op, _jit_compiled_convolution_op, _jit_compiled_convolution_op, _jit_compiled_convolution_op while saving (showing 5 of 244). These functions will not be directly callable after loading.\n"
          ]
        },
        {
          "output_type": "stream",
          "name": "stdout",
          "text": [
            "\b\b\b\b\b\b\b\b\b\b\b\b\b\b\b\b\b\b\b\b\b\b\b\b\b\b\b\b\b\b\b\b\b\b\b\b\b\b\b\b\b\b\b\b\b\b\b\b\b\b\b\b\b\b\b\b\b\b\b\b\b\b\b\b\b\b\b\b\b\b\b\b\b\b\b\b\b\b\b\b\b\b\b\b\b\b\b\b\b\b\b\b\b\b\b\b\b\b\b\b\b\b\b\b\b\b\b\b\b\b\b\b\b\b\b\b\b\b\b\b\b\b\b\b\b\b\b\b\b\b\b\b\b\r36/36 [==============================] - 96s 3s/step - loss: 0.6092 - accuracy: 0.6511 - auc: 0.7312 - precision: 0.6519 - recall: 0.6508 - val_loss: 0.5129 - val_accuracy: 0.7650 - val_auc: 0.8339 - val_precision: 0.7732 - val_recall: 0.7500\n",
            "Epoch 10/10\n",
            "36/36 [==============================] - ETA: 0s - loss: 0.5708 - accuracy: 0.6996 - auc: 0.7713 - precision: 0.6947 - recall: 0.7143\n",
            "Epoch 10: val_accuracy did not improve from 0.76500\n",
            "36/36 [==============================] - 15s 410ms/step - loss: 0.5708 - accuracy: 0.6996 - auc: 0.7713 - precision: 0.6947 - recall: 0.7143 - val_loss: 0.5070 - val_accuracy: 0.7500 - val_auc: 0.8427 - val_precision: 0.7155 - val_recall: 0.8300\n",
            "7/7 [==============================] - 5s 178ms/step\n",
            "Fold 2\n",
            "Epoch 1/10\n",
            "36/36 [==============================] - ETA: 0s - loss: 0.5786 - accuracy: 0.6837 - auc: 0.7632 - precision: 0.6835 - recall: 0.6762\n",
            "Epoch 1: val_accuracy improved from 0.76500 to 0.79000, saving model to best_model.h54\n"
          ]
        },
        {
          "output_type": "stream",
          "name": "stderr",
          "text": [
            "WARNING:absl:Found untraced functions such as _jit_compiled_convolution_op, _jit_compiled_convolution_op, _jit_compiled_convolution_op, _jit_compiled_convolution_op, _jit_compiled_convolution_op while saving (showing 5 of 244). These functions will not be directly callable after loading.\n"
          ]
        },
        {
          "output_type": "stream",
          "name": "stdout",
          "text": [
            "\b\b\b\b\b\b\b\b\b\b\b\b\b\b\b\b\b\b\b\b\b\b\b\b\b\b\b\b\b\b\b\b\b\b\b\b\b\b\b\b\b\b\b\b\b\b\b\b\b\b\b\b\b\b\b\b\b\b\b\b\b\b\b\b\b\b\b\b\b\b\b\b\b\b\b\b\b\b\b\b\b\b\b\b\b\b\b\b\b\b\b\b\b\b\b\b\b\b\b\b\b\b\b\b\b\b\b\b\b\b\b\b\b\b\b\b\b\b\b\b\b\b\b\b\b\b\b\b\b\b\b\b\b\r36/36 [==============================] - 97s 3s/step - loss: 0.5786 - accuracy: 0.6837 - auc: 0.7632 - precision: 0.6835 - recall: 0.6762 - val_loss: 0.4826 - val_accuracy: 0.7900 - val_auc: 0.8622 - val_precision: 0.7890 - val_recall: 0.8190\n",
            "Epoch 2/10\n",
            "36/36 [==============================] - ETA: 0s - loss: 0.5601 - accuracy: 0.6970 - auc: 0.7785 - precision: 0.6885 - recall: 0.7117\n",
            "Epoch 2: val_accuracy did not improve from 0.79000\n",
            "36/36 [==============================] - 15s 409ms/step - loss: 0.5601 - accuracy: 0.6970 - auc: 0.7785 - precision: 0.6885 - recall: 0.7117 - val_loss: 0.4750 - val_accuracy: 0.7800 - val_auc: 0.8642 - val_precision: 0.7748 - val_recall: 0.8190\n",
            "Epoch 3/10\n",
            "36/36 [==============================] - ETA: 0s - loss: 0.5591 - accuracy: 0.7032 - auc: 0.7816 - precision: 0.6989 - recall: 0.7064\n",
            "Epoch 3: val_accuracy did not improve from 0.79000\n",
            "36/36 [==============================] - 15s 414ms/step - loss: 0.5591 - accuracy: 0.7032 - auc: 0.7816 - precision: 0.6989 - recall: 0.7064 - val_loss: 0.4697 - val_accuracy: 0.7800 - val_auc: 0.8740 - val_precision: 0.7607 - val_recall: 0.8476\n",
            "Epoch 4/10\n",
            "36/36 [==============================] - ETA: 0s - loss: 0.5485 - accuracy: 0.7288 - auc: 0.7978 - precision: 0.7217 - recall: 0.7384\n",
            "Epoch 4: val_accuracy did not improve from 0.79000\n",
            "36/36 [==============================] - 15s 405ms/step - loss: 0.5485 - accuracy: 0.7288 - auc: 0.7978 - precision: 0.7217 - recall: 0.7384 - val_loss: 0.4623 - val_accuracy: 0.7800 - val_auc: 0.8713 - val_precision: 0.7652 - val_recall: 0.8381\n",
            "Epoch 5/10\n",
            "36/36 [==============================] - ETA: 0s - loss: 0.5698 - accuracy: 0.6970 - auc: 0.7765 - precision: 0.6918 - recall: 0.7028\n",
            "Epoch 5: val_accuracy did not improve from 0.79000\n",
            "36/36 [==============================] - 15s 403ms/step - loss: 0.5698 - accuracy: 0.6970 - auc: 0.7765 - precision: 0.6918 - recall: 0.7028 - val_loss: 0.4654 - val_accuracy: 0.7800 - val_auc: 0.8773 - val_precision: 0.7563 - val_recall: 0.8571\n",
            "Epoch 6/10\n",
            "36/36 [==============================] - ETA: 0s - loss: 0.5633 - accuracy: 0.7120 - auc: 0.7788 - precision: 0.7092 - recall: 0.7117\n",
            "Epoch 6: val_accuracy did not improve from 0.79000\n",
            "36/36 [==============================] - 15s 408ms/step - loss: 0.5633 - accuracy: 0.7120 - auc: 0.7788 - precision: 0.7092 - recall: 0.7117 - val_loss: 0.4557 - val_accuracy: 0.7800 - val_auc: 0.8801 - val_precision: 0.7607 - val_recall: 0.8476\n",
            "Epoch 7/10\n",
            "36/36 [==============================] - ETA: 0s - loss: 0.5453 - accuracy: 0.7200 - auc: 0.7966 - precision: 0.7087 - recall: 0.7402\n",
            "Epoch 7: val_accuracy improved from 0.79000 to 0.79500, saving model to best_model.h54\n"
          ]
        },
        {
          "output_type": "stream",
          "name": "stderr",
          "text": [
            "WARNING:absl:Found untraced functions such as _jit_compiled_convolution_op, _jit_compiled_convolution_op, _jit_compiled_convolution_op, _jit_compiled_convolution_op, _jit_compiled_convolution_op while saving (showing 5 of 244). These functions will not be directly callable after loading.\n"
          ]
        },
        {
          "output_type": "stream",
          "name": "stdout",
          "text": [
            "\b\b\b\b\b\b\b\b\b\b\b\b\b\b\b\b\b\b\b\b\b\b\b\b\b\b\b\b\b\b\b\b\b\b\b\b\b\b\b\b\b\b\b\b\b\b\b\b\b\b\b\b\b\b\b\b\b\b\b\b\b\b\b\b\b\b\b\b\b\b\b\b\b\b\b\b\b\b\b\b\b\b\b\b\b\b\b\b\b\b\b\b\b\b\b\b\b\b\b\b\b\b\b\b\b\b\b\b\b\b\b\b\b\b\b\b\b\b\b\b\b\b\b\b\b\b\b\b\b\b\b\b\b\r36/36 [==============================] - 97s 3s/step - loss: 0.5453 - accuracy: 0.7200 - auc: 0.7966 - precision: 0.7087 - recall: 0.7402 - val_loss: 0.4634 - val_accuracy: 0.7950 - val_auc: 0.8782 - val_precision: 0.8200 - val_recall: 0.7810\n",
            "Epoch 8/10\n",
            "36/36 [==============================] - ETA: 0s - loss: 0.5437 - accuracy: 0.7244 - auc: 0.7967 - precision: 0.7201 - recall: 0.7278\n",
            "Epoch 8: val_accuracy improved from 0.79500 to 0.80000, saving model to best_model.h54\n"
          ]
        },
        {
          "output_type": "stream",
          "name": "stderr",
          "text": [
            "WARNING:absl:Found untraced functions such as _jit_compiled_convolution_op, _jit_compiled_convolution_op, _jit_compiled_convolution_op, _jit_compiled_convolution_op, _jit_compiled_convolution_op while saving (showing 5 of 244). These functions will not be directly callable after loading.\n"
          ]
        },
        {
          "output_type": "stream",
          "name": "stdout",
          "text": [
            "\b\b\b\b\b\b\b\b\b\b\b\b\b\b\b\b\b\b\b\b\b\b\b\b\b\b\b\b\b\b\b\b\b\b\b\b\b\b\b\b\b\b\b\b\b\b\b\b\b\b\b\b\b\b\b\b\b\b\b\b\b\b\b\b\b\b\b\b\b\b\b\b\b\b\b\b\b\b\b\b\b\b\b\b\b\b\b\b\b\b\b\b\b\b\b\b\b\b\b\b\b\b\b\b\b\b\b\b\b\b\b\b\b\b\b\b\b\b\b\b\b\b\b\b\b\b\b\b\b\b\b\b\b\r36/36 [==============================] - 98s 3s/step - loss: 0.5437 - accuracy: 0.7244 - auc: 0.7967 - precision: 0.7201 - recall: 0.7278 - val_loss: 0.4635 - val_accuracy: 0.8000 - val_auc: 0.8851 - val_precision: 0.8351 - val_recall: 0.7714\n",
            "Epoch 9/10\n",
            "36/36 [==============================] - ETA: 0s - loss: 0.5382 - accuracy: 0.7226 - auc: 0.8043 - precision: 0.7102 - recall: 0.7456\n",
            "Epoch 9: val_accuracy improved from 0.80000 to 0.82000, saving model to best_model.h54\n"
          ]
        },
        {
          "output_type": "stream",
          "name": "stderr",
          "text": [
            "WARNING:absl:Found untraced functions such as _jit_compiled_convolution_op, _jit_compiled_convolution_op, _jit_compiled_convolution_op, _jit_compiled_convolution_op, _jit_compiled_convolution_op while saving (showing 5 of 244). These functions will not be directly callable after loading.\n"
          ]
        },
        {
          "output_type": "stream",
          "name": "stdout",
          "text": [
            "\b\b\b\b\b\b\b\b\b\b\b\b\b\b\b\b\b\b\b\b\b\b\b\b\b\b\b\b\b\b\b\b\b\b\b\b\b\b\b\b\b\b\b\b\b\b\b\b\b\b\b\b\b\b\b\b\b\b\b\b\b\b\b\b\b\b\b\b\b\b\b\b\b\b\b\b\b\b\b\b\b\b\b\b\b\b\b\b\b\b\b\b\b\b\b\b\b\b\b\b\b\b\b\b\b\b\b\b\b\b\b\b\b\b\b\b\b\b\b\b\b\b\b\b\b\b\b\b\b\b\b\b\b\r36/36 [==============================] - 97s 3s/step - loss: 0.5382 - accuracy: 0.7226 - auc: 0.8043 - precision: 0.7102 - recall: 0.7456 - val_loss: 0.4490 - val_accuracy: 0.8200 - val_auc: 0.8870 - val_precision: 0.8165 - val_recall: 0.8476\n",
            "Epoch 10/10\n",
            "36/36 [==============================] - ETA: 0s - loss: 0.5345 - accuracy: 0.7155 - auc: 0.8021 - precision: 0.7098 - recall: 0.7224\n",
            "Epoch 10: val_accuracy did not improve from 0.82000\n",
            "36/36 [==============================] - 15s 404ms/step - loss: 0.5345 - accuracy: 0.7155 - auc: 0.8021 - precision: 0.7098 - recall: 0.7224 - val_loss: 0.4465 - val_accuracy: 0.7850 - val_auc: 0.8942 - val_precision: 0.7541 - val_recall: 0.8762\n",
            "7/7 [==============================] - 1s 156ms/step\n"
          ]
        }
      ]
    },
    {
      "cell_type": "code",
      "source": [
        "model4.evaluate(train_datagen.flow(x_train,y_train))\n",
        "model4.evaluate(val_datagen.flow(x_val,y_val))"
      ],
      "metadata": {
        "colab": {
          "base_uri": "https://localhost:8080/"
        },
        "id": "58BSeQu6Gu0-",
        "outputId": "79372df8-6e5e-4352-fba0-fa7a2a167d94"
      },
      "execution_count": null,
      "outputs": [
        {
          "output_type": "stream",
          "name": "stdout",
          "text": [
            "36/36 [==============================] - 18s 364ms/step - loss: 0.4862 - accuracy: 0.7862 - auc: 0.8642 - precision: 0.7556 - recall: 0.8416\n",
            "7/7 [==============================] - 2s 302ms/step - loss: 0.5165 - accuracy: 0.7450 - auc: 0.8167 - precision: 0.7177 - recall: 0.8476\n"
          ]
        },
        {
          "output_type": "execute_result",
          "data": {
            "text/plain": [
              "[0.5164514183998108,\n",
              " 0.7450000047683716,\n",
              " 0.8166917562484741,\n",
              " 0.7177419066429138,\n",
              " 0.8476190567016602]"
            ]
          },
          "metadata": {},
          "execution_count": 20
        }
      ]
    },
    {
      "cell_type": "code",
      "source": [
        "y_predict4_1=model4.predict(x_test)\n",
        "Y_predict4_1=np.float32(y_predict4_1>0.50)\n",
        "l=len(y_test)\n",
        "Y_predict4_1=np.reshape(Y_predict4_1,(l,1))\n",
        "print(Y_predict4_1)"
      ],
      "metadata": {
        "colab": {
          "base_uri": "https://localhost:8080/"
        },
        "id": "Z1OJJJezG8Y7",
        "outputId": "3079cdff-9ad6-4b87-b12f-acda02ae3297"
      },
      "execution_count": null,
      "outputs": [
        {
          "output_type": "stream",
          "name": "stdout",
          "text": [
            "5/5 [==============================] - 2s 423ms/step\n",
            "[[0.]\n",
            " [0.]\n",
            " [1.]\n",
            " [0.]\n",
            " [0.]\n",
            " [1.]\n",
            " [0.]\n",
            " [1.]\n",
            " [0.]\n",
            " [0.]\n",
            " [0.]\n",
            " [1.]\n",
            " [1.]\n",
            " [1.]\n",
            " [0.]\n",
            " [0.]\n",
            " [1.]\n",
            " [1.]\n",
            " [1.]\n",
            " [0.]\n",
            " [0.]\n",
            " [0.]\n",
            " [1.]\n",
            " [1.]\n",
            " [1.]\n",
            " [1.]\n",
            " [1.]\n",
            " [0.]\n",
            " [1.]\n",
            " [1.]\n",
            " [0.]\n",
            " [1.]\n",
            " [1.]\n",
            " [1.]\n",
            " [1.]\n",
            " [1.]\n",
            " [1.]\n",
            " [1.]\n",
            " [0.]\n",
            " [0.]\n",
            " [0.]\n",
            " [1.]\n",
            " [1.]\n",
            " [0.]\n",
            " [1.]\n",
            " [1.]\n",
            " [1.]\n",
            " [1.]\n",
            " [1.]\n",
            " [0.]\n",
            " [1.]\n",
            " [1.]\n",
            " [1.]\n",
            " [1.]\n",
            " [1.]\n",
            " [0.]\n",
            " [1.]\n",
            " [0.]\n",
            " [1.]\n",
            " [0.]\n",
            " [1.]\n",
            " [1.]\n",
            " [1.]\n",
            " [1.]\n",
            " [0.]\n",
            " [1.]\n",
            " [1.]\n",
            " [0.]\n",
            " [1.]\n",
            " [1.]\n",
            " [0.]\n",
            " [1.]\n",
            " [1.]\n",
            " [1.]\n",
            " [1.]\n",
            " [0.]\n",
            " [1.]\n",
            " [1.]\n",
            " [0.]\n",
            " [1.]\n",
            " [1.]\n",
            " [1.]\n",
            " [1.]\n",
            " [0.]\n",
            " [0.]\n",
            " [0.]\n",
            " [1.]\n",
            " [0.]\n",
            " [1.]\n",
            " [0.]\n",
            " [1.]\n",
            " [0.]\n",
            " [0.]\n",
            " [1.]\n",
            " [1.]\n",
            " [0.]\n",
            " [1.]\n",
            " [0.]\n",
            " [1.]\n",
            " [0.]\n",
            " [0.]\n",
            " [0.]\n",
            " [1.]\n",
            " [1.]\n",
            " [1.]\n",
            " [1.]\n",
            " [1.]\n",
            " [1.]\n",
            " [0.]\n",
            " [1.]\n",
            " [0.]\n",
            " [1.]\n",
            " [1.]\n",
            " [1.]\n",
            " [1.]\n",
            " [1.]\n",
            " [1.]\n",
            " [1.]\n",
            " [0.]\n",
            " [0.]\n",
            " [1.]\n",
            " [1.]\n",
            " [1.]\n",
            " [0.]\n",
            " [0.]\n",
            " [1.]\n",
            " [1.]\n",
            " [1.]\n",
            " [0.]\n",
            " [1.]\n",
            " [0.]\n",
            " [1.]\n",
            " [0.]\n",
            " [1.]\n",
            " [1.]\n",
            " [0.]\n",
            " [1.]\n",
            " [0.]\n",
            " [0.]\n",
            " [1.]\n",
            " [1.]\n",
            " [1.]\n",
            " [0.]\n",
            " [1.]\n",
            " [0.]\n",
            " [0.]\n",
            " [1.]\n",
            " [0.]]\n"
          ]
        }
      ]
    },
    {
      "cell_type": "code",
      "source": [
        "from sklearn.metrics import auc,roc_curve\n",
        "from sklearn.metrics import f1_score\n",
        "from sklearn.metrics import cohen_kappa_score\n",
        "from sklearn.metrics import accuracy_score\n",
        "f14 = f1_score(y_test, Y_predict4_1)\n",
        "test_accuracy4 = accuracy_score(y_test, Y_predict4_1)\n",
        "kappa4 = cohen_kappa_score(y_test, Y_predict4_1)\n",
        "auc4 = roc_auc_score(y_test, Y_predict4_1)"
      ],
      "metadata": {
        "id": "y_9aewIDHRZ-"
      },
      "execution_count": null,
      "outputs": []
    },
    {
      "cell_type": "code",
      "source": [
        "print(auc4)\n",
        "print(f14)\n",
        "print(kappa4)\n",
        "print(test_accuracy4)"
      ],
      "metadata": {
        "colab": {
          "base_uri": "https://localhost:8080/"
        },
        "id": "e4CifsxuHeDZ",
        "outputId": "c461d254-cd81-4815-9bd3-8ec54330768c"
      },
      "execution_count": null,
      "outputs": [
        {
          "output_type": "stream",
          "name": "stdout",
          "text": [
            "0.8148558758314856\n",
            "0.8505747126436782\n",
            "0.6391597899474868\n",
            "0.8243243243243243\n"
          ]
        }
      ]
    },
    {
      "cell_type": "markdown",
      "source": [
        "# MobileNet"
      ],
      "metadata": {
        "id": "cIm_iCSKts74"
      }
    },
    {
      "cell_type": "code",
      "source": [
        "from keras.applications import MobileNet\n",
        "base_model5 = tf.keras.applications.mobilenet.MobileNet(\n",
        "    weights='imagenet',\n",
        "    input_shape=(224, 224, 3),\n",
        "    include_top=False)\n",
        "base_model5.trainable = False\n",
        "inputs = tf.keras.Input(shape=(224, 224, 3))\n",
        "x5 = base_model5(inputs, training=False)\n",
        "x5 = tf.keras.layers.GlobalAveragePooling2D()(x5)\n",
        "x5 = tf.keras.layers.Dropout(0.2)(x5)\n",
        "x5 = tf.keras.layers.Dense(1)(x5)\n",
        "outputs=tf.keras.layers.Activation(activation='sigmoid')(x5)\n",
        "model5 = tf.keras.Model(inputs, outputs)\n",
        "model5.summary()"
      ],
      "metadata": {
        "id": "GS793NpAtvqO",
        "colab": {
          "base_uri": "https://localhost:8080/"
        },
        "outputId": "5844bfe0-35d5-488d-a5a5-f431eb850c87"
      },
      "execution_count": null,
      "outputs": [
        {
          "output_type": "stream",
          "name": "stdout",
          "text": [
            "Model: \"model\"\n",
            "_________________________________________________________________\n",
            " Layer (type)                Output Shape              Param #   \n",
            "=================================================================\n",
            " input_2 (InputLayer)        [(None, 224, 224, 3)]     0         \n",
            "                                                                 \n",
            " mobilenet_1.00_224 (Functio  (None, 7, 7, 1024)       3228864   \n",
            " nal)                                                            \n",
            "                                                                 \n",
            " global_average_pooling2d (G  (None, 1024)             0         \n",
            " lobalAveragePooling2D)                                          \n",
            "                                                                 \n",
            " dropout (Dropout)           (None, 1024)              0         \n",
            "                                                                 \n",
            " dense (Dense)               (None, 1)                 1025      \n",
            "                                                                 \n",
            " activation (Activation)     (None, 1)                 0         \n",
            "                                                                 \n",
            "=================================================================\n",
            "Total params: 3,229,889\n",
            "Trainable params: 1,025\n",
            "Non-trainable params: 3,228,864\n",
            "_________________________________________________________________\n"
          ]
        }
      ]
    },
    {
      "cell_type": "code",
      "source": [
        "model5.compile(loss='binary_crossentropy',\n",
        "              optimizer='adam',\n",
        "              metrics=['accuracy','AUC','Precision','Recall'])"
      ],
      "metadata": {
        "id": "-kY__9KdFxFB"
      },
      "execution_count": null,
      "outputs": []
    },
    {
      "cell_type": "code",
      "source": [
        "from tensorflow.keras.callbacks import ModelCheckpoint, EarlyStopping\n",
        "es=EarlyStopping(patience=3,monitor='val_loss')\n",
        "filepath='best_model.h55'\n",
        "checkpoint = ModelCheckpoint(filepath, monitor='val_accuracy', verbose=1, save_best_only=True, mode='max')"
      ],
      "metadata": {
        "id": "YbU44YQBGKQo"
      },
      "execution_count": null,
      "outputs": []
    },
    {
      "cell_type": "code",
      "source": [
        "for j,(train_idx,val_idx) in enumerate(folds):\n",
        "    print(\"Fold \"+str(j+1))\n",
        "\n",
        "    x_train=X_dataset[train_idx]\n",
        "    y_train=Y_dataset[train_idx]\n",
        "    x_val=X_dataset[val_idx]\n",
        "    y_val=Y_dataset[val_idx]\n",
        "    history=model5.fit(train_datagen.flow(x_train,y_train),epochs=10,validation_data=(x_val,y_val),callbacks=checkpoint)\n",
        "    y_predict5_1=model5.predict(x_val)\n",
        "    Y_predict5_1=np.float32(y_predict5_1>0.50)\n",
        "    l=len(y_val)\n",
        "    Y_predict5_1=np.reshape(Y_predict5_1,(l,1))"
      ],
      "metadata": {
        "colab": {
          "base_uri": "https://localhost:8080/"
        },
        "id": "3JqJOQyhGXEP",
        "outputId": "3a601f8b-fb6f-468c-dc61-d6c16ee1475d"
      },
      "execution_count": null,
      "outputs": [
        {
          "output_type": "stream",
          "name": "stdout",
          "text": [
            "Fold 1\n",
            "Epoch 1/10\n",
            "36/36 [==============================] - ETA: 0s - loss: 0.7472 - accuracy: 0.5459 - auc: 0.5779 - precision: 0.5497 - recall: 0.5612\n",
            "Epoch 1: val_accuracy improved from -inf to 0.60500, saving model to best_model.h55\n"
          ]
        },
        {
          "output_type": "stream",
          "name": "stderr",
          "text": [
            "WARNING:absl:Found untraced functions such as _jit_compiled_convolution_op, _jit_compiled_convolution_op, _jit_compiled_convolution_op, _jit_compiled_convolution_op, _jit_compiled_convolution_op while saving (showing 5 of 27). These functions will not be directly callable after loading.\n"
          ]
        },
        {
          "output_type": "stream",
          "name": "stdout",
          "text": [
            "\b\b\b\b\b\b\b\b\b\b\b\b\b\b\b\b\b\b\b\b\b\b\b\b\b\b\b\b\b\b\b\b\b\b\b\b\b\b\b\b\b\b\b\b\b\b\b\b\b\b\b\b\b\b\b\b\b\b\b\b\b\b\b\b\b\b\b\b\b\b\b\b\b\b\b\b\b\b\b\b\b\b\b\b\b\b\b\b\b\b\b\b\b\b\b\b\b\b\b\b\b\b\b\b\b\b\b\b\b\b\b\b\b\b\b\b\b\b\b\b\b\b\b\b\b\b\b\b\b\b\b\b\b\r36/36 [==============================] - 38s 699ms/step - loss: 0.7472 - accuracy: 0.5459 - auc: 0.5779 - precision: 0.5497 - recall: 0.5612 - val_loss: 0.6986 - val_accuracy: 0.6050 - val_auc: 0.6099 - val_precision: 0.5645 - val_recall: 0.7368\n",
            "Epoch 2/10\n",
            "36/36 [==============================] - ETA: 0s - loss: 0.6813 - accuracy: 0.5839 - auc: 0.6396 - precision: 0.5913 - recall: 0.5717\n",
            "Epoch 2: val_accuracy improved from 0.60500 to 0.65500, saving model to best_model.h55\n"
          ]
        },
        {
          "output_type": "stream",
          "name": "stderr",
          "text": [
            "WARNING:absl:Found untraced functions such as _jit_compiled_convolution_op, _jit_compiled_convolution_op, _jit_compiled_convolution_op, _jit_compiled_convolution_op, _jit_compiled_convolution_op while saving (showing 5 of 27). These functions will not be directly callable after loading.\n"
          ]
        },
        {
          "output_type": "stream",
          "name": "stdout",
          "text": [
            "\b\b\b\b\b\b\b\b\b\b\b\b\b\b\b\b\b\b\b\b\b\b\b\b\b\b\b\b\b\b\b\b\b\b\b\b\b\b\b\b\b\b\b\b\b\b\b\b\b\b\b\b\b\b\b\b\b\b\b\b\b\b\b\b\b\b\b\b\b\b\b\b\b\b\b\b\b\b\b\b\b\b\b\b\b\b\b\b\b\b\b\b\b\b\b\b\b\b\b\b\b\b\b\b\b\b\b\b\b\b\b\b\b\b\b\b\b\b\b\b\b\b\b\b\b\b\b\b\b\b\b\b\b\r36/36 [==============================] - 26s 728ms/step - loss: 0.6813 - accuracy: 0.5839 - auc: 0.6396 - precision: 0.5913 - recall: 0.5717 - val_loss: 0.6631 - val_accuracy: 0.6550 - val_auc: 0.6726 - val_precision: 0.6048 - val_recall: 0.7895\n",
            "Epoch 3/10\n",
            "36/36 [==============================] - ETA: 0s - loss: 0.6181 - accuracy: 0.6572 - auc: 0.7166 - precision: 0.6554 - recall: 0.6783\n",
            "Epoch 3: val_accuracy improved from 0.65500 to 0.71500, saving model to best_model.h55\n"
          ]
        },
        {
          "output_type": "stream",
          "name": "stderr",
          "text": [
            "WARNING:absl:Found untraced functions such as _jit_compiled_convolution_op, _jit_compiled_convolution_op, _jit_compiled_convolution_op, _jit_compiled_convolution_op, _jit_compiled_convolution_op while saving (showing 5 of 27). These functions will not be directly callable after loading.\n"
          ]
        },
        {
          "output_type": "stream",
          "name": "stdout",
          "text": [
            "\b\b\b\b\b\b\b\b\b\b\b\b\b\b\b\b\b\b\b\b\b\b\b\b\b\b\b\b\b\b\b\b\b\b\b\b\b\b\b\b\b\b\b\b\b\b\b\b\b\b\b\b\b\b\b\b\b\b\b\b\b\b\b\b\b\b\b\b\b\b\b\b\b\b\b\b\b\b\b\b\b\b\b\b\b\b\b\b\b\b\b\b\b\b\b\b\b\b\b\b\b\b\b\b\b\b\b\b\b\b\b\b\b\b\b\b\b\b\b\b\b\b\b\b\b\b\b\b\b\b\b\b\b\r36/36 [==============================] - 23s 649ms/step - loss: 0.6181 - accuracy: 0.6572 - auc: 0.7166 - precision: 0.6554 - recall: 0.6783 - val_loss: 0.6071 - val_accuracy: 0.7150 - val_auc: 0.7218 - val_precision: 0.6696 - val_recall: 0.7895\n",
            "Epoch 4/10\n",
            "36/36 [==============================] - ETA: 0s - loss: 0.5981 - accuracy: 0.6864 - auc: 0.7417 - precision: 0.7043 - recall: 0.6538\n",
            "Epoch 4: val_accuracy improved from 0.71500 to 0.72500, saving model to best_model.h55\n"
          ]
        },
        {
          "output_type": "stream",
          "name": "stderr",
          "text": [
            "WARNING:absl:Found untraced functions such as _jit_compiled_convolution_op, _jit_compiled_convolution_op, _jit_compiled_convolution_op, _jit_compiled_convolution_op, _jit_compiled_convolution_op while saving (showing 5 of 27). These functions will not be directly callable after loading.\n"
          ]
        },
        {
          "output_type": "stream",
          "name": "stdout",
          "text": [
            "\b\b\b\b\b\b\b\b\b\b\b\b\b\b\b\b\b\b\b\b\b\b\b\b\b\b\b\b\b\b\b\b\b\b\b\b\b\b\b\b\b\b\b\b\b\b\b\b\b\b\b\b\b\b\b\b\b\b\b\b\b\b\b\b\b\b\b\b\b\b\b\b\b\b\b\b\b\b\b\b\b\b\b\b\b\b\b\b\b\b\b\b\b\b\b\b\b\b\b\b\b\b\b\b\b\b\b\b\b\b\b\b\b\b\b\b\b\b\b\b\b\b\b\b\b\b\b\b\b\b\b\b\b\r36/36 [==============================] - 27s 770ms/step - loss: 0.5981 - accuracy: 0.6864 - auc: 0.7417 - precision: 0.7043 - recall: 0.6538 - val_loss: 0.5783 - val_accuracy: 0.7250 - val_auc: 0.7581 - val_precision: 0.6852 - val_recall: 0.7789\n",
            "Epoch 5/10\n",
            "36/36 [==============================] - ETA: 0s - loss: 0.5632 - accuracy: 0.7102 - auc: 0.7780 - precision: 0.7163 - recall: 0.7063\n",
            "Epoch 5: val_accuracy did not improve from 0.72500\n",
            "36/36 [==============================] - 13s 354ms/step - loss: 0.5632 - accuracy: 0.7102 - auc: 0.7780 - precision: 0.7163 - recall: 0.7063 - val_loss: 0.5841 - val_accuracy: 0.7250 - val_auc: 0.7690 - val_precision: 0.6724 - val_recall: 0.8211\n",
            "Epoch 6/10\n",
            "36/36 [==============================] - ETA: 0s - loss: 0.5559 - accuracy: 0.7111 - auc: 0.7873 - precision: 0.7160 - recall: 0.7098\n",
            "Epoch 6: val_accuracy improved from 0.72500 to 0.75000, saving model to best_model.h55\n"
          ]
        },
        {
          "output_type": "stream",
          "name": "stderr",
          "text": [
            "WARNING:absl:Found untraced functions such as _jit_compiled_convolution_op, _jit_compiled_convolution_op, _jit_compiled_convolution_op, _jit_compiled_convolution_op, _jit_compiled_convolution_op while saving (showing 5 of 27). These functions will not be directly callable after loading.\n"
          ]
        },
        {
          "output_type": "stream",
          "name": "stdout",
          "text": [
            "\b\b\b\b\b\b\b\b\b\b\b\b\b\b\b\b\b\b\b\b\b\b\b\b\b\b\b\b\b\b\b\b\b\b\b\b\b\b\b\b\b\b\b\b\b\b\b\b\b\b\b\b\b\b\b\b\b\b\b\b\b\b\b\b\b\b\b\b\b\b\b\b\b\b\b\b\b\b\b\b\b\b\b\b\b\b\b\b\b\b\b\b\b\b\b\b\b\b\b\b\b\b\b\b\b\b\b\b\b\b\b\b\b\b\b\b\b\b\b\b\b\b\b\b\b\b\b\b\b\b\b\b\b\r36/36 [==============================] - 23s 651ms/step - loss: 0.5559 - accuracy: 0.7111 - auc: 0.7873 - precision: 0.7160 - recall: 0.7098 - val_loss: 0.5484 - val_accuracy: 0.7500 - val_auc: 0.7968 - val_precision: 0.7273 - val_recall: 0.7579\n",
            "Epoch 7/10\n",
            "36/36 [==============================] - ETA: 0s - loss: 0.5227 - accuracy: 0.7447 - auc: 0.8233 - precision: 0.7550 - recall: 0.7325\n",
            "Epoch 7: val_accuracy improved from 0.75000 to 0.76500, saving model to best_model.h55\n"
          ]
        },
        {
          "output_type": "stream",
          "name": "stderr",
          "text": [
            "WARNING:absl:Found untraced functions such as _jit_compiled_convolution_op, _jit_compiled_convolution_op, _jit_compiled_convolution_op, _jit_compiled_convolution_op, _jit_compiled_convolution_op while saving (showing 5 of 27). These functions will not be directly callable after loading.\n"
          ]
        },
        {
          "output_type": "stream",
          "name": "stdout",
          "text": [
            "\b\b\b\b\b\b\b\b\b\b\b\b\b\b\b\b\b\b\b\b\b\b\b\b\b\b\b\b\b\b\b\b\b\b\b\b\b\b\b\b\b\b\b\b\b\b\b\b\b\b\b\b\b\b\b\b\b\b\b\b\b\b\b\b\b\b\b\b\b\b\b\b\b\b\b\b\b\b\b\b\b\b\b\b\b\b\b\b\b\b\b\b\b\b\b\b\b\b\b\b\b\b\b\b\b\b\b\b\b\b\b\b\b\b\b\b\b\b\b\b\b\b\b\b\b\b\b\b\b\b\b\b\b\r36/36 [==============================] - 24s 667ms/step - loss: 0.5227 - accuracy: 0.7447 - auc: 0.8233 - precision: 0.7550 - recall: 0.7325 - val_loss: 0.5354 - val_accuracy: 0.7650 - val_auc: 0.8105 - val_precision: 0.7553 - val_recall: 0.7474\n",
            "Epoch 8/10\n",
            "36/36 [==============================] - ETA: 0s - loss: 0.5349 - accuracy: 0.7244 - auc: 0.8047 - precision: 0.7330 - recall: 0.7150\n",
            "Epoch 8: val_accuracy did not improve from 0.76500\n",
            "36/36 [==============================] - 12s 343ms/step - loss: 0.5349 - accuracy: 0.7244 - auc: 0.8047 - precision: 0.7330 - recall: 0.7150 - val_loss: 0.5379 - val_accuracy: 0.7600 - val_auc: 0.8243 - val_precision: 0.7080 - val_recall: 0.8421\n",
            "Epoch 9/10\n",
            "36/36 [==============================] - ETA: 0s - loss: 0.5201 - accuracy: 0.7403 - auc: 0.8201 - precision: 0.7372 - recall: 0.7552\n",
            "Epoch 9: val_accuracy did not improve from 0.76500\n",
            "36/36 [==============================] - 13s 350ms/step - loss: 0.5201 - accuracy: 0.7403 - auc: 0.8201 - precision: 0.7372 - recall: 0.7552 - val_loss: 0.5145 - val_accuracy: 0.7600 - val_auc: 0.8337 - val_precision: 0.7327 - val_recall: 0.7789\n",
            "Epoch 10/10\n",
            "36/36 [==============================] - ETA: 0s - loss: 0.5130 - accuracy: 0.7580 - auc: 0.8285 - precision: 0.7560 - recall: 0.7692\n",
            "Epoch 10: val_accuracy did not improve from 0.76500\n",
            "36/36 [==============================] - 12s 344ms/step - loss: 0.5130 - accuracy: 0.7580 - auc: 0.8285 - precision: 0.7560 - recall: 0.7692 - val_loss: 0.5081 - val_accuracy: 0.7650 - val_auc: 0.8393 - val_precision: 0.7400 - val_recall: 0.7789\n",
            "7/7 [==============================] - 1s 44ms/step\n",
            "Fold 2\n",
            "Epoch 1/10\n",
            "36/36 [==============================] - ETA: 0s - loss: 0.5022 - accuracy: 0.7482 - auc: 0.8370 - precision: 0.7593 - recall: 0.7422\n",
            "Epoch 1: val_accuracy improved from 0.76500 to 0.81000, saving model to best_model.h55\n"
          ]
        },
        {
          "output_type": "stream",
          "name": "stderr",
          "text": [
            "WARNING:absl:Found untraced functions such as _jit_compiled_convolution_op, _jit_compiled_convolution_op, _jit_compiled_convolution_op, _jit_compiled_convolution_op, _jit_compiled_convolution_op while saving (showing 5 of 27). These functions will not be directly callable after loading.\n"
          ]
        },
        {
          "output_type": "stream",
          "name": "stdout",
          "text": [
            "\b\b\b\b\b\b\b\b\b\b\b\b\b\b\b\b\b\b\b\b\b\b\b\b\b\b\b\b\b\b\b\b\b\b\b\b\b\b\b\b\b\b\b\b\b\b\b\b\b\b\b\b\b\b\b\b\b\b\b\b\b\b\b\b\b\b\b\b\b\b\b\b\b\b\b\b\b\b\b\b\b\b\b\b\b\b\b\b\b\b\b\b\b\b\b\b\b\b\b\b\b\b\b\b\b\b\b\b\b\b\b\b\b\b\b\b\b\b\b\b\b\b\b\b\b\b\b\b\b\b\b\b\b\r36/36 [==============================] - 24s 673ms/step - loss: 0.5022 - accuracy: 0.7482 - auc: 0.8370 - precision: 0.7593 - recall: 0.7422 - val_loss: 0.4698 - val_accuracy: 0.8100 - val_auc: 0.8774 - val_precision: 0.7576 - val_recall: 0.8427\n",
            "Epoch 2/10\n",
            "36/36 [==============================] - ETA: 0s - loss: 0.4875 - accuracy: 0.7765 - auc: 0.8515 - precision: 0.7787 - recall: 0.7855\n",
            "Epoch 2: val_accuracy improved from 0.81000 to 0.81500, saving model to best_model.h55\n"
          ]
        },
        {
          "output_type": "stream",
          "name": "stderr",
          "text": [
            "WARNING:absl:Found untraced functions such as _jit_compiled_convolution_op, _jit_compiled_convolution_op, _jit_compiled_convolution_op, _jit_compiled_convolution_op, _jit_compiled_convolution_op while saving (showing 5 of 27). These functions will not be directly callable after loading.\n"
          ]
        },
        {
          "output_type": "stream",
          "name": "stdout",
          "text": [
            "\b\b\b\b\b\b\b\b\b\b\b\b\b\b\b\b\b\b\b\b\b\b\b\b\b\b\b\b\b\b\b\b\b\b\b\b\b\b\b\b\b\b\b\b\b\b\b\b\b\b\b\b\b\b\b\b\b\b\b\b\b\b\b\b\b\b\b\b\b\b\b\b\b\b\b\b\b\b\b\b\b\b\b\b\b\b\b\b\b\b\b\b\b\b\b\b\b\b\b\b\b\b\b\b\b\b\b\b\b\b\b\b\b\b\b\b\b\b\b\b\b\b\b\b\b\b\b\b\b\b\b\b\b\r36/36 [==============================] - 23s 642ms/step - loss: 0.4875 - accuracy: 0.7765 - auc: 0.8515 - precision: 0.7787 - recall: 0.7855 - val_loss: 0.4661 - val_accuracy: 0.8150 - val_auc: 0.8775 - val_precision: 0.7549 - val_recall: 0.8652\n",
            "Epoch 3/10\n",
            "36/36 [==============================] - ETA: 0s - loss: 0.4941 - accuracy: 0.7650 - auc: 0.8436 - precision: 0.7662 - recall: 0.7768\n",
            "Epoch 3: val_accuracy improved from 0.81500 to 0.82000, saving model to best_model.h55\n"
          ]
        },
        {
          "output_type": "stream",
          "name": "stderr",
          "text": [
            "WARNING:absl:Found untraced functions such as _jit_compiled_convolution_op, _jit_compiled_convolution_op, _jit_compiled_convolution_op, _jit_compiled_convolution_op, _jit_compiled_convolution_op while saving (showing 5 of 27). These functions will not be directly callable after loading.\n"
          ]
        },
        {
          "output_type": "stream",
          "name": "stdout",
          "text": [
            "\b\b\b\b\b\b\b\b\b\b\b\b\b\b\b\b\b\b\b\b\b\b\b\b\b\b\b\b\b\b\b\b\b\b\b\b\b\b\b\b\b\b\b\b\b\b\b\b\b\b\b\b\b\b\b\b\b\b\b\b\b\b\b\b\b\b\b\b\b\b\b\b\b\b\b\b\b\b\b\b\b\b\b\b\b\b\b\b\b\b\b\b\b\b\b\b\b\b\b\b\b\b\b\b\b\b\b\b\b\b\b\b\b\b\b\b\b\b\b\b\b\b\b\b\b\b\b\b\b\b\b\b\b\r36/36 [==============================] - 24s 672ms/step - loss: 0.4941 - accuracy: 0.7650 - auc: 0.8436 - precision: 0.7662 - recall: 0.7768 - val_loss: 0.4521 - val_accuracy: 0.8200 - val_auc: 0.8795 - val_precision: 0.7789 - val_recall: 0.8315\n",
            "Epoch 4/10\n",
            "36/36 [==============================] - ETA: 0s - loss: 0.4802 - accuracy: 0.7721 - auc: 0.8530 - precision: 0.7768 - recall: 0.7768\n",
            "Epoch 4: val_accuracy did not improve from 0.82000\n",
            "36/36 [==============================] - 13s 351ms/step - loss: 0.4802 - accuracy: 0.7721 - auc: 0.8530 - precision: 0.7768 - recall: 0.7768 - val_loss: 0.4697 - val_accuracy: 0.8100 - val_auc: 0.8818 - val_precision: 0.7383 - val_recall: 0.8876\n",
            "Epoch 5/10\n",
            "36/36 [==============================] - ETA: 0s - loss: 0.4751 - accuracy: 0.7818 - auc: 0.8602 - precision: 0.7888 - recall: 0.7820\n",
            "Epoch 5: val_accuracy did not improve from 0.82000\n",
            "36/36 [==============================] - 12s 347ms/step - loss: 0.4751 - accuracy: 0.7818 - auc: 0.8602 - precision: 0.7888 - recall: 0.7820 - val_loss: 0.4676 - val_accuracy: 0.8050 - val_auc: 0.8893 - val_precision: 0.7273 - val_recall: 0.8989\n",
            "Epoch 6/10\n",
            "36/36 [==============================] - ETA: 0s - loss: 0.4844 - accuracy: 0.7783 - auc: 0.8485 - precision: 0.7843 - recall: 0.7803\n",
            "Epoch 6: val_accuracy did not improve from 0.82000\n",
            "36/36 [==============================] - 12s 346ms/step - loss: 0.4844 - accuracy: 0.7783 - auc: 0.8485 - precision: 0.7843 - recall: 0.7803 - val_loss: 0.4686 - val_accuracy: 0.7900 - val_auc: 0.8883 - val_precision: 0.7117 - val_recall: 0.8876\n",
            "Epoch 7/10\n",
            "36/36 [==============================] - ETA: 0s - loss: 0.4536 - accuracy: 0.8012 - auc: 0.8718 - precision: 0.8007 - recall: 0.8131\n",
            "Epoch 7: val_accuracy did not improve from 0.82000\n",
            "36/36 [==============================] - 13s 349ms/step - loss: 0.4536 - accuracy: 0.8012 - auc: 0.8718 - precision: 0.8007 - recall: 0.8131 - val_loss: 0.4488 - val_accuracy: 0.8150 - val_auc: 0.8957 - val_precision: 0.7453 - val_recall: 0.8876\n",
            "Epoch 8/10\n",
            "36/36 [==============================] - ETA: 0s - loss: 0.4609 - accuracy: 0.7898 - auc: 0.8693 - precision: 0.7931 - recall: 0.7958\n",
            "Epoch 8: val_accuracy improved from 0.82000 to 0.85000, saving model to best_model.h55\n"
          ]
        },
        {
          "output_type": "stream",
          "name": "stderr",
          "text": [
            "WARNING:absl:Found untraced functions such as _jit_compiled_convolution_op, _jit_compiled_convolution_op, _jit_compiled_convolution_op, _jit_compiled_convolution_op, _jit_compiled_convolution_op while saving (showing 5 of 27). These functions will not be directly callable after loading.\n"
          ]
        },
        {
          "output_type": "stream",
          "name": "stdout",
          "text": [
            "\b\b\b\b\b\b\b\b\b\b\b\b\b\b\b\b\b\b\b\b\b\b\b\b\b\b\b\b\b\b\b\b\b\b\b\b\b\b\b\b\b\b\b\b\b\b\b\b\b\b\b\b\b\b\b\b\b\b\b\b\b\b\b\b\b\b\b\b\b\b\b\b\b\b\b\b\b\b\b\b\b\b\b\b\b\b\b\b\b\b\b\b\b\b\b\b\b\b\b\b\b\b\b\b\b\b\b\b\b\b\b\b\b\b\b\b\b\b\b\b\b\b\b\b\b\b\b\b\b\b\b\b\b\r36/36 [==============================] - 23s 641ms/step - loss: 0.4609 - accuracy: 0.7898 - auc: 0.8693 - precision: 0.7931 - recall: 0.7958 - val_loss: 0.4231 - val_accuracy: 0.8500 - val_auc: 0.8959 - val_precision: 0.8242 - val_recall: 0.8427\n",
            "Epoch 9/10\n",
            "36/36 [==============================] - ETA: 0s - loss: 0.4698 - accuracy: 0.7951 - auc: 0.8620 - precision: 0.8067 - recall: 0.7872\n",
            "Epoch 9: val_accuracy did not improve from 0.85000\n",
            "36/36 [==============================] - 13s 345ms/step - loss: 0.4698 - accuracy: 0.7951 - auc: 0.8620 - precision: 0.8067 - recall: 0.7872 - val_loss: 0.5903 - val_accuracy: 0.6600 - val_auc: 0.8948 - val_precision: 0.5724 - val_recall: 0.9326\n",
            "Epoch 10/10\n",
            "36/36 [==============================] - ETA: 0s - loss: 0.4726 - accuracy: 0.7906 - auc: 0.8592 - precision: 0.7791 - recall: 0.8235\n",
            "Epoch 10: val_accuracy did not improve from 0.85000\n",
            "36/36 [==============================] - 13s 349ms/step - loss: 0.4726 - accuracy: 0.7906 - auc: 0.8592 - precision: 0.7791 - recall: 0.8235 - val_loss: 0.4155 - val_accuracy: 0.8400 - val_auc: 0.9028 - val_precision: 0.8000 - val_recall: 0.8539\n",
            "7/7 [==============================] - 0s 41ms/step\n"
          ]
        }
      ]
    },
    {
      "cell_type": "code",
      "source": [
        "model5.evaluate(train_datagen.flow(x_train,y_train))\n",
        "model5.evaluate(val_datagen.flow(x_val,y_val))"
      ],
      "metadata": {
        "colab": {
          "base_uri": "https://localhost:8080/"
        },
        "id": "i6iOk-2OGvpC",
        "outputId": "4f01a75a-144e-4ce1-d30a-a32257562f55"
      },
      "execution_count": null,
      "outputs": [
        {
          "output_type": "stream",
          "name": "stdout",
          "text": [
            "36/36 [==============================] - 13s 338ms/step - loss: 0.4232 - accuracy: 0.8357 - auc: 0.9040 - precision: 0.8590 - recall: 0.8114\n",
            "7/7 [==============================] - 2s 259ms/step - loss: 0.4049 - accuracy: 0.8450 - auc: 0.9150 - precision: 0.8625 - recall: 0.7753\n"
          ]
        },
        {
          "output_type": "execute_result",
          "data": {
            "text/plain": [
              "[0.40487754344940186,\n",
              " 0.8450000286102295,\n",
              " 0.9150217175483704,\n",
              " 0.862500011920929,\n",
              " 0.7752808928489685]"
            ]
          },
          "metadata": {},
          "execution_count": 18
        }
      ]
    },
    {
      "cell_type": "code",
      "source": [
        "y_predict5_2=model5.predict(x_test)\n",
        "Y_predict5_2=np.float32(y_predict5_2>0.50)\n",
        "l=len(y_test)\n",
        "Y_predict5_2=np.reshape(Y_predict5_2,(l,1))\n",
        "print(Y_predict5_2)"
      ],
      "metadata": {
        "colab": {
          "base_uri": "https://localhost:8080/"
        },
        "id": "YUGxHAezG9dZ",
        "outputId": "f8928d6a-83f6-4101-bac5-3d4a69747ad4"
      },
      "execution_count": null,
      "outputs": [
        {
          "output_type": "stream",
          "name": "stdout",
          "text": [
            "5/5 [==============================] - 1s 123ms/step\n",
            "[[1.]\n",
            " [1.]\n",
            " [1.]\n",
            " [0.]\n",
            " [0.]\n",
            " [0.]\n",
            " [0.]\n",
            " [0.]\n",
            " [1.]\n",
            " [0.]\n",
            " [0.]\n",
            " [1.]\n",
            " [0.]\n",
            " [0.]\n",
            " [0.]\n",
            " [0.]\n",
            " [1.]\n",
            " [0.]\n",
            " [1.]\n",
            " [0.]\n",
            " [0.]\n",
            " [1.]\n",
            " [0.]\n",
            " [0.]\n",
            " [0.]\n",
            " [0.]\n",
            " [0.]\n",
            " [0.]\n",
            " [0.]\n",
            " [1.]\n",
            " [1.]\n",
            " [0.]\n",
            " [1.]\n",
            " [0.]\n",
            " [1.]\n",
            " [1.]\n",
            " [1.]\n",
            " [1.]\n",
            " [1.]\n",
            " [0.]\n",
            " [0.]\n",
            " [0.]\n",
            " [0.]\n",
            " [0.]\n",
            " [1.]\n",
            " [0.]\n",
            " [1.]\n",
            " [1.]\n",
            " [0.]\n",
            " [1.]\n",
            " [0.]\n",
            " [0.]\n",
            " [0.]\n",
            " [1.]\n",
            " [1.]\n",
            " [1.]\n",
            " [0.]\n",
            " [1.]\n",
            " [1.]\n",
            " [1.]\n",
            " [0.]\n",
            " [1.]\n",
            " [1.]\n",
            " [0.]\n",
            " [0.]\n",
            " [1.]\n",
            " [1.]\n",
            " [0.]\n",
            " [0.]\n",
            " [1.]\n",
            " [0.]\n",
            " [1.]\n",
            " [1.]\n",
            " [1.]\n",
            " [0.]\n",
            " [0.]\n",
            " [0.]\n",
            " [1.]\n",
            " [1.]\n",
            " [0.]\n",
            " [0.]\n",
            " [1.]\n",
            " [0.]\n",
            " [1.]\n",
            " [0.]\n",
            " [0.]\n",
            " [1.]\n",
            " [1.]\n",
            " [0.]\n",
            " [1.]\n",
            " [1.]\n",
            " [0.]\n",
            " [1.]\n",
            " [1.]\n",
            " [1.]\n",
            " [1.]\n",
            " [0.]\n",
            " [0.]\n",
            " [1.]\n",
            " [1.]\n",
            " [0.]\n",
            " [1.]\n",
            " [1.]\n",
            " [1.]\n",
            " [0.]\n",
            " [0.]\n",
            " [0.]\n",
            " [0.]\n",
            " [1.]\n",
            " [0.]\n",
            " [1.]\n",
            " [0.]\n",
            " [0.]\n",
            " [0.]\n",
            " [0.]\n",
            " [0.]\n",
            " [0.]\n",
            " [0.]\n",
            " [1.]\n",
            " [0.]\n",
            " [1.]\n",
            " [0.]\n",
            " [0.]\n",
            " [0.]\n",
            " [1.]\n",
            " [0.]\n",
            " [0.]\n",
            " [0.]\n",
            " [0.]\n",
            " [1.]\n",
            " [1.]\n",
            " [1.]\n",
            " [0.]\n",
            " [0.]\n",
            " [0.]\n",
            " [0.]\n",
            " [0.]\n",
            " [1.]\n",
            " [1.]\n",
            " [0.]\n",
            " [1.]\n",
            " [1.]\n",
            " [1.]\n",
            " [1.]\n",
            " [0.]\n",
            " [0.]\n",
            " [0.]\n",
            " [1.]]\n"
          ]
        }
      ]
    },
    {
      "cell_type": "code",
      "source": [
        "from sklearn.metrics import auc,roc_curve\n",
        "from sklearn.metrics import f1_score\n",
        "from sklearn.metrics import cohen_kappa_score\n",
        "from sklearn.metrics import accuracy_score\n",
        "f15 = f1_score(y_test, Y_predict5_2)\n",
        "test_accuracy5 = accuracy_score(y_test, Y_predict5_2)\n",
        "kappa5 = cohen_kappa_score(y_test, Y_predict5_2)\n",
        "auc5 = roc_auc_score(y_test, Y_predict5_2)"
      ],
      "metadata": {
        "id": "ANDgmImGHSXK"
      },
      "execution_count": null,
      "outputs": []
    },
    {
      "cell_type": "code",
      "source": [
        "print(auc5)\n",
        "print(f15)\n",
        "print(kappa5)\n",
        "print(test_accuracy5)"
      ],
      "metadata": {
        "colab": {
          "base_uri": "https://localhost:8080/"
        },
        "id": "-IvOhFc5HfE1",
        "outputId": "48ec5525-25cc-4e39-8738-69f09926e6e2"
      },
      "execution_count": null,
      "outputs": [
        {
          "output_type": "stream",
          "name": "stdout",
          "text": [
            "0.8934733683420856\n",
            "0.875\n",
            "0.7799256505576209\n",
            "0.8918918918918919\n"
          ]
        }
      ]
    },
    {
      "cell_type": "markdown",
      "source": [
        "# DenseNet169"
      ],
      "metadata": {
        "id": "I1vfGn6evKzZ"
      }
    },
    {
      "cell_type": "code",
      "source": [
        "base_model6 = tf.keras.applications.densenet.DenseNet169(\n",
        "    weights='imagenet',\n",
        "    input_shape=(224, 224, 3),\n",
        "    include_top=False)\n",
        "base_model6.trainable = False\n",
        "inputs = tf.keras.Input(shape=(224, 224, 3))\n",
        "x6 = base_model6(inputs, training=False)\n",
        "x6 = tf.keras.layers.GlobalAveragePooling2D()(x6)\n",
        "x6 = tf.keras.layers.Dropout(0.2)(x6)\n",
        "x6 = tf.keras.layers.Dense(1)(x6)\n",
        "outputs=tf.keras.layers.Activation(activation='sigmoid')(x6)\n",
        "model6 = tf.keras.Model(inputs, outputs)\n",
        "model6.summary()\n"
      ],
      "metadata": {
        "colab": {
          "base_uri": "https://localhost:8080/"
        },
        "id": "L7ob7QifvO1t",
        "outputId": "b5e09a57-e900-4914-9dcc-3720c2faa384"
      },
      "execution_count": null,
      "outputs": [
        {
          "output_type": "stream",
          "name": "stdout",
          "text": [
            "Downloading data from https://storage.googleapis.com/tensorflow/keras-applications/densenet/densenet169_weights_tf_dim_ordering_tf_kernels_notop.h5\n",
            "51877672/51877672 [==============================] - 3s 0us/step\n",
            "Model: \"model_1\"\n",
            "_________________________________________________________________\n",
            " Layer (type)                Output Shape              Param #   \n",
            "=================================================================\n",
            " input_4 (InputLayer)        [(None, 224, 224, 3)]     0         \n",
            "                                                                 \n",
            " densenet169 (Functional)    (None, 7, 7, 1664)        12642880  \n",
            "                                                                 \n",
            " global_average_pooling2d_1   (None, 1664)             0         \n",
            " (GlobalAveragePooling2D)                                        \n",
            "                                                                 \n",
            " dropout_1 (Dropout)         (None, 1664)              0         \n",
            "                                                                 \n",
            " dense_1 (Dense)             (None, 1)                 1665      \n",
            "                                                                 \n",
            " activation_1 (Activation)   (None, 1)                 0         \n",
            "                                                                 \n",
            "=================================================================\n",
            "Total params: 12,644,545\n",
            "Trainable params: 1,665\n",
            "Non-trainable params: 12,642,880\n",
            "_________________________________________________________________\n"
          ]
        }
      ]
    },
    {
      "cell_type": "code",
      "source": [
        "model6.compile(loss='binary_crossentropy',\n",
        "              optimizer='adam',\n",
        "              metrics=['accuracy','AUC','Precision','Recall'])"
      ],
      "metadata": {
        "id": "D_g7IAa7Fybp"
      },
      "execution_count": null,
      "outputs": []
    },
    {
      "cell_type": "code",
      "source": [
        "from tensorflow.keras.callbacks import ModelCheckpoint, EarlyStopping\n",
        "es=EarlyStopping(patience=3,monitor='val_loss')\n",
        "filepath='best_model.h56'\n",
        "checkpoint = ModelCheckpoint(filepath, monitor='val_accuracy', verbose=1, save_best_only=True, mode='max')"
      ],
      "metadata": {
        "id": "a8wxcv2CGLMj"
      },
      "execution_count": null,
      "outputs": []
    },
    {
      "cell_type": "code",
      "source": [
        "for j,(train_idx,val_idx) in enumerate(folds):\n",
        "    print(\"Fold \"+str(j+1))\n",
        "\n",
        "    x_train=X_dataset[train_idx]\n",
        "    y_train=Y_dataset[train_idx]\n",
        "    x_val=X_dataset[val_idx]\n",
        "    y_val=Y_dataset[val_idx]\n",
        "    history=model6.fit(train_datagen.flow(x_train,y_train),epochs=10,validation_data=(x_val,y_val),callbacks=checkpoint)\n",
        "    y_predict6_1=model6.predict(x_val)\n",
        "    Y_predict6_1=np.float32(y_predict6_1>0.50)\n",
        "    l=len(y_val)\n",
        "    Y_predict6_1=np.reshape(Y_predict6_1,(l,1))"
      ],
      "metadata": {
        "colab": {
          "base_uri": "https://localhost:8080/"
        },
        "id": "62ejOPEOGYVM",
        "outputId": "3766f275-4cbe-4a40-aae4-1a2dd15ba221"
      },
      "execution_count": null,
      "outputs": [
        {
          "output_type": "stream",
          "name": "stdout",
          "text": [
            "Fold 1\n",
            "Epoch 1/10\n",
            "36/36 [==============================] - ETA: 0s - loss: 0.7178 - accuracy: 0.5592 - auc: 0.5745 - precision: 0.5637 - recall: 0.5647\n",
            "Epoch 1: val_accuracy improved from -inf to 0.66000, saving model to best_model.h56\n"
          ]
        },
        {
          "output_type": "stream",
          "name": "stderr",
          "text": [
            "WARNING:absl:Found untraced functions such as _jit_compiled_convolution_op, _jit_compiled_convolution_op, _jit_compiled_convolution_op, _jit_compiled_convolution_op, _jit_compiled_convolution_op while saving (showing 5 of 168). These functions will not be directly callable after loading.\n"
          ]
        },
        {
          "output_type": "stream",
          "name": "stdout",
          "text": [
            "\b\b\b\b\b\b\b\b\b\b\b\b\b\b\b\b\b\b\b\b\b\b\b\b\b\b\b\b\b\b\b\b\b\b\b\b\b\b\b\b\b\b\b\b\b\b\b\b\b\b\b\b\b\b\b\b\b\b\b\b\b\b\b\b\b\b\b\b\b\b\b\b\b\b\b\b\b\b\b\b\b\b\b\b\b\b\b\b\b\b\b\b\b\b\b\b\b\b\b\b\b\b\b\b\b\b\b\b\b\b\b\b\b\b\b\b\b\b\b\b\b\b\b\b\b\b\b\b\b\b\b\b\b\r36/36 [==============================] - 100s 3s/step - loss: 0.7178 - accuracy: 0.5592 - auc: 0.5745 - precision: 0.5637 - recall: 0.5647 - val_loss: 0.6608 - val_accuracy: 0.6600 - val_auc: 0.6857 - val_precision: 0.6031 - val_recall: 0.8316\n",
            "Epoch 2/10\n",
            "36/36 [==============================] - ETA: 0s - loss: 0.6451 - accuracy: 0.6546 - auc: 0.6881 - precision: 0.6511 - recall: 0.6818\n",
            "Epoch 2: val_accuracy did not improve from 0.66000\n",
            "36/36 [==============================] - 15s 406ms/step - loss: 0.6451 - accuracy: 0.6546 - auc: 0.6881 - precision: 0.6511 - recall: 0.6818 - val_loss: 0.6299 - val_accuracy: 0.6600 - val_auc: 0.7118 - val_precision: 0.6098 - val_recall: 0.7895\n",
            "Epoch 3/10\n",
            "36/36 [==============================] - ETA: 0s - loss: 0.6187 - accuracy: 0.6528 - auc: 0.7130 - precision: 0.6535 - recall: 0.6661\n",
            "Epoch 3: val_accuracy improved from 0.66000 to 0.67500, saving model to best_model.h56\n"
          ]
        },
        {
          "output_type": "stream",
          "name": "stderr",
          "text": [
            "WARNING:absl:Found untraced functions such as _jit_compiled_convolution_op, _jit_compiled_convolution_op, _jit_compiled_convolution_op, _jit_compiled_convolution_op, _jit_compiled_convolution_op while saving (showing 5 of 168). These functions will not be directly callable after loading.\n"
          ]
        },
        {
          "output_type": "stream",
          "name": "stdout",
          "text": [
            "\b\b\b\b\b\b\b\b\b\b\b\b\b\b\b\b\b\b\b\b\b\b\b\b\b\b\b\b\b\b\b\b\b\b\b\b\b\b\b\b\b\b\b\b\b\b\b\b\b\b\b\b\b\b\b\b\b\b\b\b\b\b\b\b\b\b\b\b\b\b\b\b\b\b\b\b\b\b\b\b\b\b\b\b\b\b\b\b\b\b\b\b\b\b\b\b\b\b\b\b\b\b\b\b\b\b\b\b\b\b\b\b\b\b\b\b\b\b\b\b\b\b\b\b\b\b\b\b\b\b\b\b\b\r36/36 [==============================] - 83s 2s/step - loss: 0.6187 - accuracy: 0.6528 - auc: 0.7130 - precision: 0.6535 - recall: 0.6661 - val_loss: 0.6489 - val_accuracy: 0.6750 - val_auc: 0.7296 - val_precision: 0.6103 - val_recall: 0.8737\n",
            "Epoch 4/10\n",
            "36/36 [==============================] - ETA: 0s - loss: 0.6143 - accuracy: 0.6731 - auc: 0.7292 - precision: 0.6672 - recall: 0.7045\n",
            "Epoch 4: val_accuracy improved from 0.67500 to 0.68000, saving model to best_model.h56\n"
          ]
        },
        {
          "output_type": "stream",
          "name": "stderr",
          "text": [
            "WARNING:absl:Found untraced functions such as _jit_compiled_convolution_op, _jit_compiled_convolution_op, _jit_compiled_convolution_op, _jit_compiled_convolution_op, _jit_compiled_convolution_op while saving (showing 5 of 168). These functions will not be directly callable after loading.\n"
          ]
        },
        {
          "output_type": "stream",
          "name": "stdout",
          "text": [
            "\b\b\b\b\b\b\b\b\b\b\b\b\b\b\b\b\b\b\b\b\b\b\b\b\b\b\b\b\b\b\b\b\b\b\b\b\b\b\b\b\b\b\b\b\b\b\b\b\b\b\b\b\b\b\b\b\b\b\b\b\b\b\b\b\b\b\b\b\b\b\b\b\b\b\b\b\b\b\b\b\b\b\b\b\b\b\b\b\b\b\b\b\b\b\b\b\b\b\b\b\b\b\b\b\b\b\b\b\b\b\b\b\b\b\b\b\b\b\b\b\b\b\b\b\b\b\b\b\b\b\b\b\b\r36/36 [==============================] - 84s 2s/step - loss: 0.6143 - accuracy: 0.6731 - auc: 0.7292 - precision: 0.6672 - recall: 0.7045 - val_loss: 0.6027 - val_accuracy: 0.6800 - val_auc: 0.7377 - val_precision: 0.6348 - val_recall: 0.7684\n",
            "Epoch 5/10\n",
            "36/36 [==============================] - ETA: 0s - loss: 0.5835 - accuracy: 0.7058 - auc: 0.7639 - precision: 0.7022 - recall: 0.7255\n",
            "Epoch 5: val_accuracy did not improve from 0.68000\n",
            "36/36 [==============================] - 14s 389ms/step - loss: 0.5835 - accuracy: 0.7058 - auc: 0.7639 - precision: 0.7022 - recall: 0.7255 - val_loss: 0.6072 - val_accuracy: 0.6500 - val_auc: 0.7372 - val_precision: 0.6667 - val_recall: 0.5263\n",
            "Epoch 6/10\n",
            "36/36 [==============================] - ETA: 0s - loss: 0.5973 - accuracy: 0.6882 - auc: 0.7454 - precision: 0.6872 - recall: 0.7028\n",
            "Epoch 6: val_accuracy improved from 0.68000 to 0.70000, saving model to best_model.h56\n"
          ]
        },
        {
          "output_type": "stream",
          "name": "stderr",
          "text": [
            "WARNING:absl:Found untraced functions such as _jit_compiled_convolution_op, _jit_compiled_convolution_op, _jit_compiled_convolution_op, _jit_compiled_convolution_op, _jit_compiled_convolution_op while saving (showing 5 of 168). These functions will not be directly callable after loading.\n"
          ]
        },
        {
          "output_type": "stream",
          "name": "stdout",
          "text": [
            "\b\b\b\b\b\b\b\b\b\b\b\b\b\b\b\b\b\b\b\b\b\b\b\b\b\b\b\b\b\b\b\b\b\b\b\b\b\b\b\b\b\b\b\b\b\b\b\b\b\b\b\b\b\b\b\b\b\b\b\b\b\b\b\b\b\b\b\b\b\b\b\b\b\b\b\b\b\b\b\b\b\b\b\b\b\b\b\b\b\b\b\b\b\b\b\b\b\b\b\b\b\b\b\b\b\b\b\b\b\b\b\b\b\b\b\b\b\b\b\b\b\b\b\b\b\b\b\b\b\b\b\b\b\r36/36 [==============================] - 85s 2s/step - loss: 0.5973 - accuracy: 0.6882 - auc: 0.7454 - precision: 0.6872 - recall: 0.7028 - val_loss: 0.5881 - val_accuracy: 0.7000 - val_auc: 0.7616 - val_precision: 0.6446 - val_recall: 0.8211\n",
            "Epoch 7/10\n",
            "36/36 [==============================] - ETA: 0s - loss: 0.5647 - accuracy: 0.7164 - auc: 0.7831 - precision: 0.7221 - recall: 0.7133\n",
            "Epoch 7: val_accuracy did not improve from 0.70000\n",
            "36/36 [==============================] - 14s 386ms/step - loss: 0.5647 - accuracy: 0.7164 - auc: 0.7831 - precision: 0.7221 - recall: 0.7133 - val_loss: 0.5742 - val_accuracy: 0.6950 - val_auc: 0.7767 - val_precision: 0.7125 - val_recall: 0.6000\n",
            "Epoch 8/10\n",
            "36/36 [==============================] - ETA: 0s - loss: 0.5540 - accuracy: 0.7200 - auc: 0.7910 - precision: 0.7100 - recall: 0.7535\n",
            "Epoch 8: val_accuracy improved from 0.70000 to 0.72000, saving model to best_model.h56\n"
          ]
        },
        {
          "output_type": "stream",
          "name": "stderr",
          "text": [
            "WARNING:absl:Found untraced functions such as _jit_compiled_convolution_op, _jit_compiled_convolution_op, _jit_compiled_convolution_op, _jit_compiled_convolution_op, _jit_compiled_convolution_op while saving (showing 5 of 168). These functions will not be directly callable after loading.\n"
          ]
        },
        {
          "output_type": "stream",
          "name": "stdout",
          "text": [
            "\b\b\b\b\b\b\b\b\b\b\b\b\b\b\b\b\b\b\b\b\b\b\b\b\b\b\b\b\b\b\b\b\b\b\b\b\b\b\b\b\b\b\b\b\b\b\b\b\b\b\b\b\b\b\b\b\b\b\b\b\b\b\b\b\b\b\b\b\b\b\b\b\b\b\b\b\b\b\b\b\b\b\b\b\b\b\b\b\b\b\b\b\b\b\b\b\b\b\b\b\b\b\b\b\b\b\b\b\b\b\b\b\b\b\b\b\b\b\b\b\b\b\b\b\b\b\b\b\b\b\b\b\b\r36/36 [==============================] - 86s 2s/step - loss: 0.5540 - accuracy: 0.7200 - auc: 0.7910 - precision: 0.7100 - recall: 0.7535 - val_loss: 0.5684 - val_accuracy: 0.7200 - val_auc: 0.7751 - val_precision: 0.6857 - val_recall: 0.7579\n",
            "Epoch 9/10\n",
            "36/36 [==============================] - ETA: 0s - loss: 0.5593 - accuracy: 0.7164 - auc: 0.7871 - precision: 0.7175 - recall: 0.7238\n",
            "Epoch 9: val_accuracy did not improve from 0.72000\n",
            "36/36 [==============================] - 15s 402ms/step - loss: 0.5593 - accuracy: 0.7164 - auc: 0.7871 - precision: 0.7175 - recall: 0.7238 - val_loss: 0.5873 - val_accuracy: 0.7000 - val_auc: 0.7781 - val_precision: 0.6357 - val_recall: 0.8632\n",
            "Epoch 10/10\n",
            "36/36 [==============================] - ETA: 0s - loss: 0.5503 - accuracy: 0.7226 - auc: 0.7982 - precision: 0.7255 - recall: 0.7255\n",
            "Epoch 10: val_accuracy improved from 0.72000 to 0.73500, saving model to best_model.h56\n"
          ]
        },
        {
          "output_type": "stream",
          "name": "stderr",
          "text": [
            "WARNING:absl:Found untraced functions such as _jit_compiled_convolution_op, _jit_compiled_convolution_op, _jit_compiled_convolution_op, _jit_compiled_convolution_op, _jit_compiled_convolution_op while saving (showing 5 of 168). These functions will not be directly callable after loading.\n"
          ]
        },
        {
          "output_type": "stream",
          "name": "stdout",
          "text": [
            "36/36 [==============================] - 85s 2s/step - loss: 0.5503 - accuracy: 0.7226 - auc: 0.7982 - precision: 0.7255 - recall: 0.7255 - val_loss: 0.5588 - val_accuracy: 0.7350 - val_auc: 0.7894 - val_precision: 0.6875 - val_recall: 0.8105\n",
            "7/7 [==============================] - 4s 126ms/step\n",
            "Fold 2\n",
            "Epoch 1/10\n",
            "36/36 [==============================] - ETA: 0s - loss: 0.5535 - accuracy: 0.7173 - auc: 0.7906 - precision: 0.7194 - recall: 0.7318\n",
            "Epoch 1: val_accuracy improved from 0.73500 to 0.79500, saving model to best_model.h56\n"
          ]
        },
        {
          "output_type": "stream",
          "name": "stderr",
          "text": [
            "WARNING:absl:Found untraced functions such as _jit_compiled_convolution_op, _jit_compiled_convolution_op, _jit_compiled_convolution_op, _jit_compiled_convolution_op, _jit_compiled_convolution_op while saving (showing 5 of 168). These functions will not be directly callable after loading.\n"
          ]
        },
        {
          "output_type": "stream",
          "name": "stdout",
          "text": [
            "\b\b\b\b\b\b\b\b\b\b\b\b\b\b\b\b\b\b\b\b\b\b\b\b\b\b\b\b\b\b\b\b\b\b\b\b\b\b\b\b\b\b\b\b\b\b\b\b\b\b\b\b\b\b\b\b\b\b\b\b\b\b\b\b\b\b\b\b\b\b\b\b\b\b\b\b\b\b\b\b\b\b\b\b\b\b\b\b\b\b\b\b\b\b\b\b\b\b\b\b\b\b\b\b\b\b\b\b\b\b\b\b\b\b\b\b\b\b\b\b\b\b\b\b\b\b\b\b\b\b\b\b\b\r36/36 [==============================] - 84s 2s/step - loss: 0.5535 - accuracy: 0.7173 - auc: 0.7906 - precision: 0.7194 - recall: 0.7318 - val_loss: 0.5015 - val_accuracy: 0.7950 - val_auc: 0.8598 - val_precision: 0.7308 - val_recall: 0.8539\n",
            "Epoch 2/10\n",
            "36/36 [==============================] - ETA: 0s - loss: 0.5277 - accuracy: 0.7279 - auc: 0.8160 - precision: 0.7265 - recall: 0.7491\n",
            "Epoch 2: val_accuracy did not improve from 0.79500\n",
            "36/36 [==============================] - 15s 409ms/step - loss: 0.5277 - accuracy: 0.7279 - auc: 0.8160 - precision: 0.7265 - recall: 0.7491 - val_loss: 0.5067 - val_accuracy: 0.7850 - val_auc: 0.8595 - val_precision: 0.7130 - val_recall: 0.8652\n",
            "Epoch 3/10\n",
            "36/36 [==============================] - ETA: 0s - loss: 0.5346 - accuracy: 0.7270 - auc: 0.8104 - precision: 0.7291 - recall: 0.7405\n",
            "Epoch 3: val_accuracy improved from 0.79500 to 0.80000, saving model to best_model.h56\n"
          ]
        },
        {
          "output_type": "stream",
          "name": "stderr",
          "text": [
            "WARNING:absl:Found untraced functions such as _jit_compiled_convolution_op, _jit_compiled_convolution_op, _jit_compiled_convolution_op, _jit_compiled_convolution_op, _jit_compiled_convolution_op while saving (showing 5 of 168). These functions will not be directly callable after loading.\n"
          ]
        },
        {
          "output_type": "stream",
          "name": "stdout",
          "text": [
            "\b\b\b\b\b\b\b\b\b\b\b\b\b\b\b\b\b\b\b\b\b\b\b\b\b\b\b\b\b\b\b\b\b\b\b\b\b\b\b\b\b\b\b\b\b\b\b\b\b\b\b\b\b\b\b\b\b\b\b\b\b\b\b\b\b\b\b\b\b\b\b\b\b\b\b\b\b\b\b\b\b\b\b\b\b\b\b\b\b\b\b\b\b\b\b\b\b\b\b\b\b\b\b\b\b\b\b\b\b\b\b\b\b\b\b\b\b\b\b\b\b\b\b\b\b\b\b\b\b\b\b\b\b\r36/36 [==============================] - 86s 2s/step - loss: 0.5346 - accuracy: 0.7270 - auc: 0.8104 - precision: 0.7291 - recall: 0.7405 - val_loss: 0.4841 - val_accuracy: 0.8000 - val_auc: 0.8684 - val_precision: 0.7526 - val_recall: 0.8202\n",
            "Epoch 4/10\n",
            "36/36 [==============================] - ETA: 0s - loss: 0.5260 - accuracy: 0.7438 - auc: 0.8206 - precision: 0.7400 - recall: 0.7682\n",
            "Epoch 4: val_accuracy improved from 0.80000 to 0.81500, saving model to best_model.h56\n"
          ]
        },
        {
          "output_type": "stream",
          "name": "stderr",
          "text": [
            "WARNING:absl:Found untraced functions such as _jit_compiled_convolution_op, _jit_compiled_convolution_op, _jit_compiled_convolution_op, _jit_compiled_convolution_op, _jit_compiled_convolution_op while saving (showing 5 of 168). These functions will not be directly callable after loading.\n"
          ]
        },
        {
          "output_type": "stream",
          "name": "stdout",
          "text": [
            "\b\b\b\b\b\b\b\b\b\b\b\b\b\b\b\b\b\b\b\b\b\b\b\b\b\b\b\b\b\b\b\b\b\b\b\b\b\b\b\b\b\b\b\b\b\b\b\b\b\b\b\b\b\b\b\b\b\b\b\b\b\b\b\b\b\b\b\b\b\b\b\b\b\b\b\b\b\b\b\b\b\b\b\b\b\b\b\b\b\b\b\b\b\b\b\b\b\b\b\b\b\b\b\b\b\b\b\b\b\b\b\b\b\b\b\b\b\b\b\b\b\b\b\b\b\b\b\b\b\b\b\b\b\r36/36 [==============================] - 86s 2s/step - loss: 0.5260 - accuracy: 0.7438 - auc: 0.8206 - precision: 0.7400 - recall: 0.7682 - val_loss: 0.4804 - val_accuracy: 0.8150 - val_auc: 0.8705 - val_precision: 0.7766 - val_recall: 0.8202\n",
            "Epoch 5/10\n",
            "36/36 [==============================] - ETA: 0s - loss: 0.5325 - accuracy: 0.7403 - auc: 0.8100 - precision: 0.7474 - recall: 0.7422\n",
            "Epoch 5: val_accuracy did not improve from 0.81500\n",
            "36/36 [==============================] - 14s 386ms/step - loss: 0.5325 - accuracy: 0.7403 - auc: 0.8100 - precision: 0.7474 - recall: 0.7422 - val_loss: 0.5190 - val_accuracy: 0.7950 - val_auc: 0.8732 - val_precision: 0.7069 - val_recall: 0.9213\n",
            "Epoch 6/10\n",
            "36/36 [==============================] - ETA: 0s - loss: 0.5227 - accuracy: 0.7429 - auc: 0.8207 - precision: 0.7420 - recall: 0.7612\n",
            "Epoch 6: val_accuracy did not improve from 0.81500\n",
            "36/36 [==============================] - 14s 403ms/step - loss: 0.5227 - accuracy: 0.7429 - auc: 0.8207 - precision: 0.7420 - recall: 0.7612 - val_loss: 0.4784 - val_accuracy: 0.8050 - val_auc: 0.8769 - val_precision: 0.7500 - val_recall: 0.8427\n",
            "Epoch 7/10\n",
            "36/36 [==============================] - ETA: 0s - loss: 0.5034 - accuracy: 0.7597 - auc: 0.8425 - precision: 0.7593 - recall: 0.7751\n",
            "Epoch 7: val_accuracy did not improve from 0.81500\n",
            "36/36 [==============================] - 14s 401ms/step - loss: 0.5034 - accuracy: 0.7597 - auc: 0.8425 - precision: 0.7593 - recall: 0.7751 - val_loss: 0.4683 - val_accuracy: 0.8050 - val_auc: 0.8781 - val_precision: 0.7841 - val_recall: 0.7753\n",
            "Epoch 8/10\n",
            "36/36 [==============================] - ETA: 0s - loss: 0.5190 - accuracy: 0.7447 - auc: 0.8221 - precision: 0.7549 - recall: 0.7405\n",
            "Epoch 8: val_accuracy did not improve from 0.81500\n",
            "36/36 [==============================] - 14s 401ms/step - loss: 0.5190 - accuracy: 0.7447 - auc: 0.8221 - precision: 0.7549 - recall: 0.7405 - val_loss: 0.4701 - val_accuracy: 0.8000 - val_auc: 0.8722 - val_precision: 0.8267 - val_recall: 0.6966\n",
            "Epoch 9/10\n",
            "36/36 [==============================] - ETA: 0s - loss: 0.4872 - accuracy: 0.7747 - auc: 0.8539 - precision: 0.7661 - recall: 0.8045\n",
            "Epoch 9: val_accuracy did not improve from 0.81500\n",
            "36/36 [==============================] - 14s 385ms/step - loss: 0.4872 - accuracy: 0.7747 - auc: 0.8539 - precision: 0.7661 - recall: 0.8045 - val_loss: 0.4606 - val_accuracy: 0.8100 - val_auc: 0.8838 - val_precision: 0.8148 - val_recall: 0.7416\n",
            "Epoch 10/10\n",
            "36/36 [==============================] - ETA: 0s - loss: 0.5189 - accuracy: 0.7429 - auc: 0.8239 - precision: 0.7380 - recall: 0.7699\n",
            "Epoch 10: val_accuracy did not improve from 0.81500\n",
            "36/36 [==============================] - 14s 389ms/step - loss: 0.5189 - accuracy: 0.7429 - auc: 0.8239 - precision: 0.7380 - recall: 0.7699 - val_loss: 0.4661 - val_accuracy: 0.8100 - val_auc: 0.8882 - val_precision: 0.7476 - val_recall: 0.8652\n",
            "7/7 [==============================] - 1s 127ms/step\n"
          ]
        }
      ]
    },
    {
      "cell_type": "code",
      "source": [
        "model6.evaluate(train_datagen.flow(x_train,y_train))\n",
        "model6.evaluate(val_datagen.flow(x_val,y_val))"
      ],
      "metadata": {
        "colab": {
          "base_uri": "https://localhost:8080/"
        },
        "id": "8Wd_9xoiGwhP",
        "outputId": "e990964e-6073-4652-8de1-4cc818cf35be"
      },
      "execution_count": null,
      "outputs": [
        {
          "output_type": "stream",
          "name": "stdout",
          "text": [
            "36/36 [==============================] - 19s 417ms/step - loss: 0.4567 - accuracy: 0.8065 - auc: 0.8943 - precision: 0.7872 - recall: 0.8512\n",
            "7/7 [==============================] - 3s 390ms/step - loss: 0.5046 - accuracy: 0.7650 - auc: 0.8757 - precision: 0.6810 - recall: 0.8876\n"
          ]
        },
        {
          "output_type": "execute_result",
          "data": {
            "text/plain": [
              "[0.5046054720878601,\n",
              " 0.7649999856948853,\n",
              " 0.8756958842277527,\n",
              " 0.681034505367279,\n",
              " 0.8876404762268066]"
            ]
          },
          "metadata": {},
          "execution_count": 26
        }
      ]
    },
    {
      "cell_type": "code",
      "source": [
        "y_predict6_2=model6.predict(x_test)\n",
        "Y_predict6_2=np.float32(y_predict6_2>0.50)\n",
        "l=len(y_test)\n",
        "Y_predict6_2=np.reshape(Y_predict6_2,(l,1))\n",
        "print(Y_predict6_2)"
      ],
      "metadata": {
        "colab": {
          "base_uri": "https://localhost:8080/"
        },
        "id": "T5PU_wCMG-Tt",
        "outputId": "4711c1e1-057d-40f9-d326-949cfa8a37a2"
      },
      "execution_count": null,
      "outputs": [
        {
          "output_type": "stream",
          "name": "stdout",
          "text": [
            "5/5 [==============================] - 2s 574ms/step\n",
            "[[1.]\n",
            " [1.]\n",
            " [1.]\n",
            " [0.]\n",
            " [0.]\n",
            " [1.]\n",
            " [0.]\n",
            " [0.]\n",
            " [1.]\n",
            " [0.]\n",
            " [0.]\n",
            " [1.]\n",
            " [0.]\n",
            " [0.]\n",
            " [0.]\n",
            " [0.]\n",
            " [1.]\n",
            " [1.]\n",
            " [1.]\n",
            " [0.]\n",
            " [0.]\n",
            " [1.]\n",
            " [0.]\n",
            " [0.]\n",
            " [0.]\n",
            " [0.]\n",
            " [0.]\n",
            " [0.]\n",
            " [0.]\n",
            " [1.]\n",
            " [0.]\n",
            " [0.]\n",
            " [1.]\n",
            " [0.]\n",
            " [1.]\n",
            " [0.]\n",
            " [1.]\n",
            " [0.]\n",
            " [1.]\n",
            " [0.]\n",
            " [0.]\n",
            " [0.]\n",
            " [0.]\n",
            " [0.]\n",
            " [1.]\n",
            " [1.]\n",
            " [1.]\n",
            " [1.]\n",
            " [0.]\n",
            " [1.]\n",
            " [0.]\n",
            " [0.]\n",
            " [0.]\n",
            " [1.]\n",
            " [1.]\n",
            " [1.]\n",
            " [0.]\n",
            " [1.]\n",
            " [1.]\n",
            " [1.]\n",
            " [0.]\n",
            " [1.]\n",
            " [1.]\n",
            " [0.]\n",
            " [1.]\n",
            " [0.]\n",
            " [1.]\n",
            " [0.]\n",
            " [0.]\n",
            " [0.]\n",
            " [0.]\n",
            " [1.]\n",
            " [1.]\n",
            " [1.]\n",
            " [0.]\n",
            " [0.]\n",
            " [0.]\n",
            " [1.]\n",
            " [1.]\n",
            " [0.]\n",
            " [0.]\n",
            " [1.]\n",
            " [0.]\n",
            " [0.]\n",
            " [0.]\n",
            " [0.]\n",
            " [1.]\n",
            " [1.]\n",
            " [0.]\n",
            " [0.]\n",
            " [1.]\n",
            " [0.]\n",
            " [1.]\n",
            " [1.]\n",
            " [1.]\n",
            " [1.]\n",
            " [0.]\n",
            " [1.]\n",
            " [1.]\n",
            " [1.]\n",
            " [0.]\n",
            " [1.]\n",
            " [1.]\n",
            " [1.]\n",
            " [0.]\n",
            " [0.]\n",
            " [0.]\n",
            " [0.]\n",
            " [1.]\n",
            " [1.]\n",
            " [1.]\n",
            " [0.]\n",
            " [1.]\n",
            " [0.]\n",
            " [1.]\n",
            " [0.]\n",
            " [0.]\n",
            " [0.]\n",
            " [0.]\n",
            " [0.]\n",
            " [1.]\n",
            " [1.]\n",
            " [0.]\n",
            " [0.]\n",
            " [1.]\n",
            " [1.]\n",
            " [0.]\n",
            " [0.]\n",
            " [0.]\n",
            " [1.]\n",
            " [1.]\n",
            " [1.]\n",
            " [0.]\n",
            " [1.]\n",
            " [0.]\n",
            " [1.]\n",
            " [0.]\n",
            " [1.]\n",
            " [1.]\n",
            " [0.]\n",
            " [1.]\n",
            " [1.]\n",
            " [1.]\n",
            " [1.]\n",
            " [0.]\n",
            " [0.]\n",
            " [0.]\n",
            " [1.]]\n"
          ]
        }
      ]
    },
    {
      "cell_type": "code",
      "source": [
        "from sklearn.metrics import auc,roc_curve\n",
        "from sklearn.metrics import f1_score\n",
        "from sklearn.metrics import cohen_kappa_score\n",
        "from sklearn.metrics import accuracy_score\n",
        "f16 = f1_score(y_test, Y_predict6_2)\n",
        "test_accuracy6 = accuracy_score(y_test, Y_predict6_2)\n",
        "kappa6 = cohen_kappa_score(y_test, Y_predict6_2)\n",
        "auc6 = roc_auc_score(y_test, Y_predict6_2)"
      ],
      "metadata": {
        "id": "OuZdCdoeHTWR"
      },
      "execution_count": null,
      "outputs": []
    },
    {
      "cell_type": "code",
      "source": [
        "print(auc6)\n",
        "print(f16)\n",
        "print(kappa6)\n",
        "print(test_accuracy6)"
      ],
      "metadata": {
        "colab": {
          "base_uri": "https://localhost:8080/"
        },
        "id": "-dofa2NkHgB_",
        "outputId": "2e39885e-b04f-48bf-8b5c-5db3c443c4f0"
      },
      "execution_count": null,
      "outputs": [
        {
          "output_type": "stream",
          "name": "stdout",
          "text": [
            "0.8563390847711929\n",
            "0.8333333333333333\n",
            "0.7000736919675756\n",
            "0.8513513513513513\n"
          ]
        }
      ]
    },
    {
      "cell_type": "markdown",
      "source": [
        "# DenseNet121"
      ],
      "metadata": {
        "id": "I9jF8tanwLKn"
      }
    },
    {
      "cell_type": "code",
      "source": [
        "base_model7 = tf.keras.applications.densenet.DenseNet121(\n",
        "    weights='imagenet',\n",
        "    input_shape=(224, 224, 3),\n",
        "    include_top=False)\n",
        "base_model7.trainable = False\n",
        "inputs = tf.keras.Input(shape=(224, 224, 3))\n",
        "x7 = base_model7(inputs, training=False)\n",
        "x7 = tf.keras.layers.GlobalAveragePooling2D()(x7)\n",
        "x7 = tf.keras.layers.Dropout(0.2)(x7)\n",
        "x7 = tf.keras.layers.Dense(1)(x7)\n",
        "outputs=tf.keras.layers.Activation(activation='sigmoid')(x7)\n",
        "model7 = tf.keras.Model(inputs, outputs)\n",
        "model7.summary()"
      ],
      "metadata": {
        "colab": {
          "base_uri": "https://localhost:8080/"
        },
        "id": "uEU4_IAcwN6f",
        "outputId": "997a27d2-9024-4522-e21c-3ec3b7e47e40"
      },
      "execution_count": null,
      "outputs": [
        {
          "output_type": "stream",
          "name": "stdout",
          "text": [
            "Model: \"model\"\n",
            "_________________________________________________________________\n",
            " Layer (type)                Output Shape              Param #   \n",
            "=================================================================\n",
            " input_2 (InputLayer)        [(None, 224, 224, 3)]     0         \n",
            "                                                                 \n",
            " densenet121 (Functional)    (None, 7, 7, 1024)        7037504   \n",
            "                                                                 \n",
            " global_average_pooling2d (G  (None, 1024)             0         \n",
            " lobalAveragePooling2D)                                          \n",
            "                                                                 \n",
            " dropout (Dropout)           (None, 1024)              0         \n",
            "                                                                 \n",
            " dense (Dense)               (None, 1)                 1025      \n",
            "                                                                 \n",
            " activation (Activation)     (None, 1)                 0         \n",
            "                                                                 \n",
            "=================================================================\n",
            "Total params: 7,038,529\n",
            "Trainable params: 1,025\n",
            "Non-trainable params: 7,037,504\n",
            "_________________________________________________________________\n"
          ]
        }
      ]
    },
    {
      "cell_type": "code",
      "source": [
        "model7.compile(loss='binary_crossentropy',\n",
        "              optimizer='adam',\n",
        "              metrics=['accuracy','AUC','Precision','Recall'])"
      ],
      "metadata": {
        "id": "N3Q0GAmQFzra"
      },
      "execution_count": null,
      "outputs": []
    },
    {
      "cell_type": "code",
      "source": [
        "from tensorflow.keras.callbacks import ModelCheckpoint, EarlyStopping\n",
        "es=EarlyStopping(patience=3,monitor='val_loss')\n",
        "filepath='best_model.h57'\n",
        "checkpoint = ModelCheckpoint(filepath, monitor='val_accuracy', verbose=1, save_best_only=True, mode='max')"
      ],
      "metadata": {
        "id": "nB0oLkraGMFB"
      },
      "execution_count": null,
      "outputs": []
    },
    {
      "cell_type": "code",
      "source": [
        "for j,(train_idx,val_idx) in enumerate(folds):\n",
        "    print(\"Fold \"+str(j+1))\n",
        "\n",
        "    x_train=X_dataset[train_idx]\n",
        "    y_train=Y_dataset[train_idx]\n",
        "    x_val=X_dataset[val_idx]\n",
        "    y_val=Y_dataset[val_idx]\n",
        "    history=model7.fit(train_datagen.flow(x_train,y_train),epochs=10,validation_data=(x_val,y_val),callbacks=checkpoint)\n",
        "    y_predict7_1=model7.predict(x_val)\n",
        "    Y_predict7_1=np.float32(y_predict7_1>0.50)\n",
        "    l=len(y_val)\n",
        "    Y_predict7_1=np.reshape(Y_predict7_1,(l,1))"
      ],
      "metadata": {
        "colab": {
          "base_uri": "https://localhost:8080/"
        },
        "id": "0agH7yi2GZEX",
        "outputId": "b0245ca0-d291-45df-836b-3fd56c995a3f"
      },
      "execution_count": null,
      "outputs": [
        {
          "output_type": "stream",
          "name": "stdout",
          "text": [
            "Fold 1\n",
            "Epoch 1/10\n",
            "36/36 [==============================] - ETA: 0s - loss: 0.8239 - accuracy: 0.5309 - auc: 0.5292 - precision: 0.5332 - recall: 0.5097\n",
            "Epoch 1: val_accuracy improved from -inf to 0.60000, saving model to best_model.h57\n"
          ]
        },
        {
          "output_type": "stream",
          "name": "stderr",
          "text": [
            "WARNING:absl:Found untraced functions such as _jit_compiled_convolution_op, _jit_compiled_convolution_op, _jit_compiled_convolution_op, _jit_compiled_convolution_op, _jit_compiled_convolution_op while saving (showing 5 of 120). These functions will not be directly callable after loading.\n"
          ]
        },
        {
          "output_type": "stream",
          "name": "stdout",
          "text": [
            "\b\b\b\b\b\b\b\b\b\b\b\b\b\b\b\b\b\b\b\b\b\b\b\b\b\b\b\b\b\b\b\b\b\b\b\b\b\b\b\b\b\b\b\b\b\b\b\b\b\b\b\b\b\b\b\b\b\b\b\b\b\b\b\b\b\b\b\b\b\b\b\b\b\b\b\b\b\b\b\b\b\b\b\b\b\b\b\b\b\b\b\b\b\b\b\b\b\b\b\b\b\b\b\b\b\b\b\b\b\b\b\b\b\b\b\b\b\b\b\b\b\b\b\b\b\b\b\b\b\b\b\b\b\r36/36 [==============================] - 84s 2s/step - loss: 0.8239 - accuracy: 0.5309 - auc: 0.5292 - precision: 0.5332 - recall: 0.5097 - val_loss: 0.6746 - val_accuracy: 0.6000 - val_auc: 0.6536 - val_precision: 0.5758 - val_recall: 0.7600\n",
            "Epoch 2/10\n",
            "36/36 [==============================] - ETA: 0s - loss: 0.7137 - accuracy: 0.5760 - auc: 0.6061 - precision: 0.5731 - recall: 0.6014\n",
            "Epoch 2: val_accuracy improved from 0.60000 to 0.63500, saving model to best_model.h57\n"
          ]
        },
        {
          "output_type": "stream",
          "name": "stderr",
          "text": [
            "WARNING:absl:Found untraced functions such as _jit_compiled_convolution_op, _jit_compiled_convolution_op, _jit_compiled_convolution_op, _jit_compiled_convolution_op, _jit_compiled_convolution_op while saving (showing 5 of 120). These functions will not be directly callable after loading.\n"
          ]
        },
        {
          "output_type": "stream",
          "name": "stdout",
          "text": [
            "\b\b\b\b\b\b\b\b\b\b\b\b\b\b\b\b\b\b\b\b\b\b\b\b\b\b\b\b\b\b\b\b\b\b\b\b\b\b\b\b\b\b\b\b\b\b\b\b\b\b\b\b\b\b\b\b\b\b\b\b\b\b\b\b\b\b\b\b\b\b\b\b\b\b\b\b\b\b\b\b\b\b\b\b\b\b\b\b\b\b\b\b\b\b\b\b\b\b\b\b\b\b\b\b\b\b\b\b\b\b\b\b\b\b\b\b\b\b\b\b\b\b\b\b\b\b\b\b\b\b\b\b\b\r36/36 [==============================] - 64s 2s/step - loss: 0.7137 - accuracy: 0.5760 - auc: 0.6061 - precision: 0.5731 - recall: 0.6014 - val_loss: 0.6289 - val_accuracy: 0.6350 - val_auc: 0.7086 - val_precision: 0.6195 - val_recall: 0.7000\n",
            "Epoch 3/10\n",
            "36/36 [==============================] - ETA: 0s - loss: 0.7111 - accuracy: 0.5786 - auc: 0.5993 - precision: 0.5843 - recall: 0.5503\n",
            "Epoch 3: val_accuracy improved from 0.63500 to 0.70000, saving model to best_model.h57\n"
          ]
        },
        {
          "output_type": "stream",
          "name": "stderr",
          "text": [
            "WARNING:absl:Found untraced functions such as _jit_compiled_convolution_op, _jit_compiled_convolution_op, _jit_compiled_convolution_op, _jit_compiled_convolution_op, _jit_compiled_convolution_op while saving (showing 5 of 120). These functions will not be directly callable after loading.\n"
          ]
        },
        {
          "output_type": "stream",
          "name": "stdout",
          "text": [
            "\b\b\b\b\b\b\b\b\b\b\b\b\b\b\b\b\b\b\b\b\b\b\b\b\b\b\b\b\b\b\b\b\b\b\b\b\b\b\b\b\b\b\b\b\b\b\b\b\b\b\b\b\b\b\b\b\b\b\b\b\b\b\b\b\b\b\b\b\b\b\b\b\b\b\b\b\b\b\b\b\b\b\b\b\b\b\b\b\b\b\b\b\b\b\b\b\b\b\b\b\b\b\b\b\b\b\b\b\b\b\b\b\b\b\b\b\b\b\b\b\b\b\b\b\b\b\b\b\b\b\b\b\b\r36/36 [==============================] - 63s 2s/step - loss: 0.7111 - accuracy: 0.5786 - auc: 0.5993 - precision: 0.5843 - recall: 0.5503 - val_loss: 0.5958 - val_accuracy: 0.7000 - val_auc: 0.7549 - val_precision: 0.7128 - val_recall: 0.6700\n",
            "Epoch 4/10\n",
            "36/36 [==============================] - ETA: 0s - loss: 0.6667 - accuracy: 0.6069 - auc: 0.6533 - precision: 0.6070 - recall: 0.6102\n",
            "Epoch 4: val_accuracy improved from 0.70000 to 0.73500, saving model to best_model.h57\n"
          ]
        },
        {
          "output_type": "stream",
          "name": "stderr",
          "text": [
            "WARNING:absl:Found untraced functions such as _jit_compiled_convolution_op, _jit_compiled_convolution_op, _jit_compiled_convolution_op, _jit_compiled_convolution_op, _jit_compiled_convolution_op while saving (showing 5 of 120). These functions will not be directly callable after loading.\n"
          ]
        },
        {
          "output_type": "stream",
          "name": "stdout",
          "text": [
            "\b\b\b\b\b\b\b\b\b\b\b\b\b\b\b\b\b\b\b\b\b\b\b\b\b\b\b\b\b\b\b\b\b\b\b\b\b\b\b\b\b\b\b\b\b\b\b\b\b\b\b\b\b\b\b\b\b\b\b\b\b\b\b\b\b\b\b\b\b\b\b\b\b\b\b\b\b\b\b\b\b\b\b\b\b\b\b\b\b\b\b\b\b\b\b\b\b\b\b\b\b\b\b\b\b\b\b\b\b\b\b\b\b\b\b\b\b\b\b\b\b\b\b\b\b\b\b\b\b\b\b\b\b\r36/36 [==============================] - 64s 2s/step - loss: 0.6667 - accuracy: 0.6069 - auc: 0.6533 - precision: 0.6070 - recall: 0.6102 - val_loss: 0.5747 - val_accuracy: 0.7350 - val_auc: 0.7875 - val_precision: 0.7831 - val_recall: 0.6500\n",
            "Epoch 5/10\n",
            "36/36 [==============================] - ETA: 0s - loss: 0.6689 - accuracy: 0.6087 - auc: 0.6480 - precision: 0.6216 - recall: 0.5591\n",
            "Epoch 5: val_accuracy did not improve from 0.73500\n",
            "36/36 [==============================] - 14s 378ms/step - loss: 0.6689 - accuracy: 0.6087 - auc: 0.6480 - precision: 0.6216 - recall: 0.5591 - val_loss: 0.5574 - val_accuracy: 0.7300 - val_auc: 0.8202 - val_precision: 0.7255 - val_recall: 0.7400\n",
            "Epoch 6/10\n",
            "36/36 [==============================] - ETA: 0s - loss: 0.6547 - accuracy: 0.6166 - auc: 0.6747 - precision: 0.6185 - recall: 0.6120\n",
            "Epoch 6: val_accuracy did not improve from 0.73500\n",
            "36/36 [==============================] - 14s 376ms/step - loss: 0.6547 - accuracy: 0.6166 - auc: 0.6747 - precision: 0.6185 - recall: 0.6120 - val_loss: 0.6278 - val_accuracy: 0.6100 - val_auc: 0.8291 - val_precision: 0.5618 - val_recall: 1.0000\n",
            "Epoch 7/10\n",
            "36/36 [==============================] - ETA: 0s - loss: 0.6464 - accuracy: 0.6299 - auc: 0.6843 - precision: 0.6246 - recall: 0.6543\n",
            "Epoch 7: val_accuracy improved from 0.73500 to 0.74000, saving model to best_model.h57\n"
          ]
        },
        {
          "output_type": "stream",
          "name": "stderr",
          "text": [
            "WARNING:absl:Found untraced functions such as _jit_compiled_convolution_op, _jit_compiled_convolution_op, _jit_compiled_convolution_op, _jit_compiled_convolution_op, _jit_compiled_convolution_op while saving (showing 5 of 120). These functions will not be directly callable after loading.\n"
          ]
        },
        {
          "output_type": "stream",
          "name": "stdout",
          "text": [
            "\b\b\b\b\b\b\b\b\b\b\b\b\b\b\b\b\b\b\b\b\b\b\b\b\b\b\b\b\b\b\b\b\b\b\b\b\b\b\b\b\b\b\b\b\b\b\b\b\b\b\b\b\b\b\b\b\b\b\b\b\b\b\b\b\b\b\b\b\b\b\b\b\b\b\b\b\b\b\b\b\b\b\b\b\b\b\b\b\b\b\b\b\b\b\b\b\b\b\b\b\b\b\b\b\b\b\b\b\b\b\b\b\b\b\b\b\b\b\b\b\b\b\b\b\b\b\b\b\b\b\b\b\b\r36/36 [==============================] - 65s 2s/step - loss: 0.6464 - accuracy: 0.6299 - auc: 0.6843 - precision: 0.6246 - recall: 0.6543 - val_loss: 0.5402 - val_accuracy: 0.7400 - val_auc: 0.8468 - val_precision: 0.8429 - val_recall: 0.5900\n",
            "Epoch 8/10\n",
            "36/36 [==============================] - ETA: 0s - loss: 0.6286 - accuracy: 0.6475 - auc: 0.7006 - precision: 0.6527 - recall: 0.6332\n",
            "Epoch 8: val_accuracy improved from 0.74000 to 0.76000, saving model to best_model.h57\n"
          ]
        },
        {
          "output_type": "stream",
          "name": "stderr",
          "text": [
            "WARNING:absl:Found untraced functions such as _jit_compiled_convolution_op, _jit_compiled_convolution_op, _jit_compiled_convolution_op, _jit_compiled_convolution_op, _jit_compiled_convolution_op while saving (showing 5 of 120). These functions will not be directly callable after loading.\n"
          ]
        },
        {
          "output_type": "stream",
          "name": "stdout",
          "text": [
            "\b\b\b\b\b\b\b\b\b\b\b\b\b\b\b\b\b\b\b\b\b\b\b\b\b\b\b\b\b\b\b\b\b\b\b\b\b\b\b\b\b\b\b\b\b\b\b\b\b\b\b\b\b\b\b\b\b\b\b\b\b\b\b\b\b\b\b\b\b\b\b\b\b\b\b\b\b\b\b\b\b\b\b\b\b\b\b\b\b\b\b\b\b\b\b\b\b\b\b\b\b\b\b\b\b\b\b\b\b\b\b\b\b\b\b\b\b\b\b\b\b\b\b\b\b\b\b\b\b\b\b\b\b\r36/36 [==============================] - 63s 2s/step - loss: 0.6286 - accuracy: 0.6475 - auc: 0.7006 - precision: 0.6527 - recall: 0.6332 - val_loss: 0.5180 - val_accuracy: 0.7600 - val_auc: 0.8666 - val_precision: 0.8250 - val_recall: 0.6600\n",
            "Epoch 9/10\n",
            "36/36 [==============================] - ETA: 0s - loss: 0.6102 - accuracy: 0.6528 - auc: 0.7254 - precision: 0.6605 - recall: 0.6314\n",
            "Epoch 9: val_accuracy improved from 0.76000 to 0.77500, saving model to best_model.h57\n"
          ]
        },
        {
          "output_type": "stream",
          "name": "stderr",
          "text": [
            "WARNING:absl:Found untraced functions such as _jit_compiled_convolution_op, _jit_compiled_convolution_op, _jit_compiled_convolution_op, _jit_compiled_convolution_op, _jit_compiled_convolution_op while saving (showing 5 of 120). These functions will not be directly callable after loading.\n"
          ]
        },
        {
          "output_type": "stream",
          "name": "stdout",
          "text": [
            "\b\b\b\b\b\b\b\b\b\b\b\b\b\b\b\b\b\b\b\b\b\b\b\b\b\b\b\b\b\b\b\b\b\b\b\b\b\b\b\b\b\b\b\b\b\b\b\b\b\b\b\b\b\b\b\b\b\b\b\b\b\b\b\b\b\b\b\b\b\b\b\b\b\b\b\b\b\b\b\b\b\b\b\b\b\b\b\b\b\b\b\b\b\b\b\b\b\b\b\b\b\b\b\b\b\b\b\b\b\b\b\b\b\b\b\b\b\b\b\b\b\b\b\b\b\b\b\b\b\b\b\b\b\r36/36 [==============================] - 62s 2s/step - loss: 0.6102 - accuracy: 0.6528 - auc: 0.7254 - precision: 0.6605 - recall: 0.6314 - val_loss: 0.5038 - val_accuracy: 0.7750 - val_auc: 0.8702 - val_precision: 0.7723 - val_recall: 0.7800\n",
            "Epoch 10/10\n",
            "36/36 [==============================] - ETA: 0s - loss: 0.6151 - accuracy: 0.6670 - auc: 0.7236 - precision: 0.6644 - recall: 0.6772\n",
            "Epoch 10: val_accuracy improved from 0.77500 to 0.78000, saving model to best_model.h57\n"
          ]
        },
        {
          "output_type": "stream",
          "name": "stderr",
          "text": [
            "WARNING:absl:Found untraced functions such as _jit_compiled_convolution_op, _jit_compiled_convolution_op, _jit_compiled_convolution_op, _jit_compiled_convolution_op, _jit_compiled_convolution_op while saving (showing 5 of 120). These functions will not be directly callable after loading.\n"
          ]
        },
        {
          "output_type": "stream",
          "name": "stdout",
          "text": [
            "36/36 [==============================] - 67s 2s/step - loss: 0.6151 - accuracy: 0.6670 - auc: 0.7236 - precision: 0.6644 - recall: 0.6772 - val_loss: 0.4999 - val_accuracy: 0.7800 - val_auc: 0.8698 - val_precision: 0.7745 - val_recall: 0.7900\n",
            "7/7 [==============================] - 4s 103ms/step\n",
            "Fold 2\n",
            "Epoch 1/10\n",
            "36/36 [==============================] - ETA: 0s - loss: 0.6007 - accuracy: 0.6714 - auc: 0.7354 - precision: 0.6753 - recall: 0.6488\n",
            "Epoch 1: val_accuracy improved from 0.78000 to 0.81500, saving model to best_model.h57\n"
          ]
        },
        {
          "output_type": "stream",
          "name": "stderr",
          "text": [
            "WARNING:absl:Found untraced functions such as _jit_compiled_convolution_op, _jit_compiled_convolution_op, _jit_compiled_convolution_op, _jit_compiled_convolution_op, _jit_compiled_convolution_op while saving (showing 5 of 120). These functions will not be directly callable after loading.\n"
          ]
        },
        {
          "output_type": "stream",
          "name": "stdout",
          "text": [
            "\b\b\b\b\b\b\b\b\b\b\b\b\b\b\b\b\b\b\b\b\b\b\b\b\b\b\b\b\b\b\b\b\b\b\b\b\b\b\b\b\b\b\b\b\b\b\b\b\b\b\b\b\b\b\b\b\b\b\b\b\b\b\b\b\b\b\b\b\b\b\b\b\b\b\b\b\b\b\b\b\b\b\b\b\b\b\b\b\b\b\b\b\b\b\b\b\b\b\b\b\b\b\b\b\b\b\b\b\b\b\b\b\b\b\b\b\b\b\b\b\b\b\b\b\b\b\b\b\b\b\b\b\b\r36/36 [==============================] - 62s 2s/step - loss: 0.6007 - accuracy: 0.6714 - auc: 0.7354 - precision: 0.6753 - recall: 0.6488 - val_loss: 0.5044 - val_accuracy: 0.8150 - val_auc: 0.8624 - val_precision: 0.8108 - val_recall: 0.8491\n",
            "Epoch 2/10\n",
            "36/36 [==============================] - ETA: 0s - loss: 0.5984 - accuracy: 0.6873 - auc: 0.7414 - precision: 0.6794 - recall: 0.6988\n",
            "Epoch 2: val_accuracy did not improve from 0.81500\n",
            "36/36 [==============================] - 14s 370ms/step - loss: 0.5984 - accuracy: 0.6873 - auc: 0.7414 - precision: 0.6794 - recall: 0.6988 - val_loss: 0.5036 - val_accuracy: 0.7800 - val_auc: 0.8652 - val_precision: 0.8163 - val_recall: 0.7547\n",
            "Epoch 3/10\n",
            "36/36 [==============================] - ETA: 0s - loss: 0.5986 - accuracy: 0.6564 - auc: 0.7365 - precision: 0.6547 - recall: 0.6488\n",
            "Epoch 3: val_accuracy did not improve from 0.81500\n",
            "36/36 [==============================] - 14s 369ms/step - loss: 0.5986 - accuracy: 0.6564 - auc: 0.7365 - precision: 0.6547 - recall: 0.6488 - val_loss: 0.4975 - val_accuracy: 0.8050 - val_auc: 0.8673 - val_precision: 0.7913 - val_recall: 0.8585\n",
            "Epoch 4/10\n",
            "36/36 [==============================] - ETA: 0s - loss: 0.5881 - accuracy: 0.6855 - auc: 0.7519 - precision: 0.6847 - recall: 0.6774\n",
            "Epoch 4: val_accuracy did not improve from 0.81500\n",
            "36/36 [==============================] - 14s 371ms/step - loss: 0.5881 - accuracy: 0.6855 - auc: 0.7519 - precision: 0.6847 - recall: 0.6774 - val_loss: 0.5334 - val_accuracy: 0.7150 - val_auc: 0.8688 - val_precision: 0.8551 - val_recall: 0.5566\n",
            "Epoch 5/10\n",
            "36/36 [==============================] - ETA: 0s - loss: 0.5989 - accuracy: 0.6784 - auc: 0.7406 - precision: 0.6855 - recall: 0.6488\n",
            "Epoch 5: val_accuracy did not improve from 0.81500\n",
            "36/36 [==============================] - 14s 371ms/step - loss: 0.5989 - accuracy: 0.6784 - auc: 0.7406 - precision: 0.6855 - recall: 0.6488 - val_loss: 0.4923 - val_accuracy: 0.7900 - val_auc: 0.8736 - val_precision: 0.8200 - val_recall: 0.7736\n",
            "Epoch 6/10\n",
            "36/36 [==============================] - ETA: 0s - loss: 0.5800 - accuracy: 0.6890 - auc: 0.7619 - precision: 0.6805 - recall: 0.7023\n",
            "Epoch 6: val_accuracy did not improve from 0.81500\n",
            "36/36 [==============================] - 14s 376ms/step - loss: 0.5800 - accuracy: 0.6890 - auc: 0.7619 - precision: 0.6805 - recall: 0.7023 - val_loss: 0.4867 - val_accuracy: 0.8050 - val_auc: 0.8779 - val_precision: 0.8190 - val_recall: 0.8113\n",
            "Epoch 7/10\n",
            "36/36 [==============================] - ETA: 0s - loss: 0.5721 - accuracy: 0.7049 - auc: 0.7724 - precision: 0.7129 - recall: 0.6774\n",
            "Epoch 7: val_accuracy did not improve from 0.81500\n",
            "36/36 [==============================] - 13s 373ms/step - loss: 0.5721 - accuracy: 0.7049 - auc: 0.7724 - precision: 0.7129 - recall: 0.6774 - val_loss: 0.4825 - val_accuracy: 0.8100 - val_auc: 0.8843 - val_precision: 0.8269 - val_recall: 0.8113\n",
            "Epoch 8/10\n",
            "36/36 [==============================] - ETA: 0s - loss: 0.5521 - accuracy: 0.7200 - auc: 0.7940 - precision: 0.7218 - recall: 0.7077\n",
            "Epoch 8: val_accuracy did not improve from 0.81500\n",
            "36/36 [==============================] - 14s 375ms/step - loss: 0.5521 - accuracy: 0.7200 - auc: 0.7940 - precision: 0.7218 - recall: 0.7077 - val_loss: 0.4782 - val_accuracy: 0.8100 - val_auc: 0.8873 - val_precision: 0.7881 - val_recall: 0.8774\n",
            "Epoch 9/10\n",
            "36/36 [==============================] - ETA: 0s - loss: 0.5661 - accuracy: 0.7049 - auc: 0.7761 - precision: 0.7090 - recall: 0.6863\n",
            "Epoch 9: val_accuracy did not improve from 0.81500\n",
            "36/36 [==============================] - 14s 377ms/step - loss: 0.5661 - accuracy: 0.7049 - auc: 0.7761 - precision: 0.7090 - recall: 0.6863 - val_loss: 0.4857 - val_accuracy: 0.8000 - val_auc: 0.8876 - val_precision: 0.8667 - val_recall: 0.7358\n",
            "Epoch 10/10\n",
            "36/36 [==============================] - ETA: 0s - loss: 0.5499 - accuracy: 0.7094 - auc: 0.7959 - precision: 0.7125 - recall: 0.6934\n",
            "Epoch 10: val_accuracy did not improve from 0.81500\n",
            "36/36 [==============================] - 14s 375ms/step - loss: 0.5499 - accuracy: 0.7094 - auc: 0.7959 - precision: 0.7125 - recall: 0.6934 - val_loss: 0.4730 - val_accuracy: 0.8150 - val_auc: 0.8870 - val_precision: 0.7949 - val_recall: 0.8774\n",
            "7/7 [==============================] - 1s 89ms/step\n"
          ]
        }
      ]
    },
    {
      "cell_type": "code",
      "source": [
        "model7.evaluate(train_datagen.flow(x_train,y_train))\n",
        "model7.evaluate(val_datagen.flow(x_val,y_val))"
      ],
      "metadata": {
        "colab": {
          "base_uri": "https://localhost:8080/"
        },
        "id": "io_zP7vhGxaR",
        "outputId": "e8ff05bb-e63e-4288-969e-9d5c0b046831"
      },
      "execution_count": null,
      "outputs": [
        {
          "output_type": "stream",
          "name": "stdout",
          "text": [
            "36/36 [==============================] - 16s 355ms/step - loss: 0.5331 - accuracy: 0.7491 - auc: 0.8315 - precision: 0.7083 - recall: 0.8396\n",
            "7/7 [==============================] - 2s 271ms/step - loss: 0.5238 - accuracy: 0.7850 - auc: 0.8480 - precision: 0.7739 - recall: 0.8396\n"
          ]
        },
        {
          "output_type": "execute_result",
          "data": {
            "text/plain": [
              "[0.5238006711006165,\n",
              " 0.7850000262260437,\n",
              " 0.8480028510093689,\n",
              " 0.7739130258560181,\n",
              " 0.8396226167678833]"
            ]
          },
          "metadata": {},
          "execution_count": 18
        }
      ]
    },
    {
      "cell_type": "code",
      "source": [
        "y_predict7_2=model7.predict(x_test)\n",
        "Y_predict7_2=np.float32(y_predict7_2>0.50)\n",
        "l=len(y_test)\n",
        "Y_predict7_2=np.reshape(Y_predict7_2,(l,1))\n",
        "print(Y_predict7_2)"
      ],
      "metadata": {
        "colab": {
          "base_uri": "https://localhost:8080/"
        },
        "id": "64iRN9eJG_Sf",
        "outputId": "8aa95c1e-ec5d-42c9-aa80-a88a11f425ad"
      },
      "execution_count": null,
      "outputs": [
        {
          "output_type": "stream",
          "name": "stdout",
          "text": [
            "5/5 [==============================] - 2s 418ms/step\n",
            "[[1.]\n",
            " [1.]\n",
            " [0.]\n",
            " [0.]\n",
            " [1.]\n",
            " [1.]\n",
            " [0.]\n",
            " [0.]\n",
            " [1.]\n",
            " [1.]\n",
            " [0.]\n",
            " [0.]\n",
            " [1.]\n",
            " [1.]\n",
            " [1.]\n",
            " [0.]\n",
            " [1.]\n",
            " [0.]\n",
            " [1.]\n",
            " [0.]\n",
            " [1.]\n",
            " [1.]\n",
            " [0.]\n",
            " [0.]\n",
            " [0.]\n",
            " [1.]\n",
            " [1.]\n",
            " [1.]\n",
            " [1.]\n",
            " [0.]\n",
            " [1.]\n",
            " [1.]\n",
            " [0.]\n",
            " [0.]\n",
            " [1.]\n",
            " [1.]\n",
            " [1.]\n",
            " [0.]\n",
            " [1.]\n",
            " [0.]\n",
            " [0.]\n",
            " [0.]\n",
            " [0.]\n",
            " [0.]\n",
            " [1.]\n",
            " [0.]\n",
            " [0.]\n",
            " [1.]\n",
            " [1.]\n",
            " [1.]\n",
            " [1.]\n",
            " [1.]\n",
            " [0.]\n",
            " [0.]\n",
            " [1.]\n",
            " [0.]\n",
            " [0.]\n",
            " [0.]\n",
            " [0.]\n",
            " [1.]\n",
            " [1.]\n",
            " [1.]\n",
            " [0.]\n",
            " [0.]\n",
            " [0.]\n",
            " [0.]\n",
            " [0.]\n",
            " [1.]\n",
            " [1.]\n",
            " [1.]\n",
            " [0.]\n",
            " [1.]\n",
            " [1.]\n",
            " [0.]\n",
            " [0.]\n",
            " [1.]\n",
            " [1.]\n",
            " [1.]\n",
            " [0.]\n",
            " [1.]\n",
            " [0.]\n",
            " [0.]\n",
            " [1.]\n",
            " [1.]\n",
            " [1.]\n",
            " [0.]\n",
            " [1.]\n",
            " [0.]\n",
            " [1.]\n",
            " [1.]\n",
            " [1.]\n",
            " [1.]\n",
            " [1.]\n",
            " [1.]\n",
            " [1.]\n",
            " [1.]\n",
            " [0.]\n",
            " [1.]\n",
            " [1.]\n",
            " [1.]\n",
            " [1.]\n",
            " [1.]\n",
            " [1.]\n",
            " [1.]\n",
            " [0.]\n",
            " [1.]\n",
            " [1.]\n",
            " [1.]\n",
            " [1.]\n",
            " [0.]\n",
            " [1.]\n",
            " [1.]\n",
            " [0.]\n",
            " [1.]\n",
            " [1.]\n",
            " [1.]\n",
            " [0.]\n",
            " [1.]\n",
            " [1.]\n",
            " [1.]\n",
            " [0.]\n",
            " [0.]\n",
            " [0.]\n",
            " [1.]\n",
            " [1.]\n",
            " [1.]\n",
            " [0.]\n",
            " [0.]\n",
            " [1.]\n",
            " [0.]\n",
            " [0.]\n",
            " [1.]\n",
            " [1.]\n",
            " [1.]\n",
            " [1.]\n",
            " [0.]\n",
            " [1.]\n",
            " [0.]\n",
            " [0.]\n",
            " [1.]\n",
            " [1.]\n",
            " [0.]\n",
            " [1.]\n",
            " [0.]\n",
            " [1.]\n",
            " [0.]\n",
            " [0.]\n",
            " [0.]]\n"
          ]
        }
      ]
    },
    {
      "cell_type": "code",
      "source": [
        "from sklearn.metrics import auc,roc_curve\n",
        "from sklearn.metrics import f1_score\n",
        "from sklearn.metrics import cohen_kappa_score\n",
        "from sklearn.metrics import accuracy_score\n",
        "f17 = f1_score(y_test, Y_predict7_2)\n",
        "test_accuracy7 = accuracy_score(y_test, Y_predict7_2)\n",
        "kappa7 = cohen_kappa_score(y_test, Y_predict7_2)\n",
        "auc7 = roc_auc_score(y_test, Y_predict7_2)"
      ],
      "metadata": {
        "id": "uGLUw0dlHUQ0"
      },
      "execution_count": null,
      "outputs": []
    },
    {
      "cell_type": "code",
      "source": [
        "print(auc7)\n",
        "print(f17)\n",
        "print(kappa7)\n",
        "print(test_accuracy7)"
      ],
      "metadata": {
        "colab": {
          "base_uri": "https://localhost:8080/"
        },
        "id": "i6uAPbGxHhKf",
        "outputId": "fb6efde3-3506-4e06-e533-69131133e2e9"
      },
      "execution_count": null,
      "outputs": [
        {
          "output_type": "stream",
          "name": "stdout",
          "text": [
            "0.7997076023391813\n",
            "0.8101265822784809\n",
            "0.5963636363636364\n",
            "0.7972972972972973\n"
          ]
        }
      ]
    },
    {
      "cell_type": "markdown",
      "source": [
        "# Resnet50"
      ],
      "metadata": {
        "id": "JqjE4BiCwjjW"
      }
    },
    {
      "cell_type": "code",
      "source": [
        "base_model8 = tf.keras.applications.resnet50.ResNet50(\n",
        "    weights='imagenet',\n",
        "    input_shape=(224, 224, 3),\n",
        "    include_top=False)\n",
        "base_model8.trainable = False\n",
        "inputs = tf.keras.Input(shape=(224, 224, 3))\n",
        "x8 = base_model8(inputs, training=False)\n",
        "x8 = tf.keras.layers.GlobalAveragePooling2D()(x8)\n",
        "x8 = tf.keras.layers.Dropout(0.2)(x8)\n",
        "x8 = tf.keras.layers.Dense(1)(x8)\n",
        "outputs=tf.keras.layers.Activation(activation='sigmoid')(x8)\n",
        "model8 = tf.keras.Model(inputs, outputs)\n",
        "model8.summary()"
      ],
      "metadata": {
        "colab": {
          "base_uri": "https://localhost:8080/"
        },
        "id": "nODvwxa_wlie",
        "outputId": "f432461e-31fd-4ff8-a52f-f02602000a22"
      },
      "execution_count": null,
      "outputs": [
        {
          "output_type": "stream",
          "name": "stdout",
          "text": [
            "Downloading data from https://storage.googleapis.com/tensorflow/keras-applications/resnet/resnet50_weights_tf_dim_ordering_tf_kernels_notop.h5\n",
            "94765736/94765736 [==============================] - 5s 0us/step\n",
            "Model: \"model_1\"\n",
            "_________________________________________________________________\n",
            " Layer (type)                Output Shape              Param #   \n",
            "=================================================================\n",
            " input_4 (InputLayer)        [(None, 224, 224, 3)]     0         \n",
            "                                                                 \n",
            " resnet50 (Functional)       (None, 7, 7, 2048)        23587712  \n",
            "                                                                 \n",
            " global_average_pooling2d_1   (None, 2048)             0         \n",
            " (GlobalAveragePooling2D)                                        \n",
            "                                                                 \n",
            " dropout_1 (Dropout)         (None, 2048)              0         \n",
            "                                                                 \n",
            " dense_1 (Dense)             (None, 1)                 2049      \n",
            "                                                                 \n",
            " activation_1 (Activation)   (None, 1)                 0         \n",
            "                                                                 \n",
            "=================================================================\n",
            "Total params: 23,589,761\n",
            "Trainable params: 2,049\n",
            "Non-trainable params: 23,587,712\n",
            "_________________________________________________________________\n"
          ]
        }
      ]
    },
    {
      "cell_type": "code",
      "source": [
        "model8.compile(loss='binary_crossentropy',\n",
        "              optimizer='adam',\n",
        "              metrics=['accuracy','AUC','Precision','Recall'])"
      ],
      "metadata": {
        "id": "I7rCMFXDF1lU"
      },
      "execution_count": null,
      "outputs": []
    },
    {
      "cell_type": "code",
      "source": [
        "from tensorflow.keras.callbacks import ModelCheckpoint, EarlyStopping\n",
        "es=EarlyStopping(patience=3,monitor='val_loss')\n",
        "filepath='best_model.h58'\n",
        "checkpoint = ModelCheckpoint(filepath, monitor='val_accuracy', verbose=1, save_best_only=True, mode='max')"
      ],
      "metadata": {
        "id": "_NdvTSdDGM0q"
      },
      "execution_count": null,
      "outputs": []
    },
    {
      "cell_type": "code",
      "source": [
        "for j,(train_idx,val_idx) in enumerate(folds):\n",
        "    print(\"Fold \"+str(j+1))\n",
        "\n",
        "    x_train=X_dataset[train_idx]\n",
        "    y_train=Y_dataset[train_idx]\n",
        "    x_val=X_dataset[val_idx]\n",
        "    y_val=Y_dataset[val_idx]\n",
        "    history=model8.fit(train_datagen.flow(x_train,y_train),epochs=10,validation_data=(x_val,y_val),callbacks=checkpoint)\n",
        "    y_predict8_1=model8.predict(x_val)\n",
        "    Y_predict8_1=np.float32(y_predict8_1>0.50)\n",
        "    l=len(y_val)\n",
        "    Y_predict8_1=np.reshape(Y_predict8_1,(l,1))"
      ],
      "metadata": {
        "colab": {
          "base_uri": "https://localhost:8080/"
        },
        "id": "URxyQmSDGZ4f",
        "outputId": "4514cc4a-d51c-48d7-8186-7aab53dee0c6"
      },
      "execution_count": null,
      "outputs": [
        {
          "output_type": "stream",
          "name": "stdout",
          "text": [
            "Fold 1\n",
            "Epoch 1/10\n",
            "36/36 [==============================] - ETA: 0s - loss: 0.8448 - accuracy: 0.5168 - auc: 0.5072 - precision: 0.5161 - recall: 0.5644\n",
            "Epoch 1: val_accuracy improved from -inf to 0.42000, saving model to best_model.h58\n"
          ]
        },
        {
          "output_type": "stream",
          "name": "stderr",
          "text": [
            "WARNING:absl:Found untraced functions such as _jit_compiled_convolution_op, _jit_compiled_convolution_op, _jit_compiled_convolution_op, _jit_compiled_convolution_op, _jit_compiled_convolution_op while saving (showing 5 of 53). These functions will not be directly callable after loading.\n"
          ]
        },
        {
          "output_type": "stream",
          "name": "stdout",
          "text": [
            "\b\b\b\b\b\b\b\b\b\b\b\b\b\b\b\b\b\b\b\b\b\b\b\b\b\b\b\b\b\b\b\b\b\b\b\b\b\b\b\b\b\b\b\b\b\b\b\b\b\b\b\b\b\b\b\b\b\b\b\b\b\b\b\b\b\b\b\b\b\b\b\b\b\b\b\b\b\b\b\b\b\b\b\b\b\b\b\b\b\b\b\b\b\b\b\b\b\b\b\b\b\b\b\b\b\b\b\b\b\b\b\b\b\b\b\b\b\b\b\b\b\b\b\b\b\b\b\b\b\b\b\b\b\r36/36 [==============================] - 45s 1s/step - loss: 0.8448 - accuracy: 0.5168 - auc: 0.5072 - precision: 0.5161 - recall: 0.5644 - val_loss: 0.6939 - val_accuracy: 0.4200 - val_auc: 0.4733 - val_precision: 0.4111 - val_recall: 0.3700\n",
            "Epoch 2/10\n",
            "36/36 [==============================] - ETA: 0s - loss: 0.7082 - accuracy: 0.5230 - auc: 0.5223 - precision: 0.5248 - recall: 0.5044\n",
            "Epoch 2: val_accuracy improved from 0.42000 to 0.50000, saving model to best_model.h58\n"
          ]
        },
        {
          "output_type": "stream",
          "name": "stderr",
          "text": [
            "WARNING:absl:Found untraced functions such as _jit_compiled_convolution_op, _jit_compiled_convolution_op, _jit_compiled_convolution_op, _jit_compiled_convolution_op, _jit_compiled_convolution_op while saving (showing 5 of 53). These functions will not be directly callable after loading.\n"
          ]
        },
        {
          "output_type": "stream",
          "name": "stdout",
          "text": [
            "\b\b\b\b\b\b\b\b\b\b\b\b\b\b\b\b\b\b\b\b\b\b\b\b\b\b\b\b\b\b\b\b\b\b\b\b\b\b\b\b\b\b\b\b\b\b\b\b\b\b\b\b\b\b\b\b\b\b\b\b\b\b\b\b\b\b\b\b\b\b\b\b\b\b\b\b\b\b\b\b\b\b\b\b\b\b\b\b\b\b\b\b\b\b\b\b\b\b\b\b\b\b\b\b\b\b\b\b\b\b\b\b\b\b\b\b\b\b\b\b\b\b\b\b\b\b\b\b\b\b\b\b\b\r36/36 [==============================] - 38s 1s/step - loss: 0.7082 - accuracy: 0.5230 - auc: 0.5223 - precision: 0.5248 - recall: 0.5044 - val_loss: 0.7007 - val_accuracy: 0.5000 - val_auc: 0.5756 - val_precision: 0.0000e+00 - val_recall: 0.0000e+00\n",
            "Epoch 3/10\n",
            "36/36 [==============================] - ETA: 0s - loss: 0.7242 - accuracy: 0.4912 - auc: 0.4861 - precision: 0.4922 - recall: 0.5026\n",
            "Epoch 3: val_accuracy did not improve from 0.50000\n",
            "36/36 [==============================] - 14s 387ms/step - loss: 0.7242 - accuracy: 0.4912 - auc: 0.4861 - precision: 0.4922 - recall: 0.5026 - val_loss: 0.6906 - val_accuracy: 0.5000 - val_auc: 0.6587 - val_precision: 0.0000e+00 - val_recall: 0.0000e+00\n",
            "Epoch 4/10\n",
            "36/36 [==============================] - ETA: 0s - loss: 0.7040 - accuracy: 0.5080 - auc: 0.5206 - precision: 0.5096 - recall: 0.4674\n",
            "Epoch 4: val_accuracy did not improve from 0.50000\n",
            "36/36 [==============================] - 14s 393ms/step - loss: 0.7040 - accuracy: 0.5080 - auc: 0.5206 - precision: 0.5096 - recall: 0.4674 - val_loss: 0.6809 - val_accuracy: 0.5000 - val_auc: 0.6802 - val_precision: 0.0000e+00 - val_recall: 0.0000e+00\n",
            "Epoch 5/10\n",
            "36/36 [==============================] - ETA: 0s - loss: 0.6982 - accuracy: 0.5221 - auc: 0.5316 - precision: 0.5241 - recall: 0.4991\n",
            "Epoch 5: val_accuracy improved from 0.50000 to 0.61000, saving model to best_model.h58\n"
          ]
        },
        {
          "output_type": "stream",
          "name": "stderr",
          "text": [
            "WARNING:absl:Found untraced functions such as _jit_compiled_convolution_op, _jit_compiled_convolution_op, _jit_compiled_convolution_op, _jit_compiled_convolution_op, _jit_compiled_convolution_op while saving (showing 5 of 53). These functions will not be directly callable after loading.\n"
          ]
        },
        {
          "output_type": "stream",
          "name": "stdout",
          "text": [
            "\b\b\b\b\b\b\b\b\b\b\b\b\b\b\b\b\b\b\b\b\b\b\b\b\b\b\b\b\b\b\b\b\b\b\b\b\b\b\b\b\b\b\b\b\b\b\b\b\b\b\b\b\b\b\b\b\b\b\b\b\b\b\b\b\b\b\b\b\b\b\b\b\b\b\b\b\b\b\b\b\b\b\b\b\b\b\b\b\b\b\b\b\b\b\b\b\b\b\b\b\b\b\b\b\b\b\b\b\b\b\b\b\b\b\b\b\b\b\b\b\b\b\b\b\b\b\b\b\b\b\b\b\b\r36/36 [==============================] - 40s 1s/step - loss: 0.6982 - accuracy: 0.5221 - auc: 0.5316 - precision: 0.5241 - recall: 0.4991 - val_loss: 0.6725 - val_accuracy: 0.6100 - val_auc: 0.6820 - val_precision: 0.5696 - val_recall: 0.9000\n",
            "Epoch 6/10\n",
            "36/36 [==============================] - ETA: 0s - loss: 0.6964 - accuracy: 0.5194 - auc: 0.5352 - precision: 0.5179 - recall: 0.5873\n",
            "Epoch 6: val_accuracy improved from 0.61000 to 0.62500, saving model to best_model.h58\n"
          ]
        },
        {
          "output_type": "stream",
          "name": "stderr",
          "text": [
            "WARNING:absl:Found untraced functions such as _jit_compiled_convolution_op, _jit_compiled_convolution_op, _jit_compiled_convolution_op, _jit_compiled_convolution_op, _jit_compiled_convolution_op while saving (showing 5 of 53). These functions will not be directly callable after loading.\n"
          ]
        },
        {
          "output_type": "stream",
          "name": "stdout",
          "text": [
            "\b\b\b\b\b\b\b\b\b\b\b\b\b\b\b\b\b\b\b\b\b\b\b\b\b\b\b\b\b\b\b\b\b\b\b\b\b\b\b\b\b\b\b\b\b\b\b\b\b\b\b\b\b\b\b\b\b\b\b\b\b\b\b\b\b\b\b\b\b\b\b\b\b\b\b\b\b\b\b\b\b\b\b\b\b\b\b\b\b\b\b\b\b\b\b\b\b\b\b\b\b\b\b\b\b\b\b\b\b\b\b\b\b\b\b\b\b\b\b\b\b\b\b\b\b\b\b\b\b\b\b\b\b\r36/36 [==============================] - 38s 1s/step - loss: 0.6964 - accuracy: 0.5194 - auc: 0.5352 - precision: 0.5179 - recall: 0.5873 - val_loss: 0.6664 - val_accuracy: 0.6250 - val_auc: 0.6889 - val_precision: 0.6050 - val_recall: 0.7200\n",
            "Epoch 7/10\n",
            "36/36 [==============================] - ETA: 0s - loss: 0.6960 - accuracy: 0.5327 - auc: 0.5324 - precision: 0.5325 - recall: 0.5485\n",
            "Epoch 7: val_accuracy improved from 0.62500 to 0.63500, saving model to best_model.h58\n"
          ]
        },
        {
          "output_type": "stream",
          "name": "stderr",
          "text": [
            "WARNING:absl:Found untraced functions such as _jit_compiled_convolution_op, _jit_compiled_convolution_op, _jit_compiled_convolution_op, _jit_compiled_convolution_op, _jit_compiled_convolution_op while saving (showing 5 of 53). These functions will not be directly callable after loading.\n"
          ]
        },
        {
          "output_type": "stream",
          "name": "stdout",
          "text": [
            "\b\b\b\b\b\b\b\b\b\b\b\b\b\b\b\b\b\b\b\b\b\b\b\b\b\b\b\b\b\b\b\b\b\b\b\b\b\b\b\b\b\b\b\b\b\b\b\b\b\b\b\b\b\b\b\b\b\b\b\b\b\b\b\b\b\b\b\b\b\b\b\b\b\b\b\b\b\b\b\b\b\b\b\b\b\b\b\b\b\b\b\b\b\b\b\b\b\b\b\b\b\b\b\b\b\b\b\b\b\b\b\b\b\b\b\b\b\b\b\b\b\b\b\b\b\b\b\b\b\b\b\b\b\r36/36 [==============================] - 37s 1s/step - loss: 0.6960 - accuracy: 0.5327 - auc: 0.5324 - precision: 0.5325 - recall: 0.5485 - val_loss: 0.6632 - val_accuracy: 0.6350 - val_auc: 0.6908 - val_precision: 0.6337 - val_recall: 0.6400\n",
            "Epoch 8/10\n",
            "36/36 [==============================] - ETA: 0s - loss: 0.6901 - accuracy: 0.5389 - auc: 0.5595 - precision: 0.5352 - recall: 0.6032\n",
            "Epoch 8: val_accuracy improved from 0.63500 to 0.64500, saving model to best_model.h58\n"
          ]
        },
        {
          "output_type": "stream",
          "name": "stderr",
          "text": [
            "WARNING:absl:Found untraced functions such as _jit_compiled_convolution_op, _jit_compiled_convolution_op, _jit_compiled_convolution_op, _jit_compiled_convolution_op, _jit_compiled_convolution_op while saving (showing 5 of 53). These functions will not be directly callable after loading.\n"
          ]
        },
        {
          "output_type": "stream",
          "name": "stdout",
          "text": [
            "\b\b\b\b\b\b\b\b\b\b\b\b\b\b\b\b\b\b\b\b\b\b\b\b\b\b\b\b\b\b\b\b\b\b\b\b\b\b\b\b\b\b\b\b\b\b\b\b\b\b\b\b\b\b\b\b\b\b\b\b\b\b\b\b\b\b\b\b\b\b\b\b\b\b\b\b\b\b\b\b\b\b\b\b\b\b\b\b\b\b\b\b\b\b\b\b\b\b\b\b\b\b\b\b\b\b\b\b\b\b\b\b\b\b\b\b\b\b\b\b\b\b\b\b\b\b\b\b\b\b\b\b\b\r36/36 [==============================] - 38s 1s/step - loss: 0.6901 - accuracy: 0.5389 - auc: 0.5595 - precision: 0.5352 - recall: 0.6032 - val_loss: 0.6588 - val_accuracy: 0.6450 - val_auc: 0.6945 - val_precision: 0.6465 - val_recall: 0.6400\n",
            "Epoch 9/10\n",
            "36/36 [==============================] - ETA: 0s - loss: 0.6797 - accuracy: 0.5716 - auc: 0.5954 - precision: 0.5727 - recall: 0.5697\n",
            "Epoch 9: val_accuracy did not improve from 0.64500\n",
            "36/36 [==============================] - 14s 399ms/step - loss: 0.6797 - accuracy: 0.5716 - auc: 0.5954 - precision: 0.5727 - recall: 0.5697 - val_loss: 0.6550 - val_accuracy: 0.6350 - val_auc: 0.6996 - val_precision: 0.6063 - val_recall: 0.7700\n",
            "Epoch 10/10\n",
            "36/36 [==============================] - ETA: 0s - loss: 0.6836 - accuracy: 0.5610 - auc: 0.5820 - precision: 0.5563 - recall: 0.6102\n",
            "Epoch 10: val_accuracy did not improve from 0.64500\n",
            "36/36 [==============================] - 14s 376ms/step - loss: 0.6836 - accuracy: 0.5610 - auc: 0.5820 - precision: 0.5563 - recall: 0.6102 - val_loss: 0.6542 - val_accuracy: 0.6250 - val_auc: 0.7015 - val_precision: 0.6623 - val_recall: 0.5100\n",
            "7/7 [==============================] - 2s 96ms/step\n",
            "Fold 2\n",
            "Epoch 1/10\n",
            "36/36 [==============================] - ETA: 0s - loss: 0.6765 - accuracy: 0.5883 - auc: 0.6123 - precision: 0.5862 - recall: 0.5758\n",
            "Epoch 1: val_accuracy did not improve from 0.64500\n",
            "36/36 [==============================] - 14s 393ms/step - loss: 0.6765 - accuracy: 0.5883 - auc: 0.6123 - precision: 0.5862 - recall: 0.5758 - val_loss: 0.6556 - val_accuracy: 0.6150 - val_auc: 0.6933 - val_precision: 0.6667 - val_recall: 0.5472\n",
            "Epoch 2/10\n",
            "36/36 [==============================] - ETA: 0s - loss: 0.6739 - accuracy: 0.5724 - auc: 0.6101 - precision: 0.5712 - recall: 0.5508\n",
            "Epoch 2: val_accuracy improved from 0.64500 to 0.65000, saving model to best_model.h58\n"
          ]
        },
        {
          "output_type": "stream",
          "name": "stderr",
          "text": [
            "WARNING:absl:Found untraced functions such as _jit_compiled_convolution_op, _jit_compiled_convolution_op, _jit_compiled_convolution_op, _jit_compiled_convolution_op, _jit_compiled_convolution_op while saving (showing 5 of 53). These functions will not be directly callable after loading.\n"
          ]
        },
        {
          "output_type": "stream",
          "name": "stdout",
          "text": [
            "\b\b\b\b\b\b\b\b\b\b\b\b\b\b\b\b\b\b\b\b\b\b\b\b\b\b\b\b\b\b\b\b\b\b\b\b\b\b\b\b\b\b\b\b\b\b\b\b\b\b\b\b\b\b\b\b\b\b\b\b\b\b\b\b\b\b\b\b\b\b\b\b\b\b\b\b\b\b\b\b\b\b\b\b\b\b\b\b\b\b\b\b\b\b\b\b\b\b\b\b\b\b\b\b\b\b\b\b\b\b\b\b\b\b\b\b\b\b\b\b\b\b\b\b\b\b\b\b\b\b\b\b\b\r36/36 [==============================] - 37s 1s/step - loss: 0.6739 - accuracy: 0.5724 - auc: 0.6101 - precision: 0.5712 - recall: 0.5508 - val_loss: 0.6501 - val_accuracy: 0.6500 - val_auc: 0.6889 - val_precision: 0.6579 - val_recall: 0.7075\n",
            "Epoch 3/10\n",
            "36/36 [==============================] - ETA: 0s - loss: 0.6799 - accuracy: 0.5654 - auc: 0.5882 - precision: 0.5570 - recall: 0.6007\n",
            "Epoch 3: val_accuracy did not improve from 0.65000\n",
            "36/36 [==============================] - 14s 386ms/step - loss: 0.6799 - accuracy: 0.5654 - auc: 0.5882 - precision: 0.5570 - recall: 0.6007 - val_loss: 0.6715 - val_accuracy: 0.5650 - val_auc: 0.6777 - val_precision: 0.7021 - val_recall: 0.3113\n",
            "Epoch 4/10\n",
            "36/36 [==============================] - ETA: 0s - loss: 0.6752 - accuracy: 0.5698 - auc: 0.6038 - precision: 0.5603 - recall: 0.6132\n",
            "Epoch 4: val_accuracy did not improve from 0.65000\n",
            "36/36 [==============================] - 16s 442ms/step - loss: 0.6752 - accuracy: 0.5698 - auc: 0.6038 - precision: 0.5603 - recall: 0.6132 - val_loss: 0.6630 - val_accuracy: 0.5800 - val_auc: 0.6802 - val_precision: 0.6719 - val_recall: 0.4057\n",
            "Epoch 5/10\n",
            "36/36 [==============================] - ETA: 0s - loss: 0.6734 - accuracy: 0.5698 - auc: 0.6085 - precision: 0.5695 - recall: 0.5401\n",
            "Epoch 5: val_accuracy did not improve from 0.65000\n",
            "36/36 [==============================] - 14s 377ms/step - loss: 0.6734 - accuracy: 0.5698 - auc: 0.6085 - precision: 0.5695 - recall: 0.5401 - val_loss: 0.6688 - val_accuracy: 0.5550 - val_auc: 0.6752 - val_precision: 0.6667 - val_recall: 0.3208\n",
            "Epoch 6/10\n",
            "36/36 [==============================] - ETA: 0s - loss: 0.6750 - accuracy: 0.5875 - auc: 0.6036 - precision: 0.5730 - recall: 0.6578\n",
            "Epoch 6: val_accuracy did not improve from 0.65000\n",
            "36/36 [==============================] - 14s 380ms/step - loss: 0.6750 - accuracy: 0.5875 - auc: 0.6036 - precision: 0.5730 - recall: 0.6578 - val_loss: 0.6765 - val_accuracy: 0.5500 - val_auc: 0.6719 - val_precision: 0.6905 - val_recall: 0.2736\n",
            "Epoch 7/10\n",
            "36/36 [==============================] - ETA: 0s - loss: 0.6730 - accuracy: 0.5663 - auc: 0.6103 - precision: 0.5597 - recall: 0.5847\n",
            "Epoch 7: val_accuracy did not improve from 0.65000\n",
            "36/36 [==============================] - 14s 376ms/step - loss: 0.6730 - accuracy: 0.5663 - auc: 0.6103 - precision: 0.5597 - recall: 0.5847 - val_loss: 0.6609 - val_accuracy: 0.5900 - val_auc: 0.6752 - val_precision: 0.6818 - val_recall: 0.4245\n",
            "Epoch 8/10\n",
            "36/36 [==============================] - ETA: 0s - loss: 0.6732 - accuracy: 0.5998 - auc: 0.6224 - precision: 0.5934 - recall: 0.6114\n",
            "Epoch 8: val_accuracy did not improve from 0.65000\n",
            "36/36 [==============================] - 14s 380ms/step - loss: 0.6732 - accuracy: 0.5998 - auc: 0.6224 - precision: 0.5934 - recall: 0.6114 - val_loss: 0.6821 - val_accuracy: 0.5100 - val_auc: 0.6793 - val_precision: 0.6667 - val_recall: 0.1509\n",
            "Epoch 9/10\n",
            "36/36 [==============================] - ETA: 0s - loss: 0.6691 - accuracy: 0.5989 - auc: 0.6289 - precision: 0.5908 - recall: 0.6203\n",
            "Epoch 9: val_accuracy did not improve from 0.65000\n",
            "36/36 [==============================] - 14s 378ms/step - loss: 0.6691 - accuracy: 0.5989 - auc: 0.6289 - precision: 0.5908 - recall: 0.6203 - val_loss: 0.6781 - val_accuracy: 0.5150 - val_auc: 0.6846 - val_precision: 0.6552 - val_recall: 0.1792\n",
            "Epoch 10/10\n",
            "36/36 [==============================] - ETA: 0s - loss: 0.6638 - accuracy: 0.6025 - auc: 0.6406 - precision: 0.5989 - recall: 0.5989\n",
            "Epoch 10: val_accuracy did not improve from 0.65000\n",
            "36/36 [==============================] - 14s 381ms/step - loss: 0.6638 - accuracy: 0.6025 - auc: 0.6406 - precision: 0.5989 - recall: 0.5989 - val_loss: 0.6441 - val_accuracy: 0.6300 - val_auc: 0.6930 - val_precision: 0.6739 - val_recall: 0.5849\n",
            "7/7 [==============================] - 1s 101ms/step\n"
          ]
        }
      ]
    },
    {
      "cell_type": "code",
      "source": [
        "model8.evaluate(train_datagen.flow(x_train,y_train))\n",
        "model8.evaluate(val_datagen.flow(x_val,y_val))"
      ],
      "metadata": {
        "colab": {
          "base_uri": "https://localhost:8080/"
        },
        "id": "dRKf19smGysE",
        "outputId": "758790a8-7179-4a66-b796-5ed3361b95e5"
      },
      "execution_count": null,
      "outputs": [
        {
          "output_type": "stream",
          "name": "stdout",
          "text": [
            "36/36 [==============================] - 15s 349ms/step - loss: 0.6617 - accuracy: 0.6060 - auc: 0.6853 - precision: 0.5676 - recall: 0.8610\n",
            "7/7 [==============================] - 2s 295ms/step - loss: 0.6558 - accuracy: 0.6300 - auc: 0.6660 - precision: 0.6053 - recall: 0.8679\n"
          ]
        },
        {
          "output_type": "execute_result",
          "data": {
            "text/plain": [
              "[0.6558120250701904,\n",
              " 0.6299999952316284,\n",
              " 0.6660477519035339,\n",
              " 0.6052631735801697,\n",
              " 0.8679245114326477]"
            ]
          },
          "metadata": {},
          "execution_count": 26
        }
      ]
    },
    {
      "cell_type": "code",
      "source": [
        "y_predict8_2=model8.predict(x_test)\n",
        "Y_predict8_2=np.float32(y_predict8_2>0.50)\n",
        "l=len(y_test)\n",
        "Y_predict8_2=np.reshape(Y_predict8_2,(l,1))\n",
        "print(Y_predict8_2)"
      ],
      "metadata": {
        "colab": {
          "base_uri": "https://localhost:8080/"
        },
        "id": "nOVQneVYHBVU",
        "outputId": "e763168d-176b-4269-dec3-24e2a0cfdbf0"
      },
      "execution_count": null,
      "outputs": [
        {
          "output_type": "stream",
          "name": "stdout",
          "text": [
            "5/5 [==============================] - 1s 249ms/step\n",
            "[[1.]\n",
            " [1.]\n",
            " [0.]\n",
            " [0.]\n",
            " [1.]\n",
            " [0.]\n",
            " [0.]\n",
            " [1.]\n",
            " [1.]\n",
            " [1.]\n",
            " [1.]\n",
            " [0.]\n",
            " [1.]\n",
            " [0.]\n",
            " [0.]\n",
            " [0.]\n",
            " [1.]\n",
            " [0.]\n",
            " [0.]\n",
            " [0.]\n",
            " [0.]\n",
            " [0.]\n",
            " [0.]\n",
            " [0.]\n",
            " [1.]\n",
            " [0.]\n",
            " [0.]\n",
            " [0.]\n",
            " [1.]\n",
            " [0.]\n",
            " [1.]\n",
            " [0.]\n",
            " [0.]\n",
            " [0.]\n",
            " [1.]\n",
            " [1.]\n",
            " [0.]\n",
            " [0.]\n",
            " [1.]\n",
            " [0.]\n",
            " [0.]\n",
            " [0.]\n",
            " [1.]\n",
            " [0.]\n",
            " [1.]\n",
            " [0.]\n",
            " [0.]\n",
            " [0.]\n",
            " [0.]\n",
            " [1.]\n",
            " [0.]\n",
            " [0.]\n",
            " [0.]\n",
            " [0.]\n",
            " [0.]\n",
            " [0.]\n",
            " [0.]\n",
            " [1.]\n",
            " [0.]\n",
            " [1.]\n",
            " [0.]\n",
            " [1.]\n",
            " [0.]\n",
            " [0.]\n",
            " [0.]\n",
            " [0.]\n",
            " [1.]\n",
            " [1.]\n",
            " [1.]\n",
            " [0.]\n",
            " [0.]\n",
            " [1.]\n",
            " [1.]\n",
            " [0.]\n",
            " [1.]\n",
            " [0.]\n",
            " [1.]\n",
            " [0.]\n",
            " [0.]\n",
            " [0.]\n",
            " [0.]\n",
            " [0.]\n",
            " [0.]\n",
            " [1.]\n",
            " [0.]\n",
            " [0.]\n",
            " [1.]\n",
            " [0.]\n",
            " [1.]\n",
            " [1.]\n",
            " [0.]\n",
            " [0.]\n",
            " [0.]\n",
            " [0.]\n",
            " [0.]\n",
            " [1.]\n",
            " [0.]\n",
            " [0.]\n",
            " [1.]\n",
            " [1.]\n",
            " [0.]\n",
            " [0.]\n",
            " [0.]\n",
            " [0.]\n",
            " [0.]\n",
            " [1.]\n",
            " [1.]\n",
            " [1.]\n",
            " [1.]\n",
            " [0.]\n",
            " [1.]\n",
            " [0.]\n",
            " [1.]\n",
            " [0.]\n",
            " [1.]\n",
            " [1.]\n",
            " [0.]\n",
            " [1.]\n",
            " [0.]\n",
            " [0.]\n",
            " [0.]\n",
            " [1.]\n",
            " [0.]\n",
            " [0.]\n",
            " [1.]\n",
            " [1.]\n",
            " [0.]\n",
            " [1.]\n",
            " [0.]\n",
            " [0.]\n",
            " [1.]\n",
            " [0.]\n",
            " [0.]\n",
            " [0.]\n",
            " [1.]\n",
            " [0.]\n",
            " [1.]\n",
            " [0.]\n",
            " [0.]\n",
            " [0.]\n",
            " [1.]\n",
            " [0.]\n",
            " [1.]\n",
            " [0.]\n",
            " [1.]\n",
            " [0.]\n",
            " [0.]\n",
            " [0.]]\n"
          ]
        }
      ]
    },
    {
      "cell_type": "code",
      "source": [
        "from sklearn.metrics import auc,roc_curve\n",
        "from sklearn.metrics import f1_score\n",
        "from sklearn.metrics import cohen_kappa_score\n",
        "from sklearn.metrics import accuracy_score\n",
        "f18 = f1_score(y_test, Y_predict8_2)\n",
        "test_accuracy8 = accuracy_score(y_test, Y_predict8_2)\n",
        "kappa8 = cohen_kappa_score(y_test, Y_predict8_2)\n",
        "auc8 = roc_auc_score(y_test, Y_predict8_2)"
      ],
      "metadata": {
        "id": "tqehNXjIHVGt"
      },
      "execution_count": null,
      "outputs": []
    },
    {
      "cell_type": "code",
      "source": [
        "print(auc8)\n",
        "print(f18)\n",
        "print(kappa8)\n",
        "print(test_accuracy8)"
      ],
      "metadata": {
        "colab": {
          "base_uri": "https://localhost:8080/"
        },
        "id": "YtqLxcVZHijR",
        "outputId": "4e4d0ab2-83dc-492d-add3-c4a78639760f"
      },
      "execution_count": null,
      "outputs": [
        {
          "output_type": "stream",
          "name": "stdout",
          "text": [
            "0.6045321637426901\n",
            "0.5396825396825397\n",
            "0.21044885945548186\n",
            "0.6081081081081081\n"
          ]
        }
      ]
    },
    {
      "cell_type": "markdown",
      "source": [
        "# Resnet101"
      ],
      "metadata": {
        "id": "UR4agbsQzMuI"
      }
    },
    {
      "cell_type": "code",
      "source": [
        "base_model9 = tf.keras.applications.resnet_rs.ResNetRS101(\n",
        "    weights='imagenet',\n",
        "    input_shape=(224, 224, 3),\n",
        "    include_top=False)\n",
        "base_model9.trainable = False\n",
        "inputs = tf.keras.Input(shape=(224, 224, 3))\n",
        "x9 = base_model9(inputs, training=False)\n",
        "x9 = tf.keras.layers.GlobalAveragePooling2D()(x9)\n",
        "x9 = tf.keras.layers.Dropout(0.2)(x9)\n",
        "x9 = tf.keras.layers.Dense(1)(x9)\n",
        "outputs=tf.keras.layers.Activation(activation='sigmoid')(x9)\n",
        "model9 = tf.keras.Model(inputs, outputs)\n",
        "model9.summary()"
      ],
      "metadata": {
        "colab": {
          "base_uri": "https://localhost:8080/"
        },
        "id": "Rxb6EyWFzOZn",
        "outputId": "5cd25d02-cf4f-4551-c63b-490214c34a77"
      },
      "execution_count": null,
      "outputs": [
        {
          "output_type": "stream",
          "name": "stdout",
          "text": [
            "Model: \"model\"\n",
            "_________________________________________________________________\n",
            " Layer (type)                Output Shape              Param #   \n",
            "=================================================================\n",
            " input_2 (InputLayer)        [(None, 224, 224, 3)]     0         \n",
            "                                                                 \n",
            " resnet-rs-101 (Functional)  (None, 7, 7, 2048)        61675296  \n",
            "                                                                 \n",
            " global_average_pooling2d (G  (None, 2048)             0         \n",
            " lobalAveragePooling2D)                                          \n",
            "                                                                 \n",
            " dropout (Dropout)           (None, 2048)              0         \n",
            "                                                                 \n",
            " dense (Dense)               (None, 1)                 2049      \n",
            "                                                                 \n",
            " activation (Activation)     (None, 1)                 0         \n",
            "                                                                 \n",
            "=================================================================\n",
            "Total params: 61,677,345\n",
            "Trainable params: 2,049\n",
            "Non-trainable params: 61,675,296\n",
            "_________________________________________________________________\n"
          ]
        }
      ]
    },
    {
      "cell_type": "code",
      "source": [
        "model9.compile(loss='binary_crossentropy',\n",
        "              optimizer='adam',\n",
        "              metrics=['accuracy','AUC','Precision','Recall'])"
      ],
      "metadata": {
        "id": "qTQcmTVyF3j5"
      },
      "execution_count": null,
      "outputs": []
    },
    {
      "cell_type": "code",
      "source": [
        "from tensorflow.keras.callbacks import ModelCheckpoint, EarlyStopping\n",
        "es=EarlyStopping(patience=3,monitor='val_loss')\n",
        "filepath='best_model.h59'\n",
        "checkpoint = ModelCheckpoint(filepath, monitor='val_accuracy', verbose=1, save_best_only=True, mode='max')"
      ],
      "metadata": {
        "id": "KW4uMe8HGNsx"
      },
      "execution_count": null,
      "outputs": []
    },
    {
      "cell_type": "code",
      "source": [
        "for j,(train_idx,val_idx) in enumerate(folds):\n",
        "    print(\"Fold \"+str(j+1))\n",
        "\n",
        "    x_train=X_dataset[train_idx]\n",
        "    y_train=Y_dataset[train_idx]\n",
        "    x_val=X_dataset[val_idx]\n",
        "    y_val=Y_dataset[val_idx]\n",
        "    history=model9.fit(train_datagen.flow(x_train,y_train),epochs=10,validation_data=(x_val,y_val),callbacks=checkpoint)\n",
        "    y_predict9_1=model9.predict(x_val)\n",
        "    Y_predict9_1=np.float32(y_predict9_1>0.50)\n",
        "    l=len(y_val)\n",
        "    Y_predict9_1=np.reshape(Y_predict9_1,(l,1))"
      ],
      "metadata": {
        "colab": {
          "base_uri": "https://localhost:8080/"
        },
        "id": "a9wTIEVlGarV",
        "outputId": "cb1bb938-0a2f-4d4c-cd9b-1a6cad3e2521"
      },
      "execution_count": null,
      "outputs": [
        {
          "output_type": "stream",
          "name": "stdout",
          "text": [
            "Fold 1\n",
            "Epoch 1/10\n",
            "36/36 [==============================] - ETA: 0s - loss: 0.6835 - accuracy: 0.5495 - auc: 0.5757 - precision: 0.5464 - recall: 0.6193\n",
            "Epoch 1: val_accuracy improved from -inf to 0.56000, saving model to best_model.h59\n"
          ]
        },
        {
          "output_type": "stream",
          "name": "stderr",
          "text": [
            "WARNING:absl:Found untraced functions such as _jit_compiled_convolution_op, _jit_compiled_convolution_op, _jit_compiled_convolution_op, _jit_compiled_convolution_op, _jit_compiled_convolution_op while saving (showing 5 of 173). These functions will not be directly callable after loading.\n"
          ]
        },
        {
          "output_type": "stream",
          "name": "stdout",
          "text": [
            "\b\b\b\b\b\b\b\b\b\b\b\b\b\b\b\b\b\b\b\b\b\b\b\b\b\b\b\b\b\b\b\b\b\b\b\b\b\b\b\b\b\b\b\b\b\b\b\b\b\b\b\b\b\b\b\b\b\b\b\b\b\b\b\b\b\b\b\b\b\b\b\b\b\b\b\b\b\b\b\b\b\b\b\b\b\b\b\b\b\b\b\b\b\b\b\b\b\b\b\b\b\b\b\b\b\b\b\b\b\b\b\b\b\b\b\b\b\b\b\b\b\b\b\b\b\b\b\b\b\b\b\b\b\r36/36 [==============================] - 103s 2s/step - loss: 0.6835 - accuracy: 0.5495 - auc: 0.5757 - precision: 0.5464 - recall: 0.6193 - val_loss: 0.6663 - val_accuracy: 0.5600 - val_auc: 0.6226 - val_precision: 0.5484 - val_recall: 0.5258\n",
            "Epoch 2/10\n",
            "36/36 [==============================] - ETA: 0s - loss: 0.6758 - accuracy: 0.5724 - auc: 0.6044 - precision: 0.5726 - recall: 0.5947\n",
            "Epoch 2: val_accuracy improved from 0.56000 to 0.60000, saving model to best_model.h59\n"
          ]
        },
        {
          "output_type": "stream",
          "name": "stderr",
          "text": [
            "WARNING:absl:Found untraced functions such as _jit_compiled_convolution_op, _jit_compiled_convolution_op, _jit_compiled_convolution_op, _jit_compiled_convolution_op, _jit_compiled_convolution_op while saving (showing 5 of 173). These functions will not be directly callable after loading.\n"
          ]
        },
        {
          "output_type": "stream",
          "name": "stdout",
          "text": [
            "\b\b\b\b\b\b\b\b\b\b\b\b\b\b\b\b\b\b\b\b\b\b\b\b\b\b\b\b\b\b\b\b\b\b\b\b\b\b\b\b\b\b\b\b\b\b\b\b\b\b\b\b\b\b\b\b\b\b\b\b\b\b\b\b\b\b\b\b\b\b\b\b\b\b\b\b\b\b\b\b\b\b\b\b\b\b\b\b\b\b\b\b\b\b\b\b\b\b\b\b\b\b\b\b\b\b\b\b\b\b\b\b\b\b\b\b\b\b\b\b\b\b\b\b\b\b\b\b\b\b\b\b\b\r36/36 [==============================] - 75s 2s/step - loss: 0.6758 - accuracy: 0.5724 - auc: 0.6044 - precision: 0.5726 - recall: 0.5947 - val_loss: 0.6578 - val_accuracy: 0.6000 - val_auc: 0.6384 - val_precision: 0.5780 - val_recall: 0.6495\n",
            "Epoch 3/10\n",
            "36/36 [==============================] - ETA: 0s - loss: 0.6715 - accuracy: 0.5910 - auc: 0.6205 - precision: 0.5908 - recall: 0.6105\n",
            "Epoch 3: val_accuracy did not improve from 0.60000\n",
            "36/36 [==============================] - 15s 421ms/step - loss: 0.6715 - accuracy: 0.5910 - auc: 0.6205 - precision: 0.5908 - recall: 0.6105 - val_loss: 0.6490 - val_accuracy: 0.5950 - val_auc: 0.6632 - val_precision: 0.5690 - val_recall: 0.6804\n",
            "Epoch 4/10\n",
            "36/36 [==============================] - ETA: 0s - loss: 0.6564 - accuracy: 0.6201 - auc: 0.6596 - precision: 0.6215 - recall: 0.6281\n",
            "Epoch 4: val_accuracy did not improve from 0.60000\n",
            "36/36 [==============================] - 23s 655ms/step - loss: 0.6564 - accuracy: 0.6201 - auc: 0.6596 - precision: 0.6215 - recall: 0.6281 - val_loss: 0.6405 - val_accuracy: 0.5950 - val_auc: 0.6770 - val_precision: 0.5741 - val_recall: 0.6392\n",
            "Epoch 5/10\n",
            "36/36 [==============================] - ETA: 0s - loss: 0.6495 - accuracy: 0.6228 - auc: 0.6716 - precision: 0.6170 - recall: 0.6614\n",
            "Epoch 5: val_accuracy improved from 0.60000 to 0.62500, saving model to best_model.h59\n"
          ]
        },
        {
          "output_type": "stream",
          "name": "stderr",
          "text": [
            "WARNING:absl:Found untraced functions such as _jit_compiled_convolution_op, _jit_compiled_convolution_op, _jit_compiled_convolution_op, _jit_compiled_convolution_op, _jit_compiled_convolution_op while saving (showing 5 of 173). These functions will not be directly callable after loading.\n"
          ]
        },
        {
          "output_type": "stream",
          "name": "stdout",
          "text": [
            "\b\b\b\b\b\b\b\b\b\b\b\b\b\b\b\b\b\b\b\b\b\b\b\b\b\b\b\b\b\b\b\b\b\b\b\b\b\b\b\b\b\b\b\b\b\b\b\b\b\b\b\b\b\b\b\b\b\b\b\b\b\b\b\b\b\b\b\b\b\b\b\b\b\b\b\b\b\b\b\b\b\b\b\b\b\b\b\b\b\b\b\b\b\b\b\b\b\b\b\b\b\b\b\b\b\b\b\b\b\b\b\b\b\b\b\b\b\b\b\b\b\b\b\b\b\b\b\b\b\b\b\b\b\r36/36 [==============================] - 77s 2s/step - loss: 0.6495 - accuracy: 0.6228 - auc: 0.6716 - precision: 0.6170 - recall: 0.6614 - val_loss: 0.6345 - val_accuracy: 0.6250 - val_auc: 0.6939 - val_precision: 0.6196 - val_recall: 0.5876\n",
            "Epoch 6/10\n",
            "36/36 [==============================] - ETA: 0s - loss: 0.6555 - accuracy: 0.6007 - auc: 0.6572 - precision: 0.5910 - recall: 0.6719\n",
            "Epoch 6: val_accuracy improved from 0.62500 to 0.63000, saving model to best_model.h59\n"
          ]
        },
        {
          "output_type": "stream",
          "name": "stderr",
          "text": [
            "WARNING:absl:Found untraced functions such as _jit_compiled_convolution_op, _jit_compiled_convolution_op, _jit_compiled_convolution_op, _jit_compiled_convolution_op, _jit_compiled_convolution_op while saving (showing 5 of 173). These functions will not be directly callable after loading.\n"
          ]
        },
        {
          "output_type": "stream",
          "name": "stdout",
          "text": [
            "\b\b\b\b\b\b\b\b\b\b\b\b\b\b\b\b\b\b\b\b\b\b\b\b\b\b\b\b\b\b\b\b\b\b\b\b\b\b\b\b\b\b\b\b\b\b\b\b\b\b\b\b\b\b\b\b\b\b\b\b\b\b\b\b\b\b\b\b\b\b\b\b\b\b\b\b\b\b\b\b\b\b\b\b\b\b\b\b\b\b\b\b\b\b\b\b\b\b\b\b\b\b\b\b\b\b\b\b\b\b\b\b\b\b\b\b\b\b\b\b\b\b\b\b\b\b\b\b\b\b\b\b\b\r36/36 [==============================] - 78s 2s/step - loss: 0.6555 - accuracy: 0.6007 - auc: 0.6572 - precision: 0.5910 - recall: 0.6719 - val_loss: 0.6366 - val_accuracy: 0.6300 - val_auc: 0.7022 - val_precision: 0.6667 - val_recall: 0.4742\n",
            "Epoch 7/10\n",
            "36/36 [==============================] - ETA: 0s - loss: 0.6420 - accuracy: 0.6325 - auc: 0.6862 - precision: 0.6341 - recall: 0.6386\n",
            "Epoch 7: val_accuracy improved from 0.63000 to 0.65500, saving model to best_model.h59\n"
          ]
        },
        {
          "output_type": "stream",
          "name": "stderr",
          "text": [
            "WARNING:absl:Found untraced functions such as _jit_compiled_convolution_op, _jit_compiled_convolution_op, _jit_compiled_convolution_op, _jit_compiled_convolution_op, _jit_compiled_convolution_op while saving (showing 5 of 173). These functions will not be directly callable after loading.\n"
          ]
        },
        {
          "output_type": "stream",
          "name": "stdout",
          "text": [
            "\b\b\b\b\b\b\b\b\b\b\b\b\b\b\b\b\b\b\b\b\b\b\b\b\b\b\b\b\b\b\b\b\b\b\b\b\b\b\b\b\b\b\b\b\b\b\b\b\b\b\b\b\b\b\b\b\b\b\b\b\b\b\b\b\b\b\b\b\b\b\b\b\b\b\b\b\b\b\b\b\b\b\b\b\b\b\b\b\b\b\b\b\b\b\b\b\b\b\b\b\b\b\b\b\b\b\b\b\b\b\b\b\b\b\b\b\b\b\b\b\b\b\b\b\b\b\b\b\b\b\b\b\b\r36/36 [==============================] - 76s 2s/step - loss: 0.6420 - accuracy: 0.6325 - auc: 0.6862 - precision: 0.6341 - recall: 0.6386 - val_loss: 0.6217 - val_accuracy: 0.6550 - val_auc: 0.7120 - val_precision: 0.6628 - val_recall: 0.5876\n",
            "Epoch 8/10\n",
            "36/36 [==============================] - ETA: 0s - loss: 0.6369 - accuracy: 0.6422 - auc: 0.6935 - precision: 0.6368 - recall: 0.6737\n",
            "Epoch 8: val_accuracy improved from 0.65500 to 0.66500, saving model to best_model.h59\n"
          ]
        },
        {
          "output_type": "stream",
          "name": "stderr",
          "text": [
            "WARNING:absl:Found untraced functions such as _jit_compiled_convolution_op, _jit_compiled_convolution_op, _jit_compiled_convolution_op, _jit_compiled_convolution_op, _jit_compiled_convolution_op while saving (showing 5 of 173). These functions will not be directly callable after loading.\n"
          ]
        },
        {
          "output_type": "stream",
          "name": "stdout",
          "text": [
            "\b\b\b\b\b\b\b\b\b\b\b\b\b\b\b\b\b\b\b\b\b\b\b\b\b\b\b\b\b\b\b\b\b\b\b\b\b\b\b\b\b\b\b\b\b\b\b\b\b\b\b\b\b\b\b\b\b\b\b\b\b\b\b\b\b\b\b\b\b\b\b\b\b\b\b\b\b\b\b\b\b\b\b\b\b\b\b\b\b\b\b\b\b\b\b\b\b\b\b\b\b\b\b\b\b\b\b\b\b\b\b\b\b\b\b\b\b\b\b\b\b\b\b\b\b\b\b\b\b\b\b\b\b\r36/36 [==============================] - 77s 2s/step - loss: 0.6369 - accuracy: 0.6422 - auc: 0.6935 - precision: 0.6368 - recall: 0.6737 - val_loss: 0.6189 - val_accuracy: 0.6650 - val_auc: 0.7402 - val_precision: 0.7500 - val_recall: 0.4639\n",
            "Epoch 9/10\n",
            "36/36 [==============================] - ETA: 0s - loss: 0.6414 - accuracy: 0.6431 - auc: 0.6891 - precision: 0.6221 - recall: 0.7421\n",
            "Epoch 9: val_accuracy did not improve from 0.66500\n",
            "36/36 [==============================] - 16s 426ms/step - loss: 0.6414 - accuracy: 0.6431 - auc: 0.6891 - precision: 0.6221 - recall: 0.7421 - val_loss: 0.6099 - val_accuracy: 0.6650 - val_auc: 0.7454 - val_precision: 0.7206 - val_recall: 0.5052\n",
            "Epoch 10/10\n",
            "36/36 [==============================] - ETA: 0s - loss: 0.6291 - accuracy: 0.6634 - auc: 0.7156 - precision: 0.6552 - recall: 0.7000\n",
            "Epoch 10: val_accuracy improved from 0.66500 to 0.69000, saving model to best_model.h59\n"
          ]
        },
        {
          "output_type": "stream",
          "name": "stderr",
          "text": [
            "WARNING:absl:Found untraced functions such as _jit_compiled_convolution_op, _jit_compiled_convolution_op, _jit_compiled_convolution_op, _jit_compiled_convolution_op, _jit_compiled_convolution_op while saving (showing 5 of 173). These functions will not be directly callable after loading.\n"
          ]
        },
        {
          "output_type": "stream",
          "name": "stdout",
          "text": [
            "36/36 [==============================] - 78s 2s/step - loss: 0.6291 - accuracy: 0.6634 - auc: 0.7156 - precision: 0.6552 - recall: 0.7000 - val_loss: 0.6009 - val_accuracy: 0.6900 - val_auc: 0.7645 - val_precision: 0.7612 - val_recall: 0.5258\n",
            "7/7 [==============================] - 5s 189ms/step\n",
            "Fold 2\n",
            "Epoch 1/10\n",
            "36/36 [==============================] - ETA: 0s - loss: 0.6270 - accuracy: 0.6555 - auc: 0.7155 - precision: 0.6459 - recall: 0.6937\n",
            "Epoch 1: val_accuracy did not improve from 0.69000\n",
            "36/36 [==============================] - 15s 420ms/step - loss: 0.6270 - accuracy: 0.6555 - auc: 0.7155 - precision: 0.6459 - recall: 0.6937 - val_loss: 0.6058 - val_accuracy: 0.6550 - val_auc: 0.7361 - val_precision: 0.6630 - val_recall: 0.6162\n",
            "Epoch 2/10\n",
            "36/36 [==============================] - ETA: 0s - loss: 0.6248 - accuracy: 0.6564 - auc: 0.7204 - precision: 0.6460 - recall: 0.6972\n",
            "Epoch 2: val_accuracy did not improve from 0.69000\n",
            "36/36 [==============================] - 16s 432ms/step - loss: 0.6248 - accuracy: 0.6564 - auc: 0.7204 - precision: 0.6460 - recall: 0.6972 - val_loss: 0.6016 - val_accuracy: 0.6600 - val_auc: 0.7438 - val_precision: 0.6742 - val_recall: 0.6061\n",
            "Epoch 3/10\n",
            "36/36 [==============================] - ETA: 0s - loss: 0.6224 - accuracy: 0.6581 - auc: 0.7198 - precision: 0.6558 - recall: 0.6708\n",
            "Epoch 3: val_accuracy did not improve from 0.69000\n",
            "36/36 [==============================] - 15s 427ms/step - loss: 0.6224 - accuracy: 0.6581 - auc: 0.7198 - precision: 0.6558 - recall: 0.6708 - val_loss: 0.6017 - val_accuracy: 0.6750 - val_auc: 0.7454 - val_precision: 0.6977 - val_recall: 0.6061\n",
            "Epoch 4/10\n",
            "36/36 [==============================] - ETA: 0s - loss: 0.6231 - accuracy: 0.6466 - auc: 0.7219 - precision: 0.6269 - recall: 0.7306\n",
            "Epoch 4: val_accuracy did not improve from 0.69000\n",
            "36/36 [==============================] - 17s 465ms/step - loss: 0.6231 - accuracy: 0.6466 - auc: 0.7219 - precision: 0.6269 - recall: 0.7306 - val_loss: 0.6283 - val_accuracy: 0.6550 - val_auc: 0.7550 - val_precision: 0.8125 - val_recall: 0.3939\n",
            "Epoch 5/10\n",
            "36/36 [==============================] - ETA: 0s - loss: 0.6287 - accuracy: 0.6625 - auc: 0.7072 - precision: 0.6555 - recall: 0.6901\n",
            "Epoch 5: val_accuracy did not improve from 0.69000\n",
            "36/36 [==============================] - 15s 420ms/step - loss: 0.6287 - accuracy: 0.6625 - auc: 0.7072 - precision: 0.6555 - recall: 0.6901 - val_loss: 0.5989 - val_accuracy: 0.6850 - val_auc: 0.7653 - val_precision: 0.7571 - val_recall: 0.5354\n",
            "Epoch 6/10\n",
            "36/36 [==============================] - ETA: 0s - loss: 0.6129 - accuracy: 0.6625 - auc: 0.7364 - precision: 0.6566 - recall: 0.6866\n",
            "Epoch 6: val_accuracy did not improve from 0.69000\n",
            "36/36 [==============================] - 15s 418ms/step - loss: 0.6129 - accuracy: 0.6625 - auc: 0.7364 - precision: 0.6566 - recall: 0.6866 - val_loss: 0.6253 - val_accuracy: 0.6750 - val_auc: 0.7638 - val_precision: 0.8148 - val_recall: 0.4444\n",
            "Epoch 7/10\n",
            "36/36 [==============================] - ETA: 0s - loss: 0.6114 - accuracy: 0.6599 - auc: 0.7316 - precision: 0.6569 - recall: 0.6743\n",
            "Epoch 7: val_accuracy did not improve from 0.69000\n",
            "36/36 [==============================] - 15s 423ms/step - loss: 0.6114 - accuracy: 0.6599 - auc: 0.7316 - precision: 0.6569 - recall: 0.6743 - val_loss: 0.6055 - val_accuracy: 0.6750 - val_auc: 0.7651 - val_precision: 0.7500 - val_recall: 0.5152\n",
            "Epoch 8/10\n",
            "36/36 [==============================] - ETA: 0s - loss: 0.6032 - accuracy: 0.6899 - auc: 0.7546 - precision: 0.6817 - recall: 0.7165\n",
            "Epoch 8: val_accuracy did not improve from 0.69000\n",
            "36/36 [==============================] - 15s 423ms/step - loss: 0.6032 - accuracy: 0.6899 - auc: 0.7546 - precision: 0.6817 - recall: 0.7165 - val_loss: 0.6201 - val_accuracy: 0.6650 - val_auc: 0.7645 - val_precision: 0.7857 - val_recall: 0.4444\n",
            "Epoch 9/10\n",
            "36/36 [==============================] - ETA: 0s - loss: 0.6121 - accuracy: 0.6608 - auc: 0.7302 - precision: 0.6554 - recall: 0.6831\n",
            "Epoch 9: val_accuracy improved from 0.69000 to 0.70000, saving model to best_model.h59\n"
          ]
        },
        {
          "output_type": "stream",
          "name": "stderr",
          "text": [
            "WARNING:absl:Found untraced functions such as _jit_compiled_convolution_op, _jit_compiled_convolution_op, _jit_compiled_convolution_op, _jit_compiled_convolution_op, _jit_compiled_convolution_op while saving (showing 5 of 173). These functions will not be directly callable after loading.\n"
          ]
        },
        {
          "output_type": "stream",
          "name": "stdout",
          "text": [
            "\b\b\b\b\b\b\b\b\b\b\b\b\b\b\b\b\b\b\b\b\b\b\b\b\b\b\b\b\b\b\b\b\b\b\b\b\b\b\b\b\b\b\b\b\b\b\b\b\b\b\b\b\b\b\b\b\b\b\b\b\b\b\b\b\b\b\b\b\b\b\b\b\b\b\b\b\b\b\b\b\b\b\b\b\b\b\b\b\b\b\b\b\b\b\b\b\b\b\b\b\b\b\b\b\b\b\b\b\b\b\b\b\b\b\b\b\b\b\b\b\b\b\b\b\b\b\b\b\b\b\b\b\b\r36/36 [==============================] - 76s 2s/step - loss: 0.6121 - accuracy: 0.6608 - auc: 0.7302 - precision: 0.6554 - recall: 0.6831 - val_loss: 0.6088 - val_accuracy: 0.7000 - val_auc: 0.7568 - val_precision: 0.7910 - val_recall: 0.5354\n",
            "Epoch 10/10\n",
            "36/36 [==============================] - ETA: 0s - loss: 0.5991 - accuracy: 0.6811 - auc: 0.7538 - precision: 0.6672 - recall: 0.7271\n",
            "Epoch 10: val_accuracy did not improve from 0.70000\n",
            "36/36 [==============================] - 15s 420ms/step - loss: 0.5991 - accuracy: 0.6811 - auc: 0.7538 - precision: 0.6672 - recall: 0.7271 - val_loss: 0.5916 - val_accuracy: 0.6900 - val_auc: 0.7553 - val_precision: 0.7033 - val_recall: 0.6465\n",
            "7/7 [==============================] - 1s 189ms/step\n"
          ]
        }
      ]
    },
    {
      "cell_type": "code",
      "source": [
        "model9.evaluate(train_datagen.flow(x_train,y_train))\n",
        "model9.evaluate(val_datagen.flow(x_val,y_val))"
      ],
      "metadata": {
        "colab": {
          "base_uri": "https://localhost:8080/"
        },
        "id": "DvwOEmplGzv7",
        "outputId": "d9e7b822-c08f-4749-f289-7091f4daaccd"
      },
      "execution_count": null,
      "outputs": [
        {
          "output_type": "stream",
          "name": "stdout",
          "text": [
            "36/36 [==============================] - 17s 385ms/step - loss: 0.6051 - accuracy: 0.6908 - auc: 0.7551 - precision: 0.6557 - recall: 0.8081\n",
            "7/7 [==============================] - 2s 303ms/step - loss: 0.6036 - accuracy: 0.6950 - auc: 0.7546 - precision: 0.6610 - recall: 0.7879\n"
          ]
        },
        {
          "output_type": "execute_result",
          "data": {
            "text/plain": [
              "[0.6036107540130615,\n",
              " 0.6949999928474426,\n",
              " 0.7546254396438599,\n",
              " 0.6610169410705566,\n",
              " 0.7878788113594055]"
            ]
          },
          "metadata": {},
          "execution_count": 19
        }
      ]
    },
    {
      "cell_type": "code",
      "source": [
        "y_predict9_2=model9.predict(x_test)\n",
        "Y_predict9_2=np.float32(y_predict9_2>0.50)\n",
        "l=len(y_test)\n",
        "Y_predict9_2=np.reshape(Y_predict9_2,(l,1))\n",
        "print(Y_predict9_2)"
      ],
      "metadata": {
        "colab": {
          "base_uri": "https://localhost:8080/"
        },
        "id": "rVvXufRvHGgI",
        "outputId": "38d1009f-73c1-4d44-ecdb-567cca82c44e"
      },
      "execution_count": null,
      "outputs": [
        {
          "output_type": "stream",
          "name": "stdout",
          "text": [
            "5/5 [==============================] - 2s 531ms/step\n",
            "[[0.]\n",
            " [1.]\n",
            " [0.]\n",
            " [0.]\n",
            " [0.]\n",
            " [1.]\n",
            " [0.]\n",
            " [1.]\n",
            " [0.]\n",
            " [1.]\n",
            " [1.]\n",
            " [0.]\n",
            " [0.]\n",
            " [0.]\n",
            " [1.]\n",
            " [0.]\n",
            " [0.]\n",
            " [1.]\n",
            " [1.]\n",
            " [0.]\n",
            " [0.]\n",
            " [1.]\n",
            " [1.]\n",
            " [1.]\n",
            " [1.]\n",
            " [1.]\n",
            " [1.]\n",
            " [0.]\n",
            " [1.]\n",
            " [0.]\n",
            " [0.]\n",
            " [1.]\n",
            " [1.]\n",
            " [0.]\n",
            " [0.]\n",
            " [0.]\n",
            " [1.]\n",
            " [0.]\n",
            " [1.]\n",
            " [1.]\n",
            " [0.]\n",
            " [1.]\n",
            " [1.]\n",
            " [0.]\n",
            " [0.]\n",
            " [0.]\n",
            " [0.]\n",
            " [1.]\n",
            " [0.]\n",
            " [0.]\n",
            " [0.]\n",
            " [0.]\n",
            " [0.]\n",
            " [1.]\n",
            " [0.]\n",
            " [0.]\n",
            " [0.]\n",
            " [1.]\n",
            " [1.]\n",
            " [1.]\n",
            " [0.]\n",
            " [0.]\n",
            " [0.]\n",
            " [0.]\n",
            " [0.]\n",
            " [1.]\n",
            " [1.]\n",
            " [0.]\n",
            " [1.]\n",
            " [1.]\n",
            " [1.]\n",
            " [0.]\n",
            " [1.]\n",
            " [0.]\n",
            " [0.]\n",
            " [1.]\n",
            " [1.]\n",
            " [0.]\n",
            " [0.]\n",
            " [0.]\n",
            " [0.]\n",
            " [0.]\n",
            " [0.]\n",
            " [1.]\n",
            " [1.]\n",
            " [0.]\n",
            " [1.]\n",
            " [0.]\n",
            " [1.]\n",
            " [1.]\n",
            " [0.]\n",
            " [1.]\n",
            " [0.]\n",
            " [1.]\n",
            " [0.]\n",
            " [1.]\n",
            " [0.]\n",
            " [0.]\n",
            " [0.]\n",
            " [0.]\n",
            " [0.]\n",
            " [0.]\n",
            " [1.]\n",
            " [1.]\n",
            " [0.]\n",
            " [1.]\n",
            " [1.]\n",
            " [1.]\n",
            " [1.]\n",
            " [0.]\n",
            " [0.]\n",
            " [0.]\n",
            " [0.]\n",
            " [1.]\n",
            " [1.]\n",
            " [1.]\n",
            " [0.]\n",
            " [0.]\n",
            " [0.]\n",
            " [1.]\n",
            " [0.]\n",
            " [0.]\n",
            " [0.]\n",
            " [0.]\n",
            " [0.]\n",
            " [0.]\n",
            " [0.]\n",
            " [1.]\n",
            " [0.]\n",
            " [0.]\n",
            " [1.]\n",
            " [1.]\n",
            " [1.]\n",
            " [0.]\n",
            " [1.]\n",
            " [1.]\n",
            " [1.]\n",
            " [0.]\n",
            " [0.]\n",
            " [0.]\n",
            " [0.]\n",
            " [1.]\n",
            " [0.]\n",
            " [1.]\n",
            " [0.]\n",
            " [0.]\n",
            " [1.]\n",
            " [0.]]\n"
          ]
        }
      ]
    },
    {
      "cell_type": "code",
      "source": [
        "from sklearn.metrics import auc,roc_curve\n",
        "from sklearn.metrics import f1_score\n",
        "from sklearn.metrics import cohen_kappa_score\n",
        "from sklearn.metrics import accuracy_score\n",
        "f19 = f1_score(y_test, Y_predict9_2)\n",
        "test_accuracy9 = accuracy_score(y_test, Y_predict9_2)\n",
        "kappa9 = cohen_kappa_score(y_test, Y_predict9_2)\n",
        "auc9 = roc_auc_score(y_test, Y_predict9_2)"
      ],
      "metadata": {
        "id": "oDF2fBtHHWCh"
      },
      "execution_count": null,
      "outputs": []
    },
    {
      "cell_type": "code",
      "source": [
        "print(auc9)\n",
        "print(f19)\n",
        "print(kappa9)\n",
        "print(test_accuracy9)"
      ],
      "metadata": {
        "colab": {
          "base_uri": "https://localhost:8080/"
        },
        "id": "vrLkG8FeHjhP",
        "outputId": "cfffedcd-6d70-42f5-e673-27c86ef6f35d"
      },
      "execution_count": null,
      "outputs": [
        {
          "output_type": "stream",
          "name": "stdout",
          "text": [
            "0.640799853237938\n",
            "0.6197183098591548\n",
            "0.2775266678719942\n",
            "0.6351351351351351\n"
          ]
        }
      ]
    },
    {
      "cell_type": "markdown",
      "source": [
        "# MobileNetV2"
      ],
      "metadata": {
        "id": "SrQGEhIY3dIQ"
      }
    },
    {
      "cell_type": "code",
      "source": [
        "base_model10 = tf.keras.applications.mobilenet_v2.MobileNetV2(\n",
        "    weights='imagenet',\n",
        "    input_shape=(224, 224, 3),\n",
        "    include_top=False)\n",
        "base_model10.trainable = False\n",
        "inputs = tf.keras.Input(shape=(224, 224, 3))\n",
        "x10 = base_model10(inputs, training=False)\n",
        "x10 = tf.keras.layers.GlobalAveragePooling2D()(x10)\n",
        "x10 = tf.keras.layers.Dropout(0.2)(x10)\n",
        "x10 = tf.keras.layers.Dense(1)(x10)\n",
        "outputs=tf.keras.layers.Activation(activation='sigmoid')(x10)\n",
        "model10 = tf.keras.Model(inputs, outputs)\n",
        "model10.summary()"
      ],
      "metadata": {
        "colab": {
          "base_uri": "https://localhost:8080/"
        },
        "id": "1lk6fxXp3e-d",
        "outputId": "aad4e5a5-8b6d-4447-ac83-85e9f536344e"
      },
      "execution_count": null,
      "outputs": [
        {
          "output_type": "stream",
          "name": "stdout",
          "text": [
            "Downloading data from https://storage.googleapis.com/tensorflow/keras-applications/mobilenet_v2/mobilenet_v2_weights_tf_dim_ordering_tf_kernels_1.0_224_no_top.h5\n",
            "9406464/9406464 [==============================] - 0s 0us/step\n",
            "Model: \"model_1\"\n",
            "_________________________________________________________________\n",
            " Layer (type)                Output Shape              Param #   \n",
            "=================================================================\n",
            " input_4 (InputLayer)        [(None, 224, 224, 3)]     0         \n",
            "                                                                 \n",
            " mobilenetv2_1.00_224 (Funct  (None, 7, 7, 1280)       2257984   \n",
            " ional)                                                          \n",
            "                                                                 \n",
            " global_average_pooling2d_1   (None, 1280)             0         \n",
            " (GlobalAveragePooling2D)                                        \n",
            "                                                                 \n",
            " dropout_1 (Dropout)         (None, 1280)              0         \n",
            "                                                                 \n",
            " dense_1 (Dense)             (None, 1)                 1281      \n",
            "                                                                 \n",
            " activation_1 (Activation)   (None, 1)                 0         \n",
            "                                                                 \n",
            "=================================================================\n",
            "Total params: 2,259,265\n",
            "Trainable params: 1,281\n",
            "Non-trainable params: 2,257,984\n",
            "_________________________________________________________________\n"
          ]
        }
      ]
    },
    {
      "cell_type": "code",
      "source": [
        "model10.compile(loss='binary_crossentropy',\n",
        "              optimizer='adam',\n",
        "              metrics=['accuracy','AUC','Precision','Recall'])"
      ],
      "metadata": {
        "id": "RH_x_IYyF44S"
      },
      "execution_count": null,
      "outputs": []
    },
    {
      "cell_type": "code",
      "source": [
        "from tensorflow.keras.callbacks import ModelCheckpoint, EarlyStopping\n",
        "es=EarlyStopping(patience=3,monitor='val_loss')\n",
        "filepath='best_model.h510'\n",
        "checkpoint = ModelCheckpoint(filepath, monitor='val_accuracy', verbose=1, save_best_only=True, mode='max')"
      ],
      "metadata": {
        "id": "xzYAliFnGOaS"
      },
      "execution_count": null,
      "outputs": []
    },
    {
      "cell_type": "code",
      "source": [
        "for j,(train_idx,val_idx) in enumerate(folds):\n",
        "    print(\"Fold \"+str(j+1))\n",
        "\n",
        "    x_train=X_dataset[train_idx]\n",
        "    y_train=Y_dataset[train_idx]\n",
        "    x_val=X_dataset[val_idx]\n",
        "    y_val=Y_dataset[val_idx]\n",
        "    history=model10.fit(train_datagen.flow(x_train,y_train),epochs=10,validation_data=(x_val,y_val),callbacks=checkpoint)\n",
        "    y_predict10_1=model10.predict(x_val)\n",
        "    Y_predict10_1=np.float32(y_predict10_1>0.50)\n",
        "    l=len(y_val)\n",
        "    Y_predict10_1=np.reshape(Y_predict10_1,(l,1))"
      ],
      "metadata": {
        "colab": {
          "base_uri": "https://localhost:8080/"
        },
        "id": "4nNj1NLQGbdm",
        "outputId": "1c2f9417-35f2-4469-e6c9-3e3e4ca59c45"
      },
      "execution_count": null,
      "outputs": [
        {
          "output_type": "stream",
          "name": "stdout",
          "text": [
            "Fold 1\n",
            "Epoch 1/10\n",
            "36/36 [==============================] - ETA: 0s - loss: 0.7560 - accuracy: 0.5265 - auc: 0.5438 - precision: 0.5308 - recall: 0.5140\n",
            "Epoch 1: val_accuracy improved from -inf to 0.55000, saving model to best_model.h510\n"
          ]
        },
        {
          "output_type": "stream",
          "name": "stderr",
          "text": [
            "WARNING:absl:Found untraced functions such as _jit_compiled_convolution_op, _jit_compiled_convolution_op, _jit_compiled_convolution_op, _jit_compiled_convolution_op, _jit_compiled_convolution_op while saving (showing 5 of 52). These functions will not be directly callable after loading.\n"
          ]
        },
        {
          "output_type": "stream",
          "name": "stdout",
          "text": [
            "\b\b\b\b\b\b\b\b\b\b\b\b\b\b\b\b\b\b\b\b\b\b\b\b\b\b\b\b\b\b\b\b\b\b\b\b\b\b\b\b\b\b\b\b\b\b\b\b\b\b\b\b\b\b\b\b\b\b\b\b\b\b\b\b\b\b\b\b\b\b\b\b\b\b\b\b\b\b\b\b\b\b\b\b\b\b\b\b\b\b\b\b\b\b\b\b\b\b\b\b\b\b\b\b\b\b\b\b\b\b\b\b\b\b\b\b\b\b\b\b\b\b\b\b\b\b\b\b\b\b\b\b\b\r36/36 [==============================] - 41s 1s/step - loss: 0.7560 - accuracy: 0.5265 - auc: 0.5438 - precision: 0.5308 - recall: 0.5140 - val_loss: 0.7455 - val_accuracy: 0.5500 - val_auc: 0.6091 - val_precision: 0.5198 - val_recall: 0.9485\n",
            "Epoch 2/10\n",
            "36/36 [==============================] - ETA: 0s - loss: 0.6985 - accuracy: 0.5760 - auc: 0.6113 - precision: 0.5773 - recall: 0.5895\n",
            "Epoch 2: val_accuracy improved from 0.55000 to 0.65500, saving model to best_model.h510\n"
          ]
        },
        {
          "output_type": "stream",
          "name": "stderr",
          "text": [
            "WARNING:absl:Found untraced functions such as _jit_compiled_convolution_op, _jit_compiled_convolution_op, _jit_compiled_convolution_op, _jit_compiled_convolution_op, _jit_compiled_convolution_op while saving (showing 5 of 52). These functions will not be directly callable after loading.\n"
          ]
        },
        {
          "output_type": "stream",
          "name": "stdout",
          "text": [
            "\b\b\b\b\b\b\b\b\b\b\b\b\b\b\b\b\b\b\b\b\b\b\b\b\b\b\b\b\b\b\b\b\b\b\b\b\b\b\b\b\b\b\b\b\b\b\b\b\b\b\b\b\b\b\b\b\b\b\b\b\b\b\b\b\b\b\b\b\b\b\b\b\b\b\b\b\b\b\b\b\b\b\b\b\b\b\b\b\b\b\b\b\b\b\b\b\b\b\b\b\b\b\b\b\b\b\b\b\b\b\b\b\b\b\b\b\b\b\b\b\b\b\b\b\b\b\b\b\b\b\b\b\b\r36/36 [==============================] - 34s 971ms/step - loss: 0.6985 - accuracy: 0.5760 - auc: 0.6113 - precision: 0.5773 - recall: 0.5895 - val_loss: 0.6240 - val_accuracy: 0.6550 - val_auc: 0.7308 - val_precision: 0.6045 - val_recall: 0.8351\n",
            "Epoch 3/10\n",
            "36/36 [==============================] - ETA: 0s - loss: 0.6488 - accuracy: 0.6254 - auc: 0.6750 - precision: 0.6237 - recall: 0.6456\n",
            "Epoch 3: val_accuracy improved from 0.65500 to 0.71500, saving model to best_model.h510\n"
          ]
        },
        {
          "output_type": "stream",
          "name": "stderr",
          "text": [
            "WARNING:absl:Found untraced functions such as _jit_compiled_convolution_op, _jit_compiled_convolution_op, _jit_compiled_convolution_op, _jit_compiled_convolution_op, _jit_compiled_convolution_op while saving (showing 5 of 52). These functions will not be directly callable after loading.\n"
          ]
        },
        {
          "output_type": "stream",
          "name": "stdout",
          "text": [
            "\b\b\b\b\b\b\b\b\b\b\b\b\b\b\b\b\b\b\b\b\b\b\b\b\b\b\b\b\b\b\b\b\b\b\b\b\b\b\b\b\b\b\b\b\b\b\b\b\b\b\b\b\b\b\b\b\b\b\b\b\b\b\b\b\b\b\b\b\b\b\b\b\b\b\b\b\b\b\b\b\b\b\b\b\b\b\b\b\b\b\b\b\b\b\b\b\b\b\b\b\b\b\b\b\b\b\b\b\b\b\b\b\b\b\b\b\b\b\b\b\b\b\b\b\b\b\b\b\b\b\b\b\b\r36/36 [==============================] - 34s 954ms/step - loss: 0.6488 - accuracy: 0.6254 - auc: 0.6750 - precision: 0.6237 - recall: 0.6456 - val_loss: 0.5854 - val_accuracy: 0.7150 - val_auc: 0.7815 - val_precision: 0.6786 - val_recall: 0.7835\n",
            "Epoch 4/10\n",
            "36/36 [==============================] - ETA: 0s - loss: 0.6438 - accuracy: 0.6281 - auc: 0.6868 - precision: 0.6323 - recall: 0.6246\n",
            "Epoch 4: val_accuracy did not improve from 0.71500\n",
            "36/36 [==============================] - 13s 360ms/step - loss: 0.6438 - accuracy: 0.6281 - auc: 0.6868 - precision: 0.6323 - recall: 0.6246 - val_loss: 0.6043 - val_accuracy: 0.6750 - val_auc: 0.8099 - val_precision: 0.6053 - val_recall: 0.9485\n",
            "Epoch 5/10\n",
            "36/36 [==============================] - ETA: 0s - loss: 0.6214 - accuracy: 0.6519 - auc: 0.7122 - precision: 0.6571 - recall: 0.6456\n",
            "Epoch 5: val_accuracy improved from 0.71500 to 0.73500, saving model to best_model.h510\n"
          ]
        },
        {
          "output_type": "stream",
          "name": "stderr",
          "text": [
            "WARNING:absl:Found untraced functions such as _jit_compiled_convolution_op, _jit_compiled_convolution_op, _jit_compiled_convolution_op, _jit_compiled_convolution_op, _jit_compiled_convolution_op while saving (showing 5 of 52). These functions will not be directly callable after loading.\n"
          ]
        },
        {
          "output_type": "stream",
          "name": "stdout",
          "text": [
            "\b\b\b\b\b\b\b\b\b\b\b\b\b\b\b\b\b\b\b\b\b\b\b\b\b\b\b\b\b\b\b\b\b\b\b\b\b\b\b\b\b\b\b\b\b\b\b\b\b\b\b\b\b\b\b\b\b\b\b\b\b\b\b\b\b\b\b\b\b\b\b\b\b\b\b\b\b\b\b\b\b\b\b\b\b\b\b\b\b\b\b\b\b\b\b\b\b\b\b\b\b\b\b\b\b\b\b\b\b\b\b\b\b\b\b\b\b\b\b\b\b\b\b\b\b\b\b\b\b\b\b\b\b\r36/36 [==============================] - 35s 983ms/step - loss: 0.6214 - accuracy: 0.6519 - auc: 0.7122 - precision: 0.6571 - recall: 0.6456 - val_loss: 0.5688 - val_accuracy: 0.7350 - val_auc: 0.8049 - val_precision: 0.6746 - val_recall: 0.8763\n",
            "Epoch 6/10\n",
            "36/36 [==============================] - ETA: 0s - loss: 0.5951 - accuracy: 0.6837 - auc: 0.7467 - precision: 0.6773 - recall: 0.7105\n",
            "Epoch 6: val_accuracy improved from 0.73500 to 0.78500, saving model to best_model.h510\n"
          ]
        },
        {
          "output_type": "stream",
          "name": "stderr",
          "text": [
            "WARNING:absl:Found untraced functions such as _jit_compiled_convolution_op, _jit_compiled_convolution_op, _jit_compiled_convolution_op, _jit_compiled_convolution_op, _jit_compiled_convolution_op while saving (showing 5 of 52). These functions will not be directly callable after loading.\n"
          ]
        },
        {
          "output_type": "stream",
          "name": "stdout",
          "text": [
            "\b\b\b\b\b\b\b\b\b\b\b\b\b\b\b\b\b\b\b\b\b\b\b\b\b\b\b\b\b\b\b\b\b\b\b\b\b\b\b\b\b\b\b\b\b\b\b\b\b\b\b\b\b\b\b\b\b\b\b\b\b\b\b\b\b\b\b\b\b\b\b\b\b\b\b\b\b\b\b\b\b\b\b\b\b\b\b\b\b\b\b\b\b\b\b\b\b\b\b\b\b\b\b\b\b\b\b\b\b\b\b\b\b\b\b\b\b\b\b\b\b\b\b\b\b\b\b\b\b\b\b\b\b\r36/36 [==============================] - 33s 941ms/step - loss: 0.5951 - accuracy: 0.6837 - auc: 0.7467 - precision: 0.6773 - recall: 0.7105 - val_loss: 0.5297 - val_accuracy: 0.7850 - val_auc: 0.8366 - val_precision: 0.7872 - val_recall: 0.7629\n",
            "Epoch 7/10\n",
            "36/36 [==============================] - ETA: 0s - loss: 0.5641 - accuracy: 0.7120 - auc: 0.7818 - precision: 0.7179 - recall: 0.7053\n",
            "Epoch 7: val_accuracy did not improve from 0.78500\n",
            "36/36 [==============================] - 14s 387ms/step - loss: 0.5641 - accuracy: 0.7120 - auc: 0.7818 - precision: 0.7179 - recall: 0.7053 - val_loss: 0.5199 - val_accuracy: 0.7700 - val_auc: 0.8530 - val_precision: 0.7217 - val_recall: 0.8557\n",
            "Epoch 8/10\n",
            "36/36 [==============================] - ETA: 0s - loss: 0.5885 - accuracy: 0.6793 - auc: 0.7504 - precision: 0.6745 - recall: 0.7018\n",
            "Epoch 8: val_accuracy improved from 0.78500 to 0.79000, saving model to best_model.h510\n"
          ]
        },
        {
          "output_type": "stream",
          "name": "stderr",
          "text": [
            "WARNING:absl:Found untraced functions such as _jit_compiled_convolution_op, _jit_compiled_convolution_op, _jit_compiled_convolution_op, _jit_compiled_convolution_op, _jit_compiled_convolution_op while saving (showing 5 of 52). These functions will not be directly callable after loading.\n"
          ]
        },
        {
          "output_type": "stream",
          "name": "stdout",
          "text": [
            "\b\b\b\b\b\b\b\b\b\b\b\b\b\b\b\b\b\b\b\b\b\b\b\b\b\b\b\b\b\b\b\b\b\b\b\b\b\b\b\b\b\b\b\b\b\b\b\b\b\b\b\b\b\b\b\b\b\b\b\b\b\b\b\b\b\b\b\b\b\b\b\b\b\b\b\b\b\b\b\b\b\b\b\b\b\b\b\b\b\b\b\b\b\b\b\b\b\b\b\b\b\b\b\b\b\b\b\b\b\b\b\b\b\b\b\b\b\b\b\b\b\b\b\b\b\b\b\b\b\b\b\b\b\r36/36 [==============================] - 35s 979ms/step - loss: 0.5885 - accuracy: 0.6793 - auc: 0.7504 - precision: 0.6745 - recall: 0.7018 - val_loss: 0.5070 - val_accuracy: 0.7900 - val_auc: 0.8644 - val_precision: 0.7434 - val_recall: 0.8660\n",
            "Epoch 9/10\n",
            "36/36 [==============================] - ETA: 0s - loss: 0.5711 - accuracy: 0.7032 - auc: 0.7718 - precision: 0.7074 - recall: 0.7000\n",
            "Epoch 9: val_accuracy did not improve from 0.79000\n",
            "36/36 [==============================] - 13s 354ms/step - loss: 0.5711 - accuracy: 0.7032 - auc: 0.7718 - precision: 0.7074 - recall: 0.7000 - val_loss: 0.5201 - val_accuracy: 0.7550 - val_auc: 0.8698 - val_precision: 0.6818 - val_recall: 0.9278\n",
            "Epoch 10/10\n",
            "36/36 [==============================] - ETA: 0s - loss: 0.5554 - accuracy: 0.7111 - auc: 0.7865 - precision: 0.7128 - recall: 0.7140\n",
            "Epoch 10: val_accuracy improved from 0.79000 to 0.81500, saving model to best_model.h510\n"
          ]
        },
        {
          "output_type": "stream",
          "name": "stderr",
          "text": [
            "WARNING:absl:Found untraced functions such as _jit_compiled_convolution_op, _jit_compiled_convolution_op, _jit_compiled_convolution_op, _jit_compiled_convolution_op, _jit_compiled_convolution_op while saving (showing 5 of 52). These functions will not be directly callable after loading.\n"
          ]
        },
        {
          "output_type": "stream",
          "name": "stdout",
          "text": [
            "36/36 [==============================] - 36s 1s/step - loss: 0.5554 - accuracy: 0.7111 - auc: 0.7865 - precision: 0.7128 - recall: 0.7140 - val_loss: 0.4845 - val_accuracy: 0.8150 - val_auc: 0.8739 - val_precision: 0.7778 - val_recall: 0.8660\n",
            "7/7 [==============================] - 1s 45ms/step\n",
            "Fold 2\n",
            "Epoch 1/10\n",
            "36/36 [==============================] - ETA: 0s - loss: 0.5554 - accuracy: 0.7261 - auc: 0.7877 - precision: 0.7194 - recall: 0.7447\n",
            "Epoch 1: val_accuracy did not improve from 0.81500\n",
            "36/36 [==============================] - 13s 371ms/step - loss: 0.5554 - accuracy: 0.7261 - auc: 0.7877 - precision: 0.7194 - recall: 0.7447 - val_loss: 0.5315 - val_accuracy: 0.7250 - val_auc: 0.8662 - val_precision: 0.6571 - val_recall: 0.9293\n",
            "Epoch 2/10\n",
            "36/36 [==============================] - ETA: 0s - loss: 0.5463 - accuracy: 0.7253 - auc: 0.7968 - precision: 0.7332 - recall: 0.7113\n",
            "Epoch 2: val_accuracy did not improve from 0.81500\n",
            "36/36 [==============================] - 13s 353ms/step - loss: 0.5463 - accuracy: 0.7253 - auc: 0.7968 - precision: 0.7332 - recall: 0.7113 - val_loss: 0.4890 - val_accuracy: 0.7600 - val_auc: 0.8713 - val_precision: 0.8148 - val_recall: 0.6667\n",
            "Epoch 3/10\n",
            "36/36 [==============================] - ETA: 0s - loss: 0.5253 - accuracy: 0.7482 - auc: 0.8216 - precision: 0.7444 - recall: 0.7588\n",
            "Epoch 3: val_accuracy did not improve from 0.81500\n",
            "36/36 [==============================] - 16s 436ms/step - loss: 0.5253 - accuracy: 0.7482 - auc: 0.8216 - precision: 0.7444 - recall: 0.7588 - val_loss: 0.4986 - val_accuracy: 0.7500 - val_auc: 0.8684 - val_precision: 0.6929 - val_recall: 0.8889\n",
            "Epoch 4/10\n",
            "36/36 [==============================] - ETA: 0s - loss: 0.5049 - accuracy: 0.7686 - auc: 0.8375 - precision: 0.7656 - recall: 0.7764\n",
            "Epoch 4: val_accuracy did not improve from 0.81500\n",
            "36/36 [==============================] - 13s 350ms/step - loss: 0.5049 - accuracy: 0.7686 - auc: 0.8375 - precision: 0.7656 - recall: 0.7764 - val_loss: 0.4701 - val_accuracy: 0.7900 - val_auc: 0.8739 - val_precision: 0.7767 - val_recall: 0.8081\n",
            "Epoch 5/10\n",
            "36/36 [==============================] - ETA: 0s - loss: 0.5167 - accuracy: 0.7527 - auc: 0.8250 - precision: 0.7526 - recall: 0.7553\n",
            "Epoch 5: val_accuracy did not improve from 0.81500\n",
            "36/36 [==============================] - 13s 353ms/step - loss: 0.5167 - accuracy: 0.7527 - auc: 0.8250 - precision: 0.7526 - recall: 0.7553 - val_loss: 0.4641 - val_accuracy: 0.7950 - val_auc: 0.8783 - val_precision: 0.7788 - val_recall: 0.8182\n",
            "Epoch 6/10\n",
            "36/36 [==============================] - ETA: 0s - loss: 0.4878 - accuracy: 0.7792 - auc: 0.8504 - precision: 0.7780 - recall: 0.7835\n",
            "Epoch 6: val_accuracy did not improve from 0.81500\n",
            "36/36 [==============================] - 13s 351ms/step - loss: 0.4878 - accuracy: 0.7792 - auc: 0.8504 - precision: 0.7780 - recall: 0.7835 - val_loss: 0.4719 - val_accuracy: 0.7600 - val_auc: 0.8841 - val_precision: 0.7143 - val_recall: 0.8586\n",
            "Epoch 7/10\n",
            "36/36 [==============================] - ETA: 0s - loss: 0.4954 - accuracy: 0.7535 - auc: 0.8421 - precision: 0.7558 - recall: 0.7518\n",
            "Epoch 7: val_accuracy did not improve from 0.81500\n",
            "36/36 [==============================] - 13s 365ms/step - loss: 0.4954 - accuracy: 0.7535 - auc: 0.8421 - precision: 0.7558 - recall: 0.7518 - val_loss: 0.4530 - val_accuracy: 0.8050 - val_auc: 0.8813 - val_precision: 0.8000 - val_recall: 0.8081\n",
            "Epoch 8/10\n",
            "36/36 [==============================] - ETA: 0s - loss: 0.5305 - accuracy: 0.7323 - auc: 0.8106 - precision: 0.7304 - recall: 0.7394\n",
            "Epoch 8: val_accuracy did not improve from 0.81500\n",
            "36/36 [==============================] - 14s 386ms/step - loss: 0.5305 - accuracy: 0.7323 - auc: 0.8106 - precision: 0.7304 - recall: 0.7394 - val_loss: 0.4511 - val_accuracy: 0.7800 - val_auc: 0.8843 - val_precision: 0.7835 - val_recall: 0.7677\n",
            "Epoch 9/10\n",
            "36/36 [==============================] - ETA: 0s - loss: 0.5170 - accuracy: 0.7491 - auc: 0.8227 - precision: 0.7563 - recall: 0.7377\n",
            "Epoch 9: val_accuracy did not improve from 0.81500\n",
            "36/36 [==============================] - 15s 428ms/step - loss: 0.5170 - accuracy: 0.7491 - auc: 0.8227 - precision: 0.7563 - recall: 0.7377 - val_loss: 0.4478 - val_accuracy: 0.7850 - val_auc: 0.8826 - val_precision: 0.7692 - val_recall: 0.8081\n",
            "Epoch 10/10\n",
            "36/36 [==============================] - ETA: 0s - loss: 0.4954 - accuracy: 0.7650 - auc: 0.8421 - precision: 0.7696 - recall: 0.7588\n",
            "Epoch 10: val_accuracy did not improve from 0.81500\n",
            "36/36 [==============================] - 13s 349ms/step - loss: 0.4954 - accuracy: 0.7650 - auc: 0.8421 - precision: 0.7696 - recall: 0.7588 - val_loss: 0.4424 - val_accuracy: 0.7950 - val_auc: 0.8925 - val_precision: 0.7685 - val_recall: 0.8384\n",
            "7/7 [==============================] - 0s 38ms/step\n"
          ]
        }
      ]
    },
    {
      "cell_type": "code",
      "source": [
        "model10.evaluate(train_datagen.flow(x_train,y_train))\n",
        "model10.evaluate(val_datagen.flow(x_val,y_val))"
      ],
      "metadata": {
        "colab": {
          "base_uri": "https://localhost:8080/"
        },
        "id": "6OWkbvxlG0pq",
        "outputId": "3c56bd69-bf36-43db-8f26-a4495c171188"
      },
      "execution_count": null,
      "outputs": [
        {
          "output_type": "stream",
          "name": "stdout",
          "text": [
            "36/36 [==============================] - 13s 338ms/step - loss: 0.4534 - accuracy: 0.8101 - auc: 0.8926 - precision: 0.7976 - recall: 0.8327\n",
            "7/7 [==============================] - 3s 403ms/step - loss: 0.4998 - accuracy: 0.7600 - auc: 0.8461 - precision: 0.7476 - recall: 0.7778\n"
          ]
        },
        {
          "output_type": "execute_result",
          "data": {
            "text/plain": [
              "[0.4998006820678711,\n",
              " 0.7599999904632568,\n",
              " 0.8460845947265625,\n",
              " 0.7475728392601013,\n",
              " 0.7777777910232544]"
            ]
          },
          "metadata": {},
          "execution_count": 27
        }
      ]
    },
    {
      "cell_type": "code",
      "source": [
        "y_predict10_2=model10.predict(x_test)\n",
        "Y_predict10_2=np.float32(y_predict10_2>0.50)\n",
        "l=len(y_test)\n",
        "Y_predict10_2=np.reshape(Y_predict10_2,(l,1))\n",
        "print(Y_predict10_2)"
      ],
      "metadata": {
        "colab": {
          "base_uri": "https://localhost:8080/"
        },
        "id": "FBnRS_ldHIYc",
        "outputId": "7eebdea1-70cb-4c20-881e-8857e4683d54"
      },
      "execution_count": null,
      "outputs": [
        {
          "output_type": "stream",
          "name": "stdout",
          "text": [
            "5/5 [==============================] - 1s 137ms/step\n",
            "[[0.]\n",
            " [0.]\n",
            " [0.]\n",
            " [0.]\n",
            " [0.]\n",
            " [0.]\n",
            " [0.]\n",
            " [1.]\n",
            " [0.]\n",
            " [1.]\n",
            " [0.]\n",
            " [1.]\n",
            " [0.]\n",
            " [0.]\n",
            " [1.]\n",
            " [0.]\n",
            " [1.]\n",
            " [0.]\n",
            " [1.]\n",
            " [1.]\n",
            " [1.]\n",
            " [1.]\n",
            " [1.]\n",
            " [1.]\n",
            " [1.]\n",
            " [1.]\n",
            " [1.]\n",
            " [0.]\n",
            " [0.]\n",
            " [0.]\n",
            " [0.]\n",
            " [1.]\n",
            " [1.]\n",
            " [0.]\n",
            " [0.]\n",
            " [0.]\n",
            " [1.]\n",
            " [0.]\n",
            " [1.]\n",
            " [1.]\n",
            " [0.]\n",
            " [1.]\n",
            " [1.]\n",
            " [0.]\n",
            " [1.]\n",
            " [0.]\n",
            " [0.]\n",
            " [1.]\n",
            " [0.]\n",
            " [1.]\n",
            " [1.]\n",
            " [1.]\n",
            " [0.]\n",
            " [1.]\n",
            " [1.]\n",
            " [0.]\n",
            " [0.]\n",
            " [1.]\n",
            " [0.]\n",
            " [1.]\n",
            " [0.]\n",
            " [1.]\n",
            " [1.]\n",
            " [0.]\n",
            " [1.]\n",
            " [1.]\n",
            " [1.]\n",
            " [1.]\n",
            " [0.]\n",
            " [1.]\n",
            " [1.]\n",
            " [0.]\n",
            " [0.]\n",
            " [0.]\n",
            " [0.]\n",
            " [1.]\n",
            " [0.]\n",
            " [0.]\n",
            " [0.]\n",
            " [0.]\n",
            " [1.]\n",
            " [1.]\n",
            " [1.]\n",
            " [1.]\n",
            " [1.]\n",
            " [0.]\n",
            " [1.]\n",
            " [1.]\n",
            " [0.]\n",
            " [1.]\n",
            " [1.]\n",
            " [1.]\n",
            " [0.]\n",
            " [1.]\n",
            " [1.]\n",
            " [1.]\n",
            " [0.]\n",
            " [1.]\n",
            " [0.]\n",
            " [0.]\n",
            " [1.]\n",
            " [0.]\n",
            " [0.]\n",
            " [1.]\n",
            " [0.]\n",
            " [1.]\n",
            " [1.]\n",
            " [1.]\n",
            " [1.]\n",
            " [1.]\n",
            " [0.]\n",
            " [0.]\n",
            " [1.]\n",
            " [1.]\n",
            " [1.]\n",
            " [1.]\n",
            " [0.]\n",
            " [1.]\n",
            " [1.]\n",
            " [1.]\n",
            " [1.]\n",
            " [0.]\n",
            " [1.]\n",
            " [0.]\n",
            " [1.]\n",
            " [1.]\n",
            " [0.]\n",
            " [1.]\n",
            " [1.]\n",
            " [0.]\n",
            " [1.]\n",
            " [0.]\n",
            " [1.]\n",
            " [1.]\n",
            " [1.]\n",
            " [1.]\n",
            " [1.]\n",
            " [0.]\n",
            " [1.]\n",
            " [0.]\n",
            " [0.]\n",
            " [1.]\n",
            " [0.]\n",
            " [1.]\n",
            " [0.]\n",
            " [1.]\n",
            " [1.]\n",
            " [1.]]\n"
          ]
        }
      ]
    },
    {
      "cell_type": "code",
      "source": [
        "from sklearn.metrics import auc,roc_curve\n",
        "from sklearn.metrics import f1_score\n",
        "from sklearn.metrics import cohen_kappa_score\n",
        "from sklearn.metrics import accuracy_score\n",
        "f110 = f1_score(y_test, Y_predict10_2)\n",
        "test_accuracy10 = accuracy_score(y_test, Y_predict10_2)\n",
        "kappa10 = cohen_kappa_score(y_test, Y_predict10_2)\n",
        "auc10 = roc_auc_score(y_test, Y_predict10_2)"
      ],
      "metadata": {
        "id": "ponWk9YCHW89"
      },
      "execution_count": null,
      "outputs": []
    },
    {
      "cell_type": "code",
      "source": [
        "print(auc10)\n",
        "print(f110)\n",
        "print(kappa10)\n",
        "print(test_accuracy10)"
      ],
      "metadata": {
        "colab": {
          "base_uri": "https://localhost:8080/"
        },
        "id": "enH1LiL_HkyJ",
        "outputId": "21318c37-d1d3-4ef1-8e3d-02978acbda5d"
      },
      "execution_count": null,
      "outputs": [
        {
          "output_type": "stream",
          "name": "stdout",
          "text": [
            "0.8207668317739863\n",
            "0.8414634146341463\n",
            "0.645083932853717\n",
            "0.8243243243243243\n"
          ]
        }
      ]
    },
    {
      "cell_type": "markdown",
      "source": [
        "# AdvancedMobilenetV2"
      ],
      "metadata": {
        "id": "RaWXfeuXPCk-"
      }
    },
    {
      "cell_type": "code",
      "source": [
        "base_model11 = tf.keras.applications.mobilenet_v2.MobileNetV2(\n",
        "    weights='imagenet',\n",
        "    input_shape=(224, 224, 3),\n",
        "    include_top=False)\n",
        "base_model11.trainable = False\n",
        "inputs = tf.keras.Input(shape=(224, 224, 3))\n",
        "x11 = base_model11(inputs, training=False)\n",
        "x11 = tf.keras.layers.Flatten()(x11)\n",
        "x11 = tf.keras.layers.BatchNormalization()(x11)\n",
        "x11 = tf.keras.layers.Dense(256,kernel_initializer='he_uniform')(x11)\n",
        "x11 = tf.keras.layers.BatchNormalization()(x11)\n",
        "x11 = tf.keras.layers.Activation(activation='relu')(x11)\n",
        "x11 = tf.keras.layers.Dense(128,kernel_initializer='he_uniform')(x11)\n",
        "x11 = tf.keras.layers.BatchNormalization()(x11)\n",
        "x11 = tf.keras.layers.Activation(activation='relu')(x11)\n",
        "x11 = tf.keras.layers.Dropout(0.5)(x11)\n",
        "x11 = tf.keras.layers.Dense(1)(x11)\n",
        "outputs=tf.keras.layers.Activation(activation='sigmoid')(x11)\n",
        "model11 = tf.keras.Model(inputs, outputs)\n",
        "model11.summary()"
      ],
      "metadata": {
        "colab": {
          "base_uri": "https://localhost:8080/"
        },
        "id": "tO1fFt5MPIRh",
        "outputId": "e5349e79-b8f6-444b-c900-ff085d98fb1a"
      },
      "execution_count": null,
      "outputs": [
        {
          "output_type": "stream",
          "name": "stdout",
          "text": [
            "Model: \"model\"\n",
            "_________________________________________________________________\n",
            " Layer (type)                Output Shape              Param #   \n",
            "=================================================================\n",
            " input_4 (InputLayer)        [(None, 224, 224, 3)]     0         \n",
            "                                                                 \n",
            " mobilenetv2_1.00_224 (Funct  (None, 7, 7, 1280)       2257984   \n",
            " ional)                                                          \n",
            "                                                                 \n",
            " flatten (Flatten)           (None, 62720)             0         \n",
            "                                                                 \n",
            " batch_normalization (BatchN  (None, 62720)            250880    \n",
            " ormalization)                                                   \n",
            "                                                                 \n",
            " dense (Dense)               (None, 256)               16056576  \n",
            "                                                                 \n",
            " batch_normalization_1 (Batc  (None, 256)              1024      \n",
            " hNormalization)                                                 \n",
            "                                                                 \n",
            " activation (Activation)     (None, 256)               0         \n",
            "                                                                 \n",
            " dense_1 (Dense)             (None, 128)               32896     \n",
            "                                                                 \n",
            " batch_normalization_2 (Batc  (None, 128)              512       \n",
            " hNormalization)                                                 \n",
            "                                                                 \n",
            " activation_1 (Activation)   (None, 128)               0         \n",
            "                                                                 \n",
            " dropout (Dropout)           (None, 128)               0         \n",
            "                                                                 \n",
            " dense_2 (Dense)             (None, 1)                 129       \n",
            "                                                                 \n",
            " activation_2 (Activation)   (None, 1)                 0         \n",
            "                                                                 \n",
            "=================================================================\n",
            "Total params: 18,600,001\n",
            "Trainable params: 16,215,809\n",
            "Non-trainable params: 2,384,192\n",
            "_________________________________________________________________\n"
          ]
        }
      ]
    },
    {
      "cell_type": "code",
      "source": [
        "model11.compile(loss='binary_crossentropy',\n",
        "              optimizer='adam',\n",
        "              metrics=['accuracy','AUC','Precision','Recall'])"
      ],
      "metadata": {
        "id": "LRU3kt1vQZ87"
      },
      "execution_count": null,
      "outputs": []
    },
    {
      "cell_type": "code",
      "source": [
        "from tensorflow.keras.callbacks import ModelCheckpoint, EarlyStopping\n",
        "es=EarlyStopping(patience=3,monitor='val_loss')\n",
        "filepath='best_model.h5'\n",
        "checkpoint = ModelCheckpoint(filepath, monitor='val_accuracy', verbose=1, save_best_only=True, mode='max')"
      ],
      "metadata": {
        "id": "OS6G--OJQdxY"
      },
      "execution_count": null,
      "outputs": []
    },
    {
      "cell_type": "code",
      "source": [
        "for j,(train_idx,val_idx) in enumerate(folds):\n",
        "    print(\"Fold \"+str(j+1))\n",
        "\n",
        "    x_train1=x_train[train_idx]\n",
        "    y_train1=y_train[train_idx]\n",
        "    x_val=x_train[val_idx]\n",
        "    y_val=y_train[val_idx]\n",
        "    history=model11.fit(train_datagen.flow(x_train1,y_train1),epochs=10,validation_data=(x_val,y_val),callbacks=checkpoint)\n",
        "    y_predict11_1=model11.predict(x_val)\n",
        "    Y_predict11_1=np.float32(y_predict11_1>0.50)\n",
        "    l=len(y_val)\n",
        "    Y_predict11_1=np.reshape(Y_predict11_1,(l,1))"
      ],
      "metadata": {
        "colab": {
          "base_uri": "https://localhost:8080/"
        },
        "id": "bh1weq6KQitX",
        "outputId": "593c4a2f-5cfa-4739-c53f-a55b8ff96ba5"
      },
      "execution_count": null,
      "outputs": [
        {
          "output_type": "stream",
          "name": "stdout",
          "text": [
            "Fold 1\n",
            "Epoch 1/10\n",
            "36/36 [==============================] - ETA: 0s - loss: 0.7606 - accuracy: 0.5989 - auc: 0.6371 - precision: 0.5873 - recall: 0.6702\n",
            "Epoch 1: val_accuracy improved from -inf to 0.63000, saving model to best_model.h5\n",
            "36/36 [==============================] - 25s 419ms/step - loss: 0.7606 - accuracy: 0.5989 - auc: 0.6371 - precision: 0.5873 - recall: 0.6702 - val_loss: 1.2947 - val_accuracy: 0.6300 - val_auc: 0.7931 - val_precision: 0.5756 - val_recall: 0.9900\n",
            "Epoch 2/10\n",
            "36/36 [==============================] - ETA: 0s - loss: 0.5513 - accuracy: 0.7412 - auc: 0.8026 - precision: 0.7429 - recall: 0.7390\n",
            "Epoch 2: val_accuracy improved from 0.63000 to 0.76500, saving model to best_model.h5\n",
            "36/36 [==============================] - 14s 393ms/step - loss: 0.5513 - accuracy: 0.7412 - auc: 0.8026 - precision: 0.7429 - recall: 0.7390 - val_loss: 0.5567 - val_accuracy: 0.7650 - val_auc: 0.9287 - val_precision: 0.6803 - val_recall: 1.0000\n",
            "Epoch 3/10\n",
            "36/36 [==============================] - ETA: 0s - loss: 0.4186 - accuracy: 0.8145 - auc: 0.8889 - precision: 0.8182 - recall: 0.8095\n",
            "Epoch 3: val_accuracy improved from 0.76500 to 0.87500, saving model to best_model.h5\n",
            "36/36 [==============================] - 15s 418ms/step - loss: 0.4186 - accuracy: 0.8145 - auc: 0.8889 - precision: 0.8182 - recall: 0.8095 - val_loss: 0.3498 - val_accuracy: 0.8750 - val_auc: 0.9444 - val_precision: 0.8319 - val_recall: 0.9400\n",
            "Epoch 4/10\n",
            "36/36 [==============================] - ETA: 0s - loss: 0.3575 - accuracy: 0.8410 - auc: 0.9222 - precision: 0.8401 - recall: 0.8430\n",
            "Epoch 4: val_accuracy improved from 0.87500 to 0.89500, saving model to best_model.h5\n",
            "36/36 [==============================] - 14s 392ms/step - loss: 0.3575 - accuracy: 0.8410 - auc: 0.9222 - precision: 0.8401 - recall: 0.8430 - val_loss: 0.2312 - val_accuracy: 0.8950 - val_auc: 0.9775 - val_precision: 0.8496 - val_recall: 0.9600\n",
            "Epoch 5/10\n",
            "36/36 [==============================] - ETA: 0s - loss: 0.2989 - accuracy: 0.8684 - auc: 0.9458 - precision: 0.8732 - recall: 0.8624\n",
            "Epoch 5: val_accuracy improved from 0.89500 to 0.93500, saving model to best_model.h5\n",
            "36/36 [==============================] - 14s 396ms/step - loss: 0.2989 - accuracy: 0.8684 - auc: 0.9458 - precision: 0.8732 - recall: 0.8624 - val_loss: 0.1822 - val_accuracy: 0.9350 - val_auc: 0.9812 - val_precision: 0.9394 - val_recall: 0.9300\n",
            "Epoch 6/10\n",
            "36/36 [==============================] - ETA: 0s - loss: 0.2897 - accuracy: 0.8816 - auc: 0.9489 - precision: 0.8765 - recall: 0.8889\n",
            "Epoch 6: val_accuracy improved from 0.93500 to 0.97000, saving model to best_model.h5\n",
            "36/36 [==============================] - 14s 392ms/step - loss: 0.2897 - accuracy: 0.8816 - auc: 0.9489 - precision: 0.8765 - recall: 0.8889 - val_loss: 0.1234 - val_accuracy: 0.9700 - val_auc: 0.9919 - val_precision: 0.9519 - val_recall: 0.9900\n",
            "Epoch 7/10\n",
            "36/36 [==============================] - ETA: 0s - loss: 0.2448 - accuracy: 0.9055 - auc: 0.9634 - precision: 0.9064 - recall: 0.9048\n",
            "Epoch 7: val_accuracy did not improve from 0.97000\n",
            "36/36 [==============================] - 13s 357ms/step - loss: 0.2448 - accuracy: 0.9055 - auc: 0.9634 - precision: 0.9064 - recall: 0.9048 - val_loss: 0.1285 - val_accuracy: 0.9550 - val_auc: 0.9966 - val_precision: 0.9174 - val_recall: 1.0000\n",
            "Epoch 8/10\n",
            "36/36 [==============================] - ETA: 0s - loss: 0.2060 - accuracy: 0.9231 - auc: 0.9744 - precision: 0.9152 - recall: 0.9330\n",
            "Epoch 8: val_accuracy did not improve from 0.97000\n",
            "36/36 [==============================] - 13s 345ms/step - loss: 0.2060 - accuracy: 0.9231 - auc: 0.9744 - precision: 0.9152 - recall: 0.9330 - val_loss: 0.1644 - val_accuracy: 0.9350 - val_auc: 0.9834 - val_precision: 0.9677 - val_recall: 0.9000\n",
            "Epoch 9/10\n",
            "36/36 [==============================] - ETA: 0s - loss: 0.2107 - accuracy: 0.9196 - auc: 0.9724 - precision: 0.9343 - recall: 0.9030\n",
            "Epoch 9: val_accuracy did not improve from 0.97000\n",
            "36/36 [==============================] - 14s 394ms/step - loss: 0.2107 - accuracy: 0.9196 - auc: 0.9724 - precision: 0.9343 - recall: 0.9030 - val_loss: 0.1338 - val_accuracy: 0.9550 - val_auc: 0.9904 - val_precision: 0.9691 - val_recall: 0.9400\n",
            "Epoch 10/10\n",
            "36/36 [==============================] - ETA: 0s - loss: 0.1813 - accuracy: 0.9293 - auc: 0.9804 - precision: 0.9310 - recall: 0.9277\n",
            "Epoch 10: val_accuracy did not improve from 0.97000\n",
            "36/36 [==============================] - 16s 459ms/step - loss: 0.1813 - accuracy: 0.9293 - auc: 0.9804 - precision: 0.9310 - recall: 0.9277 - val_loss: 0.0695 - val_accuracy: 0.9700 - val_auc: 0.9979 - val_precision: 0.9700 - val_recall: 0.9700\n",
            "7/7 [==============================] - 1s 45ms/step\n",
            "Fold 2\n",
            "Epoch 1/10\n",
            "36/36 [==============================] - ETA: 0s - loss: 0.1968 - accuracy: 0.9205 - auc: 0.9764 - precision: 0.9162 - recall: 0.9259\n",
            "Epoch 1: val_accuracy improved from 0.97000 to 0.98000, saving model to best_model.h5\n",
            "36/36 [==============================] - 14s 400ms/step - loss: 0.1968 - accuracy: 0.9205 - auc: 0.9764 - precision: 0.9162 - recall: 0.9259 - val_loss: 0.0427 - val_accuracy: 0.9800 - val_auc: 0.9993 - val_precision: 0.9800 - val_recall: 0.9800\n",
            "Epoch 2/10\n",
            "36/36 [==============================] - ETA: 0s - loss: 0.1192 - accuracy: 0.9558 - auc: 0.9932 - precision: 0.9511 - recall: 0.9612\n",
            "Epoch 2: val_accuracy improved from 0.98000 to 0.98500, saving model to best_model.h5\n",
            "36/36 [==============================] - 14s 398ms/step - loss: 0.1192 - accuracy: 0.9558 - auc: 0.9932 - precision: 0.9511 - recall: 0.9612 - val_loss: 0.0324 - val_accuracy: 0.9850 - val_auc: 0.9997 - val_precision: 0.9899 - val_recall: 0.9800\n",
            "Epoch 3/10\n",
            "36/36 [==============================] - ETA: 0s - loss: 0.1460 - accuracy: 0.9479 - auc: 0.9865 - precision: 0.9536 - recall: 0.9418\n",
            "Epoch 3: val_accuracy did not improve from 0.98500\n",
            "36/36 [==============================] - 13s 366ms/step - loss: 0.1460 - accuracy: 0.9479 - auc: 0.9865 - precision: 0.9536 - recall: 0.9418 - val_loss: 0.0639 - val_accuracy: 0.9700 - val_auc: 0.9976 - val_precision: 0.9700 - val_recall: 0.9700\n",
            "Epoch 4/10\n",
            "36/36 [==============================] - ETA: 0s - loss: 0.1817 - accuracy: 0.9311 - auc: 0.9787 - precision: 0.9297 - recall: 0.9330\n",
            "Epoch 4: val_accuracy did not improve from 0.98500\n",
            "36/36 [==============================] - 13s 366ms/step - loss: 0.1817 - accuracy: 0.9311 - auc: 0.9787 - precision: 0.9297 - recall: 0.9330 - val_loss: 0.0830 - val_accuracy: 0.9700 - val_auc: 0.9963 - val_precision: 0.9700 - val_recall: 0.9700\n",
            "Epoch 5/10\n",
            "36/36 [==============================] - ETA: 0s - loss: 0.1440 - accuracy: 0.9417 - auc: 0.9875 - precision: 0.9372 - recall: 0.9471\n",
            "Epoch 5: val_accuracy did not improve from 0.98500\n",
            "36/36 [==============================] - 13s 381ms/step - loss: 0.1440 - accuracy: 0.9417 - auc: 0.9875 - precision: 0.9372 - recall: 0.9471 - val_loss: 0.0697 - val_accuracy: 0.9750 - val_auc: 0.9969 - val_precision: 0.9612 - val_recall: 0.9900\n",
            "Epoch 6/10\n",
            "36/36 [==============================] - ETA: 0s - loss: 0.1314 - accuracy: 0.9541 - auc: 0.9895 - precision: 0.9558 - recall: 0.9524\n",
            "Epoch 6: val_accuracy improved from 0.98500 to 0.99000, saving model to best_model.h5\n",
            "36/36 [==============================] - 14s 387ms/step - loss: 0.1314 - accuracy: 0.9541 - auc: 0.9895 - precision: 0.9558 - recall: 0.9524 - val_loss: 0.0588 - val_accuracy: 0.9900 - val_auc: 0.9934 - val_precision: 1.0000 - val_recall: 0.9800\n",
            "Epoch 7/10\n",
            "36/36 [==============================] - ETA: 0s - loss: 0.1298 - accuracy: 0.9505 - auc: 0.9899 - precision: 0.9587 - recall: 0.9418\n",
            "Epoch 7: val_accuracy did not improve from 0.99000\n",
            "36/36 [==============================] - 13s 366ms/step - loss: 0.1298 - accuracy: 0.9505 - auc: 0.9899 - precision: 0.9587 - recall: 0.9418 - val_loss: 0.0554 - val_accuracy: 0.9850 - val_auc: 0.9985 - val_precision: 0.9899 - val_recall: 0.9800\n",
            "Epoch 8/10\n",
            "36/36 [==============================] - ETA: 0s - loss: 0.1261 - accuracy: 0.9505 - auc: 0.9903 - precision: 0.9413 - recall: 0.9612\n",
            "Epoch 8: val_accuracy did not improve from 0.99000\n",
            "36/36 [==============================] - 13s 369ms/step - loss: 0.1261 - accuracy: 0.9505 - auc: 0.9903 - precision: 0.9413 - recall: 0.9612 - val_loss: 0.0784 - val_accuracy: 0.9750 - val_auc: 0.9950 - val_precision: 0.9798 - val_recall: 0.9700\n",
            "Epoch 9/10\n",
            "36/36 [==============================] - ETA: 0s - loss: 0.1275 - accuracy: 0.9532 - auc: 0.9897 - precision: 0.9509 - recall: 0.9559\n",
            "Epoch 9: val_accuracy did not improve from 0.99000\n",
            "36/36 [==============================] - 13s 370ms/step - loss: 0.1275 - accuracy: 0.9532 - auc: 0.9897 - precision: 0.9509 - recall: 0.9559 - val_loss: 0.0524 - val_accuracy: 0.9850 - val_auc: 0.9981 - val_precision: 0.9802 - val_recall: 0.9900\n",
            "Epoch 10/10\n",
            "36/36 [==============================] - ETA: 0s - loss: 0.1207 - accuracy: 0.9479 - auc: 0.9914 - precision: 0.9568 - recall: 0.9383\n",
            "Epoch 10: val_accuracy did not improve from 0.99000\n",
            "36/36 [==============================] - 13s 358ms/step - loss: 0.1207 - accuracy: 0.9479 - auc: 0.9914 - precision: 0.9568 - recall: 0.9383 - val_loss: 0.0357 - val_accuracy: 0.9900 - val_auc: 0.9995 - val_precision: 1.0000 - val_recall: 0.9800\n",
            "7/7 [==============================] - 0s 37ms/step\n"
          ]
        }
      ]
    },
    {
      "cell_type": "code",
      "source": [
        "model11.evaluate(train_datagen.flow(x_train,y_train))\n",
        "model11.evaluate(val_datagen.flow(x_val,y_val))"
      ],
      "metadata": {
        "colab": {
          "base_uri": "https://localhost:8080/"
        },
        "id": "F2Gl71ZTQjUy",
        "outputId": "1e83f3c4-f014-4d55-f911-0341577bc5bd"
      },
      "execution_count": null,
      "outputs": [
        {
          "output_type": "stream",
          "name": "stdout",
          "text": [
            "42/42 [==============================] - 16s 349ms/step - loss: 0.0720 - accuracy: 0.9760 - auc: 0.9956 - precision: 0.9704 - recall: 0.9820\n",
            "7/7 [==============================] - 2s 271ms/step - loss: 0.1043 - accuracy: 0.9550 - auc: 0.9905 - precision: 0.9596 - recall: 0.9500\n"
          ]
        },
        {
          "output_type": "execute_result",
          "data": {
            "text/plain": [
              "[0.10425347089767456,\n",
              " 0.9549999833106995,\n",
              " 0.9904500246047974,\n",
              " 0.9595959782600403,\n",
              " 0.949999988079071]"
            ]
          },
          "metadata": {},
          "execution_count": 32
        }
      ]
    },
    {
      "cell_type": "code",
      "source": [
        "y_predict11_2=model11.predict(x_test)\n",
        "Y_predict11_2=np.float32(y_predict11_2>0.50)\n",
        "l=len(y_test)\n",
        "Y_predict11_2=np.reshape(Y_predict11_2,(l,1))\n",
        "print(Y_predict11_2)"
      ],
      "metadata": {
        "colab": {
          "base_uri": "https://localhost:8080/"
        },
        "id": "la3Cz_A4QpIp",
        "outputId": "504a16f8-ff82-4753-9de9-8c58ccfe2afc"
      },
      "execution_count": null,
      "outputs": [
        {
          "output_type": "stream",
          "name": "stdout",
          "text": [
            "5/5 [==============================] - 0s 48ms/step\n",
            "[[0.]\n",
            " [1.]\n",
            " [0.]\n",
            " [1.]\n",
            " [0.]\n",
            " [1.]\n",
            " [1.]\n",
            " [1.]\n",
            " [0.]\n",
            " [0.]\n",
            " [1.]\n",
            " [0.]\n",
            " [0.]\n",
            " [0.]\n",
            " [1.]\n",
            " [0.]\n",
            " [1.]\n",
            " [0.]\n",
            " [1.]\n",
            " [0.]\n",
            " [0.]\n",
            " [1.]\n",
            " [0.]\n",
            " [0.]\n",
            " [0.]\n",
            " [0.]\n",
            " [0.]\n",
            " [0.]\n",
            " [1.]\n",
            " [1.]\n",
            " [0.]\n",
            " [1.]\n",
            " [1.]\n",
            " [1.]\n",
            " [1.]\n",
            " [0.]\n",
            " [0.]\n",
            " [1.]\n",
            " [1.]\n",
            " [1.]\n",
            " [0.]\n",
            " [1.]\n",
            " [1.]\n",
            " [0.]\n",
            " [0.]\n",
            " [0.]\n",
            " [1.]\n",
            " [0.]\n",
            " [1.]\n",
            " [0.]\n",
            " [0.]\n",
            " [1.]\n",
            " [1.]\n",
            " [0.]\n",
            " [1.]\n",
            " [0.]\n",
            " [1.]\n",
            " [1.]\n",
            " [0.]\n",
            " [1.]\n",
            " [0.]\n",
            " [0.]\n",
            " [0.]\n",
            " [0.]\n",
            " [0.]\n",
            " [0.]\n",
            " [0.]\n",
            " [0.]\n",
            " [1.]\n",
            " [0.]\n",
            " [0.]\n",
            " [0.]\n",
            " [1.]\n",
            " [1.]\n",
            " [1.]\n",
            " [1.]\n",
            " [0.]\n",
            " [1.]\n",
            " [1.]\n",
            " [0.]\n",
            " [0.]\n",
            " [1.]\n",
            " [0.]\n",
            " [0.]\n",
            " [1.]\n",
            " [1.]\n",
            " [0.]\n",
            " [1.]\n",
            " [0.]\n",
            " [0.]\n",
            " [0.]\n",
            " [1.]\n",
            " [1.]\n",
            " [1.]\n",
            " [0.]\n",
            " [0.]\n",
            " [0.]\n",
            " [1.]\n",
            " [0.]\n",
            " [1.]\n",
            " [0.]\n",
            " [0.]\n",
            " [1.]\n",
            " [1.]\n",
            " [1.]\n",
            " [1.]\n",
            " [1.]\n",
            " [1.]\n",
            " [1.]\n",
            " [1.]\n",
            " [1.]\n",
            " [0.]\n",
            " [0.]\n",
            " [1.]\n",
            " [0.]\n",
            " [1.]\n",
            " [1.]\n",
            " [0.]\n",
            " [0.]\n",
            " [0.]\n",
            " [1.]\n",
            " [0.]\n",
            " [1.]\n",
            " [0.]\n",
            " [0.]\n",
            " [1.]\n",
            " [0.]\n",
            " [1.]\n",
            " [0.]\n",
            " [1.]\n",
            " [0.]\n",
            " [1.]\n",
            " [1.]\n",
            " [1.]\n",
            " [1.]\n",
            " [1.]\n",
            " [0.]\n",
            " [1.]\n",
            " [0.]\n",
            " [1.]\n",
            " [1.]\n",
            " [1.]\n",
            " [0.]\n",
            " [0.]\n",
            " [0.]\n",
            " [0.]\n",
            " [0.]\n",
            " [1.]]\n"
          ]
        }
      ]
    },
    {
      "cell_type": "code",
      "source": [
        "from sklearn.metrics import auc,roc_curve\n",
        "from sklearn.metrics import f1_score\n",
        "from sklearn.metrics import cohen_kappa_score\n",
        "from sklearn.metrics import accuracy_score\n",
        "f111 = f1_score(y_test, Y_predict11_2)\n",
        "test_accuracy11 = accuracy_score(y_test, Y_predict11_2)\n",
        "kappa11 = cohen_kappa_score(y_test, Y_predict11_2)\n",
        "auc11 = roc_auc_score(y_test, Y_predict11_2)"
      ],
      "metadata": {
        "id": "8zjTO9bYQs7S"
      },
      "execution_count": null,
      "outputs": []
    },
    {
      "cell_type": "code",
      "source": [
        "print(auc11)\n",
        "print(f111)\n",
        "print(kappa11)\n",
        "print(test_accuracy11)"
      ],
      "metadata": {
        "colab": {
          "base_uri": "https://localhost:8080/"
        },
        "id": "_dmu3shTQuvX",
        "outputId": "9bc8af45-9fc3-4918-d3c4-64435abc6a0e"
      },
      "execution_count": null,
      "outputs": [
        {
          "output_type": "stream",
          "name": "stdout",
          "text": [
            "0.9390867579908675\n",
            "0.9379310344827586\n",
            "0.8783339422725612\n",
            "0.9391891891891891\n"
          ]
        }
      ]
    },
    {
      "cell_type": "markdown",
      "source": [
        "# AdvancedMobilenet"
      ],
      "metadata": {
        "id": "MuU0vqKdRGiK"
      }
    },
    {
      "cell_type": "code",
      "source": [
        "base_model12 = tf.keras.applications.mobilenet.MobileNet(\n",
        "    weights='imagenet',\n",
        "    input_shape=(224, 224, 3),\n",
        "    include_top=False)\n",
        "base_model12.trainable = False\n",
        "inputs = tf.keras.Input(shape=(224, 224, 3))\n",
        "x12 = base_model12(inputs, training=False)\n",
        "x12 = tf.keras.layers.Flatten()(x12)\n",
        "x12 = tf.keras.layers.BatchNormalization()(x12)\n",
        "x12 = tf.keras.layers.Dense(256,kernel_initializer='he_uniform')(x12)\n",
        "x12 = tf.keras.layers.BatchNormalization()(x12)\n",
        "x12 = tf.keras.layers.Activation(activation='relu')(x12)\n",
        "x12 = tf.keras.layers.Dense(128,kernel_initializer='he_uniform')(x12)\n",
        "x12 = tf.keras.layers.BatchNormalization()(x12)\n",
        "x12 = tf.keras.layers.Activation(activation='relu')(x12)\n",
        "x12 = tf.keras.layers.Dropout(0.5)(x12)\n",
        "x12 = tf.keras.layers.Dense(1)(x12)\n",
        "outputs=tf.keras.layers.Activation(activation='sigmoid')(x12)\n",
        "model12 = tf.keras.Model(inputs, outputs)\n",
        "model12.summary()"
      ],
      "metadata": {
        "colab": {
          "base_uri": "https://localhost:8080/"
        },
        "id": "6TZXJmjkRGiL",
        "outputId": "34424c87-bb3e-457c-9f42-9853c697c6e5"
      },
      "execution_count": null,
      "outputs": [
        {
          "output_type": "stream",
          "name": "stdout",
          "text": [
            "Model: \"model_2\"\n",
            "_________________________________________________________________\n",
            " Layer (type)                Output Shape              Param #   \n",
            "=================================================================\n",
            " input_8 (InputLayer)        [(None, 224, 224, 3)]     0         \n",
            "                                                                 \n",
            " mobilenet_1.00_224 (Functio  (None, 7, 7, 1024)       3228864   \n",
            " nal)                                                            \n",
            "                                                                 \n",
            " flatten_2 (Flatten)         (None, 50176)             0         \n",
            "                                                                 \n",
            " batch_normalization_6 (Batc  (None, 50176)            200704    \n",
            " hNormalization)                                                 \n",
            "                                                                 \n",
            " dense_6 (Dense)             (None, 256)               12845312  \n",
            "                                                                 \n",
            " batch_normalization_7 (Batc  (None, 256)              1024      \n",
            " hNormalization)                                                 \n",
            "                                                                 \n",
            " activation_6 (Activation)   (None, 256)               0         \n",
            "                                                                 \n",
            " dense_7 (Dense)             (None, 128)               32896     \n",
            "                                                                 \n",
            " batch_normalization_8 (Batc  (None, 128)              512       \n",
            " hNormalization)                                                 \n",
            "                                                                 \n",
            " activation_7 (Activation)   (None, 128)               0         \n",
            "                                                                 \n",
            " dropout_2 (Dropout)         (None, 128)               0         \n",
            "                                                                 \n",
            " dense_8 (Dense)             (None, 1)                 129       \n",
            "                                                                 \n",
            " activation_8 (Activation)   (None, 1)                 0         \n",
            "                                                                 \n",
            "=================================================================\n",
            "Total params: 16,309,441\n",
            "Trainable params: 12,979,457\n",
            "Non-trainable params: 3,329,984\n",
            "_________________________________________________________________\n"
          ]
        }
      ]
    },
    {
      "cell_type": "code",
      "source": [
        "model12.compile(loss='binary_crossentropy',\n",
        "              optimizer='adam',\n",
        "              metrics=['accuracy','AUC','Precision','Recall'])"
      ],
      "metadata": {
        "id": "QT44bpoBRGiL"
      },
      "execution_count": null,
      "outputs": []
    },
    {
      "cell_type": "code",
      "source": [
        "from tensorflow.keras.callbacks import ModelCheckpoint, EarlyStopping\n",
        "es=EarlyStopping(patience=3,monitor='val_loss')\n",
        "filepath='best_model.h510'\n",
        "checkpoint = ModelCheckpoint(filepath, monitor='val_accuracy', verbose=1, save_best_only=True, mode='max')"
      ],
      "metadata": {
        "id": "7cYfz02zRGiL"
      },
      "execution_count": null,
      "outputs": []
    },
    {
      "cell_type": "code",
      "source": [
        "for j,(train_idx,val_idx) in enumerate(folds):\n",
        "    print(\"Fold \"+str(j+1))\n",
        "\n",
        "    x_train1=x_train[train_idx]\n",
        "    y_train1=y_train[train_idx]\n",
        "    x_val=x_train[val_idx]\n",
        "    y_val=y_train[val_idx]\n",
        "    history=model12.fit(train_datagen.flow(x_train1,y_train1),epochs=10,validation_data=(x_val,y_val),callbacks=checkpoint)\n",
        "    y_predict12_1=model12.predict(x_val)\n",
        "    Y_predict12_1=np.float32(y_predict12_1>0.50)\n",
        "    l=len(y_val)\n",
        "    Y_predict12_1=np.reshape(Y_predict12_1,(l,1))"
      ],
      "metadata": {
        "colab": {
          "base_uri": "https://localhost:8080/"
        },
        "id": "0ZiS_NjtRGiL",
        "outputId": "44b3359a-50fb-4120-8ef3-4c6cb1201315"
      },
      "execution_count": null,
      "outputs": [
        {
          "metadata": {
            "tags": null
          },
          "name": "stdout",
          "output_type": "stream",
          "text": [
            "Fold 1\n",
            "Epoch 1/10\n",
            "36/36 [==============================] - ETA: 0s - loss: 0.6687 - accuracy: 0.6634 - auc: 0.7141 - precision: 0.6609 - recall: 0.6737\n",
            "Epoch 1: val_accuracy improved from -inf to 0.72500, saving model to best_model.h510\n"
          ]
        },
        {
          "metadata": {
            "tags": null
          },
          "name": "stderr",
          "output_type": "stream",
          "text": [
            "WARNING:absl:Found untraced functions such as _jit_compiled_convolution_op, _jit_compiled_convolution_op, _jit_compiled_convolution_op, _jit_compiled_convolution_op, _jit_compiled_convolution_op while saving (showing 5 of 27). These functions will not be directly callable after loading.\n"
          ]
        },
        {
          "metadata": {
            "tags": null
          },
          "name": "stdout",
          "output_type": "stream",
          "text": [
            "36/36 [==============================] - 31s 739ms/step - loss: 0.6687 - accuracy: 0.6634 - auc: 0.7141 - precision: 0.6609 - recall: 0.6737 - val_loss: 0.9653 - val_accuracy: 0.7250 - val_auc: 0.8720 - val_precision: 0.6596 - val_recall: 0.9300\n",
            "Epoch 2/10\n",
            "36/36 [==============================] - ETA: 0s - loss: 0.4189 - accuracy: 0.8136 - auc: 0.8902 - precision: 0.8213 - recall: 0.8025\n",
            "Epoch 2: val_accuracy improved from 0.72500 to 0.83500, saving model to best_model.h510\n"
          ]
        },
        {
          "metadata": {
            "tags": null
          },
          "name": "stderr",
          "output_type": "stream",
          "text": [
            "WARNING:absl:Found untraced functions such as _jit_compiled_convolution_op, _jit_compiled_convolution_op, _jit_compiled_convolution_op, _jit_compiled_convolution_op, _jit_compiled_convolution_op while saving (showing 5 of 27). These functions will not be directly callable after loading.\n"
          ]
        },
        {
          "metadata": {
            "tags": null
          },
          "name": "stdout",
          "output_type": "stream",
          "text": [
            "36/36 [==============================] - 26s 741ms/step - loss: 0.4189 - accuracy: 0.8136 - auc: 0.8902 - precision: 0.8213 - recall: 0.8025 - val_loss: 0.4192 - val_accuracy: 0.8350 - val_auc: 0.9638 - val_precision: 0.7597 - val_recall: 0.9800\n",
            "Epoch 3/10\n",
            "36/36 [==============================] - ETA: 0s - loss: 0.3395 - accuracy: 0.8587 - auc: 0.9309 - precision: 0.8576 - recall: 0.8607\n",
            "Epoch 3: val_accuracy improved from 0.83500 to 0.93500, saving model to best_model.h510\n"
          ]
        },
        {
          "metadata": {
            "tags": null
          },
          "name": "stderr",
          "output_type": "stream",
          "text": [
            "WARNING:absl:Found untraced functions such as _jit_compiled_convolution_op, _jit_compiled_convolution_op, _jit_compiled_convolution_op, _jit_compiled_convolution_op, _jit_compiled_convolution_op while saving (showing 5 of 27). These functions will not be directly callable after loading.\n"
          ]
        },
        {
          "metadata": {
            "tags": null
          },
          "name": "stdout",
          "output_type": "stream",
          "text": [
            "36/36 [==============================] - 26s 715ms/step - loss: 0.3395 - accuracy: 0.8587 - auc: 0.9309 - precision: 0.8576 - recall: 0.8607 - val_loss: 0.1594 - val_accuracy: 0.9350 - val_auc: 0.9819 - val_precision: 0.9223 - val_recall: 0.9500\n",
            "Epoch 4/10\n",
            "36/36 [==============================] - ETA: 0s - loss: 0.2323 - accuracy: 0.9117 - auc: 0.9692 - precision: 0.9133 - recall: 0.9101\n",
            "Epoch 4: val_accuracy did not improve from 0.93500\n",
            "36/36 [==============================] - 13s 347ms/step - loss: 0.2323 - accuracy: 0.9117 - auc: 0.9692 - precision: 0.9133 - recall: 0.9101 - val_loss: 0.2164 - val_accuracy: 0.9350 - val_auc: 0.9832 - val_precision: 0.8919 - val_recall: 0.9900\n",
            "Epoch 5/10\n",
            "36/36 [==============================] - ETA: 0s - loss: 0.1823 - accuracy: 0.9373 - auc: 0.9801 - precision: 0.9321 - recall: 0.9436\n",
            "Epoch 5: val_accuracy improved from 0.93500 to 0.95000, saving model to best_model.h510\n"
          ]
        },
        {
          "metadata": {
            "tags": null
          },
          "name": "stderr",
          "output_type": "stream",
          "text": [
            "WARNING:absl:Found untraced functions such as _jit_compiled_convolution_op, _jit_compiled_convolution_op, _jit_compiled_convolution_op, _jit_compiled_convolution_op, _jit_compiled_convolution_op while saving (showing 5 of 27). These functions will not be directly callable after loading.\n"
          ]
        },
        {
          "metadata": {
            "tags": null
          },
          "name": "stdout",
          "output_type": "stream",
          "text": [
            "36/36 [==============================] - 25s 716ms/step - loss: 0.1823 - accuracy: 0.9373 - auc: 0.9801 - precision: 0.9321 - recall: 0.9436 - val_loss: 0.0985 - val_accuracy: 0.9500 - val_auc: 0.9953 - val_precision: 0.9500 - val_recall: 0.9500\n",
            "Epoch 6/10\n",
            "36/36 [==============================] - ETA: 0s - loss: 0.1962 - accuracy: 0.9258 - auc: 0.9765 - precision: 0.9305 - recall: 0.9206\n",
            "Epoch 6: val_accuracy improved from 0.95000 to 0.96500, saving model to best_model.h510\n"
          ]
        },
        {
          "metadata": {
            "tags": null
          },
          "name": "stderr",
          "output_type": "stream",
          "text": [
            "WARNING:absl:Found untraced functions such as _jit_compiled_convolution_op, _jit_compiled_convolution_op, _jit_compiled_convolution_op, _jit_compiled_convolution_op, _jit_compiled_convolution_op while saving (showing 5 of 27). These functions will not be directly callable after loading.\n"
          ]
        },
        {
          "metadata": {
            "tags": null
          },
          "name": "stdout",
          "output_type": "stream",
          "text": [
            "36/36 [==============================] - 25s 714ms/step - loss: 0.1962 - accuracy: 0.9258 - auc: 0.9765 - precision: 0.9305 - recall: 0.9206 - val_loss: 0.0716 - val_accuracy: 0.9650 - val_auc: 0.9975 - val_precision: 0.9604 - val_recall: 0.9700\n",
            "Epoch 7/10\n",
            "36/36 [==============================] - ETA: 0s - loss: 0.1637 - accuracy: 0.9355 - auc: 0.9840 - precision: 0.9411 - recall: 0.9295\n",
            "Epoch 7: val_accuracy improved from 0.96500 to 0.97500, saving model to best_model.h510\n"
          ]
        },
        {
          "metadata": {
            "tags": null
          },
          "name": "stderr",
          "output_type": "stream",
          "text": [
            "WARNING:absl:Found untraced functions such as _jit_compiled_convolution_op, _jit_compiled_convolution_op, _jit_compiled_convolution_op, _jit_compiled_convolution_op, _jit_compiled_convolution_op while saving (showing 5 of 27). These functions will not be directly callable after loading.\n"
          ]
        },
        {
          "metadata": {
            "tags": null
          },
          "name": "stdout",
          "output_type": "stream",
          "text": [
            "36/36 [==============================] - 25s 709ms/step - loss: 0.1637 - accuracy: 0.9355 - auc: 0.9840 - precision: 0.9411 - recall: 0.9295 - val_loss: 0.0597 - val_accuracy: 0.9750 - val_auc: 0.9981 - val_precision: 0.9612 - val_recall: 0.9900\n",
            "Epoch 8/10\n",
            "36/36 [==============================] - ETA: 0s - loss: 0.1421 - accuracy: 0.9435 - auc: 0.9884 - precision: 0.9436 - recall: 0.9436\n",
            "Epoch 8: val_accuracy did not improve from 0.97500\n",
            "36/36 [==============================] - 12s 343ms/step - loss: 0.1421 - accuracy: 0.9435 - auc: 0.9884 - precision: 0.9436 - recall: 0.9436 - val_loss: 0.0840 - val_accuracy: 0.9650 - val_auc: 0.9968 - val_precision: 0.9429 - val_recall: 0.9900\n",
            "Epoch 9/10\n",
            "36/36 [==============================] - ETA: 0s - loss: 0.1139 - accuracy: 0.9514 - auc: 0.9933 - precision: 0.9588 - recall: 0.9436\n",
            "Epoch 9: val_accuracy improved from 0.97500 to 0.99000, saving model to best_model.h510\n"
          ]
        },
        {
          "metadata": {
            "tags": null
          },
          "name": "stderr",
          "output_type": "stream",
          "text": [
            "WARNING:absl:Found untraced functions such as _jit_compiled_convolution_op, _jit_compiled_convolution_op, _jit_compiled_convolution_op, _jit_compiled_convolution_op, _jit_compiled_convolution_op while saving (showing 5 of 27). These functions will not be directly callable after loading.\n"
          ]
        },
        {
          "output_type": "stream",
          "name": "stdout",
          "text": [
            "\b\b\b\b\b\b\b\b\b\b\b\b\b\b\b\b\b\b\b\b\b\b\b\b\b\b\b\b\b\b\b\b\b\b\b\b\b\b\b\b\b\b\b\b\b\b\b\b\b\b\b\b\b\b\b\b\b\b\b\b\b\b\b\b\b\b\b\b\b\b\b\b\b\b\b\b\b\b\b\b\b\b\b\b\b\b\b\b\b\b\b\b\b\b\b\b\b\b\b\b\b\b\b\b\b\b\b\b\b\b\b\b\b\b\b\b\b\b\b\b\b\b\b\b\b\b\b\b\b\b\b\b\b\r36/36 [==============================] - 25s 714ms/step - loss: 0.1139 - accuracy: 0.9514 - auc: 0.9933 - precision: 0.9588 - recall: 0.9436 - val_loss: 0.0515 - val_accuracy: 0.9900 - val_auc: 0.9987 - val_precision: 0.9900 - val_recall: 0.9900\n",
            "Epoch 10/10\n",
            "36/36 [==============================] - ETA: 0s - loss: 0.1202 - accuracy: 0.9576 - auc: 0.9910 - precision: 0.9577 - recall: 0.9577\n",
            "Epoch 10: val_accuracy did not improve from 0.99000\n",
            "36/36 [==============================] - 12s 345ms/step - loss: 0.1202 - accuracy: 0.9576 - auc: 0.9910 - precision: 0.9577 - recall: 0.9577 - val_loss: 0.0499 - val_accuracy: 0.9850 - val_auc: 0.9987 - val_precision: 0.9899 - val_recall: 0.9800\n",
            "7/7 [==============================] - 1s 34ms/step\n",
            "Fold 2\n",
            "Epoch 1/10\n",
            "36/36 [==============================] - ETA: 0s - loss: 0.1070 - accuracy: 0.9664 - auc: 0.9932 - precision: 0.9632 - recall: 0.9700\n",
            "Epoch 1: val_accuracy improved from 0.99000 to 1.00000, saving model to best_model.h510\n"
          ]
        },
        {
          "output_type": "stream",
          "name": "stderr",
          "text": [
            "WARNING:absl:Found untraced functions such as _jit_compiled_convolution_op, _jit_compiled_convolution_op, _jit_compiled_convolution_op, _jit_compiled_convolution_op, _jit_compiled_convolution_op while saving (showing 5 of 27). These functions will not be directly callable after loading.\n"
          ]
        },
        {
          "output_type": "stream",
          "name": "stdout",
          "text": [
            "\b\b\b\b\b\b\b\b\b\b\b\b\b\b\b\b\b\b\b\b\b\b\b\b\b\b\b\b\b\b\b\b\b\b\b\b\b\b\b\b\b\b\b\b\b\b\b\b\b\b\b\b\b\b\b\b\b\b\b\b\b\b\b\b\b\b\b\b\b\b\b\b\b\b\b\b\b\b\b\b\b\b\b\b\b\b\b\b\b\b\b\b\b\b\b\b\b\b\b\b\b\b\b\b\b\b\b\b\b\b\b\b\b\b\b\b\b\b\b\b\b\b\b\b\b\b\b\b\b\b\b\b\b\r36/36 [==============================] - 25s 719ms/step - loss: 0.1070 - accuracy: 0.9664 - auc: 0.9932 - precision: 0.9632 - recall: 0.9700 - val_loss: 0.0116 - val_accuracy: 1.0000 - val_auc: 1.0000 - val_precision: 1.0000 - val_recall: 1.0000\n",
            "Epoch 2/10\n",
            "36/36 [==============================] - ETA: 0s - loss: 0.1044 - accuracy: 0.9629 - auc: 0.9936 - precision: 0.9713 - recall: 0.9541\n",
            "Epoch 2: val_accuracy did not improve from 1.00000\n",
            "36/36 [==============================] - 12s 341ms/step - loss: 0.1044 - accuracy: 0.9629 - auc: 0.9936 - precision: 0.9713 - recall: 0.9541 - val_loss: 0.0328 - val_accuracy: 0.9950 - val_auc: 0.9984 - val_precision: 1.0000 - val_recall: 0.9900\n",
            "Epoch 3/10\n",
            "36/36 [==============================] - ETA: 0s - loss: 0.0978 - accuracy: 0.9655 - auc: 0.9942 - precision: 0.9648 - recall: 0.9665\n",
            "Epoch 3: val_accuracy did not improve from 1.00000\n",
            "36/36 [==============================] - 12s 342ms/step - loss: 0.0978 - accuracy: 0.9655 - auc: 0.9942 - precision: 0.9648 - recall: 0.9665 - val_loss: 0.0102 - val_accuracy: 0.9950 - val_auc: 1.0000 - val_precision: 1.0000 - val_recall: 0.9900\n",
            "Epoch 4/10\n",
            "36/36 [==============================] - ETA: 0s - loss: 0.0956 - accuracy: 0.9647 - auc: 0.9943 - precision: 0.9631 - recall: 0.9665\n",
            "Epoch 4: val_accuracy did not improve from 1.00000\n",
            "36/36 [==============================] - 13s 354ms/step - loss: 0.0956 - accuracy: 0.9647 - auc: 0.9943 - precision: 0.9631 - recall: 0.9665 - val_loss: 0.0166 - val_accuracy: 0.9950 - val_auc: 0.9999 - val_precision: 1.0000 - val_recall: 0.9900\n",
            "Epoch 5/10\n",
            "36/36 [==============================] - ETA: 0s - loss: 0.0957 - accuracy: 0.9691 - auc: 0.9941 - precision: 0.9767 - recall: 0.9612\n",
            "Epoch 5: val_accuracy did not improve from 1.00000\n",
            "36/36 [==============================] - 13s 355ms/step - loss: 0.0957 - accuracy: 0.9691 - auc: 0.9941 - precision: 0.9767 - recall: 0.9612 - val_loss: 0.0327 - val_accuracy: 0.9850 - val_auc: 0.9994 - val_precision: 0.9899 - val_recall: 0.9800\n",
            "Epoch 6/10\n",
            "36/36 [==============================] - ETA: 0s - loss: 0.0919 - accuracy: 0.9735 - auc: 0.9938 - precision: 0.9719 - recall: 0.9753\n",
            "Epoch 6: val_accuracy did not improve from 1.00000\n",
            "36/36 [==============================] - 13s 349ms/step - loss: 0.0919 - accuracy: 0.9735 - auc: 0.9938 - precision: 0.9719 - recall: 0.9753 - val_loss: 0.0288 - val_accuracy: 0.9900 - val_auc: 0.9995 - val_precision: 1.0000 - val_recall: 0.9800\n",
            "Epoch 7/10\n",
            "36/36 [==============================] - ETA: 0s - loss: 0.0733 - accuracy: 0.9735 - auc: 0.9969 - precision: 0.9702 - recall: 0.9771\n",
            "Epoch 7: val_accuracy did not improve from 1.00000\n",
            "36/36 [==============================] - 13s 348ms/step - loss: 0.0733 - accuracy: 0.9735 - auc: 0.9969 - precision: 0.9702 - recall: 0.9771 - val_loss: 0.0286 - val_accuracy: 0.9950 - val_auc: 0.9995 - val_precision: 1.0000 - val_recall: 0.9900\n",
            "Epoch 8/10\n",
            "36/36 [==============================] - ETA: 0s - loss: 0.0770 - accuracy: 0.9717 - auc: 0.9963 - precision: 0.9751 - recall: 0.9683\n",
            "Epoch 8: val_accuracy did not improve from 1.00000\n",
            "36/36 [==============================] - 13s 349ms/step - loss: 0.0770 - accuracy: 0.9717 - auc: 0.9963 - precision: 0.9751 - recall: 0.9683 - val_loss: 0.0364 - val_accuracy: 0.9850 - val_auc: 0.9988 - val_precision: 0.9899 - val_recall: 0.9800\n",
            "Epoch 9/10\n",
            "36/36 [==============================] - ETA: 0s - loss: 0.0738 - accuracy: 0.9770 - auc: 0.9961 - precision: 0.9805 - recall: 0.9735\n",
            "Epoch 9: val_accuracy did not improve from 1.00000\n",
            "36/36 [==============================] - 12s 346ms/step - loss: 0.0738 - accuracy: 0.9770 - auc: 0.9961 - precision: 0.9805 - recall: 0.9735 - val_loss: 0.0396 - val_accuracy: 0.9900 - val_auc: 0.9987 - val_precision: 0.9900 - val_recall: 0.9900\n",
            "Epoch 10/10\n",
            "36/36 [==============================] - ETA: 0s - loss: 0.0586 - accuracy: 0.9823 - auc: 0.9975 - precision: 0.9790 - recall: 0.9859\n",
            "Epoch 10: val_accuracy did not improve from 1.00000\n",
            "36/36 [==============================] - 12s 343ms/step - loss: 0.0586 - accuracy: 0.9823 - auc: 0.9975 - precision: 0.9790 - recall: 0.9859 - val_loss: 0.0509 - val_accuracy: 0.9850 - val_auc: 0.9987 - val_precision: 0.9899 - val_recall: 0.9800\n",
            "7/7 [==============================] - 0s 33ms/step\n"
          ]
        }
      ]
    },
    {
      "cell_type": "code",
      "source": [
        "model12.evaluate(train_datagen.flow(x_train1,y_train1))\n",
        "model12.evaluate(val_datagen.flow(x_val,y_val))"
      ],
      "metadata": {
        "colab": {
          "base_uri": "https://localhost:8080/"
        },
        "id": "603SQx35RGiL",
        "outputId": "0c278e5c-166d-43b0-bd03-14739015b78c"
      },
      "execution_count": null,
      "outputs": [
        {
          "output_type": "stream",
          "name": "stdout",
          "text": [
            "36/36 [==============================] - 12s 331ms/step - loss: 0.0173 - accuracy: 0.9973 - auc: 0.9999 - precision: 0.9965 - recall: 0.9982\n",
            "7/7 [==============================] - 3s 398ms/step - loss: 0.0353 - accuracy: 0.9850 - auc: 0.9995 - precision: 0.9709 - recall: 1.0000\n"
          ]
        },
        {
          "output_type": "execute_result",
          "data": {
            "text/plain": [
              "[0.03525945171713829,\n",
              " 0.9850000143051147,\n",
              " 0.9994999170303345,\n",
              " 0.9708737730979919,\n",
              " 1.0]"
            ]
          },
          "metadata": {},
          "execution_count": 46
        }
      ]
    },
    {
      "cell_type": "code",
      "source": [
        "y_predict12_2=model12.predict(x_test)\n",
        "Y_predict12_2=np.float32(y_predict12_2>0.50)\n",
        "l=len(y_test)\n",
        "Y_predict12_2=np.reshape(Y_predict12_2,(l,1))\n",
        "print(Y_predict12_2)"
      ],
      "metadata": {
        "colab": {
          "base_uri": "https://localhost:8080/"
        },
        "id": "ijXFQMIlRGiL",
        "outputId": "d8c2a598-bd64-4fd2-fa89-db6b5791ffd9"
      },
      "execution_count": null,
      "outputs": [
        {
          "output_type": "stream",
          "name": "stdout",
          "text": [
            "5/5 [==============================] - 1s 142ms/step\n",
            "[[0.]\n",
            " [1.]\n",
            " [0.]\n",
            " [1.]\n",
            " [0.]\n",
            " [1.]\n",
            " [1.]\n",
            " [1.]\n",
            " [0.]\n",
            " [0.]\n",
            " [1.]\n",
            " [0.]\n",
            " [0.]\n",
            " [0.]\n",
            " [1.]\n",
            " [0.]\n",
            " [1.]\n",
            " [0.]\n",
            " [1.]\n",
            " [0.]\n",
            " [0.]\n",
            " [1.]\n",
            " [0.]\n",
            " [0.]\n",
            " [0.]\n",
            " [0.]\n",
            " [0.]\n",
            " [0.]\n",
            " [1.]\n",
            " [1.]\n",
            " [0.]\n",
            " [1.]\n",
            " [1.]\n",
            " [1.]\n",
            " [1.]\n",
            " [0.]\n",
            " [1.]\n",
            " [1.]\n",
            " [1.]\n",
            " [1.]\n",
            " [0.]\n",
            " [1.]\n",
            " [1.]\n",
            " [1.]\n",
            " [1.]\n",
            " [0.]\n",
            " [1.]\n",
            " [0.]\n",
            " [1.]\n",
            " [0.]\n",
            " [0.]\n",
            " [1.]\n",
            " [0.]\n",
            " [0.]\n",
            " [1.]\n",
            " [0.]\n",
            " [1.]\n",
            " [1.]\n",
            " [0.]\n",
            " [1.]\n",
            " [0.]\n",
            " [0.]\n",
            " [0.]\n",
            " [0.]\n",
            " [0.]\n",
            " [0.]\n",
            " [0.]\n",
            " [0.]\n",
            " [0.]\n",
            " [0.]\n",
            " [0.]\n",
            " [0.]\n",
            " [1.]\n",
            " [1.]\n",
            " [1.]\n",
            " [1.]\n",
            " [0.]\n",
            " [1.]\n",
            " [1.]\n",
            " [1.]\n",
            " [0.]\n",
            " [1.]\n",
            " [0.]\n",
            " [0.]\n",
            " [1.]\n",
            " [1.]\n",
            " [0.]\n",
            " [1.]\n",
            " [0.]\n",
            " [0.]\n",
            " [0.]\n",
            " [1.]\n",
            " [1.]\n",
            " [1.]\n",
            " [0.]\n",
            " [0.]\n",
            " [0.]\n",
            " [1.]\n",
            " [0.]\n",
            " [1.]\n",
            " [0.]\n",
            " [0.]\n",
            " [1.]\n",
            " [1.]\n",
            " [1.]\n",
            " [1.]\n",
            " [1.]\n",
            " [1.]\n",
            " [1.]\n",
            " [1.]\n",
            " [1.]\n",
            " [0.]\n",
            " [0.]\n",
            " [1.]\n",
            " [0.]\n",
            " [1.]\n",
            " [1.]\n",
            " [0.]\n",
            " [1.]\n",
            " [0.]\n",
            " [1.]\n",
            " [0.]\n",
            " [1.]\n",
            " [0.]\n",
            " [0.]\n",
            " [1.]\n",
            " [0.]\n",
            " [1.]\n",
            " [0.]\n",
            " [1.]\n",
            " [0.]\n",
            " [1.]\n",
            " [1.]\n",
            " [1.]\n",
            " [1.]\n",
            " [1.]\n",
            " [0.]\n",
            " [1.]\n",
            " [0.]\n",
            " [1.]\n",
            " [1.]\n",
            " [1.]\n",
            " [0.]\n",
            " [0.]\n",
            " [0.]\n",
            " [0.]\n",
            " [0.]\n",
            " [1.]]\n"
          ]
        }
      ]
    },
    {
      "cell_type": "code",
      "source": [
        "y_test"
      ],
      "metadata": {
        "colab": {
          "base_uri": "https://localhost:8080/"
        },
        "id": "07JJmnKreyZe",
        "outputId": "1bbf9cd1-791a-4922-fa0b-63c3df1da8e9"
      },
      "execution_count": null,
      "outputs": [
        {
          "output_type": "execute_result",
          "data": {
            "text/plain": [
              "array([[0.],\n",
              "       [1.],\n",
              "       [0.],\n",
              "       [1.],\n",
              "       [0.],\n",
              "       [1.],\n",
              "       [1.],\n",
              "       [1.],\n",
              "       [0.],\n",
              "       [0.],\n",
              "       [1.],\n",
              "       [0.],\n",
              "       [0.],\n",
              "       [0.],\n",
              "       [1.],\n",
              "       [0.],\n",
              "       [1.],\n",
              "       [0.],\n",
              "       [1.],\n",
              "       [0.],\n",
              "       [0.],\n",
              "       [1.],\n",
              "       [0.],\n",
              "       [0.],\n",
              "       [0.],\n",
              "       [0.],\n",
              "       [0.],\n",
              "       [0.],\n",
              "       [1.],\n",
              "       [1.],\n",
              "       [0.],\n",
              "       [1.],\n",
              "       [1.],\n",
              "       [1.],\n",
              "       [1.],\n",
              "       [0.],\n",
              "       [1.],\n",
              "       [1.],\n",
              "       [1.],\n",
              "       [1.],\n",
              "       [0.],\n",
              "       [1.],\n",
              "       [1.],\n",
              "       [1.],\n",
              "       [1.],\n",
              "       [0.],\n",
              "       [1.],\n",
              "       [0.],\n",
              "       [1.],\n",
              "       [0.],\n",
              "       [0.],\n",
              "       [1.],\n",
              "       [0.],\n",
              "       [0.],\n",
              "       [1.],\n",
              "       [0.],\n",
              "       [1.],\n",
              "       [1.],\n",
              "       [0.],\n",
              "       [1.],\n",
              "       [0.],\n",
              "       [0.],\n",
              "       [0.],\n",
              "       [0.],\n",
              "       [0.],\n",
              "       [0.],\n",
              "       [0.],\n",
              "       [0.],\n",
              "       [0.],\n",
              "       [0.],\n",
              "       [0.],\n",
              "       [0.],\n",
              "       [1.],\n",
              "       [1.],\n",
              "       [1.],\n",
              "       [1.],\n",
              "       [0.],\n",
              "       [1.],\n",
              "       [1.],\n",
              "       [1.],\n",
              "       [0.],\n",
              "       [1.],\n",
              "       [0.],\n",
              "       [0.],\n",
              "       [1.],\n",
              "       [1.],\n",
              "       [0.],\n",
              "       [1.],\n",
              "       [0.],\n",
              "       [0.],\n",
              "       [0.],\n",
              "       [1.],\n",
              "       [1.],\n",
              "       [1.],\n",
              "       [0.],\n",
              "       [0.],\n",
              "       [0.],\n",
              "       [1.],\n",
              "       [0.],\n",
              "       [1.],\n",
              "       [0.],\n",
              "       [0.],\n",
              "       [1.],\n",
              "       [1.],\n",
              "       [1.],\n",
              "       [1.],\n",
              "       [1.],\n",
              "       [1.],\n",
              "       [1.],\n",
              "       [1.],\n",
              "       [1.],\n",
              "       [0.],\n",
              "       [0.],\n",
              "       [1.],\n",
              "       [0.],\n",
              "       [0.],\n",
              "       [1.],\n",
              "       [0.],\n",
              "       [0.],\n",
              "       [0.],\n",
              "       [1.],\n",
              "       [0.],\n",
              "       [1.],\n",
              "       [0.],\n",
              "       [0.],\n",
              "       [1.],\n",
              "       [0.],\n",
              "       [1.],\n",
              "       [0.],\n",
              "       [1.],\n",
              "       [0.],\n",
              "       [1.],\n",
              "       [1.],\n",
              "       [1.],\n",
              "       [1.],\n",
              "       [1.],\n",
              "       [0.],\n",
              "       [1.],\n",
              "       [0.],\n",
              "       [1.],\n",
              "       [1.],\n",
              "       [0.],\n",
              "       [0.],\n",
              "       [0.],\n",
              "       [0.],\n",
              "       [0.],\n",
              "       [1.],\n",
              "       [1.]], dtype=float32)"
            ]
          },
          "metadata": {},
          "execution_count": 50
        }
      ]
    },
    {
      "cell_type": "code",
      "source": [
        "from sklearn.metrics import auc,roc_curve\n",
        "from sklearn.metrics import f1_score\n",
        "from sklearn.metrics import cohen_kappa_score\n",
        "from sklearn.metrics import accuracy_score\n",
        "f112 = f1_score(y_test, Y_predict12_2)\n",
        "test_accuracy12 = accuracy_score(y_test, Y_predict12_2)\n",
        "kappa12 = cohen_kappa_score(y_test, Y_predict12_2)\n",
        "auc12 = roc_auc_score(y_test, Y_predict12_2)"
      ],
      "metadata": {
        "id": "yFK4Cw0ERGiL"
      },
      "execution_count": null,
      "outputs": []
    },
    {
      "cell_type": "code",
      "source": [
        "print(auc12)\n",
        "print(f112)\n",
        "print(kappa12)\n",
        "print(test_accuracy12)"
      ],
      "metadata": {
        "colab": {
          "base_uri": "https://localhost:8080/"
        },
        "id": "T1gy4QhGRGiM",
        "outputId": "ef9d3dfd-e0d3-4f76-b876-41deffd661eb"
      },
      "execution_count": null,
      "outputs": [
        {
          "output_type": "stream",
          "name": "stdout",
          "text": [
            "0.9731506849315068\n",
            "0.9729729729729729\n",
            "0.9459558152273142\n",
            "0.972972972972973\n"
          ]
        }
      ]
    }
  ]
}