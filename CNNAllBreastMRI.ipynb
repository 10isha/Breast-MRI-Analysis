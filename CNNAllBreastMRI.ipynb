{
  "cells": [
    {
      "attachments": {},
      "cell_type": "markdown",
      "metadata": {
        "id": "N0QL98Ybnmqe"
      },
      "source": [
        "# Start Code"
      ]
    },
    {
      "cell_type": "code",
      "execution_count": null,
      "metadata": {
        "colab": {
          "base_uri": "https://localhost:8080/"
        },
        "id": "_pOymmtaeNSk",
        "outputId": "3fa08b80-6b30-4f75-cbe3-4b2a179ef0ea"
      },
      "outputs": [
        {
          "name": "stdout",
          "output_type": "stream",
          "text": [
            "Drive already mounted at /content/gdrive; to attempt to forcibly remount, call drive.mount(\"/content/gdrive\", force_remount=True).\n"
          ]
        }
      ],
      "source": [
        "from google.colab import drive\n",
        "drive.mount('/content/gdrive')"
      ]
    },
    {
      "cell_type": "code",
      "execution_count": null,
      "metadata": {
        "id": "a1EU4Z0LVYTf"
      },
      "outputs": [],
      "source": [
        "import tensorflow as tf\n",
        "import h5py\n",
        "import numpy as np\n",
        "import os\n",
        "import cv2\n",
        "from sklearn.metrics import precision_score,recall_score,f1_score,roc_auc_score\n",
        "from imblearn.metrics import sensitivity_specificity_support\n",
        "from sklearn.preprocessing import StandardScaler\n",
        "import numpy as np\n",
        "import numpy as np\n",
        "import pandas as pd\n",
        "import matplotlib.pyplot as plt\n",
        "import tensorflow as tf\n",
        "from keras import Sequential\n",
        "from tensorflow.keras.layers import *\n",
        "from tensorflow.keras.models import *\n",
        "from tensorflow.keras.preprocessing import image\n",
        "from sklearn.preprocessing import label_binarize\n",
        "from sklearn.metrics import auc,roc_curve\n",
        "from matplotlib import pyplot as plt"
      ]
    },
    {
      "cell_type": "code",
      "execution_count": null,
      "metadata": {
        "id": "wVI1AUuhVZ1x"
      },
      "outputs": [],
      "source": [
        "x_dataset=[]\n",
        "y_dataset=[]\n",
        "src=os.listdir('/content/gdrive/MyDrive/Breast MRI Data Analysis/Healthy')\n",
        "i=0\n",
        "for filename in src:\n",
        "    full_file_name='/content/gdrive/MyDrive/Breast MRI Data Analysis/Healthy/'+filename\n",
        "    x=cv2.imread(full_file_name)\n",
        "    x=np.array(x,dtype='float32')\n",
        "    y=1\n",
        "    y=np.array(y,dtype='float32')\n",
        "    x=x/255.0\n",
        "    x=cv2.resize(x,(224,224))\n",
        "    x_dataset.append(x)\n",
        "    y_dataset.append(y)\n",
        "    i=i+1\n"
      ]
    },
    {
      "cell_type": "code",
      "execution_count": null,
      "metadata": {
        "id": "7k_4Gw6nWq0f"
      },
      "outputs": [],
      "source": [
        "\n",
        "src=os.listdir('/content/gdrive/MyDrive/Breast MRI Data Analysis/Sick')\n",
        "for filename in src:\n",
        "    full_file_name='/content/gdrive/MyDrive/Breast MRI Data Analysis/Sick/'+filename\n",
        "    x=cv2.imread(full_file_name)\n",
        "    x=np.array(x,dtype='float32')\n",
        "    y=0\n",
        "    y=np.array(y,dtype='float32')\n",
        "    x=x/255.0\n",
        "    x=cv2.resize(x,(224,224))\n",
        "    x_dataset.append(x)\n",
        "    y_dataset.append(y)\n",
        "    i=i+1"
      ]
    },
    {
      "cell_type": "code",
      "execution_count": null,
      "metadata": {
        "id": "pzAG6Rr3Wx-u"
      },
      "outputs": [],
      "source": [
        "X_dataset=np.array(x_dataset)\n",
        "Y_dataset=np.array(y_dataset)\n",
        "Y_dataset=Y_dataset.reshape((1480,1))"
      ]
    },
    {
      "cell_type": "code",
      "execution_count": null,
      "metadata": {
        "id": "s5jc7c9aW0Bi"
      },
      "outputs": [],
      "source": [
        "from sklearn.utils import shuffle\n",
        "X_dataset,Y_dataset=shuffle(X_dataset,Y_dataset,random_state=0)"
      ]
    },
    {
      "cell_type": "code",
      "execution_count": null,
      "metadata": {
        "colab": {
          "base_uri": "https://localhost:8080/"
        },
        "id": "s6Wo5_stXLLY",
        "outputId": "0b6f9e71-2198-4f9d-bfb8-c69cf35936fc"
      },
      "outputs": [
        {
          "data": {
            "image/png": "[encoded data removed]",
            "text/plain": [
              "<Figure size 432x288 with 1 Axes>"
            ]
          },
          "metadata": {
            "needs_background": "light"
          },
          "output_type": "display_data"
        }
      ],
      "source": [
        "import matplotlib.pyplot as plt\n",
        "plt.imshow(X_dataset[60])\n",
        "plt.show()"
      ]
    },
    {
      "cell_type": "code",
      "execution_count": null,
      "metadata": {
        "colab": {
          "base_uri": "https://localhost:8080/"
        },
        "id": "jg_QDBrKXQFP",
        "outputId": "f2715425-5fc4-4d93-e7aa-7324d0b66422"
      },
      "outputs": [
        {
          "name": "stdout",
          "output_type": "stream",
          "text": [
            "740\n",
            "740\n"
          ]
        }
      ],
      "source": [
        "Healthy_len=0\n",
        "Sick_len=0\n",
        "for i in range(1480):\n",
        "    if Y_dataset[i]==0:\n",
        "        Sick_len+=1\n",
        "    else:\n",
        "        Healthy_len+=1\n",
        "print(Healthy_len)\n",
        "print(Sick_len)"
      ]
    },
    {
      "cell_type": "code",
      "execution_count": null,
      "metadata": {
        "colab": {
          "base_uri": "https://localhost:8080/"
        },
        "id": "MLvnpSsAXR2P",
        "outputId": "c4a25f11-e278-4670-fed7-3fee5d59e33d"
      },
      "outputs": [
        {
          "data": {
            "text/plain": [
              "<Axes: >"
            ]
          },
          "execution_count": 11,
          "metadata": {},
          "output_type": "execute_result"
        },
        {
          "data": {
            "image/png": "[encoded data removed]",
            "text/plain": [
              "<Figure size 432x288 with 1 Axes>"
            ]
          },
          "metadata": {
            "needs_background": "light"
          },
          "output_type": "display_data"
        }
      ],
      "source": [
        "\n",
        "import seaborn as sns\n",
        "sns.barplot(x=['Healthy','Sick'],y=[Healthy_len,Sick_len])"
      ]
    },
    {
      "cell_type": "code",
      "execution_count": null,
      "metadata": {
        "id": "V4pbtI_QXUYH"
      },
      "outputs": [],
      "source": [
        "from sklearn.model_selection import train_test_split\n",
        "x_train,x_test,y_train,y_test=train_test_split(X_dataset,Y_dataset,test_size=0.10)"
      ]
    },
    {
      "cell_type": "code",
      "execution_count": null,
      "metadata": {
        "id": "oXtxtM83XXtB"
      },
      "outputs": [],
      "source": [
        "from sklearn.model_selection import StratifiedShuffleSplit\n",
        "folds=list(StratifiedShuffleSplit(n_splits=1,random_state=0,test_size=0.15).split(x_train,y_train))"
      ]
    },
    {
      "cell_type": "code",
      "execution_count": null,
      "metadata": {
        "id": "XJSK97DvFY3P"
      },
      "outputs": [],
      "source": [
        "from keras.preprocessing.image import ImageDataGenerator\n",
        "\n",
        "train_datagen = ImageDataGenerator(  rotation_range=8,\n",
        "                                     width_shift_range=0.03,\n",
        "                                     height_shift_range=0.03,\n",
        "                                     shear_range=0.25,\n",
        "                                     zoom_range=0.45,\n",
        "                                     horizontal_flip=True)\n",
        "val_datagen = ImageDataGenerator(zoom_range=0.45)"
      ]
    },
    {
      "attachments": {},
      "cell_type": "markdown",
      "metadata": {
        "id": "pDmjp9GcWVtM"
      },
      "source": [
        "# CNN 2 layer"
      ]
    },
    {
      "cell_type": "code",
      "execution_count": null,
      "metadata": {
        "colab": {
          "base_uri": "https://localhost:8080/"
        },
        "id": "qdeJEKnOWY43",
        "outputId": "7ec54c3b-6e62-4819-b6cc-10208e31eaab"
      },
      "outputs": [
        {
          "name": "stdout",
          "output_type": "stream",
          "text": [
            "Model: \"sequential_1\"\n",
            "_________________________________________________________________\n",
            " Layer (type)                Output Shape              Param #   \n",
            "=================================================================\n",
            " conv2d_2 (Conv2D)           (None, 222, 222, 32)      896       \n",
            "                                                                 \n",
            " max_pooling2d_1 (MaxPooling  (None, 111, 111, 32)     0         \n",
            " 2D)                                                             \n",
            "                                                                 \n",
            " dropout (Dropout)           (None, 111, 111, 32)      0         \n",
            "                                                                 \n",
            " conv2d_3 (Conv2D)           (None, 109, 109, 32)      9248      \n",
            "                                                                 \n",
            " max_pooling2d_2 (MaxPooling  (None, 54, 54, 32)       0         \n",
            " 2D)                                                             \n",
            "                                                                 \n",
            " dropout_1 (Dropout)         (None, 54, 54, 32)        0         \n",
            "                                                                 \n",
            " flatten_1 (Flatten)         (None, 93312)             0         \n",
            "                                                                 \n",
            " dense_2 (Dense)             (None, 256)               23888128  \n",
            "                                                                 \n",
            " dropout_2 (Dropout)         (None, 256)               0         \n",
            "                                                                 \n",
            " dense_3 (Dense)             (None, 1)                 257       \n",
            "                                                                 \n",
            "=================================================================\n",
            "Total params: 23,898,529\n",
            "Trainable params: 23,898,529\n",
            "Non-trainable params: 0\n",
            "_________________________________________________________________\n"
          ]
        }
      ],
      "source": [
        "model1 = tf.keras.models.Sequential([\n",
        "    tf.keras.layers.Conv2D(32, (3,3), activation='relu', input_shape=(224,224,3)),\n",
        "    tf.keras.layers.MaxPooling2D(pool_size=(2,2)),\n",
        "    tf.keras.layers.Dropout(0.25),\n",
        "\n",
        "    tf.keras.layers.Conv2D(32, (3,3), activation='relu'),\n",
        "    tf.keras.layers.MaxPooling2D(pool_size=(2,2)),\n",
        "    tf.keras.layers.Dropout(0.25),\n",
        "\n",
        "    tf.keras.layers.Flatten(),\n",
        "    tf.keras.layers.Dense(256, activation='relu'),\n",
        "    tf.keras.layers.Dropout(0.5),\n",
        "\n",
        "    tf.keras.layers.Dense(1, activation='sigmoid')\n",
        "])\n",
        "model1.summary()"
      ]
    },
    {
      "cell_type": "code",
      "execution_count": null,
      "metadata": {
        "id": "C_3vIH5OaAKe"
      },
      "outputs": [],
      "source": [
        "model1.compile(loss='binary_crossentropy',\n",
        "              optimizer='adam',\n",
        "              metrics=['accuracy','AUC','Precision','Recall'])"
      ]
    },
    {
      "cell_type": "code",
      "execution_count": null,
      "metadata": {
        "id": "Qu7je71_aHDP"
      },
      "outputs": [],
      "source": [
        "from tensorflow.keras.callbacks import ModelCheckpoint, EarlyStopping\n",
        "es=EarlyStopping(patience=3,monitor='val_loss')\n",
        "filepath='best_model.h51'\n",
        "checkpoint = ModelCheckpoint(filepath, monitor='val_accuracy', verbose=1, save_best_only=True, mode='max')"
      ]
    },
    {
      "cell_type": "code",
      "execution_count": null,
      "metadata": {
        "colab": {
          "base_uri": "https://localhost:8080/"
        },
        "id": "rhDU8AfaaKMy",
        "outputId": "a8bd66f9-62df-4005-e199-4a9cb2735215"
      },
      "outputs": [
        {
          "name": "stdout",
          "output_type": "stream",
          "text": [
            "Fold 1\n",
            "Epoch 1/10\n",
            "36/36 [==============================] - ETA: 0s - loss: 1.7777 - accuracy: 0.5406 - auc: 0.5344 - precision: 0.5379 - recall: 0.6116\n",
            "Epoch 1: val_accuracy improved from -inf to 0.48500, saving model to best_model.h51\n"
          ]
        },
        {
          "name": "stderr",
          "output_type": "stream",
          "text": [
            "WARNING:absl:Found untraced functions such as _jit_compiled_convolution_op, _jit_compiled_convolution_op while saving (showing 2 of 2). These functions will not be directly callable after loading.\n"
          ]
        },
        {
          "name": "stdout",
          "output_type": "stream",
          "text": [
            "\b\b\b\b\b\b\b\b\b\b\b\b\b\b\b\b\b\b\b\b\b\b\b\b\b\b\b\b\b\b\b\b\b\b\b\b\b\b\b\b\b\b\b\b\b\b\b\b\b\b\b\b\b\b\b\b\b\b\b\b\b\b\b\b\b\b\b\b\b\b\b\b\b\b\b\b\b\b\b\b\b\b\b\b\b\b\b\b\b\b\b\b\b\b\b\b\b\b\b\b\b\b\b\b\b\b\b\b\b\b\b\b\b\b\b\b\b\b\b\b\b\b\b\b\b\b\b\b\b\b\b\b\b\r36/36 [==============================] - 19s 465ms/step - loss: 1.7777 - accuracy: 0.5406 - auc: 0.5344 - precision: 0.5379 - recall: 0.6116 - val_loss: 0.6934 - val_accuracy: 0.4850 - val_auc: 0.5185 - val_precision: 0.4873 - val_recall: 0.9796\n",
            "Epoch 2/10\n",
            "36/36 [==============================] - ETA: 0s - loss: 0.6781 - accuracy: 0.5627 - auc: 0.5955 - precision: 0.5706 - recall: 0.5255\n",
            "Epoch 2: val_accuracy improved from 0.48500 to 0.51500, saving model to best_model.h51\n"
          ]
        },
        {
          "name": "stderr",
          "output_type": "stream",
          "text": [
            "WARNING:absl:Found untraced functions such as _jit_compiled_convolution_op, _jit_compiled_convolution_op while saving (showing 2 of 2). These functions will not be directly callable after loading.\n"
          ]
        },
        {
          "name": "stdout",
          "output_type": "stream",
          "text": [
            "\b\b\b\b\b\b\b\b\b\b\b\b\b\b\b\b\b\b\b\b\b\b\b\b\b\b\b\b\b\b\b\b\b\b\b\b\b\b\b\b\b\b\b\b\b\b\b\b\b\b\b\b\b\b\b\b\b\b\b\b\b\b\b\b\b\b\b\b\b\b\b\b\b\b\b\b\b\b\b\b\b\b\b\b\b\b\b\b\b\b\b\b\b\b\b\b\b\b\b\b\b\b\b\b\b\b\b\b\b\b\b\b\b\b\b\b\b\b\b\b\b\b\b\b\b\b\b\b\b\b\b\b\b\r36/36 [==============================] - 16s 440ms/step - loss: 0.6781 - accuracy: 0.5627 - auc: 0.5955 - precision: 0.5706 - recall: 0.5255 - val_loss: 0.6823 - val_accuracy: 0.5150 - val_auc: 0.5609 - val_precision: 0.5048 - val_recall: 0.5408\n",
            "Epoch 3/10\n",
            "36/36 [==============================] - ETA: 0s - loss: 0.6845 - accuracy: 0.5654 - auc: 0.5796 - precision: 0.5546 - recall: 0.6872\n",
            "Epoch 3: val_accuracy did not improve from 0.51500\n",
            "36/36 [==============================] - 14s 377ms/step - loss: 0.6845 - accuracy: 0.5654 - auc: 0.5796 - precision: 0.5546 - recall: 0.6872 - val_loss: 0.6857 - val_accuracy: 0.5000 - val_auc: 0.6059 - val_precision: 0.4853 - val_recall: 0.3367\n",
            "Epoch 4/10\n",
            "36/36 [==============================] - ETA: 0s - loss: 0.6726 - accuracy: 0.5822 - auc: 0.6217 - precision: 0.5886 - recall: 0.5606\n",
            "Epoch 4: val_accuracy improved from 0.51500 to 0.53000, saving model to best_model.h51\n"
          ]
        },
        {
          "name": "stderr",
          "output_type": "stream",
          "text": [
            "WARNING:absl:Found untraced functions such as _jit_compiled_convolution_op, _jit_compiled_convolution_op while saving (showing 2 of 2). These functions will not be directly callable after loading.\n"
          ]
        },
        {
          "name": "stdout",
          "output_type": "stream",
          "text": [
            "\b\b\b\b\b\b\b\b\b\b\b\b\b\b\b\b\b\b\b\b\b\b\b\b\b\b\b\b\b\b\b\b\b\b\b\b\b\b\b\b\b\b\b\b\b\b\b\b\b\b\b\b\b\b\b\b\b\b\b\b\b\b\b\b\b\b\b\b\b\b\b\b\b\b\b\b\b\b\b\b\b\b\b\b\b\b\b\b\b\b\b\b\b\b\b\b\b\b\b\b\b\b\b\b\b\b\b\b\b\b\b\b\b\b\b\b\b\b\b\b\b\b\b\b\b\b\b\b\b\b\b\b\b\r36/36 [==============================] - 16s 443ms/step - loss: 0.6726 - accuracy: 0.5822 - auc: 0.6217 - precision: 0.5886 - recall: 0.5606 - val_loss: 0.6748 - val_accuracy: 0.5300 - val_auc: 0.5968 - val_precision: 0.5244 - val_recall: 0.4388\n",
            "Epoch 5/10\n",
            "36/36 [==============================] - ETA: 0s - loss: 0.6763 - accuracy: 0.5883 - auc: 0.6081 - precision: 0.5827 - recall: 0.6380\n",
            "Epoch 5: val_accuracy improved from 0.53000 to 0.59000, saving model to best_model.h51\n"
          ]
        },
        {
          "name": "stderr",
          "output_type": "stream",
          "text": [
            "WARNING:absl:Found untraced functions such as _jit_compiled_convolution_op, _jit_compiled_convolution_op while saving (showing 2 of 2). These functions will not be directly callable after loading.\n"
          ]
        },
        {
          "name": "stdout",
          "output_type": "stream",
          "text": [
            "\b\b\b\b\b\b\b\b\b\b\b\b\b\b\b\b\b\b\b\b\b\b\b\b\b\b\b\b\b\b\b\b\b\b\b\b\b\b\b\b\b\b\b\b\b\b\b\b\b\b\b\b\b\b\b\b\b\b\b\b\b\b\b\b\b\b\b\b\b\b\b\b\b\b\b\b\b\b\b\b\b\b\b\b\b\b\b\b\b\b\b\b\b\b\b\b\b\b\b\b\b\b\b\b\b\b\b\b\b\b\b\b\b\b\b\b\b\b\b\b\b\b\b\b\b\b\b\b\b\b\b\b\b\r36/36 [==============================] - 16s 446ms/step - loss: 0.6763 - accuracy: 0.5883 - auc: 0.6081 - precision: 0.5827 - recall: 0.6380 - val_loss: 0.6620 - val_accuracy: 0.5900 - val_auc: 0.6414 - val_precision: 0.5816 - val_recall: 0.5816\n",
            "Epoch 6/10\n",
            "36/36 [==============================] - ETA: 0s - loss: 0.6639 - accuracy: 0.6166 - auc: 0.6460 - precision: 0.6186 - recall: 0.6186\n",
            "Epoch 6: val_accuracy improved from 0.59000 to 0.62000, saving model to best_model.h51\n"
          ]
        },
        {
          "name": "stderr",
          "output_type": "stream",
          "text": [
            "WARNING:absl:Found untraced functions such as _jit_compiled_convolution_op, _jit_compiled_convolution_op while saving (showing 2 of 2). These functions will not be directly callable after loading.\n"
          ]
        },
        {
          "name": "stdout",
          "output_type": "stream",
          "text": [
            "\b\b\b\b\b\b\b\b\b\b\b\b\b\b\b\b\b\b\b\b\b\b\b\b\b\b\b\b\b\b\b\b\b\b\b\b\b\b\b\b\b\b\b\b\b\b\b\b\b\b\b\b\b\b\b\b\b\b\b\b\b\b\b\b\b\b\b\b\b\b\b\b\b\b\b\b\b\b\b\b\b\b\b\b\b\b\b\b\b\b\b\b\b\b\b\b\b\b\b\b\b\b\b\b\b\b\b\b\b\b\b\b\b\b\b\b\b\b\b\b\b\b\b\b\b\b\b\b\b\b\b\b\b\r36/36 [==============================] - 16s 449ms/step - loss: 0.6639 - accuracy: 0.6166 - auc: 0.6460 - precision: 0.6186 - recall: 0.6186 - val_loss: 0.6601 - val_accuracy: 0.6200 - val_auc: 0.6560 - val_precision: 0.5948 - val_recall: 0.7041\n",
            "Epoch 7/10\n",
            "36/36 [==============================] - ETA: 0s - loss: 0.6543 - accuracy: 0.6034 - auc: 0.6556 - precision: 0.6119 - recall: 0.5764\n",
            "Epoch 7: val_accuracy improved from 0.62000 to 0.65500, saving model to best_model.h51\n"
          ]
        },
        {
          "name": "stderr",
          "output_type": "stream",
          "text": [
            "WARNING:absl:Found untraced functions such as _jit_compiled_convolution_op, _jit_compiled_convolution_op while saving (showing 2 of 2). These functions will not be directly callable after loading.\n"
          ]
        },
        {
          "name": "stdout",
          "output_type": "stream",
          "text": [
            "\b\b\b\b\b\b\b\b\b\b\b\b\b\b\b\b\b\b\b\b\b\b\b\b\b\b\b\b\b\b\b\b\b\b\b\b\b\b\b\b\b\b\b\b\b\b\b\b\b\b\b\b\b\b\b\b\b\b\b\b\b\b\b\b\b\b\b\b\b\b\b\b\b\b\b\b\b\b\b\b\b\b\b\b\b\b\b\b\b\b\b\b\b\b\b\b\b\b\b\b\b\b\b\b\b\b\b\b\b\b\b\b\b\b\b\b\b\b\b\b\b\b\b\b\b\b\b\b\b\b\b\b\b\r36/36 [==============================] - 17s 481ms/step - loss: 0.6543 - accuracy: 0.6034 - auc: 0.6556 - precision: 0.6119 - recall: 0.5764 - val_loss: 0.6471 - val_accuracy: 0.6550 - val_auc: 0.7100 - val_precision: 0.6239 - val_recall: 0.7449\n",
            "Epoch 8/10\n",
            "36/36 [==============================] - ETA: 0s - loss: 0.6477 - accuracy: 0.6290 - auc: 0.6712 - precision: 0.6269 - recall: 0.6467\n",
            "Epoch 8: val_accuracy did not improve from 0.65500\n",
            "36/36 [==============================] - 14s 379ms/step - loss: 0.6477 - accuracy: 0.6290 - auc: 0.6712 - precision: 0.6269 - recall: 0.6467 - val_loss: 0.6478 - val_accuracy: 0.6550 - val_auc: 0.7023 - val_precision: 0.6330 - val_recall: 0.7041\n",
            "Epoch 9/10\n",
            "36/36 [==============================] - ETA: 0s - loss: 0.6459 - accuracy: 0.6228 - auc: 0.6739 - precision: 0.6241 - recall: 0.6274\n",
            "Epoch 9: val_accuracy improved from 0.65500 to 0.69500, saving model to best_model.h51\n"
          ]
        },
        {
          "name": "stderr",
          "output_type": "stream",
          "text": [
            "WARNING:absl:Found untraced functions such as _jit_compiled_convolution_op, _jit_compiled_convolution_op while saving (showing 2 of 2). These functions will not be directly callable after loading.\n"
          ]
        },
        {
          "name": "stdout",
          "output_type": "stream",
          "text": [
            "\b\b\b\b\b\b\b\b\b\b\b\b\b\b\b\b\b\b\b\b\b\b\b\b\b\b\b\b\b\b\b\b\b\b\b\b\b\b\b\b\b\b\b\b\b\b\b\b\b\b\b\b\b\b\b\b\b\b\b\b\b\b\b\b\b\b\b\b\b\b\b\b\b\b\b\b\b\b\b\b\b\b\b\b\b\b\b\b\b\b\b\b\b\b\b\b\b\b\b\b\b\b\b\b\b\b\b\b\b\b\b\b\b\b\b\b\b\b\b\b\b\b\b\b\b\b\b\b\b\b\b\b\b\r36/36 [==============================] - 16s 442ms/step - loss: 0.6459 - accuracy: 0.6228 - auc: 0.6739 - precision: 0.6241 - recall: 0.6274 - val_loss: 0.6360 - val_accuracy: 0.6950 - val_auc: 0.7140 - val_precision: 0.6457 - val_recall: 0.8367\n",
            "Epoch 10/10\n",
            "36/36 [==============================] - ETA: 0s - loss: 0.6452 - accuracy: 0.6369 - auc: 0.6734 - precision: 0.6317 - recall: 0.6661\n",
            "Epoch 10: val_accuracy did not improve from 0.69500\n",
            "36/36 [==============================] - 14s 384ms/step - loss: 0.6452 - accuracy: 0.6369 - auc: 0.6734 - precision: 0.6317 - recall: 0.6661 - val_loss: 0.6165 - val_accuracy: 0.6800 - val_auc: 0.7289 - val_precision: 0.6466 - val_recall: 0.7653\n",
            "7/7 [==============================] - 0s 15ms/step\n"
          ]
        }
      ],
      "source": [
        "for j,(train_idx,val_idx) in enumerate(folds):\n",
        "    print(\"Fold \"+str(j+1))\n",
        "\n",
        "    x_train=X_dataset[train_idx]\n",
        "    y_train=Y_dataset[train_idx]\n",
        "    x_val=X_dataset[val_idx]\n",
        "    y_val=Y_dataset[val_idx]\n",
        "    history=model1.fit(train_datagen.flow(x_train,y_train),epochs=10,validation_data=(x_val,y_val),callbacks=checkpoint)\n",
        "    y_predict1_1=model1.predict(x_val)\n",
        "    Y_predict1_1=np.float32(y_predict1_1>0.50)\n",
        "    l=len(y_val)\n",
        "    Y_predict1_1=np.reshape(Y_predict1_1,(l,1))"
      ]
    },
    {
      "cell_type": "code",
      "execution_count": null,
      "metadata": {
        "colab": {
          "base_uri": "https://localhost:8080/"
        },
        "id": "bA2gSz9-aOVu",
        "outputId": "430cb714-8e4f-4da1-c348-51dc0371cc00"
      },
      "outputs": [
        {
          "name": "stdout",
          "output_type": "stream",
          "text": [
            "36/36 [==============================] - 13s 354ms/step - loss: 0.6282 - accuracy: 0.6564 - auc: 0.7060 - precision: 0.6438 - recall: 0.7083\n",
            "7/7 [==============================] - 2s 269ms/step - loss: 0.6619 - accuracy: 0.6000 - auc: 0.6522 - precision: 0.5738 - recall: 0.7143\n"
          ]
        },
        {
          "data": {
            "text/plain": [
              "[0.6618611812591553,\n",
              " 0.6000000238418579,\n",
              " 0.6521608829498291,\n",
              " 0.5737704634666443,\n",
              " 0.7142857313156128]"
            ]
          },
          "execution_count": 25,
          "metadata": {},
          "output_type": "execute_result"
        }
      ],
      "source": [
        "model1.evaluate(train_datagen.flow(x_train,y_train))\n",
        "model1.evaluate(val_datagen.flow(x_val,y_val))"
      ]
    },
    {
      "cell_type": "code",
      "execution_count": null,
      "metadata": {
        "colab": {
          "base_uri": "https://localhost:8080/"
        },
        "id": "rT39Isy5aT8q",
        "outputId": "209629b3-5907-457b-d02e-4d655e54785b"
      },
      "outputs": [
        {
          "name": "stdout",
          "output_type": "stream",
          "text": [
            "5/5 [==============================] - 0s 32ms/step\n",
            "[[0.]\n",
            " [1.]\n",
            " [0.]\n",
            " [1.]\n",
            " [1.]\n",
            " [0.]\n",
            " [1.]\n",
            " [0.]\n",
            " [0.]\n",
            " [1.]\n",
            " [0.]\n",
            " [0.]\n",
            " [1.]\n",
            " [1.]\n",
            " [1.]\n",
            " [1.]\n",
            " [1.]\n",
            " [1.]\n",
            " [1.]\n",
            " [0.]\n",
            " [0.]\n",
            " [0.]\n",
            " [0.]\n",
            " [1.]\n",
            " [1.]\n",
            " [0.]\n",
            " [1.]\n",
            " [1.]\n",
            " [0.]\n",
            " [0.]\n",
            " [1.]\n",
            " [0.]\n",
            " [0.]\n",
            " [1.]\n",
            " [1.]\n",
            " [1.]\n",
            " [1.]\n",
            " [0.]\n",
            " [0.]\n",
            " [0.]\n",
            " [1.]\n",
            " [0.]\n",
            " [1.]\n",
            " [0.]\n",
            " [1.]\n",
            " [0.]\n",
            " [1.]\n",
            " [1.]\n",
            " [0.]\n",
            " [1.]\n",
            " [1.]\n",
            " [1.]\n",
            " [1.]\n",
            " [0.]\n",
            " [0.]\n",
            " [1.]\n",
            " [1.]\n",
            " [0.]\n",
            " [0.]\n",
            " [0.]\n",
            " [0.]\n",
            " [0.]\n",
            " [0.]\n",
            " [1.]\n",
            " [1.]\n",
            " [1.]\n",
            " [0.]\n",
            " [1.]\n",
            " [0.]\n",
            " [1.]\n",
            " [1.]\n",
            " [0.]\n",
            " [1.]\n",
            " [1.]\n",
            " [0.]\n",
            " [1.]\n",
            " [1.]\n",
            " [1.]\n",
            " [1.]\n",
            " [0.]\n",
            " [1.]\n",
            " [1.]\n",
            " [1.]\n",
            " [0.]\n",
            " [1.]\n",
            " [1.]\n",
            " [0.]\n",
            " [0.]\n",
            " [0.]\n",
            " [0.]\n",
            " [0.]\n",
            " [0.]\n",
            " [0.]\n",
            " [0.]\n",
            " [1.]\n",
            " [1.]\n",
            " [0.]\n",
            " [0.]\n",
            " [0.]\n",
            " [1.]\n",
            " [0.]\n",
            " [0.]\n",
            " [1.]\n",
            " [0.]\n",
            " [1.]\n",
            " [1.]\n",
            " [0.]\n",
            " [1.]\n",
            " [0.]\n",
            " [1.]\n",
            " [1.]\n",
            " [1.]\n",
            " [1.]\n",
            " [1.]\n",
            " [0.]\n",
            " [1.]\n",
            " [0.]\n",
            " [0.]\n",
            " [0.]\n",
            " [0.]\n",
            " [0.]\n",
            " [1.]\n",
            " [1.]\n",
            " [0.]\n",
            " [1.]\n",
            " [1.]\n",
            " [1.]\n",
            " [1.]\n",
            " [0.]\n",
            " [1.]\n",
            " [1.]\n",
            " [0.]\n",
            " [1.]\n",
            " [0.]\n",
            " [0.]\n",
            " [1.]\n",
            " [0.]\n",
            " [0.]\n",
            " [0.]\n",
            " [1.]\n",
            " [0.]\n",
            " [0.]\n",
            " [0.]\n",
            " [1.]\n",
            " [1.]\n",
            " [0.]\n",
            " [0.]\n",
            " [1.]]\n"
          ]
        }
      ],
      "source": [
        "y_predict1_2=model1.predict(x_test)\n",
        "Y_predict1_2=np.float32(y_predict1_2>0.50)\n",
        "l=len(y_test)\n",
        "Y_predict1_2=np.reshape(Y_predict1_2,(l,1))\n",
        "print(Y_predict1_2)"
      ]
    },
    {
      "cell_type": "code",
      "execution_count": null,
      "metadata": {
        "id": "cZA1fYtyaXAw"
      },
      "outputs": [],
      "source": [
        "from sklearn.metrics import auc,roc_curve\n",
        "from sklearn.metrics import f1_score\n",
        "from sklearn.metrics import cohen_kappa_score\n",
        "from sklearn.metrics import accuracy_score\n",
        "f11 = f1_score(y_test, Y_predict1_2)\n",
        "test_accuracy1 = accuracy_score(y_test, Y_predict1_2)\n",
        "kappa1 = cohen_kappa_score(y_test, Y_predict1_2)\n",
        "auc1 = roc_auc_score(y_test, Y_predict1_2)"
      ]
    },
    {
      "cell_type": "code",
      "execution_count": null,
      "metadata": {
        "colab": {
          "base_uri": "https://localhost:8080/"
        },
        "id": "Dd6X26JBaZ8a",
        "outputId": "a3f909bf-460c-4a41-dc04-06d769aa9dfc"
      },
      "outputs": [
        {
          "name": "stdout",
          "output_type": "stream",
          "text": [
            "0.676169590643275\n",
            "0.6756756756756757\n",
            "0.3518248175182481\n",
            "0.6756756756756757\n"
          ]
        }
      ],
      "source": [
        "print(auc1)\n",
        "print(f11)\n",
        "print(kappa1)\n",
        "print(test_accuracy1)"
      ]
    },
    {
      "attachments": {},
      "cell_type": "markdown",
      "metadata": {
        "id": "WeI8VtcLntGO"
      },
      "source": [
        "# CNN 3 Layer"
      ]
    },
    {
      "cell_type": "code",
      "execution_count": null,
      "metadata": {
        "colab": {
          "base_uri": "https://localhost:8080/"
        },
        "id": "yd4Hj3Oso0RO",
        "outputId": "d5d64935-0183-4f46-d66c-128d3b0d0e8b"
      },
      "outputs": [
        {
          "name": "stdout",
          "output_type": "stream",
          "text": [
            "Model: \"sequential_1\"\n",
            "_________________________________________________________________\n",
            " Layer (type)                Output Shape              Param #   \n",
            "=================================================================\n",
            " conv2d_2 (Conv2D)           (None, 222, 222, 32)      896       \n",
            "                                                                 \n",
            " max_pooling2d_2 (MaxPooling  (None, 111, 111, 32)     0         \n",
            " 2D)                                                             \n",
            "                                                                 \n",
            " dropout_3 (Dropout)         (None, 111, 111, 32)      0         \n",
            "                                                                 \n",
            " conv2d_3 (Conv2D)           (None, 109, 109, 32)      9248      \n",
            "                                                                 \n",
            " max_pooling2d_3 (MaxPooling  (None, 54, 54, 32)       0         \n",
            " 2D)                                                             \n",
            "                                                                 \n",
            " dropout_4 (Dropout)         (None, 54, 54, 32)        0         \n",
            "                                                                 \n",
            " conv2d_4 (Conv2D)           (None, 52, 52, 32)        9248      \n",
            "                                                                 \n",
            " max_pooling2d_4 (MaxPooling  (None, 26, 26, 32)       0         \n",
            " 2D)                                                             \n",
            "                                                                 \n",
            " dropout_5 (Dropout)         (None, 26, 26, 32)        0         \n",
            "                                                                 \n",
            " flatten_1 (Flatten)         (None, 21632)             0         \n",
            "                                                                 \n",
            " dense_2 (Dense)             (None, 256)               5538048   \n",
            "                                                                 \n",
            " dropout_6 (Dropout)         (None, 256)               0         \n",
            "                                                                 \n",
            " dense_3 (Dense)             (None, 1)                 257       \n",
            "                                                                 \n",
            "=================================================================\n",
            "Total params: 5,557,697\n",
            "Trainable params: 5,557,697\n",
            "Non-trainable params: 0\n",
            "_________________________________________________________________\n"
          ]
        }
      ],
      "source": [
        "model2 = tf.keras.models.Sequential([\n",
        "    tf.keras.layers.Conv2D(32, (3,3), activation='relu', input_shape=(224,224,3)),\n",
        "    tf.keras.layers.MaxPooling2D(pool_size=(2,2)),\n",
        "    tf.keras.layers.Dropout(0.25),\n",
        "\n",
        "    tf.keras.layers.Conv2D(32, (3,3), activation='relu'),\n",
        "    tf.keras.layers.MaxPooling2D(pool_size=(2,2)),\n",
        "    tf.keras.layers.Dropout(0.25),\n",
        "\n",
        "    tf.keras.layers.Conv2D(32, (3,3), activation='relu'),\n",
        "    tf.keras.layers.MaxPooling2D(pool_size=(2,2)),\n",
        "    tf.keras.layers.Dropout(0.25),\n",
        "\n",
        "    tf.keras.layers.Flatten(),\n",
        "    tf.keras.layers.Dense(256, activation='relu'),\n",
        "    tf.keras.layers.Dropout(0.5),\n",
        "\n",
        "    tf.keras.layers.Dense(1, activation='sigmoid')\n",
        "])\n",
        "model2.summary()"
      ]
    },
    {
      "cell_type": "code",
      "execution_count": null,
      "metadata": {
        "id": "biqxXI5aFsTp"
      },
      "outputs": [],
      "source": [
        "model2.compile(loss='binary_crossentropy',\n",
        "              optimizer='adam',\n",
        "              metrics=['accuracy','AUC','Precision','Recall'])"
      ]
    },
    {
      "cell_type": "code",
      "execution_count": null,
      "metadata": {
        "id": "2MGJWKgmGHop"
      },
      "outputs": [],
      "source": [
        "from tensorflow.keras.callbacks import ModelCheckpoint, EarlyStopping\n",
        "es=EarlyStopping(patience=3,monitor='val_loss')\n",
        "filepath='best_model.h52'\n",
        "checkpoint = ModelCheckpoint(filepath, monitor='val_accuracy', verbose=1, save_best_only=True, mode='max')"
      ]
    },
    {
      "cell_type": "code",
      "execution_count": null,
      "metadata": {
        "colab": {
          "base_uri": "https://localhost:8080/"
        },
        "id": "13CGzfktGUjr",
        "outputId": "f0289791-f9ab-4d9e-9d1b-34b206ebd2cc"
      },
      "outputs": [
        {
          "name": "stdout",
          "output_type": "stream",
          "text": [
            "Fold 1\n",
            "Epoch 1/10\n",
            "36/36 [==============================] - ETA: 0s - loss: 0.8918 - accuracy: 0.5124 - auc: 0.5218 - precision: 0.5189 - recall: 0.4333\n",
            "Epoch 1: val_accuracy improved from -inf to 0.51000, saving model to best_model.h52\n"
          ]
        },
        {
          "name": "stderr",
          "output_type": "stream",
          "text": [
            "WARNING:absl:Found untraced functions such as _jit_compiled_convolution_op, _jit_compiled_convolution_op, _jit_compiled_convolution_op while saving (showing 3 of 3). These functions will not be directly callable after loading.\n"
          ]
        },
        {
          "name": "stdout",
          "output_type": "stream",
          "text": [
            "\b\b\b\b\b\b\b\b\b\b\b\b\b\b\b\b\b\b\b\b\b\b\b\b\b\b\b\b\b\b\b\b\b\b\b\b\b\b\b\b\b\b\b\b\b\b\b\b\b\b\b\b\b\b\b\b\b\b\b\b\b\b\b\b\b\b\b\b\b\b\b\b\b\b\b\b\b\b\b\b\b\b\b\b\b\b\b\b\b\b\b\b\b\b\b\b\b\b\b\b\b\b\b\b\b\b\b\b\b\b\b\b\b\b\b\b\b\b\b\b\b\b\b\b\b\b\b\b\b\b\b\b\b\r36/36 [==============================] - 17s 406ms/step - loss: 0.8918 - accuracy: 0.5124 - auc: 0.5218 - precision: 0.5189 - recall: 0.4333 - val_loss: 0.6930 - val_accuracy: 0.5100 - val_auc: 0.5198 - val_precision: 0.4940 - val_recall: 0.4227\n",
            "Epoch 2/10\n",
            "36/36 [==============================] - ETA: 0s - loss: 0.6884 - accuracy: 0.5265 - auc: 0.5677 - precision: 0.5390 - recall: 0.4123\n",
            "Epoch 2: val_accuracy improved from 0.51000 to 0.59000, saving model to best_model.h52\n"
          ]
        },
        {
          "name": "stderr",
          "output_type": "stream",
          "text": [
            "WARNING:absl:Found untraced functions such as _jit_compiled_convolution_op, _jit_compiled_convolution_op, _jit_compiled_convolution_op while saving (showing 3 of 3). These functions will not be directly callable after loading.\n"
          ]
        },
        {
          "name": "stdout",
          "output_type": "stream",
          "text": [
            "\b\b\b\b\b\b\b\b\b\b\b\b\b\b\b\b\b\b\b\b\b\b\b\b\b\b\b\b\b\b\b\b\b\b\b\b\b\b\b\b\b\b\b\b\b\b\b\b\b\b\b\b\b\b\b\b\b\b\b\b\b\b\b\b\b\b\b\b\b\b\b\b\b\b\b\b\b\b\b\b\b\b\b\b\b\b\b\b\b\b\b\b\b\b\b\b\b\b\b\b\b\b\b\b\b\b\b\b\b\b\b\b\b\b\b\b\b\b\b\b\b\b\b\b\b\b\b\b\b\b\b\b\b\r36/36 [==============================] - 15s 398ms/step - loss: 0.6884 - accuracy: 0.5265 - auc: 0.5677 - precision: 0.5390 - recall: 0.4123 - val_loss: 0.6789 - val_accuracy: 0.5900 - val_auc: 0.6269 - val_precision: 0.5620 - val_recall: 0.7010\n",
            "Epoch 3/10\n",
            "36/36 [==============================] - ETA: 0s - loss: 0.6847 - accuracy: 0.5398 - auc: 0.5762 - precision: 0.5468 - recall: 0.5018\n",
            "Epoch 3: val_accuracy did not improve from 0.59000\n",
            "36/36 [==============================] - 12s 323ms/step - loss: 0.6847 - accuracy: 0.5398 - auc: 0.5762 - precision: 0.5468 - recall: 0.5018 - val_loss: 0.6803 - val_accuracy: 0.5850 - val_auc: 0.6459 - val_precision: 0.5673 - val_recall: 0.6082\n",
            "Epoch 4/10\n",
            "36/36 [==============================] - ETA: 0s - loss: 0.6756 - accuracy: 0.5707 - auc: 0.6018 - precision: 0.5755 - recall: 0.5614\n",
            "Epoch 4: val_accuracy improved from 0.59000 to 0.60000, saving model to best_model.h52\n"
          ]
        },
        {
          "name": "stderr",
          "output_type": "stream",
          "text": [
            "WARNING:absl:Found untraced functions such as _jit_compiled_convolution_op, _jit_compiled_convolution_op, _jit_compiled_convolution_op while saving (showing 3 of 3). These functions will not be directly callable after loading.\n"
          ]
        },
        {
          "name": "stdout",
          "output_type": "stream",
          "text": [
            "\b\b\b\b\b\b\b\b\b\b\b\b\b\b\b\b\b\b\b\b\b\b\b\b\b\b\b\b\b\b\b\b\b\b\b\b\b\b\b\b\b\b\b\b\b\b\b\b\b\b\b\b\b\b\b\b\b\b\b\b\b\b\b\b\b\b\b\b\b\b\b\b\b\b\b\b\b\b\b\b\b\b\b\b\b\b\b\b\b\b\b\b\b\b\b\b\b\b\b\b\b\b\b\b\b\b\b\b\b\b\b\b\b\b\b\b\b\b\b\b\b\b\b\b\b\b\b\b\b\b\b\b\b\r36/36 [==============================] - 14s 396ms/step - loss: 0.6756 - accuracy: 0.5707 - auc: 0.6018 - precision: 0.5755 - recall: 0.5614 - val_loss: 0.6793 - val_accuracy: 0.6000 - val_auc: 0.6810 - val_precision: 0.5578 - val_recall: 0.8454\n",
            "Epoch 5/10\n",
            "36/36 [==============================] - ETA: 0s - loss: 0.6728 - accuracy: 0.5883 - auc: 0.6215 - precision: 0.5793 - recall: 0.6667\n",
            "Epoch 5: val_accuracy improved from 0.60000 to 0.61500, saving model to best_model.h52\n"
          ]
        },
        {
          "name": "stderr",
          "output_type": "stream",
          "text": [
            "WARNING:absl:Found untraced functions such as _jit_compiled_convolution_op, _jit_compiled_convolution_op, _jit_compiled_convolution_op while saving (showing 3 of 3). These functions will not be directly callable after loading.\n"
          ]
        },
        {
          "name": "stdout",
          "output_type": "stream",
          "text": [
            "\b\b\b\b\b\b\b\b\b\b\b\b\b\b\b\b\b\b\b\b\b\b\b\b\b\b\b\b\b\b\b\b\b\b\b\b\b\b\b\b\b\b\b\b\b\b\b\b\b\b\b\b\b\b\b\b\b\b\b\b\b\b\b\b\b\b\b\b\b\b\b\b\b\b\b\b\b\b\b\b\b\b\b\b\b\b\b\b\b\b\b\b\b\b\b\b\b\b\b\b\b\b\b\b\b\b\b\b\b\b\b\b\b\b\b\b\b\b\b\b\b\b\b\b\b\b\b\b\b\b\b\b\b\r36/36 [==============================] - 14s 387ms/step - loss: 0.6728 - accuracy: 0.5883 - auc: 0.6215 - precision: 0.5793 - recall: 0.6667 - val_loss: 0.6660 - val_accuracy: 0.6150 - val_auc: 0.6850 - val_precision: 0.6250 - val_recall: 0.5155\n",
            "Epoch 6/10\n",
            "36/36 [==============================] - ETA: 0s - loss: 0.6628 - accuracy: 0.6025 - auc: 0.6444 - precision: 0.6087 - recall: 0.5895\n",
            "Epoch 6: val_accuracy improved from 0.61500 to 0.62000, saving model to best_model.h52\n"
          ]
        },
        {
          "name": "stderr",
          "output_type": "stream",
          "text": [
            "WARNING:absl:Found untraced functions such as _jit_compiled_convolution_op, _jit_compiled_convolution_op, _jit_compiled_convolution_op while saving (showing 3 of 3). These functions will not be directly callable after loading.\n"
          ]
        },
        {
          "name": "stdout",
          "output_type": "stream",
          "text": [
            "\b\b\b\b\b\b\b\b\b\b\b\b\b\b\b\b\b\b\b\b\b\b\b\b\b\b\b\b\b\b\b\b\b\b\b\b\b\b\b\b\b\b\b\b\b\b\b\b\b\b\b\b\b\b\b\b\b\b\b\b\b\b\b\b\b\b\b\b\b\b\b\b\b\b\b\b\b\b\b\b\b\b\b\b\b\b\b\b\b\b\b\b\b\b\b\b\b\b\b\b\b\b\b\b\b\b\b\b\b\b\b\b\b\b\b\b\b\b\b\b\b\b\b\b\b\b\b\b\b\b\b\b\b\r36/36 [==============================] - 14s 394ms/step - loss: 0.6628 - accuracy: 0.6025 - auc: 0.6444 - precision: 0.6087 - recall: 0.5895 - val_loss: 0.6486 - val_accuracy: 0.6200 - val_auc: 0.6970 - val_precision: 0.5897 - val_recall: 0.7113\n",
            "Epoch 7/10\n",
            "36/36 [==============================] - ETA: 0s - loss: 0.6632 - accuracy: 0.5981 - auc: 0.6396 - precision: 0.6051 - recall: 0.5807\n",
            "Epoch 7: val_accuracy did not improve from 0.62000\n",
            "36/36 [==============================] - 13s 349ms/step - loss: 0.6632 - accuracy: 0.5981 - auc: 0.6396 - precision: 0.6051 - recall: 0.5807 - val_loss: 0.6483 - val_accuracy: 0.6150 - val_auc: 0.7071 - val_precision: 0.6111 - val_recall: 0.5670\n",
            "Epoch 8/10\n",
            "36/36 [==============================] - ETA: 0s - loss: 0.6558 - accuracy: 0.6228 - auc: 0.6605 - precision: 0.6307 - recall: 0.6053\n",
            "Epoch 8: val_accuracy improved from 0.62000 to 0.64500, saving model to best_model.h52\n"
          ]
        },
        {
          "name": "stderr",
          "output_type": "stream",
          "text": [
            "WARNING:absl:Found untraced functions such as _jit_compiled_convolution_op, _jit_compiled_convolution_op, _jit_compiled_convolution_op while saving (showing 3 of 3). These functions will not be directly callable after loading.\n"
          ]
        },
        {
          "name": "stdout",
          "output_type": "stream",
          "text": [
            "\b\b\b\b\b\b\b\b\b\b\b\b\b\b\b\b\b\b\b\b\b\b\b\b\b\b\b\b\b\b\b\b\b\b\b\b\b\b\b\b\b\b\b\b\b\b\b\b\b\b\b\b\b\b\b\b\b\b\b\b\b\b\b\b\b\b\b\b\b\b\b\b\b\b\b\b\b\b\b\b\b\b\b\b\b\b\b\b\b\b\b\b\b\b\b\b\b\b\b\b\b\b\b\b\b\b\b\b\b\b\b\b\b\b\b\b\b\b\b\b\b\b\b\b\b\b\b\b\b\b\b\b\b\r36/36 [==============================] - 14s 390ms/step - loss: 0.6558 - accuracy: 0.6228 - auc: 0.6605 - precision: 0.6307 - recall: 0.6053 - val_loss: 0.6327 - val_accuracy: 0.6450 - val_auc: 0.7111 - val_precision: 0.6182 - val_recall: 0.7010\n",
            "Epoch 9/10\n",
            "36/36 [==============================] - ETA: 0s - loss: 0.6521 - accuracy: 0.6157 - auc: 0.6631 - precision: 0.6087 - recall: 0.6632\n",
            "Epoch 9: val_accuracy did not improve from 0.64500\n",
            "36/36 [==============================] - 13s 354ms/step - loss: 0.6521 - accuracy: 0.6157 - auc: 0.6631 - precision: 0.6087 - recall: 0.6632 - val_loss: 0.6338 - val_accuracy: 0.6400 - val_auc: 0.7294 - val_precision: 0.6214 - val_recall: 0.6598\n",
            "Epoch 10/10\n",
            "36/36 [==============================] - ETA: 0s - loss: 0.6480 - accuracy: 0.6299 - auc: 0.6755 - precision: 0.6248 - recall: 0.6632\n",
            "Epoch 10: val_accuracy did not improve from 0.64500\n",
            "36/36 [==============================] - 13s 351ms/step - loss: 0.6480 - accuracy: 0.6299 - auc: 0.6755 - precision: 0.6248 - recall: 0.6632 - val_loss: 0.6375 - val_accuracy: 0.6300 - val_auc: 0.7181 - val_precision: 0.5891 - val_recall: 0.7835\n",
            "7/7 [==============================] - 0s 15ms/step\n"
          ]
        }
      ],
      "source": [
        "for j,(train_idx,val_idx) in enumerate(folds):\n",
        "    print(\"Fold \"+str(j+1))\n",
        "\n",
        "    x_train=X_dataset[train_idx]\n",
        "    y_train=Y_dataset[train_idx]\n",
        "    x_val=X_dataset[val_idx]\n",
        "    y_val=Y_dataset[val_idx]\n",
        "    history2=model2.fit(train_datagen.flow(x_train,y_train),epochs=10,validation_data=(x_val,y_val),callbacks=checkpoint)\n",
        "    y_predict2_1=model2.predict(x_val)\n",
        "    Y_predict2_1=np.float32(y_predict2_1>0.50)\n",
        "    l=len(y_val)\n",
        "    Y_predict2_1=np.reshape(Y_predict2_1,(l,1))"
      ]
    },
    {
      "cell_type": "code",
      "execution_count": null,
      "metadata": {
        "colab": {
          "base_uri": "https://localhost:8080/"
        },
        "id": "6pND2lKQGs5j",
        "outputId": "0ea158ae-dc4b-4ec0-c3db-76fcc50bdaea"
      },
      "outputs": [
        {
          "name": "stdout",
          "output_type": "stream",
          "text": [
            "36/36 [==============================] - 13s 334ms/step - loss: 0.6571 - accuracy: 0.6254 - auc: 0.6743 - precision: 0.5899 - recall: 0.8404\n",
            "7/7 [==============================] - 2s 266ms/step - loss: 0.6628 - accuracy: 0.6150 - auc: 0.6886 - precision: 0.5633 - recall: 0.9175\n"
          ]
        },
        {
          "data": {
            "text/plain": [
              "[0.6628134250640869,\n",
              " 0.6150000095367432,\n",
              " 0.6886197328567505,\n",
              " 0.5632911324501038,\n",
              " 0.9175257682800293]"
            ]
          },
          "execution_count": 26,
          "metadata": {},
          "output_type": "execute_result"
        }
      ],
      "source": [
        "model2.evaluate(train_datagen.flow(x_train,y_train))\n",
        "model2.evaluate(val_datagen.flow(x_val,y_val))"
      ]
    },
    {
      "cell_type": "code",
      "execution_count": null,
      "metadata": {
        "colab": {
          "base_uri": "https://localhost:8080/"
        },
        "id": "9IvOYiU9G6S0",
        "outputId": "6bdb31b6-8a67-4360-d4e2-e9e371afa7c8"
      },
      "outputs": [
        {
          "name": "stdout",
          "output_type": "stream",
          "text": [
            "5/5 [==============================] - 0s 23ms/step\n",
            "[[0.]\n",
            " [0.]\n",
            " [0.]\n",
            " [0.]\n",
            " [0.]\n",
            " [0.]\n",
            " [1.]\n",
            " [1.]\n",
            " [1.]\n",
            " [1.]\n",
            " [1.]\n",
            " [1.]\n",
            " [1.]\n",
            " [1.]\n",
            " [1.]\n",
            " [1.]\n",
            " [0.]\n",
            " [1.]\n",
            " [1.]\n",
            " [1.]\n",
            " [1.]\n",
            " [1.]\n",
            " [1.]\n",
            " [0.]\n",
            " [1.]\n",
            " [1.]\n",
            " [0.]\n",
            " [1.]\n",
            " [1.]\n",
            " [1.]\n",
            " [0.]\n",
            " [0.]\n",
            " [1.]\n",
            " [1.]\n",
            " [1.]\n",
            " [0.]\n",
            " [0.]\n",
            " [1.]\n",
            " [1.]\n",
            " [1.]\n",
            " [0.]\n",
            " [1.]\n",
            " [0.]\n",
            " [0.]\n",
            " [1.]\n",
            " [1.]\n",
            " [0.]\n",
            " [1.]\n",
            " [1.]\n",
            " [0.]\n",
            " [1.]\n",
            " [1.]\n",
            " [0.]\n",
            " [1.]\n",
            " [1.]\n",
            " [0.]\n",
            " [1.]\n",
            " [1.]\n",
            " [1.]\n",
            " [1.]\n",
            " [1.]\n",
            " [1.]\n",
            " [1.]\n",
            " [1.]\n",
            " [1.]\n",
            " [1.]\n",
            " [0.]\n",
            " [1.]\n",
            " [1.]\n",
            " [1.]\n",
            " [0.]\n",
            " [0.]\n",
            " [0.]\n",
            " [0.]\n",
            " [1.]\n",
            " [1.]\n",
            " [1.]\n",
            " [0.]\n",
            " [1.]\n",
            " [0.]\n",
            " [1.]\n",
            " [0.]\n",
            " [0.]\n",
            " [1.]\n",
            " [0.]\n",
            " [1.]\n",
            " [1.]\n",
            " [1.]\n",
            " [1.]\n",
            " [1.]\n",
            " [1.]\n",
            " [1.]\n",
            " [0.]\n",
            " [1.]\n",
            " [1.]\n",
            " [0.]\n",
            " [1.]\n",
            " [1.]\n",
            " [1.]\n",
            " [1.]\n",
            " [1.]\n",
            " [0.]\n",
            " [1.]\n",
            " [1.]\n",
            " [1.]\n",
            " [0.]\n",
            " [1.]\n",
            " [1.]\n",
            " [1.]\n",
            " [1.]\n",
            " [1.]\n",
            " [1.]\n",
            " [1.]\n",
            " [1.]\n",
            " [0.]\n",
            " [1.]\n",
            " [0.]\n",
            " [1.]\n",
            " [1.]\n",
            " [1.]\n",
            " [0.]\n",
            " [0.]\n",
            " [0.]\n",
            " [1.]\n",
            " [1.]\n",
            " [0.]\n",
            " [1.]\n",
            " [1.]\n",
            " [1.]\n",
            " [1.]\n",
            " [1.]\n",
            " [1.]\n",
            " [1.]\n",
            " [1.]\n",
            " [0.]\n",
            " [0.]\n",
            " [0.]\n",
            " [0.]\n",
            " [1.]\n",
            " [0.]\n",
            " [1.]\n",
            " [1.]\n",
            " [1.]\n",
            " [0.]\n",
            " [1.]\n",
            " [1.]\n",
            " [0.]\n",
            " [1.]]\n"
          ]
        }
      ],
      "source": [
        "y_predict2_2=model2.predict(x_test)\n",
        "Y_predict2_2=np.float32(y_predict2_2>0.50)\n",
        "l=len(y_test)\n",
        "Y_predict2_2=np.reshape(Y_predict2_2,(l,1))\n",
        "print(Y_predict2_2)"
      ]
    },
    {
      "cell_type": "code",
      "execution_count": null,
      "metadata": {
        "id": "_RsDi45SHPhG"
      },
      "outputs": [],
      "source": [
        "from sklearn.metrics import auc,roc_curve\n",
        "from sklearn.metrics import f1_score\n",
        "from sklearn.metrics import cohen_kappa_score\n",
        "from sklearn.metrics import accuracy_score\n",
        "f12 = f1_score(y_test, Y_predict2_2)\n",
        "test_accuracy2 = accuracy_score(y_test, Y_predict2_2)\n",
        "kappa2 = cohen_kappa_score(y_test, Y_predict2_2)\n",
        "auc2 = roc_auc_score(y_test, Y_predict2_2)"
      ]
    },
    {
      "cell_type": "code",
      "execution_count": null,
      "metadata": {
        "colab": {
          "base_uri": "https://localhost:8080/"
        },
        "id": "udzvfXNHHcAB",
        "outputId": "b6fd4aca-b798-47b1-b835-0c13344bcd01"
      },
      "outputs": [
        {
          "name": "stdout",
          "output_type": "stream",
          "text": [
            "0.6370614035087719\n",
            "0.7005649717514125\n",
            "0.27665068240501667\n",
            "0.6418918918918919\n"
          ]
        }
      ],
      "source": [
        "print(auc2)\n",
        "print(f12)\n",
        "print(kappa2)\n",
        "print(test_accuracy2)"
      ]
    },
    {
      "attachments": {},
      "cell_type": "markdown",
      "metadata": {
        "id": "KybUg4QOsE5t"
      },
      "source": [
        "# CNN 4 Layer"
      ]
    },
    {
      "cell_type": "code",
      "execution_count": null,
      "metadata": {
        "colab": {
          "base_uri": "https://localhost:8080/"
        },
        "id": "Uh4uBSKcsHDd",
        "outputId": "23ecff0f-f9d7-4e7c-bbc7-aded01f42490"
      },
      "outputs": [
        {
          "name": "stdout",
          "output_type": "stream",
          "text": [
            "Model: \"sequential_2\"\n",
            "_________________________________________________________________\n",
            " Layer (type)                Output Shape              Param #   \n",
            "=================================================================\n",
            " conv2d_5 (Conv2D)           (None, 222, 222, 32)      896       \n",
            "                                                                 \n",
            " max_pooling2d_5 (MaxPooling  (None, 111, 111, 32)     0         \n",
            " 2D)                                                             \n",
            "                                                                 \n",
            " dropout_7 (Dropout)         (None, 111, 111, 32)      0         \n",
            "                                                                 \n",
            " conv2d_6 (Conv2D)           (None, 109, 109, 32)      9248      \n",
            "                                                                 \n",
            " max_pooling2d_6 (MaxPooling  (None, 54, 54, 32)       0         \n",
            " 2D)                                                             \n",
            "                                                                 \n",
            " dropout_8 (Dropout)         (None, 54, 54, 32)        0         \n",
            "                                                                 \n",
            " conv2d_7 (Conv2D)           (None, 52, 52, 32)        9248      \n",
            "                                                                 \n",
            " max_pooling2d_7 (MaxPooling  (None, 26, 26, 32)       0         \n",
            " 2D)                                                             \n",
            "                                                                 \n",
            " dropout_9 (Dropout)         (None, 26, 26, 32)        0         \n",
            "                                                                 \n",
            " conv2d_8 (Conv2D)           (None, 24, 24, 32)        9248      \n",
            "                                                                 \n",
            " max_pooling2d_8 (MaxPooling  (None, 12, 12, 32)       0         \n",
            " 2D)                                                             \n",
            "                                                                 \n",
            " dropout_10 (Dropout)        (None, 12, 12, 32)        0         \n",
            "                                                                 \n",
            " flatten_2 (Flatten)         (None, 4608)              0         \n",
            "                                                                 \n",
            " dense_4 (Dense)             (None, 256)               1179904   \n",
            "                                                                 \n",
            " dropout_11 (Dropout)        (None, 256)               0         \n",
            "                                                                 \n",
            " dense_5 (Dense)             (None, 1)                 257       \n",
            "                                                                 \n",
            "=================================================================\n",
            "Total params: 1,208,801\n",
            "Trainable params: 1,208,801\n",
            "Non-trainable params: 0\n",
            "_________________________________________________________________\n"
          ]
        }
      ],
      "source": [
        "model3 = tf.keras.models.Sequential([\n",
        "    tf.keras.layers.Conv2D(32, (3,3), activation='relu', input_shape=(224,224,3)),\n",
        "    tf.keras.layers.MaxPooling2D(pool_size=(2,2)),\n",
        "    tf.keras.layers.Dropout(0.25),\n",
        "\n",
        "    tf.keras.layers.Conv2D(32, (3,3), activation='relu'),\n",
        "    tf.keras.layers.MaxPooling2D(pool_size=(2,2)),\n",
        "    tf.keras.layers.Dropout(0.25),\n",
        "\n",
        "    tf.keras.layers.Conv2D(32, (3,3), activation='relu'),\n",
        "    tf.keras.layers.MaxPooling2D(pool_size=(2,2)),\n",
        "    tf.keras.layers.Dropout(0.25),\n",
        "\n",
        "    tf.keras.layers.Conv2D(32, (3,3), activation='relu'),\n",
        "    tf.keras.layers.MaxPooling2D(pool_size=(2,2)),\n",
        "    tf.keras.layers.Dropout(0.25),\n",
        "\n",
        "    tf.keras.layers.Flatten(),\n",
        "    tf.keras.layers.Dense(256, activation='relu'),\n",
        "    tf.keras.layers.Dropout(0.5),\n",
        "\n",
        "    tf.keras.layers.Dense(1, activation='sigmoid')\n",
        "])\n",
        "model3.summary()"
      ]
    },
    {
      "cell_type": "code",
      "execution_count": null,
      "metadata": {
        "id": "A4cVKl1lFuMQ"
      },
      "outputs": [],
      "source": [
        "model3.compile(loss='binary_crossentropy',\n",
        "              optimizer='adam',\n",
        "              metrics=['accuracy','AUC','Precision','Recall'])"
      ]
    },
    {
      "cell_type": "code",
      "execution_count": null,
      "metadata": {
        "id": "lSNT8wVYGIex"
      },
      "outputs": [],
      "source": [
        "from tensorflow.keras.callbacks import ModelCheckpoint, EarlyStopping\n",
        "es=EarlyStopping(patience=3,monitor='val_loss')\n",
        "filepath='best_model.h53'\n",
        "checkpoint = ModelCheckpoint(filepath, monitor='val_accuracy', verbose=1, save_best_only=True, mode='max')"
      ]
    },
    {
      "cell_type": "code",
      "execution_count": null,
      "metadata": {
        "colab": {
          "base_uri": "https://localhost:8080/"
        },
        "id": "pgaXF-8vGVZA",
        "outputId": "f980573e-a357-44fd-fac6-1c341e6d4483"
      },
      "outputs": [
        {
          "name": "stdout",
          "output_type": "stream",
          "text": [
            "Fold 1\n",
            "Epoch 1/10\n",
            "36/36 [==============================] - ETA: 0s - loss: 0.7266 - accuracy: 0.5247 - auc: 0.5404 - precision: 0.5497 - recall: 0.3105\n",
            "Epoch 1: val_accuracy improved from -inf to 0.51000, saving model to best_model.h53\n"
          ]
        },
        {
          "name": "stderr",
          "output_type": "stream",
          "text": [
            "WARNING:absl:Found untraced functions such as _jit_compiled_convolution_op, _jit_compiled_convolution_op, _jit_compiled_convolution_op, _jit_compiled_convolution_op while saving (showing 4 of 4). These functions will not be directly callable after loading.\n"
          ]
        },
        {
          "name": "stdout",
          "output_type": "stream",
          "text": [
            "\b\b\b\b\b\b\b\b\b\b\b\b\b\b\b\b\b\b\b\b\b\b\b\b\b\b\b\b\b\b\b\b\b\b\b\b\b\b\b\b\b\b\b\b\b\b\b\b\b\b\b\b\b\b\b\b\b\b\b\b\b\b\b\b\b\b\b\b\b\b\b\b\b\b\b\b\b\b\b\b\b\b\b\b\b\b\b\b\b\b\b\b\b\b\b\b\b\b\b\b\b\b\b\b\b\b\b\b\b\b\b\b\b\b\b\b\b\b\b\b\b\b\b\b\b\b\b\b\b\b\b\b\b\r36/36 [==============================] - 18s 418ms/step - loss: 0.7266 - accuracy: 0.5247 - auc: 0.5404 - precision: 0.5497 - recall: 0.3105 - val_loss: 0.6920 - val_accuracy: 0.5100 - val_auc: 0.5950 - val_precision: 0.4973 - val_recall: 0.9485\n",
            "Epoch 2/10\n",
            "36/36 [==============================] - ETA: 0s - loss: 0.6868 - accuracy: 0.5477 - auc: 0.5631 - precision: 0.5553 - recall: 0.5105\n",
            "Epoch 2: val_accuracy did not improve from 0.51000\n",
            "36/36 [==============================] - 15s 411ms/step - loss: 0.6868 - accuracy: 0.5477 - auc: 0.5631 - precision: 0.5553 - recall: 0.5105 - val_loss: 0.6935 - val_accuracy: 0.4850 - val_auc: 0.6063 - val_precision: 0.4850 - val_recall: 1.0000\n",
            "Epoch 3/10\n",
            "36/36 [==============================] - ETA: 0s - loss: 0.6844 - accuracy: 0.5371 - auc: 0.5717 - precision: 0.5432 - recall: 0.5070\n",
            "Epoch 3: val_accuracy improved from 0.51000 to 0.57500, saving model to best_model.h53\n"
          ]
        },
        {
          "name": "stderr",
          "output_type": "stream",
          "text": [
            "WARNING:absl:Found untraced functions such as _jit_compiled_convolution_op, _jit_compiled_convolution_op, _jit_compiled_convolution_op, _jit_compiled_convolution_op while saving (showing 4 of 4). These functions will not be directly callable after loading.\n"
          ]
        },
        {
          "name": "stdout",
          "output_type": "stream",
          "text": [
            "\b\b\b\b\b\b\b\b\b\b\b\b\b\b\b\b\b\b\b\b\b\b\b\b\b\b\b\b\b\b\b\b\b\b\b\b\b\b\b\b\b\b\b\b\b\b\b\b\b\b\b\b\b\b\b\b\b\b\b\b\b\b\b\b\b\b\b\b\b\b\b\b\b\b\b\b\b\b\b\b\b\b\b\b\b\b\b\b\b\b\b\b\b\b\b\b\b\b\b\b\b\b\b\b\b\b\b\b\b\b\b\b\b\b\b\b\b\b\b\b\b\b\b\b\b\b\b\b\b\b\b\b\b\r36/36 [==============================] - 14s 401ms/step - loss: 0.6844 - accuracy: 0.5371 - auc: 0.5717 - precision: 0.5432 - recall: 0.5070 - val_loss: 0.6883 - val_accuracy: 0.5750 - val_auc: 0.6657 - val_precision: 0.5357 - val_recall: 0.9278\n",
            "Epoch 4/10\n",
            "36/36 [==============================] - ETA: 0s - loss: 0.6720 - accuracy: 0.5928 - auc: 0.6180 - precision: 0.6023 - recall: 0.5632\n",
            "Epoch 4: val_accuracy improved from 0.57500 to 0.58500, saving model to best_model.h53\n"
          ]
        },
        {
          "name": "stderr",
          "output_type": "stream",
          "text": [
            "WARNING:absl:Found untraced functions such as _jit_compiled_convolution_op, _jit_compiled_convolution_op, _jit_compiled_convolution_op, _jit_compiled_convolution_op while saving (showing 4 of 4). These functions will not be directly callable after loading.\n"
          ]
        },
        {
          "name": "stdout",
          "output_type": "stream",
          "text": [
            "\b\b\b\b\b\b\b\b\b\b\b\b\b\b\b\b\b\b\b\b\b\b\b\b\b\b\b\b\b\b\b\b\b\b\b\b\b\b\b\b\b\b\b\b\b\b\b\b\b\b\b\b\b\b\b\b\b\b\b\b\b\b\b\b\b\b\b\b\b\b\b\b\b\b\b\b\b\b\b\b\b\b\b\b\b\b\b\b\b\b\b\b\b\b\b\b\b\b\b\b\b\b\b\b\b\b\b\b\b\b\b\b\b\b\b\b\b\b\b\b\b\b\b\b\b\b\b\b\b\b\b\b\b\r36/36 [==============================] - 15s 408ms/step - loss: 0.6720 - accuracy: 0.5928 - auc: 0.6180 - precision: 0.6023 - recall: 0.5632 - val_loss: 0.6849 - val_accuracy: 0.5850 - val_auc: 0.6449 - val_precision: 0.5432 - val_recall: 0.9072\n",
            "Epoch 5/10\n",
            "36/36 [==============================] - ETA: 0s - loss: 0.6818 - accuracy: 0.5610 - auc: 0.5783 - precision: 0.5597 - recall: 0.6000\n",
            "Epoch 5: val_accuracy did not improve from 0.58500\n",
            "36/36 [==============================] - 13s 350ms/step - loss: 0.6818 - accuracy: 0.5610 - auc: 0.5783 - precision: 0.5597 - recall: 0.6000 - val_loss: 0.6921 - val_accuracy: 0.4900 - val_auc: 0.6816 - val_precision: 0.4874 - val_recall: 1.0000\n",
            "Epoch 6/10\n",
            "36/36 [==============================] - ETA: 0s - loss: 0.6819 - accuracy: 0.5592 - auc: 0.5921 - precision: 0.5577 - recall: 0.6018\n",
            "Epoch 6: val_accuracy did not improve from 0.58500\n",
            "36/36 [==============================] - 13s 351ms/step - loss: 0.6819 - accuracy: 0.5592 - auc: 0.5921 - precision: 0.5577 - recall: 0.6018 - val_loss: 0.6821 - val_accuracy: 0.5800 - val_auc: 0.6585 - val_precision: 0.5389 - val_recall: 0.9278\n",
            "Epoch 7/10\n",
            "36/36 [==============================] - ETA: 0s - loss: 0.6767 - accuracy: 0.5477 - auc: 0.5898 - precision: 0.5397 - recall: 0.6912\n",
            "Epoch 7: val_accuracy did not improve from 0.58500\n",
            "36/36 [==============================] - 13s 353ms/step - loss: 0.6767 - accuracy: 0.5477 - auc: 0.5898 - precision: 0.5397 - recall: 0.6912 - val_loss: 0.6974 - val_accuracy: 0.4850 - val_auc: 0.5000 - val_precision: 0.4850 - val_recall: 1.0000\n",
            "Epoch 8/10\n",
            "36/36 [==============================] - ETA: 0s - loss: 0.6718 - accuracy: 0.5919 - auc: 0.6181 - precision: 0.5868 - recall: 0.6404\n",
            "Epoch 8: val_accuracy did not improve from 0.58500\n",
            "36/36 [==============================] - 13s 352ms/step - loss: 0.6718 - accuracy: 0.5919 - auc: 0.6181 - precision: 0.5868 - recall: 0.6404 - val_loss: 0.6928 - val_accuracy: 0.4850 - val_auc: 0.6964 - val_precision: 0.4850 - val_recall: 1.0000\n",
            "Epoch 9/10\n",
            "36/36 [==============================] - ETA: 0s - loss: 0.6715 - accuracy: 0.5936 - auc: 0.6192 - precision: 0.5890 - recall: 0.6386\n",
            "Epoch 9: val_accuracy did not improve from 0.58500\n",
            "36/36 [==============================] - 13s 351ms/step - loss: 0.6715 - accuracy: 0.5936 - auc: 0.6192 - precision: 0.5890 - recall: 0.6386 - val_loss: 0.6802 - val_accuracy: 0.5550 - val_auc: 0.7114 - val_precision: 0.5227 - val_recall: 0.9485\n",
            "Epoch 10/10\n",
            "36/36 [==============================] - ETA: 0s - loss: 0.6610 - accuracy: 0.6219 - auc: 0.6527 - precision: 0.6277 - recall: 0.6123\n",
            "Epoch 10: val_accuracy did not improve from 0.58500\n",
            "36/36 [==============================] - 13s 352ms/step - loss: 0.6610 - accuracy: 0.6219 - auc: 0.6527 - precision: 0.6277 - recall: 0.6123 - val_loss: 0.6790 - val_accuracy: 0.5550 - val_auc: 0.7032 - val_precision: 0.5225 - val_recall: 0.9588\n",
            "7/7 [==============================] - 0s 15ms/step\n"
          ]
        }
      ],
      "source": [
        "for j,(train_idx,val_idx) in enumerate(folds):\n",
        "    print(\"Fold \"+str(j+1))\n",
        "\n",
        "    x_train=X_dataset[train_idx]\n",
        "    y_train=Y_dataset[train_idx]\n",
        "    x_val=X_dataset[val_idx]\n",
        "    y_val=Y_dataset[val_idx]\n",
        "    history3=model3.fit(train_datagen.flow(x_train,y_train),epochs=10,validation_data=(x_val,y_val),callbacks=checkpoint)\n",
        "    y_predict3_1=model3.predict(x_val)\n",
        "    Y_predict3_1=np.float32(y_predict3_1>0.50)\n",
        "    l=len(y_val)\n",
        "    Y_predict3_1=np.reshape(Y_predict3_1,(l,1))"
      ]
    },
    {
      "cell_type": "code",
      "execution_count": null,
      "metadata": {
        "colab": {
          "base_uri": "https://localhost:8080/"
        },
        "id": "MdONbUhdGt73",
        "outputId": "de6d091e-d448-48f6-e5af-89ea658f45cb"
      },
      "outputs": [
        {
          "name": "stdout",
          "output_type": "stream",
          "text": [
            "36/36 [==============================] - 12s 321ms/step - loss: 0.6791 - accuracy: 0.5521 - auc: 0.6822 - precision: 0.5302 - recall: 0.9702\n",
            "7/7 [==============================] - 2s 331ms/step - loss: 0.6827 - accuracy: 0.5350 - auc: 0.6848 - precision: 0.5110 - recall: 0.9588\n"
          ]
        },
        {
          "data": {
            "text/plain": [
              "[0.6826953291893005,\n",
              " 0.5350000262260437,\n",
              " 0.6847662925720215,\n",
              " 0.5109890103340149,\n",
              " 0.9587628841400146]"
            ]
          },
          "execution_count": 34,
          "metadata": {},
          "output_type": "execute_result"
        }
      ],
      "source": [
        "model3.evaluate(train_datagen.flow(x_train,y_train))\n",
        "model3.evaluate(val_datagen.flow(x_val,y_val))"
      ]
    },
    {
      "cell_type": "code",
      "execution_count": null,
      "metadata": {
        "colab": {
          "base_uri": "https://localhost:8080/"
        },
        "id": "NSoLZc4ZG7Q_",
        "outputId": "15b5479b-87ef-49e6-8626-a3dccf81059d"
      },
      "outputs": [
        {
          "name": "stdout",
          "output_type": "stream",
          "text": [
            "5/5 [==============================] - 0s 24ms/step\n",
            "[[1.]\n",
            " [1.]\n",
            " [1.]\n",
            " [0.]\n",
            " [1.]\n",
            " [1.]\n",
            " [1.]\n",
            " [1.]\n",
            " [1.]\n",
            " [1.]\n",
            " [1.]\n",
            " [1.]\n",
            " [1.]\n",
            " [1.]\n",
            " [1.]\n",
            " [1.]\n",
            " [1.]\n",
            " [1.]\n",
            " [1.]\n",
            " [1.]\n",
            " [1.]\n",
            " [1.]\n",
            " [1.]\n",
            " [0.]\n",
            " [1.]\n",
            " [1.]\n",
            " [1.]\n",
            " [1.]\n",
            " [1.]\n",
            " [1.]\n",
            " [1.]\n",
            " [1.]\n",
            " [1.]\n",
            " [1.]\n",
            " [1.]\n",
            " [1.]\n",
            " [1.]\n",
            " [1.]\n",
            " [1.]\n",
            " [1.]\n",
            " [1.]\n",
            " [1.]\n",
            " [1.]\n",
            " [0.]\n",
            " [1.]\n",
            " [1.]\n",
            " [0.]\n",
            " [1.]\n",
            " [1.]\n",
            " [0.]\n",
            " [1.]\n",
            " [1.]\n",
            " [1.]\n",
            " [1.]\n",
            " [1.]\n",
            " [1.]\n",
            " [1.]\n",
            " [1.]\n",
            " [1.]\n",
            " [1.]\n",
            " [1.]\n",
            " [1.]\n",
            " [1.]\n",
            " [1.]\n",
            " [1.]\n",
            " [1.]\n",
            " [1.]\n",
            " [1.]\n",
            " [1.]\n",
            " [1.]\n",
            " [1.]\n",
            " [1.]\n",
            " [1.]\n",
            " [0.]\n",
            " [1.]\n",
            " [1.]\n",
            " [1.]\n",
            " [1.]\n",
            " [1.]\n",
            " [0.]\n",
            " [1.]\n",
            " [0.]\n",
            " [1.]\n",
            " [1.]\n",
            " [1.]\n",
            " [1.]\n",
            " [1.]\n",
            " [1.]\n",
            " [1.]\n",
            " [1.]\n",
            " [1.]\n",
            " [1.]\n",
            " [1.]\n",
            " [1.]\n",
            " [1.]\n",
            " [1.]\n",
            " [1.]\n",
            " [1.]\n",
            " [1.]\n",
            " [1.]\n",
            " [1.]\n",
            " [1.]\n",
            " [1.]\n",
            " [1.]\n",
            " [1.]\n",
            " [1.]\n",
            " [1.]\n",
            " [1.]\n",
            " [1.]\n",
            " [1.]\n",
            " [1.]\n",
            " [1.]\n",
            " [1.]\n",
            " [1.]\n",
            " [1.]\n",
            " [1.]\n",
            " [1.]\n",
            " [1.]\n",
            " [1.]\n",
            " [1.]\n",
            " [1.]\n",
            " [0.]\n",
            " [0.]\n",
            " [1.]\n",
            " [1.]\n",
            " [1.]\n",
            " [1.]\n",
            " [1.]\n",
            " [1.]\n",
            " [1.]\n",
            " [1.]\n",
            " [1.]\n",
            " [1.]\n",
            " [1.]\n",
            " [1.]\n",
            " [0.]\n",
            " [0.]\n",
            " [0.]\n",
            " [1.]\n",
            " [0.]\n",
            " [0.]\n",
            " [1.]\n",
            " [1.]\n",
            " [1.]\n",
            " [1.]\n",
            " [1.]\n",
            " [1.]\n",
            " [1.]]\n"
          ]
        }
      ],
      "source": [
        "y_predict3_2=model3.predict(x_test)\n",
        "Y_predict3_2=np.float32(y_predict3_2>0.50)\n",
        "l=len(y_test)\n",
        "Y_predict3_2=np.reshape(Y_predict3_2,(l,1))\n",
        "print(Y_predict3_2)"
      ]
    },
    {
      "cell_type": "code",
      "execution_count": null,
      "metadata": {
        "id": "w5S9UorZHQcx"
      },
      "outputs": [],
      "source": [
        "from sklearn.metrics import auc,roc_curve\n",
        "from sklearn.metrics import f1_score\n",
        "from sklearn.metrics import cohen_kappa_score\n",
        "from sklearn.metrics import accuracy_score\n",
        "f13 = f1_score(y_test, Y_predict3_2)\n",
        "test_accuracy3 = accuracy_score(y_test, Y_predict3_2)\n",
        "kappa3 = cohen_kappa_score(y_test, Y_predict3_2)\n",
        "auc3 = roc_auc_score(y_test, Y_predict3_2)"
      ]
    },
    {
      "cell_type": "code",
      "execution_count": null,
      "metadata": {
        "colab": {
          "base_uri": "https://localhost:8080/"
        },
        "id": "b6LRHnIjHdEW",
        "outputId": "89df3727-cd5d-4d09-ac3c-b9ddf287603c"
      },
      "outputs": [
        {
          "name": "stdout",
          "output_type": "stream",
          "text": [
            "0.5771198830409358\n",
            "0.7081339712918661\n",
            "0.15752146323254956\n",
            "0.5878378378378378\n"
          ]
        }
      ],
      "source": [
        "print(auc3)\n",
        "print(f13)\n",
        "print(kappa3)\n",
        "print(test_accuracy3)"
      ]
    },
    {
      "attachments": {},
      "cell_type": "markdown",
      "metadata": {
        "id": "mSyJtPj75etm"
      },
      "source": [
        "# CNN 5 Layer"
      ]
    },
    {
      "cell_type": "code",
      "execution_count": null,
      "metadata": {
        "colab": {
          "base_uri": "https://localhost:8080/"
        },
        "id": "G-ID0CiT5i9N",
        "outputId": "c341b939-82cf-4d92-a005-e44e59a957f0"
      },
      "outputs": [
        {
          "name": "stdout",
          "output_type": "stream",
          "text": [
            "Model: \"sequential_1\"\n",
            "_________________________________________________________________\n",
            " Layer (type)                Output Shape              Param #   \n",
            "=================================================================\n",
            " conv2d_5 (Conv2D)           (None, 222, 222, 32)      896       \n",
            "                                                                 \n",
            " dropout_5 (Dropout)         (None, 222, 222, 32)      0         \n",
            "                                                                 \n",
            " conv2d_6 (Conv2D)           (None, 220, 220, 32)      9248      \n",
            "                                                                 \n",
            " max_pooling2d_3 (MaxPooling  (None, 110, 110, 32)     0         \n",
            " 2D)                                                             \n",
            "                                                                 \n",
            " dropout_6 (Dropout)         (None, 110, 110, 32)      0         \n",
            "                                                                 \n",
            " conv2d_7 (Conv2D)           (None, 108, 108, 32)      9248      \n",
            "                                                                 \n",
            " dropout_7 (Dropout)         (None, 108, 108, 32)      0         \n",
            "                                                                 \n",
            " conv2d_8 (Conv2D)           (None, 106, 106, 32)      9248      \n",
            "                                                                 \n",
            " max_pooling2d_4 (MaxPooling  (None, 53, 53, 32)       0         \n",
            " 2D)                                                             \n",
            "                                                                 \n",
            " dropout_8 (Dropout)         (None, 53, 53, 32)        0         \n",
            "                                                                 \n",
            " conv2d_9 (Conv2D)           (None, 51, 51, 32)        9248      \n",
            "                                                                 \n",
            " max_pooling2d_5 (MaxPooling  (None, 25, 25, 32)       0         \n",
            " 2D)                                                             \n",
            "                                                                 \n",
            " dropout_9 (Dropout)         (None, 25, 25, 32)        0         \n",
            "                                                                 \n",
            " flatten_1 (Flatten)         (None, 20000)             0         \n",
            "                                                                 \n",
            " dense_2 (Dense)             (None, 256)               5120256   \n",
            "                                                                 \n",
            " dense_3 (Dense)             (None, 1)                 257       \n",
            "                                                                 \n",
            "=================================================================\n",
            "Total params: 5,158,401\n",
            "Trainable params: 5,158,401\n",
            "Non-trainable params: 0\n",
            "_________________________________________________________________\n"
          ]
        }
      ],
      "source": [
        "model4 = tf.keras.models.Sequential([\n",
        "    tf.keras.layers.Conv2D(32, (3,3), activation='relu', input_shape=(224,224,3)),\n",
        "    tf.keras.layers.Dropout(0.25),\n",
        "\n",
        "    tf.keras.layers.Conv2D(32, (3,3), activation='relu'),\n",
        "    tf.keras.layers.MaxPooling2D(pool_size=(2,2)),\n",
        "    tf.keras.layers.Dropout(0.25),\n",
        "\n",
        "    tf.keras.layers.Conv2D(32, (3,3), activation='relu'),\n",
        "    tf.keras.layers.Dropout(0.25),\n",
        "\n",
        "    tf.keras.layers.Conv2D(32, (3,3), activation='relu'),\n",
        "    tf.keras.layers.MaxPooling2D(pool_size=(2,2)),\n",
        "    tf.keras.layers.Dropout(0.25),\n",
        "\n",
        "    tf.keras.layers.Conv2D(32, (3,3), activation='relu'),\n",
        "    tf.keras.layers.MaxPooling2D(pool_size=(2,2)),\n",
        "    tf.keras.layers.Dropout(0.25),\n",
        "\n",
        "    tf.keras.layers.Flatten(),\n",
        "    tf.keras.layers.Dense(256, activation='relu'),\n",
        "\n",
        "    tf.keras.layers.Dense(1, activation='sigmoid')\n",
        "])\n",
        "model4.summary()"
      ]
    },
    {
      "cell_type": "code",
      "execution_count": null,
      "metadata": {
        "id": "tEpddZ-1FvdS"
      },
      "outputs": [],
      "source": [
        "model4.compile(loss='binary_crossentropy',\n",
        "              optimizer='adam',\n",
        "              metrics=['accuracy','AUC','Precision','Recall'])"
      ]
    },
    {
      "cell_type": "code",
      "execution_count": null,
      "metadata": {
        "id": "rv4qY0GGGJaX"
      },
      "outputs": [],
      "source": [
        "from tensorflow.keras.callbacks import ModelCheckpoint, EarlyStopping\n",
        "es=EarlyStopping(patience=3,monitor='val_loss')\n",
        "filepath='best_model.h54'\n",
        "checkpoint = ModelCheckpoint(filepath, monitor='val_accuracy', verbose=1, save_best_only=True, mode='max')"
      ]
    },
    {
      "cell_type": "code",
      "execution_count": null,
      "metadata": {
        "colab": {
          "base_uri": "https://localhost:8080/"
        },
        "id": "zeNPHibNGWO0",
        "outputId": "3af28542-74a7-450b-d5aa-742d59331426"
      },
      "outputs": [
        {
          "name": "stdout",
          "output_type": "stream",
          "text": [
            "Fold 1\n",
            "Epoch 1/10\n",
            "36/36 [==============================] - ETA: 0s - loss: 1.2804 - accuracy: 0.5018 - auc: 0.5197 - precision: 0.5217 - recall: 0.0635\n",
            "Epoch 1: val_accuracy improved from -inf to 0.50000, saving model to best_model.h54\n"
          ]
        },
        {
          "name": "stderr",
          "output_type": "stream",
          "text": [
            "WARNING:absl:Found untraced functions such as _jit_compiled_convolution_op, _jit_compiled_convolution_op, _jit_compiled_convolution_op, _jit_compiled_convolution_op, _jit_compiled_convolution_op while saving (showing 5 of 5). These functions will not be directly callable after loading.\n"
          ]
        },
        {
          "name": "stdout",
          "output_type": "stream",
          "text": [
            "\b\b\b\b\b\b\b\b\b\b\b\b\b\b\b\b\b\b\b\b\b\b\b\b\b\b\b\b\b\b\b\b\b\b\b\b\b\b\b\b\b\b\b\b\b\b\b\b\b\b\b\b\b\b\b\b\b\b\b\b\b\b\b\b\b\b\b\b\b\b\b\b\b\b\b\b\b\b\b\b\b\b\b\b\b\b\b\b\b\b\b\b\b\b\b\b\b\b\b\b\b\b\b\b\b\b\b\b\b\b\b\b\b\b\b\b\b\b\b\b\b\b\b\b\b\b\b\b\b\b\b\b\b\r36/36 [==============================] - 31s 483ms/step - loss: 1.2804 - accuracy: 0.5018 - auc: 0.5197 - precision: 0.5217 - recall: 0.0635 - val_loss: 0.6910 - val_accuracy: 0.5000 - val_auc: 0.6739 - val_precision: 0.0000e+00 - val_recall: 0.0000e+00\n",
            "Epoch 2/10\n",
            "36/36 [==============================] - ETA: 0s - loss: 0.6937 - accuracy: 0.4841 - auc: 0.5024 - precision: 0.4868 - recall: 0.5538\n",
            "Epoch 2: val_accuracy did not improve from 0.50000\n",
            "36/36 [==============================] - 15s 404ms/step - loss: 0.6937 - accuracy: 0.4841 - auc: 0.5024 - precision: 0.4868 - recall: 0.5538 - val_loss: 0.6930 - val_accuracy: 0.5000 - val_auc: 0.5000 - val_precision: 0.5000 - val_recall: 1.0000\n",
            "Epoch 3/10\n",
            "36/36 [==============================] - ETA: 0s - loss: 0.6922 - accuracy: 0.5027 - auc: 0.5334 - precision: 0.5200 - recall: 0.0917\n",
            "Epoch 3: val_accuracy improved from 0.50000 to 0.63000, saving model to best_model.h54\n"
          ]
        },
        {
          "name": "stderr",
          "output_type": "stream",
          "text": [
            "WARNING:absl:Found untraced functions such as _jit_compiled_convolution_op, _jit_compiled_convolution_op, _jit_compiled_convolution_op, _jit_compiled_convolution_op, _jit_compiled_convolution_op while saving (showing 5 of 5). These functions will not be directly callable after loading.\n"
          ]
        },
        {
          "name": "stdout",
          "output_type": "stream",
          "text": [
            "\b\b\b\b\b\b\b\b\b\b\b\b\b\b\b\b\b\b\b\b\b\b\b\b\b\b\b\b\b\b\b\b\b\b\b\b\b\b\b\b\b\b\b\b\b\b\b\b\b\b\b\b\b\b\b\b\b\b\b\b\b\b\b\b\b\b\b\b\b\b\b\b\b\b\b\b\b\b\b\b\b\b\b\b\b\b\b\b\b\b\b\b\b\b\b\b\b\b\b\b\b\b\b\b\b\b\b\b\b\b\b\b\b\b\b\b\b\b\b\b\b\b\b\b\b\b\b\b\b\b\b\b\b\r36/36 [==============================] - 17s 470ms/step - loss: 0.6922 - accuracy: 0.5027 - auc: 0.5334 - precision: 0.5200 - recall: 0.0917 - val_loss: 0.6900 - val_accuracy: 0.6300 - val_auc: 0.6123 - val_precision: 0.6300 - val_recall: 0.6300\n",
            "Epoch 4/10\n",
            "36/36 [==============================] - ETA: 0s - loss: 0.6768 - accuracy: 0.5680 - auc: 0.5982 - precision: 0.5712 - recall: 0.5520\n",
            "Epoch 4: val_accuracy did not improve from 0.63000\n",
            "36/36 [==============================] - 15s 401ms/step - loss: 0.6768 - accuracy: 0.5680 - auc: 0.5982 - precision: 0.5712 - recall: 0.5520 - val_loss: 0.6903 - val_accuracy: 0.5500 - val_auc: 0.5256 - val_precision: 0.5287 - val_recall: 0.9200\n",
            "Epoch 5/10\n",
            "36/36 [==============================] - ETA: 0s - loss: 0.6777 - accuracy: 0.5698 - auc: 0.5973 - precision: 0.5735 - recall: 0.5503\n",
            "Epoch 5: val_accuracy did not improve from 0.63000\n",
            "36/36 [==============================] - 15s 405ms/step - loss: 0.6777 - accuracy: 0.5698 - auc: 0.5973 - precision: 0.5735 - recall: 0.5503 - val_loss: 0.6882 - val_accuracy: 0.6000 - val_auc: 0.5185 - val_precision: 0.5625 - val_recall: 0.9000\n",
            "Epoch 6/10\n",
            "36/36 [==============================] - ETA: 0s - loss: 0.6729 - accuracy: 0.5671 - auc: 0.6033 - precision: 0.5626 - recall: 0.6102\n",
            "Epoch 6: val_accuracy did not improve from 0.63000\n",
            "36/36 [==============================] - 15s 404ms/step - loss: 0.6729 - accuracy: 0.5671 - auc: 0.6033 - precision: 0.5626 - recall: 0.6102 - val_loss: 0.6889 - val_accuracy: 0.5650 - val_auc: 0.5751 - val_precision: 0.5363 - val_recall: 0.9600\n",
            "Epoch 7/10\n",
            "36/36 [==============================] - ETA: 0s - loss: 0.6738 - accuracy: 0.5769 - auc: 0.6144 - precision: 0.5891 - recall: 0.5132\n",
            "Epoch 7: val_accuracy did not improve from 0.63000\n",
            "36/36 [==============================] - 16s 452ms/step - loss: 0.6738 - accuracy: 0.5769 - auc: 0.6144 - precision: 0.5891 - recall: 0.5132 - val_loss: 0.6793 - val_accuracy: 0.5750 - val_auc: 0.6011 - val_precision: 0.5600 - val_recall: 0.7000\n",
            "Epoch 8/10\n",
            "36/36 [==============================] - ETA: 0s - loss: 0.6691 - accuracy: 0.5919 - auc: 0.6226 - precision: 0.5923 - recall: 0.5944\n",
            "Epoch 8: val_accuracy did not improve from 0.63000\n",
            "36/36 [==============================] - 15s 404ms/step - loss: 0.6691 - accuracy: 0.5919 - auc: 0.6226 - precision: 0.5923 - recall: 0.5944 - val_loss: 0.6865 - val_accuracy: 0.5700 - val_auc: 0.5915 - val_precision: 0.5393 - val_recall: 0.9600\n",
            "Epoch 9/10\n",
            "36/36 [==============================] - ETA: 0s - loss: 0.6578 - accuracy: 0.6122 - auc: 0.6490 - precision: 0.6022 - recall: 0.6649\n",
            "Epoch 9: val_accuracy did not improve from 0.63000\n",
            "36/36 [==============================] - 15s 410ms/step - loss: 0.6578 - accuracy: 0.6122 - auc: 0.6490 - precision: 0.6022 - recall: 0.6649 - val_loss: 0.6719 - val_accuracy: 0.6100 - val_auc: 0.6702 - val_precision: 0.6279 - val_recall: 0.5400\n",
            "Epoch 10/10\n",
            "36/36 [==============================] - ETA: 0s - loss: 0.6493 - accuracy: 0.6210 - auc: 0.6678 - precision: 0.6312 - recall: 0.5855\n",
            "Epoch 10: val_accuracy improved from 0.63000 to 0.66500, saving model to best_model.h54\n"
          ]
        },
        {
          "name": "stderr",
          "output_type": "stream",
          "text": [
            "WARNING:absl:Found untraced functions such as _jit_compiled_convolution_op, _jit_compiled_convolution_op, _jit_compiled_convolution_op, _jit_compiled_convolution_op, _jit_compiled_convolution_op while saving (showing 5 of 5). These functions will not be directly callable after loading.\n"
          ]
        },
        {
          "name": "stdout",
          "output_type": "stream",
          "text": [
            "36/36 [==============================] - 17s 460ms/step - loss: 0.6493 - accuracy: 0.6210 - auc: 0.6678 - precision: 0.6312 - recall: 0.5855 - val_loss: 0.6778 - val_accuracy: 0.6650 - val_auc: 0.7381 - val_precision: 0.6122 - val_recall: 0.9000\n",
            "7/7 [==============================] - 0s 28ms/step\n"
          ]
        }
      ],
      "source": [
        "for j,(train_idx,val_idx) in enumerate(folds):\n",
        "    print(\"Fold \"+str(j+1))\n",
        "\n",
        "    x_train=X_dataset[train_idx]\n",
        "    y_train=Y_dataset[train_idx]\n",
        "    x_val=X_dataset[val_idx]\n",
        "    y_val=Y_dataset[val_idx]\n",
        "    history=model4.fit(train_datagen.flow(x_train,y_train),epochs=10,validation_data=(x_val,y_val),callbacks=checkpoint)\n",
        "    y_predict4_1=model4.predict(x_val)\n",
        "    Y_predict4_1=np.float32(y_predict4_1>0.50)\n",
        "    l=len(y_val)\n",
        "    Y_predict4_1=np.reshape(Y_predict4_1,(l,1))"
      ]
    },
    {
      "cell_type": "code",
      "execution_count": null,
      "metadata": {
        "colab": {
          "base_uri": "https://localhost:8080/"
        },
        "id": "58BSeQu6Gu0-",
        "outputId": "34a1a37d-2878-4c73-a66b-3ee236a73f2b"
      },
      "outputs": [
        {
          "name": "stdout",
          "output_type": "stream",
          "text": [
            "36/36 [==============================] - 13s 352ms/step - loss: 0.6782 - accuracy: 0.6025 - auc: 0.6816 - precision: 0.5673 - recall: 0.8695\n",
            "7/7 [==============================] - 2s 279ms/step - loss: 0.6799 - accuracy: 0.6200 - auc: 0.7044 - precision: 0.5750 - recall: 0.9200\n"
          ]
        },
        {
          "data": {
            "text/plain": [
              "[0.6799482107162476,\n",
              " 0.6200000047683716,\n",
              " 0.7044000029563904,\n",
              " 0.574999988079071,\n",
              " 0.9200000166893005]"
            ]
          },
          "execution_count": 35,
          "metadata": {},
          "output_type": "execute_result"
        }
      ],
      "source": [
        "model4.evaluate(train_datagen.flow(x_train,y_train))\n",
        "model4.evaluate(val_datagen.flow(x_val,y_val))"
      ]
    },
    {
      "cell_type": "code",
      "execution_count": null,
      "metadata": {
        "colab": {
          "base_uri": "https://localhost:8080/"
        },
        "id": "Z1OJJJezG8Y7",
        "outputId": "ed57b59e-eba4-4049-aaa1-36e0f9369591"
      },
      "outputs": [
        {
          "name": "stdout",
          "output_type": "stream",
          "text": [
            "5/5 [==============================] - 1s 121ms/step\n",
            "[[1.]\n",
            " [1.]\n",
            " [0.]\n",
            " [1.]\n",
            " [0.]\n",
            " [1.]\n",
            " [1.]\n",
            " [1.]\n",
            " [1.]\n",
            " [1.]\n",
            " [0.]\n",
            " [0.]\n",
            " [0.]\n",
            " [1.]\n",
            " [1.]\n",
            " [1.]\n",
            " [1.]\n",
            " [1.]\n",
            " [0.]\n",
            " [0.]\n",
            " [1.]\n",
            " [1.]\n",
            " [1.]\n",
            " [1.]\n",
            " [1.]\n",
            " [1.]\n",
            " [0.]\n",
            " [0.]\n",
            " [1.]\n",
            " [1.]\n",
            " [1.]\n",
            " [1.]\n",
            " [1.]\n",
            " [1.]\n",
            " [1.]\n",
            " [0.]\n",
            " [1.]\n",
            " [1.]\n",
            " [1.]\n",
            " [0.]\n",
            " [0.]\n",
            " [1.]\n",
            " [1.]\n",
            " [1.]\n",
            " [1.]\n",
            " [1.]\n",
            " [0.]\n",
            " [0.]\n",
            " [1.]\n",
            " [1.]\n",
            " [1.]\n",
            " [1.]\n",
            " [1.]\n",
            " [1.]\n",
            " [1.]\n",
            " [1.]\n",
            " [0.]\n",
            " [1.]\n",
            " [1.]\n",
            " [1.]\n",
            " [1.]\n",
            " [1.]\n",
            " [1.]\n",
            " [1.]\n",
            " [1.]\n",
            " [1.]\n",
            " [1.]\n",
            " [1.]\n",
            " [1.]\n",
            " [1.]\n",
            " [0.]\n",
            " [1.]\n",
            " [1.]\n",
            " [1.]\n",
            " [1.]\n",
            " [0.]\n",
            " [1.]\n",
            " [1.]\n",
            " [1.]\n",
            " [1.]\n",
            " [1.]\n",
            " [1.]\n",
            " [1.]\n",
            " [1.]\n",
            " [0.]\n",
            " [1.]\n",
            " [1.]\n",
            " [1.]\n",
            " [1.]\n",
            " [1.]\n",
            " [1.]\n",
            " [1.]\n",
            " [1.]\n",
            " [1.]\n",
            " [1.]\n",
            " [1.]\n",
            " [0.]\n",
            " [0.]\n",
            " [1.]\n",
            " [1.]\n",
            " [1.]\n",
            " [0.]\n",
            " [1.]\n",
            " [1.]\n",
            " [1.]\n",
            " [1.]\n",
            " [1.]\n",
            " [0.]\n",
            " [1.]\n",
            " [1.]\n",
            " [1.]\n",
            " [1.]\n",
            " [1.]\n",
            " [1.]\n",
            " [1.]\n",
            " [0.]\n",
            " [0.]\n",
            " [0.]\n",
            " [0.]\n",
            " [1.]\n",
            " [1.]\n",
            " [1.]\n",
            " [1.]\n",
            " [0.]\n",
            " [1.]\n",
            " [1.]\n",
            " [1.]\n",
            " [1.]\n",
            " [1.]\n",
            " [1.]\n",
            " [0.]\n",
            " [1.]\n",
            " [1.]\n",
            " [0.]\n",
            " [1.]\n",
            " [1.]\n",
            " [1.]\n",
            " [1.]\n",
            " [1.]\n",
            " [1.]\n",
            " [1.]\n",
            " [1.]\n",
            " [1.]\n",
            " [1.]\n",
            " [1.]\n",
            " [1.]\n",
            " [1.]\n",
            " [1.]]\n"
          ]
        }
      ],
      "source": [
        "y_predict4_1=model4.predict(x_test)\n",
        "Y_predict4_1=np.float32(y_predict4_1>0.50)\n",
        "l=len(y_test)\n",
        "Y_predict4_1=np.reshape(Y_predict4_1,(l,1))\n",
        "print(Y_predict4_1)"
      ]
    },
    {
      "cell_type": "code",
      "execution_count": null,
      "metadata": {
        "id": "y_9aewIDHRZ-"
      },
      "outputs": [],
      "source": [
        "from sklearn.metrics import auc,roc_curve\n",
        "from sklearn.metrics import f1_score\n",
        "from sklearn.metrics import cohen_kappa_score\n",
        "from sklearn.metrics import accuracy_score\n",
        "f14 = f1_score(y_test, Y_predict4_1)\n",
        "test_accuracy4 = accuracy_score(y_test, Y_predict4_1)\n",
        "kappa4 = cohen_kappa_score(y_test, Y_predict4_1)\n",
        "auc4 = roc_auc_score(y_test, Y_predict4_1)"
      ]
    },
    {
      "cell_type": "code",
      "execution_count": null,
      "metadata": {
        "colab": {
          "base_uri": "https://localhost:8080/"
        },
        "id": "e4CifsxuHeDZ",
        "outputId": "388a8d03-5cb6-4725-c4c4-e0f4649b445b"
      },
      "outputs": [
        {
          "name": "stdout",
          "output_type": "stream",
          "text": [
            "0.5966371027346636\n",
            "0.7263681592039802\n",
            "0.20445660672400312\n",
            "0.6283783783783784\n"
          ]
        }
      ],
      "source": [
        "print(auc4)\n",
        "print(f14)\n",
        "print(kappa4)\n",
        "print(test_accuracy4)"
      ]
    },
    {
      "attachments": {},
      "cell_type": "markdown",
      "metadata": {
        "id": "cIm_iCSKts74"
      },
      "source": [
        "# CNN 6 Layer"
      ]
    },
    {
      "cell_type": "code",
      "execution_count": null,
      "metadata": {
        "colab": {
          "base_uri": "https://localhost:8080/"
        },
        "id": "GS793NpAtvqO",
        "outputId": "fca05e9d-134e-4abf-86ae-90228cb09dc6"
      },
      "outputs": [
        {
          "name": "stdout",
          "output_type": "stream",
          "text": [
            "Model: \"sequential_1\"\n",
            "_________________________________________________________________\n",
            " Layer (type)                Output Shape              Param #   \n",
            "=================================================================\n",
            " conv2d_7 (Conv2D)           (None, 222, 222, 32)      896       \n",
            "                                                                 \n",
            " conv2d_8 (Conv2D)           (None, 220, 220, 32)      9248      \n",
            "                                                                 \n",
            " max_pooling2d_4 (MaxPooling  (None, 110, 110, 32)     0         \n",
            " 2D)                                                             \n",
            "                                                                 \n",
            " conv2d_9 (Conv2D)           (None, 108, 108, 32)      9248      \n",
            "                                                                 \n",
            " conv2d_10 (Conv2D)          (None, 106, 106, 32)      9248      \n",
            "                                                                 \n",
            " max_pooling2d_5 (MaxPooling  (None, 53, 53, 32)       0         \n",
            " 2D)                                                             \n",
            "                                                                 \n",
            " conv2d_11 (Conv2D)          (None, 51, 51, 32)        9248      \n",
            "                                                                 \n",
            " conv2d_12 (Conv2D)          (None, 49, 49, 32)        9248      \n",
            "                                                                 \n",
            " max_pooling2d_6 (MaxPooling  (None, 24, 24, 32)       0         \n",
            " 2D)                                                             \n",
            "                                                                 \n",
            " flatten_1 (Flatten)         (None, 18432)             0         \n",
            "                                                                 \n",
            " dense_2 (Dense)             (None, 256)               4718848   \n",
            "                                                                 \n",
            " dropout_1 (Dropout)         (None, 256)               0         \n",
            "                                                                 \n",
            " dense_3 (Dense)             (None, 1)                 257       \n",
            "                                                                 \n",
            "=================================================================\n",
            "Total params: 4,766,241\n",
            "Trainable params: 4,766,241\n",
            "Non-trainable params: 0\n",
            "_________________________________________________________________\n"
          ]
        }
      ],
      "source": [
        "model5 = tf.keras.models.Sequential([\n",
        "    tf.keras.layers.Conv2D(32, (3,3), activation='relu', input_shape=(224,224,3)),\n",
        "    tf.keras.layers.Conv2D(32, (3,3), activation='relu'),\n",
        "    tf.keras.layers.MaxPooling2D(pool_size=(2,2)),\n",
        "\n",
        "    tf.keras.layers.Conv2D(32, (3,3), activation='relu'),\n",
        "    tf.keras.layers.Conv2D(32, (3,3), activation='relu'),\n",
        "    tf.keras.layers.MaxPooling2D(pool_size=(2,2)),\n",
        "\n",
        "    tf.keras.layers.Conv2D(32, (3,3), activation='relu'),\n",
        "    tf.keras.layers.Conv2D(32, (3,3), activation='relu'),\n",
        "    tf.keras.layers.MaxPooling2D(pool_size=(2,2)),\n",
        "\n",
        "    tf.keras.layers.Flatten(),\n",
        "    tf.keras.layers.Dense(256, activation='relu'),\n",
        "    tf.keras.layers.Dropout(0.5),\n",
        "\n",
        "    tf.keras.layers.Dense(1, activation='sigmoid')\n",
        "])\n",
        "model5.summary()"
      ]
    },
    {
      "cell_type": "code",
      "execution_count": null,
      "metadata": {
        "id": "-kY__9KdFxFB"
      },
      "outputs": [],
      "source": [
        "model5.compile(loss='binary_crossentropy',\n",
        "              optimizer='adam',\n",
        "              metrics=['accuracy','AUC','Precision','Recall'])"
      ]
    },
    {
      "cell_type": "code",
      "execution_count": null,
      "metadata": {
        "id": "YbU44YQBGKQo"
      },
      "outputs": [],
      "source": [
        "from tensorflow.keras.callbacks import ModelCheckpoint, EarlyStopping\n",
        "es=EarlyStopping(patience=3,monitor='val_loss')\n",
        "filepath='best_model.h55'\n",
        "checkpoint = ModelCheckpoint(filepath, monitor='val_accuracy', verbose=1, save_best_only=True, mode='max')"
      ]
    },
    {
      "cell_type": "code",
      "execution_count": null,
      "metadata": {
        "colab": {
          "base_uri": "https://localhost:8080/"
        },
        "id": "3JqJOQyhGXEP",
        "outputId": "1c5a5d05-3d13-494f-e7fd-32e63b52e76d"
      },
      "outputs": [
        {
          "name": "stdout",
          "output_type": "stream",
          "text": [
            "Fold 1\n",
            "Epoch 1/10\n",
            "36/36 [==============================] - ETA: 0s - loss: 0.7140 - accuracy: 0.5186 - auc: 0.5346 - precision: 0.5332 - recall: 0.3794\n",
            "Epoch 1: val_accuracy improved from -inf to 0.52500, saving model to best_model.h55\n"
          ]
        },
        {
          "name": "stderr",
          "output_type": "stream",
          "text": [
            "WARNING:absl:Found untraced functions such as _jit_compiled_convolution_op, _jit_compiled_convolution_op, _jit_compiled_convolution_op, _jit_compiled_convolution_op, _jit_compiled_convolution_op while saving (showing 5 of 6). These functions will not be directly callable after loading.\n"
          ]
        },
        {
          "name": "stdout",
          "output_type": "stream",
          "text": [
            "\b\b\b\b\b\b\b\b\b\b\b\b\b\b\b\b\b\b\b\b\b\b\b\b\b\b\b\b\b\b\b\b\b\b\b\b\b\b\b\b\b\b\b\b\b\b\b\b\b\b\b\b\b\b\b\b\b\b\b\b\b\b\b\b\b\b\b\b\b\b\b\b\b\b\b\b\b\b\b\b\b\b\b\b\b\b\b\b\b\b\b\b\b\b\b\b\b\b\b\b\b\b\b\b\b\b\b\b\b\b\b\b\b\b\b\b\b\b\b\b\b\b\b\b\b\b\b\b\b\b\b\b\b\r36/36 [==============================] - 19s 443ms/step - loss: 0.7140 - accuracy: 0.5186 - auc: 0.5346 - precision: 0.5332 - recall: 0.3794 - val_loss: 0.6861 - val_accuracy: 0.5250 - val_auc: 0.6773 - val_precision: 0.0000e+00 - val_recall: 0.0000e+00\n",
            "Epoch 2/10\n",
            "36/36 [==============================] - ETA: 0s - loss: 0.6859 - accuracy: 0.5256 - auc: 0.5704 - precision: 0.5686 - recall: 0.2535\n",
            "Epoch 2: val_accuracy improved from 0.52500 to 0.55500, saving model to best_model.h55\n"
          ]
        },
        {
          "name": "stderr",
          "output_type": "stream",
          "text": [
            "WARNING:absl:Found untraced functions such as _jit_compiled_convolution_op, _jit_compiled_convolution_op, _jit_compiled_convolution_op, _jit_compiled_convolution_op, _jit_compiled_convolution_op while saving (showing 5 of 6). These functions will not be directly callable after loading.\n"
          ]
        },
        {
          "name": "stdout",
          "output_type": "stream",
          "text": [
            "\b\b\b\b\b\b\b\b\b\b\b\b\b\b\b\b\b\b\b\b\b\b\b\b\b\b\b\b\b\b\b\b\b\b\b\b\b\b\b\b\b\b\b\b\b\b\b\b\b\b\b\b\b\b\b\b\b\b\b\b\b\b\b\b\b\b\b\b\b\b\b\b\b\b\b\b\b\b\b\b\b\b\b\b\b\b\b\b\b\b\b\b\b\b\b\b\b\b\b\b\b\b\b\b\b\b\b\b\b\b\b\b\b\b\b\b\b\b\b\b\b\b\b\b\b\b\b\b\b\b\b\b\b\r36/36 [==============================] - 15s 421ms/step - loss: 0.6859 - accuracy: 0.5256 - auc: 0.5704 - precision: 0.5686 - recall: 0.2535 - val_loss: 0.6747 - val_accuracy: 0.5550 - val_auc: 0.6068 - val_precision: 0.5517 - val_recall: 0.3368\n",
            "Epoch 3/10\n",
            "36/36 [==============================] - ETA: 0s - loss: 0.6793 - accuracy: 0.5769 - auc: 0.6033 - precision: 0.5869 - recall: 0.5490\n",
            "Epoch 3: val_accuracy improved from 0.55500 to 0.60500, saving model to best_model.h55\n"
          ]
        },
        {
          "name": "stderr",
          "output_type": "stream",
          "text": [
            "WARNING:absl:Found untraced functions such as _jit_compiled_convolution_op, _jit_compiled_convolution_op, _jit_compiled_convolution_op, _jit_compiled_convolution_op, _jit_compiled_convolution_op while saving (showing 5 of 6). These functions will not be directly callable after loading.\n"
          ]
        },
        {
          "name": "stdout",
          "output_type": "stream",
          "text": [
            "\b\b\b\b\b\b\b\b\b\b\b\b\b\b\b\b\b\b\b\b\b\b\b\b\b\b\b\b\b\b\b\b\b\b\b\b\b\b\b\b\b\b\b\b\b\b\b\b\b\b\b\b\b\b\b\b\b\b\b\b\b\b\b\b\b\b\b\b\b\b\b\b\b\b\b\b\b\b\b\b\b\b\b\b\b\b\b\b\b\b\b\b\b\b\b\b\b\b\b\b\b\b\b\b\b\b\b\b\b\b\b\b\b\b\b\b\b\b\b\b\b\b\b\b\b\b\b\b\b\b\b\b\b\r36/36 [==============================] - 15s 414ms/step - loss: 0.6793 - accuracy: 0.5769 - auc: 0.6033 - precision: 0.5869 - recall: 0.5490 - val_loss: 0.6669 - val_accuracy: 0.6050 - val_auc: 0.6334 - val_precision: 0.5952 - val_recall: 0.5263\n",
            "Epoch 4/10\n",
            "36/36 [==============================] - ETA: 0s - loss: 0.6622 - accuracy: 0.6219 - auc: 0.6534 - precision: 0.6139 - recall: 0.6783\n",
            "Epoch 4: val_accuracy did not improve from 0.60500\n",
            "36/36 [==============================] - 14s 401ms/step - loss: 0.6622 - accuracy: 0.6219 - auc: 0.6534 - precision: 0.6139 - recall: 0.6783 - val_loss: 0.6734 - val_accuracy: 0.5700 - val_auc: 0.6428 - val_precision: 0.5319 - val_recall: 0.7895\n",
            "Epoch 5/10\n",
            "36/36 [==============================] - ETA: 0s - loss: 0.6539 - accuracy: 0.6219 - auc: 0.6612 - precision: 0.6220 - recall: 0.6416\n",
            "Epoch 5: val_accuracy improved from 0.60500 to 0.65000, saving model to best_model.h55\n"
          ]
        },
        {
          "name": "stderr",
          "output_type": "stream",
          "text": [
            "WARNING:absl:Found untraced functions such as _jit_compiled_convolution_op, _jit_compiled_convolution_op, _jit_compiled_convolution_op, _jit_compiled_convolution_op, _jit_compiled_convolution_op while saving (showing 5 of 6). These functions will not be directly callable after loading.\n"
          ]
        },
        {
          "name": "stdout",
          "output_type": "stream",
          "text": [
            "\b\b\b\b\b\b\b\b\b\b\b\b\b\b\b\b\b\b\b\b\b\b\b\b\b\b\b\b\b\b\b\b\b\b\b\b\b\b\b\b\b\b\b\b\b\b\b\b\b\b\b\b\b\b\b\b\b\b\b\b\b\b\b\b\b\b\b\b\b\b\b\b\b\b\b\b\b\b\b\b\b\b\b\b\b\b\b\b\b\b\b\b\b\b\b\b\b\b\b\b\b\b\b\b\b\b\b\b\b\b\b\b\b\b\b\b\b\b\b\b\b\b\b\b\b\b\b\b\b\b\b\b\b\r36/36 [==============================] - 15s 408ms/step - loss: 0.6539 - accuracy: 0.6219 - auc: 0.6612 - precision: 0.6220 - recall: 0.6416 - val_loss: 0.6512 - val_accuracy: 0.6500 - val_auc: 0.6986 - val_precision: 0.7049 - val_recall: 0.4526\n",
            "Epoch 6/10\n",
            "36/36 [==============================] - ETA: 0s - loss: 0.6557 - accuracy: 0.6254 - auc: 0.6669 - precision: 0.6034 - recall: 0.7552\n",
            "Epoch 6: val_accuracy did not improve from 0.65000\n",
            "36/36 [==============================] - 13s 373ms/step - loss: 0.6557 - accuracy: 0.6254 - auc: 0.6669 - precision: 0.6034 - recall: 0.7552 - val_loss: 0.6628 - val_accuracy: 0.6050 - val_auc: 0.6440 - val_precision: 0.5816 - val_recall: 0.6000\n",
            "Epoch 7/10\n",
            "36/36 [==============================] - ETA: 0s - loss: 0.6545 - accuracy: 0.6148 - auc: 0.6618 - precision: 0.6219 - recall: 0.6066\n",
            "Epoch 7: val_accuracy did not improve from 0.65000\n",
            "36/36 [==============================] - 13s 371ms/step - loss: 0.6545 - accuracy: 0.6148 - auc: 0.6618 - precision: 0.6219 - recall: 0.6066 - val_loss: 0.6320 - val_accuracy: 0.6450 - val_auc: 0.7171 - val_precision: 0.6154 - val_recall: 0.6737\n",
            "Epoch 8/10\n",
            "36/36 [==============================] - ETA: 0s - loss: 0.6341 - accuracy: 0.6458 - auc: 0.7039 - precision: 0.6462 - recall: 0.6608\n",
            "Epoch 8: val_accuracy did not improve from 0.65000\n",
            "36/36 [==============================] - 13s 368ms/step - loss: 0.6341 - accuracy: 0.6458 - auc: 0.7039 - precision: 0.6462 - recall: 0.6608 - val_loss: 0.6703 - val_accuracy: 0.6000 - val_auc: 0.6823 - val_precision: 0.6056 - val_recall: 0.4526\n",
            "Epoch 9/10\n",
            "36/36 [==============================] - ETA: 0s - loss: 0.6125 - accuracy: 0.6731 - auc: 0.7312 - precision: 0.6661 - recall: 0.7080\n",
            "Epoch 9: val_accuracy did not improve from 0.65000\n",
            "36/36 [==============================] - 13s 372ms/step - loss: 0.6125 - accuracy: 0.6731 - auc: 0.7312 - precision: 0.6661 - recall: 0.7080 - val_loss: 0.6369 - val_accuracy: 0.6300 - val_auc: 0.7599 - val_precision: 0.5705 - val_recall: 0.8947\n",
            "Epoch 10/10\n",
            "36/36 [==============================] - ETA: 0s - loss: 0.5803 - accuracy: 0.6996 - auc: 0.7639 - precision: 0.6973 - recall: 0.7168\n",
            "Epoch 10: val_accuracy did not improve from 0.65000\n",
            "36/36 [==============================] - 14s 372ms/step - loss: 0.5803 - accuracy: 0.6996 - auc: 0.7639 - precision: 0.6973 - recall: 0.7168 - val_loss: 0.5967 - val_accuracy: 0.6500 - val_auc: 0.7637 - val_precision: 0.6923 - val_recall: 0.4737\n",
            "7/7 [==============================] - 0s 29ms/step\n"
          ]
        }
      ],
      "source": [
        "for j,(train_idx,val_idx) in enumerate(folds):\n",
        "    print(\"Fold \"+str(j+1))\n",
        "\n",
        "    x_train=X_dataset[train_idx]\n",
        "    y_train=Y_dataset[train_idx]\n",
        "    x_val=X_dataset[val_idx]\n",
        "    y_val=Y_dataset[val_idx]\n",
        "    history=model5.fit(train_datagen.flow(x_train,y_train),epochs=10,validation_data=(x_val,y_val),callbacks=checkpoint)\n",
        "    y_predict5_1=model5.predict(x_val)\n",
        "    Y_predict5_1=np.float32(y_predict5_1>0.50)\n",
        "    l=len(y_val)\n",
        "    Y_predict5_1=np.reshape(Y_predict5_1,(l,1))"
      ]
    },
    {
      "cell_type": "code",
      "execution_count": null,
      "metadata": {
        "colab": {
          "base_uri": "https://localhost:8080/"
        },
        "id": "i6iOk-2OGvpC",
        "outputId": "65f6b2c7-1b2f-4a58-baf5-6e0539854ccf"
      },
      "outputs": [
        {
          "name": "stdout",
          "output_type": "stream",
          "text": [
            "36/36 [==============================] - 12s 338ms/step - loss: 0.5564 - accuracy: 0.7076 - auc: 0.7977 - precision: 0.7444 - recall: 0.6416\n",
            "7/7 [==============================] - 2s 275ms/step - loss: 0.5885 - accuracy: 0.6900 - auc: 0.7715 - precision: 0.7200 - recall: 0.5684\n"
          ]
        },
        {
          "data": {
            "text/plain": [
              "[0.5884504914283752,\n",
              " 0.6899999976158142,\n",
              " 0.7715288400650024,\n",
              " 0.7200000286102295,\n",
              " 0.5684210658073425]"
            ]
          },
          "execution_count": 27,
          "metadata": {},
          "output_type": "execute_result"
        }
      ],
      "source": [
        "model5.evaluate(train_datagen.flow(x_train,y_train))\n",
        "model5.evaluate(val_datagen.flow(x_val,y_val))"
      ]
    },
    {
      "cell_type": "code",
      "execution_count": null,
      "metadata": {
        "colab": {
          "base_uri": "https://localhost:8080/"
        },
        "id": "YUGxHAezG9dZ",
        "outputId": "4af83483-0e6c-4d82-d318-94e0cf704bca"
      },
      "outputs": [
        {
          "name": "stdout",
          "output_type": "stream",
          "text": [
            "5/5 [==============================] - 0s 39ms/step\n",
            "[[0.]\n",
            " [0.]\n",
            " [0.]\n",
            " [0.]\n",
            " [1.]\n",
            " [0.]\n",
            " [0.]\n",
            " [0.]\n",
            " [0.]\n",
            " [0.]\n",
            " [1.]\n",
            " [0.]\n",
            " [1.]\n",
            " [1.]\n",
            " [1.]\n",
            " [0.]\n",
            " [1.]\n",
            " [0.]\n",
            " [0.]\n",
            " [1.]\n",
            " [0.]\n",
            " [1.]\n",
            " [0.]\n",
            " [1.]\n",
            " [0.]\n",
            " [0.]\n",
            " [1.]\n",
            " [0.]\n",
            " [1.]\n",
            " [1.]\n",
            " [0.]\n",
            " [1.]\n",
            " [1.]\n",
            " [1.]\n",
            " [1.]\n",
            " [0.]\n",
            " [0.]\n",
            " [1.]\n",
            " [1.]\n",
            " [1.]\n",
            " [0.]\n",
            " [0.]\n",
            " [0.]\n",
            " [1.]\n",
            " [1.]\n",
            " [0.]\n",
            " [0.]\n",
            " [1.]\n",
            " [0.]\n",
            " [0.]\n",
            " [1.]\n",
            " [1.]\n",
            " [0.]\n",
            " [0.]\n",
            " [0.]\n",
            " [0.]\n",
            " [0.]\n",
            " [0.]\n",
            " [0.]\n",
            " [1.]\n",
            " [0.]\n",
            " [1.]\n",
            " [1.]\n",
            " [1.]\n",
            " [1.]\n",
            " [1.]\n",
            " [0.]\n",
            " [1.]\n",
            " [0.]\n",
            " [0.]\n",
            " [0.]\n",
            " [1.]\n",
            " [1.]\n",
            " [0.]\n",
            " [0.]\n",
            " [0.]\n",
            " [0.]\n",
            " [0.]\n",
            " [0.]\n",
            " [1.]\n",
            " [1.]\n",
            " [0.]\n",
            " [1.]\n",
            " [0.]\n",
            " [0.]\n",
            " [1.]\n",
            " [0.]\n",
            " [1.]\n",
            " [1.]\n",
            " [0.]\n",
            " [0.]\n",
            " [1.]\n",
            " [0.]\n",
            " [1.]\n",
            " [0.]\n",
            " [1.]\n",
            " [0.]\n",
            " [1.]\n",
            " [0.]\n",
            " [0.]\n",
            " [0.]\n",
            " [0.]\n",
            " [0.]\n",
            " [0.]\n",
            " [0.]\n",
            " [1.]\n",
            " [0.]\n",
            " [0.]\n",
            " [1.]\n",
            " [1.]\n",
            " [0.]\n",
            " [1.]\n",
            " [0.]\n",
            " [1.]\n",
            " [0.]\n",
            " [1.]\n",
            " [1.]\n",
            " [0.]\n",
            " [1.]\n",
            " [0.]\n",
            " [1.]\n",
            " [0.]\n",
            " [0.]\n",
            " [0.]\n",
            " [1.]\n",
            " [1.]\n",
            " [1.]\n",
            " [1.]\n",
            " [1.]\n",
            " [0.]\n",
            " [0.]\n",
            " [1.]\n",
            " [0.]\n",
            " [1.]\n",
            " [0.]\n",
            " [0.]\n",
            " [0.]\n",
            " [1.]\n",
            " [0.]\n",
            " [0.]\n",
            " [0.]\n",
            " [0.]\n",
            " [0.]\n",
            " [1.]\n",
            " [0.]\n",
            " [1.]\n",
            " [0.]\n",
            " [1.]]\n"
          ]
        }
      ],
      "source": [
        "y_predict5_2=model5.predict(x_test)\n",
        "Y_predict5_2=np.float32(y_predict5_2>0.50)\n",
        "l=len(y_test)\n",
        "Y_predict5_2=np.reshape(Y_predict5_2,(l,1))\n",
        "print(Y_predict5_2)"
      ]
    },
    {
      "cell_type": "code",
      "execution_count": null,
      "metadata": {
        "id": "ANDgmImGHSXK"
      },
      "outputs": [],
      "source": [
        "from sklearn.metrics import auc,roc_curve\n",
        "from sklearn.metrics import f1_score\n",
        "from sklearn.metrics import cohen_kappa_score\n",
        "from sklearn.metrics import accuracy_score\n",
        "f15 = f1_score(y_test, Y_predict5_2)\n",
        "test_accuracy5 = accuracy_score(y_test, Y_predict5_2)\n",
        "kappa5 = cohen_kappa_score(y_test, Y_predict5_2)\n",
        "auc5 = roc_auc_score(y_test, Y_predict5_2)"
      ]
    },
    {
      "cell_type": "code",
      "execution_count": null,
      "metadata": {
        "colab": {
          "base_uri": "https://localhost:8080/"
        },
        "id": "-IvOhFc5HfE1",
        "outputId": "8d970aaa-62b7-49d6-b966-d10d45f641bc"
      },
      "outputs": [
        {
          "name": "stdout",
          "output_type": "stream",
          "text": [
            "0.7276556776556776\n",
            "0.7092198581560284\n",
            "0.45036231884057976\n",
            "0.722972972972973\n"
          ]
        }
      ],
      "source": [
        "print(auc5)\n",
        "print(f15)\n",
        "print(kappa5)\n",
        "print(test_accuracy5)"
      ]
    },
    {
      "attachments": {},
      "cell_type": "markdown",
      "metadata": {
        "id": "I1vfGn6evKzZ"
      },
      "source": [
        "# CNN 7 Layer"
      ]
    },
    {
      "cell_type": "code",
      "execution_count": null,
      "metadata": {
        "colab": {
          "base_uri": "https://localhost:8080/"
        },
        "id": "L7ob7QifvO1t",
        "outputId": "b5c86893-a053-4bbf-ee2e-266a2e780b61"
      },
      "outputs": [
        {
          "name": "stdout",
          "output_type": "stream",
          "text": [
            "Model: \"sequential\"\n",
            "_________________________________________________________________\n",
            " Layer (type)                Output Shape              Param #   \n",
            "=================================================================\n",
            " conv2d (Conv2D)             (None, 222, 222, 32)      896       \n",
            "                                                                 \n",
            " conv2d_1 (Conv2D)           (None, 220, 220, 32)      9248      \n",
            "                                                                 \n",
            " max_pooling2d (MaxPooling2D  (None, 110, 110, 32)     0         \n",
            " )                                                               \n",
            "                                                                 \n",
            " conv2d_2 (Conv2D)           (None, 108, 108, 32)      9248      \n",
            "                                                                 \n",
            " conv2d_3 (Conv2D)           (None, 106, 106, 32)      9248      \n",
            "                                                                 \n",
            " max_pooling2d_1 (MaxPooling  (None, 53, 53, 32)       0         \n",
            " 2D)                                                             \n",
            "                                                                 \n",
            " conv2d_4 (Conv2D)           (None, 51, 51, 32)        9248      \n",
            "                                                                 \n",
            " max_pooling2d_2 (MaxPooling  (None, 25, 25, 32)       0         \n",
            " 2D)                                                             \n",
            "                                                                 \n",
            " conv2d_5 (Conv2D)           (None, 23, 23, 32)        9248      \n",
            "                                                                 \n",
            " conv2d_6 (Conv2D)           (None, 21, 21, 32)        9248      \n",
            "                                                                 \n",
            " max_pooling2d_3 (MaxPooling  (None, 10, 10, 32)       0         \n",
            " 2D)                                                             \n",
            "                                                                 \n",
            " flatten (Flatten)           (None, 3200)              0         \n",
            "                                                                 \n",
            " dense (Dense)               (None, 256)               819456    \n",
            "                                                                 \n",
            " dropout (Dropout)           (None, 256)               0         \n",
            "                                                                 \n",
            " dense_1 (Dense)             (None, 1)                 257       \n",
            "                                                                 \n",
            "=================================================================\n",
            "Total params: 876,097\n",
            "Trainable params: 876,097\n",
            "Non-trainable params: 0\n",
            "_________________________________________________________________\n"
          ]
        }
      ],
      "source": [
        "model6 = tf.keras.models.Sequential([\n",
        "    tf.keras.layers.Conv2D(32, (3,3), activation='relu', input_shape=(224,224,3)),\n",
        "    tf.keras.layers.Conv2D(32, (3,3), activation='relu'),\n",
        "    tf.keras.layers.MaxPooling2D(pool_size=(2,2)),\n",
        "\n",
        "    tf.keras.layers.Conv2D(32, (3,3), activation='relu'),\n",
        "    tf.keras.layers.Conv2D(32, (3,3), activation='relu'),\n",
        "    tf.keras.layers.MaxPooling2D(pool_size=(2,2)),\n",
        "\n",
        "    tf.keras.layers.Conv2D(32, (3,3), activation='relu'),\n",
        "    tf.keras.layers.MaxPooling2D(pool_size=(2,2)),\n",
        "\n",
        "    tf.keras.layers.Conv2D(32, (3,3), activation='relu'),\n",
        "    tf.keras.layers.Conv2D(32, (3,3), activation='relu'),\n",
        "    tf.keras.layers.MaxPooling2D(pool_size=(2,2)),\n",
        "\n",
        "    tf.keras.layers.Flatten(),\n",
        "    tf.keras.layers.Dense(256, activation='relu'),\n",
        "    tf.keras.layers.Dropout(0.5),\n",
        "\n",
        "    tf.keras.layers.Dense(1, activation='sigmoid')\n",
        "])\n",
        "model6.summary()"
      ]
    },
    {
      "cell_type": "code",
      "execution_count": null,
      "metadata": {
        "id": "D_g7IAa7Fybp"
      },
      "outputs": [],
      "source": [
        "model6.compile(loss='binary_crossentropy',\n",
        "              optimizer='adam',\n",
        "              metrics=['accuracy','AUC','Precision','Recall'])"
      ]
    },
    {
      "cell_type": "code",
      "execution_count": null,
      "metadata": {
        "id": "a8wxcv2CGLMj"
      },
      "outputs": [],
      "source": [
        "from tensorflow.keras.callbacks import ModelCheckpoint, EarlyStopping\n",
        "es=EarlyStopping(patience=3,monitor='val_loss')\n",
        "filepath='best_model.h56'\n",
        "checkpoint = ModelCheckpoint(filepath, monitor='val_accuracy', verbose=1, save_best_only=True, mode='max')"
      ]
    },
    {
      "cell_type": "code",
      "execution_count": null,
      "metadata": {
        "colab": {
          "base_uri": "https://localhost:8080/"
        },
        "id": "62ejOPEOGYVM",
        "outputId": "8cc6abd6-120f-4ca4-e6ab-85285b31a240"
      },
      "outputs": [
        {
          "name": "stdout",
          "output_type": "stream",
          "text": [
            "Fold 1\n",
            "Epoch 1/10\n",
            "36/36 [==============================] - ETA: 0s - loss: 0.6939 - accuracy: 0.5230 - auc: 0.5214 - precision: 0.5197 - recall: 0.7378\n",
            "Epoch 1: val_accuracy improved from -inf to 0.52500, saving model to best_model.h56\n"
          ]
        },
        {
          "name": "stderr",
          "output_type": "stream",
          "text": [
            "WARNING:absl:Found untraced functions such as _jit_compiled_convolution_op, _jit_compiled_convolution_op, _jit_compiled_convolution_op, _jit_compiled_convolution_op, _jit_compiled_convolution_op while saving (showing 5 of 7). These functions will not be directly callable after loading.\n"
          ]
        },
        {
          "name": "stdout",
          "output_type": "stream",
          "text": [
            "\b\b\b\b\b\b\b\b\b\b\b\b\b\b\b\b\b\b\b\b\b\b\b\b\b\b\b\b\b\b\b\b\b\b\b\b\b\b\b\b\b\b\b\b\b\b\b\b\b\b\b\b\b\b\b\b\b\b\b\b\b\b\b\b\b\b\b\b\b\b\b\b\b\b\b\b\b\b\b\b\b\b\b\b\b\b\b\b\b\b\b\b\b\b\b\b\b\b\b\b\b\b\b\b\b\b\b\b\b\b\b\b\b\b\b\b\b\b\b\b\b\b\b\b\b\b\b\b\b\b\b\b\b\r36/36 [==============================] - 30s 459ms/step - loss: 0.6939 - accuracy: 0.5230 - auc: 0.5214 - precision: 0.5197 - recall: 0.7378 - val_loss: 0.6882 - val_accuracy: 0.5250 - val_auc: 0.6452 - val_precision: 0.0000e+00 - val_recall: 0.0000e+00\n",
            "Epoch 2/10\n",
            "36/36 [==============================] - ETA: 0s - loss: 0.6881 - accuracy: 0.5477 - auc: 0.5703 - precision: 0.5411 - recall: 0.6906\n",
            "Epoch 2: val_accuracy improved from 0.52500 to 0.61000, saving model to best_model.h56\n"
          ]
        },
        {
          "name": "stderr",
          "output_type": "stream",
          "text": [
            "WARNING:absl:Found untraced functions such as _jit_compiled_convolution_op, _jit_compiled_convolution_op, _jit_compiled_convolution_op, _jit_compiled_convolution_op, _jit_compiled_convolution_op while saving (showing 5 of 7). These functions will not be directly callable after loading.\n"
          ]
        },
        {
          "name": "stdout",
          "output_type": "stream",
          "text": [
            "\b\b\b\b\b\b\b\b\b\b\b\b\b\b\b\b\b\b\b\b\b\b\b\b\b\b\b\b\b\b\b\b\b\b\b\b\b\b\b\b\b\b\b\b\b\b\b\b\b\b\b\b\b\b\b\b\b\b\b\b\b\b\b\b\b\b\b\b\b\b\b\b\b\b\b\b\b\b\b\b\b\b\b\b\b\b\b\b\b\b\b\b\b\b\b\b\b\b\b\b\b\b\b\b\b\b\b\b\b\b\b\b\b\b\b\b\b\b\b\b\b\b\b\b\b\b\b\b\b\b\b\b\b\r36/36 [==============================] - 15s 425ms/step - loss: 0.6881 - accuracy: 0.5477 - auc: 0.5703 - precision: 0.5411 - recall: 0.6906 - val_loss: 0.6726 - val_accuracy: 0.6100 - val_auc: 0.6428 - val_precision: 0.6889 - val_recall: 0.3263\n",
            "Epoch 3/10\n",
            "36/36 [==============================] - ETA: 0s - loss: 0.6790 - accuracy: 0.5751 - auc: 0.5932 - precision: 0.5737 - recall: 0.6189\n",
            "Epoch 3: val_accuracy did not improve from 0.61000\n",
            "36/36 [==============================] - 13s 364ms/step - loss: 0.6790 - accuracy: 0.5751 - auc: 0.5932 - precision: 0.5737 - recall: 0.6189 - val_loss: 0.7021 - val_accuracy: 0.4750 - val_auc: 0.6445 - val_precision: 0.4750 - val_recall: 1.0000\n",
            "Epoch 4/10\n",
            "36/36 [==============================] - ETA: 0s - loss: 0.6941 - accuracy: 0.5371 - auc: 0.5430 - precision: 0.5284 - recall: 0.7797\n",
            "Epoch 4: val_accuracy did not improve from 0.61000\n",
            "36/36 [==============================] - 13s 366ms/step - loss: 0.6941 - accuracy: 0.5371 - auc: 0.5430 - precision: 0.5284 - recall: 0.7797 - val_loss: 0.6816 - val_accuracy: 0.5800 - val_auc: 0.6337 - val_precision: 0.5821 - val_recall: 0.4105\n",
            "Epoch 5/10\n",
            "36/36 [==============================] - ETA: 0s - loss: 0.6876 - accuracy: 0.5177 - auc: 0.5662 - precision: 0.5293 - recall: 0.4108\n",
            "Epoch 5: val_accuracy did not improve from 0.61000\n",
            "36/36 [==============================] - 15s 422ms/step - loss: 0.6876 - accuracy: 0.5177 - auc: 0.5662 - precision: 0.5293 - recall: 0.4108 - val_loss: 0.6797 - val_accuracy: 0.5550 - val_auc: 0.6325 - val_precision: 0.6667 - val_recall: 0.1263\n",
            "Epoch 6/10\n",
            "36/36 [==============================] - ETA: 0s - loss: 0.6917 - accuracy: 0.5212 - auc: 0.5684 - precision: 0.5161 - recall: 0.8409\n",
            "Epoch 6: val_accuracy did not improve from 0.61000\n",
            "36/36 [==============================] - 13s 366ms/step - loss: 0.6917 - accuracy: 0.5212 - auc: 0.5684 - precision: 0.5161 - recall: 0.8409 - val_loss: 0.6942 - val_accuracy: 0.4750 - val_auc: 0.6618 - val_precision: 0.4750 - val_recall: 1.0000\n",
            "Epoch 7/10\n",
            "36/36 [==============================] - ETA: 0s - loss: 0.6802 - accuracy: 0.5530 - auc: 0.5946 - precision: 0.5406 - recall: 0.7675\n",
            "Epoch 7: val_accuracy did not improve from 0.61000\n",
            "36/36 [==============================] - 13s 368ms/step - loss: 0.6802 - accuracy: 0.5530 - auc: 0.5946 - precision: 0.5406 - recall: 0.7675 - val_loss: 0.6830 - val_accuracy: 0.5750 - val_auc: 0.6410 - val_precision: 0.6471 - val_recall: 0.2316\n",
            "Epoch 8/10\n",
            "36/36 [==============================] - ETA: 0s - loss: 0.6714 - accuracy: 0.5733 - auc: 0.6183 - precision: 0.5738 - recall: 0.6049\n",
            "Epoch 8: val_accuracy did not improve from 0.61000\n",
            "36/36 [==============================] - 13s 370ms/step - loss: 0.6714 - accuracy: 0.5733 - auc: 0.6183 - precision: 0.5738 - recall: 0.6049 - val_loss: 0.6669 - val_accuracy: 0.5800 - val_auc: 0.6502 - val_precision: 0.5567 - val_recall: 0.5684\n",
            "Epoch 9/10\n",
            "36/36 [==============================] - ETA: 0s - loss: 0.6576 - accuracy: 0.6078 - auc: 0.6536 - precision: 0.6067 - recall: 0.6364\n",
            "Epoch 9: val_accuracy improved from 0.61000 to 0.63500, saving model to best_model.h56\n"
          ]
        },
        {
          "name": "stderr",
          "output_type": "stream",
          "text": [
            "WARNING:absl:Found untraced functions such as _jit_compiled_convolution_op, _jit_compiled_convolution_op, _jit_compiled_convolution_op, _jit_compiled_convolution_op, _jit_compiled_convolution_op while saving (showing 5 of 7). These functions will not be directly callable after loading.\n"
          ]
        },
        {
          "name": "stdout",
          "output_type": "stream",
          "text": [
            "\b\b\b\b\b\b\b\b\b\b\b\b\b\b\b\b\b\b\b\b\b\b\b\b\b\b\b\b\b\b\b\b\b\b\b\b\b\b\b\b\b\b\b\b\b\b\b\b\b\b\b\b\b\b\b\b\b\b\b\b\b\b\b\b\b\b\b\b\b\b\b\b\b\b\b\b\b\b\b\b\b\b\b\b\b\b\b\b\b\b\b\b\b\b\b\b\b\b\b\b\b\b\b\b\b\b\b\b\b\b\b\b\b\b\b\b\b\b\b\b\b\b\b\b\b\b\b\b\b\b\b\b\b\r36/36 [==============================] - 15s 424ms/step - loss: 0.6576 - accuracy: 0.6078 - auc: 0.6536 - precision: 0.6067 - recall: 0.6364 - val_loss: 0.6595 - val_accuracy: 0.6350 - val_auc: 0.6736 - val_precision: 0.6000 - val_recall: 0.6947\n",
            "Epoch 10/10\n",
            "36/36 [==============================] - ETA: 0s - loss: 0.6523 - accuracy: 0.6263 - auc: 0.6668 - precision: 0.6367 - recall: 0.6066\n",
            "Epoch 10: val_accuracy improved from 0.63500 to 0.65000, saving model to best_model.h56\n"
          ]
        },
        {
          "name": "stderr",
          "output_type": "stream",
          "text": [
            "WARNING:absl:Found untraced functions such as _jit_compiled_convolution_op, _jit_compiled_convolution_op, _jit_compiled_convolution_op, _jit_compiled_convolution_op, _jit_compiled_convolution_op while saving (showing 5 of 7). These functions will not be directly callable after loading.\n"
          ]
        },
        {
          "name": "stdout",
          "output_type": "stream",
          "text": [
            "36/36 [==============================] - 16s 441ms/step - loss: 0.6523 - accuracy: 0.6263 - auc: 0.6668 - precision: 0.6367 - recall: 0.6066 - val_loss: 0.6394 - val_accuracy: 0.6500 - val_auc: 0.7205 - val_precision: 0.7358 - val_recall: 0.4105\n",
            "7/7 [==============================] - 0s 28ms/step\n"
          ]
        }
      ],
      "source": [
        "for j,(train_idx,val_idx) in enumerate(folds):\n",
        "    print(\"Fold \"+str(j+1))\n",
        "\n",
        "    x_train=X_dataset[train_idx]\n",
        "    y_train=Y_dataset[train_idx]\n",
        "    x_val=X_dataset[val_idx]\n",
        "    y_val=Y_dataset[val_idx]\n",
        "    history=model6.fit(train_datagen.flow(x_train,y_train),epochs=10,validation_data=(x_val,y_val),callbacks=checkpoint)\n",
        "    y_predict6_1=model6.predict(x_val)\n",
        "    Y_predict6_1=np.float32(y_predict6_1>0.50)\n",
        "    l=len(y_val)\n",
        "    Y_predict6_1=np.reshape(Y_predict6_1,(l,1))"
      ]
    },
    {
      "cell_type": "code",
      "execution_count": null,
      "metadata": {
        "colab": {
          "base_uri": "https://localhost:8080/"
        },
        "id": "8Wd_9xoiGwhP",
        "outputId": "a8bb0846-764b-4d4f-f0d4-37fae6331f74"
      },
      "outputs": [
        {
          "name": "stdout",
          "output_type": "stream",
          "text": [
            "36/36 [==============================] - 13s 338ms/step - loss: 0.6393 - accuracy: 0.6113 - auc: 0.7090 - precision: 0.6684 - recall: 0.4580\n",
            "7/7 [==============================] - 2s 272ms/step - loss: 0.6439 - accuracy: 0.6150 - auc: 0.6989 - precision: 0.6406 - recall: 0.4316\n"
          ]
        },
        {
          "data": {
            "text/plain": [
              "[0.643887996673584,\n",
              " 0.6150000095367432,\n",
              " 0.6988972425460815,\n",
              " 0.640625,\n",
              " 0.43157893419265747]"
            ]
          },
          "execution_count": 19,
          "metadata": {},
          "output_type": "execute_result"
        }
      ],
      "source": [
        "model6.evaluate(train_datagen.flow(x_train,y_train))\n",
        "model6.evaluate(val_datagen.flow(x_val,y_val))"
      ]
    },
    {
      "cell_type": "code",
      "execution_count": null,
      "metadata": {
        "colab": {
          "base_uri": "https://localhost:8080/"
        },
        "id": "T5PU_wCMG-Tt",
        "outputId": "d44eb8c6-8d09-4dc8-9452-39893fe89fac"
      },
      "outputs": [
        {
          "name": "stdout",
          "output_type": "stream",
          "text": [
            "5/5 [==============================] - 1s 123ms/step\n",
            "[[0.]\n",
            " [0.]\n",
            " [0.]\n",
            " [0.]\n",
            " [1.]\n",
            " [0.]\n",
            " [1.]\n",
            " [1.]\n",
            " [1.]\n",
            " [0.]\n",
            " [1.]\n",
            " [0.]\n",
            " [0.]\n",
            " [0.]\n",
            " [0.]\n",
            " [0.]\n",
            " [1.]\n",
            " [0.]\n",
            " [0.]\n",
            " [0.]\n",
            " [0.]\n",
            " [1.]\n",
            " [0.]\n",
            " [0.]\n",
            " [0.]\n",
            " [0.]\n",
            " [1.]\n",
            " [0.]\n",
            " [1.]\n",
            " [0.]\n",
            " [0.]\n",
            " [0.]\n",
            " [1.]\n",
            " [1.]\n",
            " [1.]\n",
            " [0.]\n",
            " [0.]\n",
            " [0.]\n",
            " [1.]\n",
            " [0.]\n",
            " [1.]\n",
            " [0.]\n",
            " [0.]\n",
            " [0.]\n",
            " [1.]\n",
            " [0.]\n",
            " [0.]\n",
            " [0.]\n",
            " [1.]\n",
            " [0.]\n",
            " [1.]\n",
            " [1.]\n",
            " [1.]\n",
            " [1.]\n",
            " [1.]\n",
            " [0.]\n",
            " [0.]\n",
            " [0.]\n",
            " [0.]\n",
            " [0.]\n",
            " [0.]\n",
            " [0.]\n",
            " [1.]\n",
            " [1.]\n",
            " [0.]\n",
            " [1.]\n",
            " [0.]\n",
            " [1.]\n",
            " [0.]\n",
            " [0.]\n",
            " [0.]\n",
            " [1.]\n",
            " [0.]\n",
            " [0.]\n",
            " [0.]\n",
            " [0.]\n",
            " [1.]\n",
            " [0.]\n",
            " [0.]\n",
            " [0.]\n",
            " [0.]\n",
            " [1.]\n",
            " [1.]\n",
            " [0.]\n",
            " [0.]\n",
            " [1.]\n",
            " [0.]\n",
            " [1.]\n",
            " [1.]\n",
            " [0.]\n",
            " [1.]\n",
            " [1.]\n",
            " [1.]\n",
            " [0.]\n",
            " [0.]\n",
            " [1.]\n",
            " [0.]\n",
            " [1.]\n",
            " [0.]\n",
            " [0.]\n",
            " [0.]\n",
            " [0.]\n",
            " [0.]\n",
            " [0.]\n",
            " [1.]\n",
            " [0.]\n",
            " [0.]\n",
            " [0.]\n",
            " [0.]\n",
            " [1.]\n",
            " [0.]\n",
            " [0.]\n",
            " [0.]\n",
            " [1.]\n",
            " [0.]\n",
            " [1.]\n",
            " [1.]\n",
            " [0.]\n",
            " [1.]\n",
            " [0.]\n",
            " [0.]\n",
            " [0.]\n",
            " [0.]\n",
            " [0.]\n",
            " [0.]\n",
            " [1.]\n",
            " [1.]\n",
            " [1.]\n",
            " [0.]\n",
            " [0.]\n",
            " [0.]\n",
            " [0.]\n",
            " [0.]\n",
            " [1.]\n",
            " [0.]\n",
            " [1.]\n",
            " [0.]\n",
            " [1.]\n",
            " [0.]\n",
            " [0.]\n",
            " [0.]\n",
            " [0.]\n",
            " [0.]\n",
            " [1.]\n",
            " [0.]\n",
            " [1.]\n",
            " [0.]\n",
            " [1.]]\n"
          ]
        }
      ],
      "source": [
        "y_predict6_2=model6.predict(x_test)\n",
        "Y_predict6_2=np.float32(y_predict6_2>0.50)\n",
        "l=len(y_test)\n",
        "Y_predict6_2=np.reshape(Y_predict6_2,(l,1))\n",
        "print(Y_predict6_2)"
      ]
    },
    {
      "cell_type": "code",
      "execution_count": null,
      "metadata": {
        "id": "OuZdCdoeHTWR"
      },
      "outputs": [],
      "source": [
        "from sklearn.metrics import auc,roc_curve\n",
        "from sklearn.metrics import f1_score\n",
        "from sklearn.metrics import cohen_kappa_score\n",
        "from sklearn.metrics import accuracy_score\n",
        "f16 = f1_score(y_test, Y_predict6_2)\n",
        "test_accuracy6 = accuracy_score(y_test, Y_predict6_2)\n",
        "kappa6 = cohen_kappa_score(y_test, Y_predict6_2)\n",
        "auc6 = roc_auc_score(y_test, Y_predict6_2)"
      ]
    },
    {
      "cell_type": "code",
      "execution_count": null,
      "metadata": {
        "colab": {
          "base_uri": "https://localhost:8080/"
        },
        "id": "-dofa2NkHgB_",
        "outputId": "fba18f3d-b462-4bcf-f6c5-4c2a122db0f4"
      },
      "outputs": [
        {
          "name": "stdout",
          "output_type": "stream",
          "text": [
            "0.6706959706959705\n",
            "0.6153846153846154\n",
            "0.33501078360891445\n",
            "0.6621621621621622\n"
          ]
        }
      ],
      "source": [
        "print(auc6)\n",
        "print(f16)\n",
        "print(kappa6)\n",
        "print(test_accuracy6)"
      ]
    },
    {
      "attachments": {},
      "cell_type": "markdown",
      "metadata": {
        "id": "I9jF8tanwLKn"
      },
      "source": [
        "# CNN 8 Layer"
      ]
    },
    {
      "cell_type": "code",
      "execution_count": null,
      "metadata": {
        "colab": {
          "base_uri": "https://localhost:8080/"
        },
        "id": "uEU4_IAcwN6f",
        "outputId": "30285354-a835-45e5-fbaf-9518e908fe3d"
      },
      "outputs": [
        {
          "name": "stdout",
          "output_type": "stream",
          "text": [
            "Model: \"sequential_5\"\n",
            "_________________________________________________________________\n",
            " Layer (type)                Output Shape              Param #   \n",
            "=================================================================\n",
            " conv2d_23 (Conv2D)          (None, 222, 222, 32)      896       \n",
            "                                                                 \n",
            " conv2d_24 (Conv2D)          (None, 220, 220, 32)      9248      \n",
            "                                                                 \n",
            " max_pooling2d_13 (MaxPoolin  (None, 110, 110, 32)     0         \n",
            " g2D)                                                            \n",
            "                                                                 \n",
            " conv2d_25 (Conv2D)          (None, 108, 108, 32)      9248      \n",
            "                                                                 \n",
            " conv2d_26 (Conv2D)          (None, 106, 106, 32)      9248      \n",
            "                                                                 \n",
            " max_pooling2d_14 (MaxPoolin  (None, 53, 53, 32)       0         \n",
            " g2D)                                                            \n",
            "                                                                 \n",
            " conv2d_27 (Conv2D)          (None, 51, 51, 32)        9248      \n",
            "                                                                 \n",
            " conv2d_28 (Conv2D)          (None, 49, 49, 32)        9248      \n",
            "                                                                 \n",
            " max_pooling2d_15 (MaxPoolin  (None, 24, 24, 32)       0         \n",
            " g2D)                                                            \n",
            "                                                                 \n",
            " conv2d_29 (Conv2D)          (None, 22, 22, 32)        9248      \n",
            "                                                                 \n",
            " conv2d_30 (Conv2D)          (None, 20, 20, 32)        9248      \n",
            "                                                                 \n",
            " max_pooling2d_16 (MaxPoolin  (None, 10, 10, 32)       0         \n",
            " g2D)                                                            \n",
            "                                                                 \n",
            " flatten_5 (Flatten)         (None, 3200)              0         \n",
            "                                                                 \n",
            " dense_10 (Dense)            (None, 256)               819456    \n",
            "                                                                 \n",
            " dropout_15 (Dropout)        (None, 256)               0         \n",
            "                                                                 \n",
            " dense_11 (Dense)            (None, 1)                 257       \n",
            "                                                                 \n",
            "=================================================================\n",
            "Total params: 885,345\n",
            "Trainable params: 885,345\n",
            "Non-trainable params: 0\n",
            "_________________________________________________________________\n"
          ]
        }
      ],
      "source": [
        "model7 = tf.keras.models.Sequential([\n",
        "    tf.keras.layers.Conv2D(32, (3,3), activation='relu', input_shape=(224,224,3)),\n",
        "    tf.keras.layers.Conv2D(32, (3,3), activation='relu'),\n",
        "    tf.keras.layers.MaxPooling2D(pool_size=(2,2)),\n",
        "\n",
        "    tf.keras.layers.Conv2D(32, (3,3), activation='relu'),\n",
        "    tf.keras.layers.Conv2D(32, (3,3), activation='relu'),\n",
        "    tf.keras.layers.MaxPooling2D(pool_size=(2,2)),\n",
        "\n",
        "    tf.keras.layers.Conv2D(32, (3,3), activation='relu'),\n",
        "    tf.keras.layers.Conv2D(32, (3,3), activation='relu'),\n",
        "    tf.keras.layers.MaxPooling2D(pool_size=(2,2)),\n",
        "\n",
        "    tf.keras.layers.Conv2D(32, (3,3), activation='relu'),\n",
        "    tf.keras.layers.Conv2D(32, (3,3), activation='relu'),\n",
        "    tf.keras.layers.MaxPooling2D(pool_size=(2,2)),\n",
        "\n",
        "    tf.keras.layers.Flatten(),\n",
        "    tf.keras.layers.Dense(256, activation='relu'),\n",
        "    tf.keras.layers.Dropout(0.5),\n",
        "\n",
        "    tf.keras.layers.Dense(1, activation='sigmoid')\n",
        "])\n",
        "model7.summary()"
      ]
    },
    {
      "cell_type": "code",
      "execution_count": null,
      "metadata": {
        "id": "N3Q0GAmQFzra"
      },
      "outputs": [],
      "source": [
        "model7.compile(loss='binary_crossentropy',\n",
        "              optimizer='adam',\n",
        "              metrics=['accuracy','AUC','Precision','Recall'])"
      ]
    },
    {
      "cell_type": "code",
      "execution_count": null,
      "metadata": {
        "id": "nB0oLkraGMFB"
      },
      "outputs": [],
      "source": [
        "from tensorflow.keras.callbacks import ModelCheckpoint, EarlyStopping\n",
        "es=EarlyStopping(patience=3,monitor='val_loss')\n",
        "filepath='best_model.h57'\n",
        "checkpoint = ModelCheckpoint(filepath, monitor='val_accuracy', verbose=1, save_best_only=True, mode='max')"
      ]
    },
    {
      "cell_type": "code",
      "execution_count": null,
      "metadata": {
        "colab": {
          "base_uri": "https://localhost:8080/"
        },
        "id": "0agH7yi2GZEX",
        "outputId": "46c7bcd8-256e-41a3-f179-a3f3b3118d45"
      },
      "outputs": [
        {
          "name": "stdout",
          "output_type": "stream",
          "text": [
            "Fold 1\n",
            "Epoch 1/10\n",
            "36/36 [==============================] - ETA: 0s - loss: 0.7080 - accuracy: 0.5309 - auc: 0.5225 - precision: 0.5226 - recall: 0.7715\n",
            "Epoch 1: val_accuracy improved from -inf to 0.49000, saving model to best_model.h57\n"
          ]
        },
        {
          "name": "stderr",
          "output_type": "stream",
          "text": [
            "WARNING:absl:Found untraced functions such as _jit_compiled_convolution_op, _jit_compiled_convolution_op, _jit_compiled_convolution_op, _jit_compiled_convolution_op, _jit_compiled_convolution_op while saving (showing 5 of 8). These functions will not be directly callable after loading.\n"
          ]
        },
        {
          "name": "stdout",
          "output_type": "stream",
          "text": [
            "\b\b\b\b\b\b\b\b\b\b\b\b\b\b\b\b\b\b\b\b\b\b\b\b\b\b\b\b\b\b\b\b\b\b\b\b\b\b\b\b\b\b\b\b\b\b\b\b\b\b\b\b\b\b\b\b\b\b\b\b\b\b\b\b\b\b\b\b\b\b\b\b\b\b\b\b\b\b\b\b\b\b\b\b\b\b\b\b\b\b\b\b\b\b\b\b\b\b\b\b\b\b\b\b\b\b\b\b\b\b\b\b\b\b\b\b\b\b\b\b\b\b\b\b\b\b\b\b\b\b\b\b\b\r36/36 [==============================] - 22s 468ms/step - loss: 0.7080 - accuracy: 0.5309 - auc: 0.5225 - precision: 0.5226 - recall: 0.7715 - val_loss: 0.6937 - val_accuracy: 0.4900 - val_auc: 0.5315 - val_precision: 0.4900 - val_recall: 1.0000\n",
            "Epoch 2/10\n",
            "36/36 [==============================] - ETA: 0s - loss: 0.6916 - accuracy: 0.5000 - auc: 0.5604 - precision: 0.5014 - recall: 0.9508\n",
            "Epoch 2: val_accuracy improved from 0.49000 to 0.54000, saving model to best_model.h57\n"
          ]
        },
        {
          "name": "stderr",
          "output_type": "stream",
          "text": [
            "WARNING:absl:Found untraced functions such as _jit_compiled_convolution_op, _jit_compiled_convolution_op, _jit_compiled_convolution_op, _jit_compiled_convolution_op, _jit_compiled_convolution_op while saving (showing 5 of 8). These functions will not be directly callable after loading.\n"
          ]
        },
        {
          "name": "stdout",
          "output_type": "stream",
          "text": [
            "\b\b\b\b\b\b\b\b\b\b\b\b\b\b\b\b\b\b\b\b\b\b\b\b\b\b\b\b\b\b\b\b\b\b\b\b\b\b\b\b\b\b\b\b\b\b\b\b\b\b\b\b\b\b\b\b\b\b\b\b\b\b\b\b\b\b\b\b\b\b\b\b\b\b\b\b\b\b\b\b\b\b\b\b\b\b\b\b\b\b\b\b\b\b\b\b\b\b\b\b\b\b\b\b\b\b\b\b\b\b\b\b\b\b\b\b\b\b\b\b\b\b\b\b\b\b\b\b\b\b\b\b\b\r36/36 [==============================] - 15s 424ms/step - loss: 0.6916 - accuracy: 0.5000 - auc: 0.5604 - precision: 0.5014 - recall: 0.9508 - val_loss: 0.6913 - val_accuracy: 0.5400 - val_auc: 0.5665 - val_precision: 0.5181 - val_recall: 0.8776\n",
            "Epoch 3/10\n",
            "36/36 [==============================] - ETA: 0s - loss: 0.6893 - accuracy: 0.5777 - auc: 0.5866 - precision: 0.5823 - recall: 0.5659\n",
            "Epoch 3: val_accuracy did not improve from 0.54000\n",
            "36/36 [==============================] - 14s 378ms/step - loss: 0.6893 - accuracy: 0.5777 - auc: 0.5866 - precision: 0.5823 - recall: 0.5659 - val_loss: 0.6839 - val_accuracy: 0.5200 - val_auc: 0.5801 - val_precision: 0.5156 - val_recall: 0.3367\n",
            "Epoch 4/10\n",
            "36/36 [==============================] - ETA: 0s - loss: 0.6808 - accuracy: 0.5565 - auc: 0.5913 - precision: 0.5585 - recall: 0.5624\n",
            "Epoch 4: val_accuracy improved from 0.54000 to 0.56500, saving model to best_model.h57\n"
          ]
        },
        {
          "name": "stderr",
          "output_type": "stream",
          "text": [
            "WARNING:absl:Found untraced functions such as _jit_compiled_convolution_op, _jit_compiled_convolution_op, _jit_compiled_convolution_op, _jit_compiled_convolution_op, _jit_compiled_convolution_op while saving (showing 5 of 8). These functions will not be directly callable after loading.\n"
          ]
        },
        {
          "name": "stdout",
          "output_type": "stream",
          "text": [
            "\b\b\b\b\b\b\b\b\b\b\b\b\b\b\b\b\b\b\b\b\b\b\b\b\b\b\b\b\b\b\b\b\b\b\b\b\b\b\b\b\b\b\b\b\b\b\b\b\b\b\b\b\b\b\b\b\b\b\b\b\b\b\b\b\b\b\b\b\b\b\b\b\b\b\b\b\b\b\b\b\b\b\b\b\b\b\b\b\b\b\b\b\b\b\b\b\b\b\b\b\b\b\b\b\b\b\b\b\b\b\b\b\b\b\b\b\b\b\b\b\b\b\b\b\b\b\b\b\b\b\b\b\b\r36/36 [==============================] - 15s 425ms/step - loss: 0.6808 - accuracy: 0.5565 - auc: 0.5913 - precision: 0.5585 - recall: 0.5624 - val_loss: 0.6819 - val_accuracy: 0.5650 - val_auc: 0.5837 - val_precision: 0.5447 - val_recall: 0.6837\n",
            "Epoch 5/10\n",
            "36/36 [==============================] - ETA: 0s - loss: 0.6705 - accuracy: 0.5919 - auc: 0.6209 - precision: 0.5954 - recall: 0.5870\n",
            "Epoch 5: val_accuracy did not improve from 0.56500\n",
            "36/36 [==============================] - 13s 369ms/step - loss: 0.6705 - accuracy: 0.5919 - auc: 0.6209 - precision: 0.5954 - recall: 0.5870 - val_loss: 0.6785 - val_accuracy: 0.5450 - val_auc: 0.6093 - val_precision: 0.5368 - val_recall: 0.5204\n",
            "Epoch 6/10\n",
            "36/36 [==============================] - ETA: 0s - loss: 0.6610 - accuracy: 0.6078 - auc: 0.6450 - precision: 0.6218 - recall: 0.5606\n",
            "Epoch 6: val_accuracy improved from 0.56500 to 0.58000, saving model to best_model.h57\n"
          ]
        },
        {
          "name": "stderr",
          "output_type": "stream",
          "text": [
            "WARNING:absl:Found untraced functions such as _jit_compiled_convolution_op, _jit_compiled_convolution_op, _jit_compiled_convolution_op, _jit_compiled_convolution_op, _jit_compiled_convolution_op while saving (showing 5 of 8). These functions will not be directly callable after loading.\n"
          ]
        },
        {
          "name": "stdout",
          "output_type": "stream",
          "text": [
            "\b\b\b\b\b\b\b\b\b\b\b\b\b\b\b\b\b\b\b\b\b\b\b\b\b\b\b\b\b\b\b\b\b\b\b\b\b\b\b\b\b\b\b\b\b\b\b\b\b\b\b\b\b\b\b\b\b\b\b\b\b\b\b\b\b\b\b\b\b\b\b\b\b\b\b\b\b\b\b\b\b\b\b\b\b\b\b\b\b\b\b\b\b\b\b\b\b\b\b\b\b\b\b\b\b\b\b\b\b\b\b\b\b\b\b\b\b\b\b\b\b\b\b\b\b\b\b\b\b\b\b\b\b\r36/36 [==============================] - 16s 447ms/step - loss: 0.6610 - accuracy: 0.6078 - auc: 0.6450 - precision: 0.6218 - recall: 0.5606 - val_loss: 0.6670 - val_accuracy: 0.5800 - val_auc: 0.6322 - val_precision: 0.5614 - val_recall: 0.6531\n",
            "Epoch 7/10\n",
            "36/36 [==============================] - ETA: 0s - loss: 0.6617 - accuracy: 0.6175 - auc: 0.6632 - precision: 0.6214 - recall: 0.6116\n",
            "Epoch 7: val_accuracy improved from 0.58000 to 0.61500, saving model to best_model.h57\n"
          ]
        },
        {
          "name": "stderr",
          "output_type": "stream",
          "text": [
            "WARNING:absl:Found untraced functions such as _jit_compiled_convolution_op, _jit_compiled_convolution_op, _jit_compiled_convolution_op, _jit_compiled_convolution_op, _jit_compiled_convolution_op while saving (showing 5 of 8). These functions will not be directly callable after loading.\n"
          ]
        },
        {
          "name": "stdout",
          "output_type": "stream",
          "text": [
            "\b\b\b\b\b\b\b\b\b\b\b\b\b\b\b\b\b\b\b\b\b\b\b\b\b\b\b\b\b\b\b\b\b\b\b\b\b\b\b\b\b\b\b\b\b\b\b\b\b\b\b\b\b\b\b\b\b\b\b\b\b\b\b\b\b\b\b\b\b\b\b\b\b\b\b\b\b\b\b\b\b\b\b\b\b\b\b\b\b\b\b\b\b\b\b\b\b\b\b\b\b\b\b\b\b\b\b\b\b\b\b\b\b\b\b\b\b\b\b\b\b\b\b\b\b\b\b\b\b\b\b\b\b\r36/36 [==============================] - 16s 430ms/step - loss: 0.6617 - accuracy: 0.6175 - auc: 0.6632 - precision: 0.6214 - recall: 0.6116 - val_loss: 0.6720 - val_accuracy: 0.6150 - val_auc: 0.6304 - val_precision: 0.5882 - val_recall: 0.7143\n",
            "Epoch 8/10\n",
            "36/36 [==============================] - ETA: 0s - loss: 0.6595 - accuracy: 0.6060 - auc: 0.6568 - precision: 0.6352 - recall: 0.5079\n",
            "Epoch 8: val_accuracy did not improve from 0.61500\n",
            "36/36 [==============================] - 14s 368ms/step - loss: 0.6595 - accuracy: 0.6060 - auc: 0.6568 - precision: 0.6352 - recall: 0.5079 - val_loss: 0.6685 - val_accuracy: 0.6100 - val_auc: 0.6399 - val_precision: 0.6000 - val_recall: 0.6122\n",
            "Epoch 9/10\n",
            "36/36 [==============================] - ETA: 0s - loss: 0.6562 - accuracy: 0.6131 - auc: 0.6579 - precision: 0.6229 - recall: 0.5835\n",
            "Epoch 9: val_accuracy did not improve from 0.61500\n",
            "36/36 [==============================] - 13s 366ms/step - loss: 0.6562 - accuracy: 0.6131 - auc: 0.6579 - precision: 0.6229 - recall: 0.5835 - val_loss: 0.6591 - val_accuracy: 0.5900 - val_auc: 0.6343 - val_precision: 0.5741 - val_recall: 0.6327\n",
            "Epoch 10/10\n",
            "36/36 [==============================] - ETA: 0s - loss: 0.6530 - accuracy: 0.6246 - auc: 0.6653 - precision: 0.6395 - recall: 0.5800\n",
            "Epoch 10: val_accuracy did not improve from 0.61500\n",
            "36/36 [==============================] - 14s 377ms/step - loss: 0.6530 - accuracy: 0.6246 - auc: 0.6653 - precision: 0.6395 - recall: 0.5800 - val_loss: 0.6506 - val_accuracy: 0.6100 - val_auc: 0.6546 - val_precision: 0.6190 - val_recall: 0.5306\n",
            "7/7 [==============================] - 0s 28ms/step\n"
          ]
        }
      ],
      "source": [
        "for j,(train_idx,val_idx) in enumerate(folds):\n",
        "    print(\"Fold \"+str(j+1))\n",
        "\n",
        "    x_train=X_dataset[train_idx]\n",
        "    y_train=Y_dataset[train_idx]\n",
        "    x_val=X_dataset[val_idx]\n",
        "    y_val=Y_dataset[val_idx]\n",
        "    history=model7.fit(train_datagen.flow(x_train,y_train),epochs=10,validation_data=(x_val,y_val),callbacks=checkpoint)\n",
        "    y_predict7_1=model7.predict(x_val)\n",
        "    Y_predict7_1=np.float32(y_predict7_1>0.50)\n",
        "    l=len(y_val)\n",
        "    Y_predict7_1=np.reshape(Y_predict7_1,(l,1))"
      ]
    },
    {
      "cell_type": "code",
      "execution_count": null,
      "metadata": {
        "colab": {
          "base_uri": "https://localhost:8080/"
        },
        "id": "io_zP7vhGxaR",
        "outputId": "96dae408-b296-4e66-8c0b-5269170fea95"
      },
      "outputs": [
        {
          "name": "stdout",
          "output_type": "stream",
          "text": [
            "36/36 [==============================] - 13s 341ms/step - loss: 0.6469 - accuracy: 0.6440 - auc: 0.7034 - precision: 0.6804 - recall: 0.5501\n",
            "7/7 [==============================] - 3s 339ms/step - loss: 0.6672 - accuracy: 0.6100 - auc: 0.6331 - precision: 0.6136 - recall: 0.5510\n"
          ]
        },
        {
          "data": {
            "text/plain": [
              "[0.6671637892723083,\n",
              " 0.6100000143051147,\n",
              " 0.6331033110618591,\n",
              " 0.6136363744735718,\n",
              " 0.5510203838348389]"
            ]
          },
          "execution_count": 57,
          "metadata": {},
          "output_type": "execute_result"
        }
      ],
      "source": [
        "model7.evaluate(train_datagen.flow(x_train,y_train))\n",
        "model7.evaluate(val_datagen.flow(x_val,y_val))"
      ]
    },
    {
      "cell_type": "code",
      "execution_count": null,
      "metadata": {
        "colab": {
          "base_uri": "https://localhost:8080/"
        },
        "id": "64iRN9eJG_Sf",
        "outputId": "747d3ef1-bae1-4b74-bac0-1086d002cd44"
      },
      "outputs": [
        {
          "name": "stdout",
          "output_type": "stream",
          "text": [
            "5/5 [==============================] - 0s 41ms/step\n",
            "[[0.]\n",
            " [0.]\n",
            " [0.]\n",
            " [1.]\n",
            " [1.]\n",
            " [0.]\n",
            " [1.]\n",
            " [1.]\n",
            " [1.]\n",
            " [1.]\n",
            " [0.]\n",
            " [0.]\n",
            " [1.]\n",
            " [1.]\n",
            " [1.]\n",
            " [1.]\n",
            " [1.]\n",
            " [0.]\n",
            " [1.]\n",
            " [0.]\n",
            " [0.]\n",
            " [0.]\n",
            " [0.]\n",
            " [0.]\n",
            " [0.]\n",
            " [0.]\n",
            " [1.]\n",
            " [1.]\n",
            " [0.]\n",
            " [0.]\n",
            " [1.]\n",
            " [0.]\n",
            " [1.]\n",
            " [0.]\n",
            " [1.]\n",
            " [1.]\n",
            " [0.]\n",
            " [0.]\n",
            " [0.]\n",
            " [0.]\n",
            " [1.]\n",
            " [0.]\n",
            " [1.]\n",
            " [0.]\n",
            " [1.]\n",
            " [0.]\n",
            " [1.]\n",
            " [1.]\n",
            " [0.]\n",
            " [0.]\n",
            " [0.]\n",
            " [0.]\n",
            " [1.]\n",
            " [0.]\n",
            " [0.]\n",
            " [1.]\n",
            " [1.]\n",
            " [0.]\n",
            " [0.]\n",
            " [0.]\n",
            " [0.]\n",
            " [0.]\n",
            " [1.]\n",
            " [1.]\n",
            " [1.]\n",
            " [1.]\n",
            " [0.]\n",
            " [1.]\n",
            " [0.]\n",
            " [1.]\n",
            " [1.]\n",
            " [0.]\n",
            " [1.]\n",
            " [0.]\n",
            " [1.]\n",
            " [0.]\n",
            " [1.]\n",
            " [0.]\n",
            " [1.]\n",
            " [0.]\n",
            " [0.]\n",
            " [1.]\n",
            " [0.]\n",
            " [0.]\n",
            " [1.]\n",
            " [1.]\n",
            " [0.]\n",
            " [0.]\n",
            " [0.]\n",
            " [0.]\n",
            " [0.]\n",
            " [1.]\n",
            " [0.]\n",
            " [0.]\n",
            " [1.]\n",
            " [1.]\n",
            " [0.]\n",
            " [0.]\n",
            " [0.]\n",
            " [1.]\n",
            " [0.]\n",
            " [0.]\n",
            " [1.]\n",
            " [0.]\n",
            " [1.]\n",
            " [1.]\n",
            " [0.]\n",
            " [1.]\n",
            " [0.]\n",
            " [0.]\n",
            " [0.]\n",
            " [1.]\n",
            " [1.]\n",
            " [0.]\n",
            " [0.]\n",
            " [0.]\n",
            " [0.]\n",
            " [0.]\n",
            " [1.]\n",
            " [0.]\n",
            " [0.]\n",
            " [1.]\n",
            " [1.]\n",
            " [0.]\n",
            " [0.]\n",
            " [1.]\n",
            " [1.]\n",
            " [1.]\n",
            " [0.]\n",
            " [1.]\n",
            " [0.]\n",
            " [0.]\n",
            " [0.]\n",
            " [0.]\n",
            " [0.]\n",
            " [1.]\n",
            " [0.]\n",
            " [0.]\n",
            " [0.]\n",
            " [1.]\n",
            " [0.]\n",
            " [0.]\n",
            " [0.]\n",
            " [1.]\n",
            " [1.]\n",
            " [0.]\n",
            " [1.]\n",
            " [1.]]\n"
          ]
        }
      ],
      "source": [
        "y_predict7_2=model7.predict(x_test)\n",
        "Y_predict7_2=np.float32(y_predict7_2>0.50)\n",
        "l=len(y_test)\n",
        "Y_predict7_2=np.reshape(Y_predict7_2,(l,1))\n",
        "print(Y_predict7_2)"
      ]
    },
    {
      "cell_type": "code",
      "execution_count": null,
      "metadata": {
        "id": "uGLUw0dlHUQ0"
      },
      "outputs": [],
      "source": [
        "from sklearn.metrics import auc,roc_curve\n",
        "from sklearn.metrics import f1_score\n",
        "from sklearn.metrics import cohen_kappa_score\n",
        "from sklearn.metrics import accuracy_score\n",
        "f17 = f1_score(y_test, Y_predict7_2)\n",
        "test_accuracy7 = accuracy_score(y_test, Y_predict7_2)\n",
        "kappa7 = cohen_kappa_score(y_test, Y_predict7_2)\n",
        "auc7 = roc_auc_score(y_test, Y_predict7_2)"
      ]
    },
    {
      "cell_type": "code",
      "execution_count": null,
      "metadata": {
        "colab": {
          "base_uri": "https://localhost:8080/"
        },
        "id": "i6uAPbGxHhKf",
        "outputId": "22fb1366-3246-48e0-c737-4ab038f24334"
      },
      "outputs": [
        {
          "name": "stdout",
          "output_type": "stream",
          "text": [
            "0.6535087719298245\n",
            "0.6222222222222222\n",
            "0.30803080308030806\n",
            "0.6554054054054054\n"
          ]
        }
      ],
      "source": [
        "print(auc7)\n",
        "print(f17)\n",
        "print(kappa7)\n",
        "print(test_accuracy7)"
      ]
    }
  ],
  "metadata": {
    "accelerator": "GPU",
    "colab": {
      "provenance": []
    },
    "gpuClass": "standard",
    "kernelspec": {
      "display_name": "Python 3",
      "name": "python3"
    },
    "language_info": {
      "name": "python"
    }
  },
  "nbformat": 4,
  "nbformat_minor": 0
}
